{
  "nbformat": 4,
  "nbformat_minor": 0,
  "metadata": {
    "colab": {
      "provenance": [],
      "authorship_tag": "ABX9TyMeDqLFe4svS4jNKmLHi5lj",
      "include_colab_link": true
    },
    "kernelspec": {
      "name": "python3",
      "display_name": "Python 3"
    },
    "language_info": {
      "name": "python"
    }
  },
  "cells": [
    {
      "cell_type": "markdown",
      "metadata": {
        "id": "view-in-github",
        "colab_type": "text"
      },
      "source": [
        "<a href=\"https://colab.research.google.com/github/dduniverse/datacampus/blob/main/%ED%81%AC%EB%A1%A4%EB%A7%81.ipynb\" target=\"_parent\"><img src=\"https://colab.research.google.com/assets/colab-badge.svg\" alt=\"Open In Colab\"/></a>"
      ]
    },
    {
      "cell_type": "markdown",
      "source": [
        "## 웹 크롤링/스크레이핑"
      ],
      "metadata": {
        "id": "1-sIa89Ji0oF"
      }
    },
    {
      "cell_type": "markdown",
      "source": [
        "#### 크롤링\n",
        "- 주로 웹 페이지를 횡단(Hyper Link)\n",
        "- 횡단한 페이지의 데이터를 수집\n",
        "\n",
        "#### 스크레이핑\n",
        "- 데이터를 수집하는 절차\n",
        "- 방법에 크게 구애되지 않음\n",
        "- 인터넷에 공개된 데이터를 수집(이밎, CSV파일 등)"
      ],
      "metadata": {
        "id": "r_ip3eoei5qW"
      }
    },
    {
      "cell_type": "markdown",
      "source": [
        "## BeautifulSoup 시작하기"
      ],
      "metadata": {
        "id": "eX0rGbTYjFpD"
      }
    },
    {
      "cell_type": "markdown",
      "source": [
        "## Colab 실습"
      ],
      "metadata": {
        "id": "vxp2y0PdjIi5"
      }
    },
    {
      "cell_type": "code",
      "execution_count": null,
      "metadata": {
        "colab": {
          "base_uri": "https://localhost:8080/"
        },
        "id": "pyzkhXkWizIp",
        "outputId": "7d4d400e-ae6e-4931-da7b-0db25b5b4d23"
      },
      "outputs": [
        {
          "output_type": "stream",
          "name": "stdout",
          "text": [
            "Looking in indexes: https://pypi.org/simple, https://us-python.pkg.dev/colab-wheels/public/simple/\n",
            "Requirement already satisfied: beautifulsoup4 in /usr/local/lib/python3.7/dist-packages (4.6.3)\n"
          ]
        }
      ],
      "source": [
        "!pip install beautifulsoup4"
      ]
    },
    {
      "cell_type": "markdown",
      "source": [
        "- 필요한 API 로드"
      ],
      "metadata": {
        "id": "ffwUFsiBjmcX"
      }
    },
    {
      "cell_type": "code",
      "source": [
        "from urllib.request import urlopen\n",
        "from bs4 import BeautifulSoup"
      ],
      "metadata": {
        "id": "Z66x040njOoT"
      },
      "execution_count": null,
      "outputs": []
    },
    {
      "cell_type": "markdown",
      "source": [
        "- 분석할 html 파일의 URI 정보를 BeautifulSoup으로 전달"
      ],
      "metadata": {
        "id": "eRbOyeAYjpre"
      }
    },
    {
      "cell_type": "code",
      "source": [
        "html=urlopen('http://www.pythoscraping.com/pages/page1.html')\n",
        "bs=BeautifulSoup(html.read(),'html.parser')\n",
        "print(bs.h1)"
      ],
      "metadata": {
        "id": "QqA88IU0jcte"
      },
      "execution_count": null,
      "outputs": []
    },
    {
      "cell_type": "markdown",
      "source": [
        "    - html: 메소드 urlopen()을 이용하여 URL 주소로부터 HTML 페이지를 가져옴\n",
        "    - bs: 1) 인스턴스 html로부터 메소드 read()를 이용하여 내용을 읽음\n",
        "          2) 사용할 구문 분석기(Parser) 선택"
      ],
      "metadata": {
        "id": "7wvRI6jmj2cY"
      }
    },
    {
      "cell_type": "markdown",
      "source": [
        "#### 오류 실습"
      ],
      "metadata": {
        "id": "7JKJlxPElOG9"
      }
    },
    {
      "cell_type": "markdown",
      "source": [
        "- 필요한 API 로드"
      ],
      "metadata": {
        "id": "RhzOTn58ljpL"
      }
    },
    {
      "cell_type": "code",
      "source": [
        "from urllib.request import urlopen\n",
        "from urllib.request import HTTPError"
      ],
      "metadata": {
        "id": "38Rk_s3wkOu0"
      },
      "execution_count": null,
      "outputs": []
    },
    {
      "cell_type": "markdown",
      "source": [
        "- 예외와 관련된 코드 처리"
      ],
      "metadata": {
        "id": "o3lIKj8WlhnJ"
      }
    },
    {
      "cell_type": "code",
      "source": [
        "try:\n",
        "  html=urlopen('http://www.pythonscraping.com/pages/error.html')\n",
        "except HTTPError as e:\n",
        "  print(e)\n",
        "else: pass"
      ],
      "metadata": {
        "colab": {
          "base_uri": "https://localhost:8080/"
        },
        "id": "JJnfSYzWlWLz",
        "outputId": "bde2dad2-c70e-4743-f713-96610bb8c58c"
      },
      "execution_count": null,
      "outputs": [
        {
          "output_type": "stream",
          "name": "stdout",
          "text": [
            "HTTP Error 404: Not Found\n"
          ]
        }
      ]
    },
    {
      "cell_type": "markdown",
      "source": [
        "## 여러 태그에서 BeautifulSoup"
      ],
      "metadata": {
        "id": "oPu9XoecloIQ"
      }
    },
    {
      "cell_type": "code",
      "source": [
        "try:\n",
        "  html=urlopen('http://www.pythonscraping.com/pages/warandpeace.html')\n",
        "  bs=BeautifulSoup(html.read(),'html.parser')\n",
        "except HTTPError as e:\n",
        "  print(e)\n",
        "except AttributeError as e:\n",
        "  print(e)"
      ],
      "metadata": {
        "id": "9AVs1tVumc7n"
      },
      "execution_count": null,
      "outputs": []
    },
    {
      "cell_type": "code",
      "source": [
        "bs.find_all(\"span\")"
      ],
      "metadata": {
        "colab": {
          "base_uri": "https://localhost:8080/"
        },
        "id": "sdRhbB8llgf0",
        "outputId": "4a841827-8bc9-4734-9295-c9e56389439e"
      },
      "execution_count": null,
      "outputs": [
        {
          "output_type": "execute_result",
          "data": {
            "text/plain": [
              "[<span class=\"red\">Well, Prince, so Genoa and Lucca are now just family estates of the\n",
              " Buonapartes. But I warn you, if you don't tell me that this means war,\n",
              " if you still try to defend the infamies and horrors perpetrated by\n",
              " that Antichrist- I really believe he is Antichrist- I will have\n",
              " nothing more to do with you and you are no longer my friend, no longer\n",
              " my 'faithful slave,' as you call yourself! But how do you do? I see\n",
              " I have frightened you- sit down and tell me all the news.</span>,\n",
              " <span class=\"green\">Anna\n",
              " Pavlovna Scherer</span>,\n",
              " <span class=\"green\">Empress Marya\n",
              " Fedorovna</span>,\n",
              " <span class=\"green\">Prince Vasili Kuragin</span>,\n",
              " <span class=\"green\">Anna Pavlovna</span>,\n",
              " <span class=\"green\">St. Petersburg</span>,\n",
              " <span class=\"red\">If you have nothing better to do, Count [or Prince], and if the\n",
              " prospect of spending an evening with a poor invalid is not too\n",
              " terrible, I shall be very charmed to see you tonight between 7 and 10-\n",
              " Annette Scherer.</span>,\n",
              " <span class=\"red\">Heavens! what a virulent attack!</span>,\n",
              " <span class=\"green\">the prince</span>,\n",
              " <span class=\"green\">Anna Pavlovna</span>,\n",
              " <span class=\"red\">First of all, dear friend, tell me how you are. Set your friend's\n",
              " mind at rest,</span>,\n",
              " <span class=\"red\">Can one be well while suffering morally? Can one be calm in times\n",
              " like these if one has any feeling?</span>,\n",
              " <span class=\"green\">Anna Pavlovna</span>,\n",
              " <span class=\"red\">You are\n",
              " staying the whole evening, I hope?</span>,\n",
              " <span class=\"red\">And the fete at the English ambassador's? Today is Wednesday. I\n",
              " must put in an appearance there,</span>,\n",
              " <span class=\"green\">the prince</span>,\n",
              " <span class=\"red\">My daughter is\n",
              " coming for me to take me there.</span>,\n",
              " <span class=\"red\">I thought today's fete had been canceled. I confess all these\n",
              " festivities and fireworks are becoming wearisome.</span>,\n",
              " <span class=\"red\">If they had known that you wished it, the entertainment would\n",
              " have been put off,</span>,\n",
              " <span class=\"green\">the prince</span>,\n",
              " <span class=\"red\">Don't tease! Well, and what has been decided about Novosiltsev's\n",
              " dispatch? You know everything.</span>,\n",
              " <span class=\"red\">What can one say about it?</span>,\n",
              " <span class=\"green\">the prince</span>,\n",
              " <span class=\"red\">What has been decided? They have decided that\n",
              " Buonaparte has burnt his boats, and I believe that we are ready to\n",
              " burn ours.</span>,\n",
              " <span class=\"green\">Prince Vasili</span>,\n",
              " <span class=\"green\">Anna Pavlovna</span>,\n",
              " <span class=\"green\">Anna Pavlovna</span>,\n",
              " <span class=\"red\">Oh, don't speak to me of Austria. Perhaps I don't understand\n",
              " things, but Austria never has wished, and does not wish, for war.\n",
              " She is betraying us! Russia alone must save Europe. Our gracious\n",
              " sovereign recognizes his high vocation and will be true to it. That is\n",
              " the one thing I have faith in! Our good and wonderful sovereign has to\n",
              " perform the noblest role on earth, and he is so virtuous and noble\n",
              " that God will not forsake him. He will fulfill his vocation and\n",
              " crush the hydra of revolution, which has become more terrible than\n",
              " ever in the person of this murderer and villain! We alone must\n",
              " avenge the blood of the just one.... Whom, I ask you, can we rely\n",
              " on?... England with her commercial spirit will not and cannot\n",
              " understand the Emperor Alexander's loftiness of soul. She has\n",
              " refused to evacuate Malta. She wanted to find, and still seeks, some\n",
              " secret motive in our actions. What answer did Novosiltsev get? None.\n",
              " The English have not understood and cannot understand the\n",
              " self-abnegation of our Emperor who wants nothing for himself, but only\n",
              " desires the good of mankind. And what have they promised? Nothing! And\n",
              " what little they have promised they will not perform! Prussia has\n",
              " always declared that Buonaparte is invincible, and that all Europe\n",
              " is powerless before him.... And I don't believe a word that Hardenburg\n",
              " says, or Haugwitz either. This famous Prussian neutrality is just a\n",
              " trap. I have faith only in God and the lofty destiny of our adored\n",
              " monarch. He will save Europe!</span>,\n",
              " <span class=\"red\">I think,</span>,\n",
              " <span class=\"green\">the prince</span>,\n",
              " <span class=\"red\">that if you had been\n",
              " sent instead of our dear <span class=\"green\">Wintzingerode</span> you would have captured the\n",
              " <span class=\"green\">King of Prussia</span>'s consent by assault. You are so eloquent. Will you\n",
              " give me a cup of tea?</span>,\n",
              " <span class=\"green\">Wintzingerode</span>,\n",
              " <span class=\"green\">King of Prussia</span>,\n",
              " <span class=\"red\">In a moment. A propos,</span>,\n",
              " <span class=\"red\">I am\n",
              " expecting two very interesting men tonight, <span class=\"green\">le Vicomte de Mortemart</span>,\n",
              " who is connected with the <span class=\"green\">Montmorencys</span> through the <span class=\"green\">Rohans</span>, one of\n",
              " the best French families. He is one of the genuine emigres, the good\n",
              " ones. And also the <span class=\"green\">Abbe Morio</span>. Do you know that profound thinker? He\n",
              " has been received by <span class=\"green\">the Emperor</span>. Had you heard?</span>,\n",
              " <span class=\"green\">le Vicomte de Mortemart</span>,\n",
              " <span class=\"green\">Montmorencys</span>,\n",
              " <span class=\"green\">Rohans</span>,\n",
              " <span class=\"green\">Abbe Morio</span>,\n",
              " <span class=\"green\">the Emperor</span>,\n",
              " <span class=\"red\">I shall be delighted to meet them,</span>,\n",
              " <span class=\"green\">the prince</span>,\n",
              " <span class=\"red\">But tell me,</span>,\n",
              " <span class=\"red\">is it true that the Dowager Empress wants Baron Funke\n",
              " to be appointed first secretary at Vienna? The baron by all accounts\n",
              " is a poor creature.</span>,\n",
              " <span class=\"green\">Prince Vasili</span>,\n",
              " <span class=\"green\">Dowager Empress Marya Fedorovna</span>,\n",
              " <span class=\"green\">the baron</span>,\n",
              " <span class=\"green\">Anna Pavlovna</span>,\n",
              " <span class=\"green\">the Empress</span>,\n",
              " <span class=\"red\">Baron Funke has been recommended to the Dowager Empress by her\n",
              " sister,</span>,\n",
              " <span class=\"green\">the Empress</span>,\n",
              " <span class=\"green\">Anna Pavlovna's</span>,\n",
              " <span class=\"green\">Her Majesty</span>,\n",
              " <span class=\"green\">Baron\n",
              " Funke</span>,\n",
              " <span class=\"green\">The prince</span>,\n",
              " <span class=\"green\">Anna\n",
              " Pavlovna</span>,\n",
              " <span class=\"green\">the Empress</span>,\n",
              " <span class=\"red\">Now about your family. Do you know that since your daughter came\n",
              " out everyone has been enraptured by her? They say she is amazingly\n",
              " beautiful.</span>,\n",
              " <span class=\"green\">The prince</span>,\n",
              " <span class=\"red\">I often think,</span>,\n",
              " <span class=\"red\">I often think how unfairly sometimes the\n",
              " joys of life are distributed. Why has fate given you two such splendid\n",
              " children? I don't speak of <span class=\"green\">Anatole</span>, your youngest. I don't like\n",
              " him,</span>,\n",
              " <span class=\"green\">Anatole</span>,\n",
              " <span class=\"red\">Two such charming children. And really you appreciate\n",
              " them less than anyone, and so you don't deserve to have them.</span>,\n",
              " <span class=\"red\">I can't help it,</span>,\n",
              " <span class=\"green\">the prince</span>,\n",
              " <span class=\"red\">Lavater would have said I\n",
              " lack the bump of paternity.</span>,\n",
              " <span class=\"red\">Don't joke; I mean to have a serious talk with you. Do you know I\n",
              " am dissatisfied with your younger son? Between ourselves</span>,\n",
              " <span class=\"red\">he was mentioned at Her\n",
              " Majesty's and you were pitied....</span>,\n",
              " <span class=\"green\">The prince</span>,\n",
              " <span class=\"red\">What would you have me do?</span>,\n",
              " <span class=\"red\">You know I did all\n",
              " a father could for their education, and they have both turned out\n",
              " fools. Hippolyte is at least a quiet fool, but Anatole is an active\n",
              " one. That is the only difference between them.</span>,\n",
              " <span class=\"red\">And why are children born to such men as you? If you were not a\n",
              " father there would be nothing I could reproach you with,</span>,\n",
              " <span class=\"green\">Anna\n",
              " Pavlovna</span>,\n",
              " <span class=\"red\">I am your faithful slave and to you alone I can confess that my\n",
              " children are the bane of my life. It is the cross I have to bear. That\n",
              " is how I explain it to myself. It can't be helped!</span>,\n",
              " <span class=\"green\">Anna Pavlovna</span>]"
            ]
          },
          "metadata": {},
          "execution_count": 6
        }
      ]
    },
    {
      "cell_type": "code",
      "source": [
        "bs.find_all('span',{'class':'green'})"
      ],
      "metadata": {
        "colab": {
          "base_uri": "https://localhost:8080/"
        },
        "id": "SdGtjYRYm57h",
        "outputId": "8aa2d9a3-56b4-4389-a57c-62379988ac38"
      },
      "execution_count": null,
      "outputs": [
        {
          "output_type": "execute_result",
          "data": {
            "text/plain": [
              "[<span class=\"green\">Anna\n",
              " Pavlovna Scherer</span>, <span class=\"green\">Empress Marya\n",
              " Fedorovna</span>, <span class=\"green\">Prince Vasili Kuragin</span>, <span class=\"green\">Anna Pavlovna</span>, <span class=\"green\">St. Petersburg</span>, <span class=\"green\">the prince</span>, <span class=\"green\">Anna Pavlovna</span>, <span class=\"green\">Anna Pavlovna</span>, <span class=\"green\">the prince</span>, <span class=\"green\">the prince</span>, <span class=\"green\">the prince</span>, <span class=\"green\">Prince Vasili</span>, <span class=\"green\">Anna Pavlovna</span>, <span class=\"green\">Anna Pavlovna</span>, <span class=\"green\">the prince</span>, <span class=\"green\">Wintzingerode</span>, <span class=\"green\">King of Prussia</span>, <span class=\"green\">le Vicomte de Mortemart</span>, <span class=\"green\">Montmorencys</span>, <span class=\"green\">Rohans</span>, <span class=\"green\">Abbe Morio</span>, <span class=\"green\">the Emperor</span>, <span class=\"green\">the prince</span>, <span class=\"green\">Prince Vasili</span>, <span class=\"green\">Dowager Empress Marya Fedorovna</span>, <span class=\"green\">the baron</span>, <span class=\"green\">Anna Pavlovna</span>, <span class=\"green\">the Empress</span>, <span class=\"green\">the Empress</span>, <span class=\"green\">Anna Pavlovna's</span>, <span class=\"green\">Her Majesty</span>, <span class=\"green\">Baron\n",
              " Funke</span>, <span class=\"green\">The prince</span>, <span class=\"green\">Anna\n",
              " Pavlovna</span>, <span class=\"green\">the Empress</span>, <span class=\"green\">The prince</span>, <span class=\"green\">Anatole</span>, <span class=\"green\">the prince</span>, <span class=\"green\">The prince</span>, <span class=\"green\">Anna\n",
              " Pavlovna</span>, <span class=\"green\">Anna Pavlovna</span>]"
            ]
          },
          "metadata": {},
          "execution_count": 9
        }
      ]
    },
    {
      "cell_type": "code",
      "source": [
        "bs.find_all('span',{'class':'green'},limit=1)"
      ],
      "metadata": {
        "colab": {
          "base_uri": "https://localhost:8080/"
        },
        "id": "HS8w_biPnXGU",
        "outputId": "e511d831-4ba2-45f0-9a44-68cc9e5abe4b"
      },
      "execution_count": null,
      "outputs": [
        {
          "output_type": "execute_result",
          "data": {
            "text/plain": [
              "[<span class=\"green\">Anna\n",
              " Pavlovna Scherer</span>]"
            ]
          },
          "metadata": {},
          "execution_count": 13
        }
      ]
    },
    {
      "cell_type": "code",
      "source": [
        "print(bs.find_all('h1'))\n",
        "\n",
        "print(bs.find_all('h1',recursive=False))\n",
        "\n",
        "print(bs.html.body.find_all('h1',recursive=False))"
      ],
      "metadata": {
        "colab": {
          "base_uri": "https://localhost:8080/"
        },
        "id": "fI-_rSOZmjMS",
        "outputId": "4822f12f-b8db-4bab-f95f-10277cb1f8df"
      },
      "execution_count": null,
      "outputs": [
        {
          "output_type": "stream",
          "name": "stdout",
          "text": [
            "[<h1>War and Peace</h1>]\n",
            "[]\n",
            "[<h1>War and Peace</h1>]\n"
          ]
        }
      ]
    },
    {
      "cell_type": "code",
      "source": [
        "print(bs.find_all(True,string='the prince'))"
      ],
      "metadata": {
        "colab": {
          "base_uri": "https://localhost:8080/"
        },
        "id": "93yZp9ulmsEr",
        "outputId": "1f5fe001-61f4-4acb-ac6f-034fa1c7888a"
      },
      "execution_count": null,
      "outputs": [
        {
          "output_type": "stream",
          "name": "stdout",
          "text": [
            "[<span class=\"green\">the prince</span>, <span class=\"green\">the prince</span>, <span class=\"green\">the prince</span>, <span class=\"green\">the prince</span>, <span class=\"green\">the prince</span>, <span class=\"green\">the prince</span>, <span class=\"green\">the prince</span>]\n"
          ]
        }
      ]
    },
    {
      "cell_type": "code",
      "source": [
        "print(bs.find_all(True,string=['Anna Pavlovna','Prince Vasili']))"
      ],
      "metadata": {
        "colab": {
          "base_uri": "https://localhost:8080/"
        },
        "id": "t5AHFdG_nEtp",
        "outputId": "08fb2db0-7e79-47a8-9ded-ef8535509126"
      },
      "execution_count": null,
      "outputs": [
        {
          "output_type": "stream",
          "name": "stdout",
          "text": [
            "[<span class=\"green\">Anna Pavlovna</span>, <span class=\"green\">Anna Pavlovna</span>, <span class=\"green\">Anna Pavlovna</span>, <span class=\"green\">Prince Vasili</span>, <span class=\"green\">Anna Pavlovna</span>, <span class=\"green\">Anna Pavlovna</span>, <span class=\"green\">Prince Vasili</span>, <span class=\"green\">Anna Pavlovna</span>, <span class=\"green\">Anna Pavlovna</span>]\n"
          ]
        }
      ]
    },
    {
      "cell_type": "code",
      "source": [
        "text_list=bs.find_all('span',{'class':'green'})\n",
        "for text in text_list:\n",
        "  print(text.get_text())"
      ],
      "metadata": {
        "colab": {
          "base_uri": "https://localhost:8080/"
        },
        "id": "p4Zb80K2nPHe",
        "outputId": "4550193e-ea29-424f-ab99-5ce0e6b2edf5"
      },
      "execution_count": null,
      "outputs": [
        {
          "output_type": "stream",
          "name": "stdout",
          "text": [
            "Anna\n",
            "Pavlovna Scherer\n",
            "Empress Marya\n",
            "Fedorovna\n",
            "Prince Vasili Kuragin\n",
            "Anna Pavlovna\n",
            "St. Petersburg\n",
            "the prince\n",
            "Anna Pavlovna\n",
            "Anna Pavlovna\n",
            "the prince\n",
            "the prince\n",
            "the prince\n",
            "Prince Vasili\n",
            "Anna Pavlovna\n",
            "Anna Pavlovna\n",
            "the prince\n",
            "Wintzingerode\n",
            "King of Prussia\n",
            "le Vicomte de Mortemart\n",
            "Montmorencys\n",
            "Rohans\n",
            "Abbe Morio\n",
            "the Emperor\n",
            "the prince\n",
            "Prince Vasili\n",
            "Dowager Empress Marya Fedorovna\n",
            "the baron\n",
            "Anna Pavlovna\n",
            "the Empress\n",
            "the Empress\n",
            "Anna Pavlovna's\n",
            "Her Majesty\n",
            "Baron\n",
            "Funke\n",
            "The prince\n",
            "Anna\n",
            "Pavlovna\n",
            "the Empress\n",
            "The prince\n",
            "Anatole\n",
            "the prince\n",
            "The prince\n",
            "Anna\n",
            "Pavlovna\n",
            "Anna Pavlovna\n"
          ]
        }
      ]
    },
    {
      "cell_type": "code",
      "source": [
        "text_list=bs.find_all('span',{'class':'green'})\n",
        "print(text_list[7].get_text())\n",
        "print(bs.find_all('span',{'class':'green'})[7])"
      ],
      "metadata": {
        "colab": {
          "base_uri": "https://localhost:8080/"
        },
        "id": "wpKoc07DoPM2",
        "outputId": "df750e46-2255-404d-d971-1cbc49c45f25"
      },
      "execution_count": null,
      "outputs": [
        {
          "output_type": "stream",
          "name": "stdout",
          "text": [
            "Anna Pavlovna\n",
            "<span class=\"green\">Anna Pavlovna</span>\n"
          ]
        }
      ]
    },
    {
      "cell_type": "markdown",
      "source": [
        "## Chrome DevTools Python을 이용한 데이터 수집"
      ],
      "metadata": {
        "id": "zKj712Pfpu4L"
      }
    },
    {
      "cell_type": "markdown",
      "source": [
        "### find_all 보다 쉽고 빠르게 select"
      ],
      "metadata": {
        "id": "AD-nmgddrbS4"
      }
    },
    {
      "cell_type": "markdown",
      "source": [
        "#### 메소드 find()\n",
        "- find / find_all은 HTML 태그를 '찾기'위한 메소드"
      ],
      "metadata": {
        "id": "48vjAhjcsMGK"
      }
    },
    {
      "cell_type": "markdown",
      "source": [
        "#### 메소드 select()\n",
        "- find()와 유사하게 찾으려는 태그와 속성을 매개변수로 입력\n",
        "- css 선택자를 매개변수로 전달할 수 있음"
      ],
      "metadata": {
        "id": "Ozgb5Ch5sYqR"
      }
    }
  ]
}