{
  "nbformat": 4,
  "nbformat_minor": 0,
  "metadata": {
    "colab": {
      "provenance": [],
      "authorship_tag": "ABX9TyMFYxPJWKFO+7nkzIbVSPPZ",
      "include_colab_link": true
    },
    "kernelspec": {
      "name": "python3",
      "display_name": "Python 3"
    },
    "language_info": {
      "name": "python"
    }
  },
  "cells": [
    {
      "cell_type": "markdown",
      "metadata": {
        "id": "view-in-github",
        "colab_type": "text"
      },
      "source": [
        "<a href=\"https://colab.research.google.com/github/dduniverse/datacampus/blob/main/DA/JSON%EA%B3%BC_%EA%B3%B5%EA%B3%B5%EB%8D%B0%EC%9D%B4%ED%84%B0.ipynb\" target=\"_parent\"><img src=\"https://colab.research.google.com/assets/colab-badge.svg\" alt=\"Open In Colab\"/></a>"
      ]
    },
    {
      "cell_type": "markdown",
      "source": [
        "## JSON"
      ],
      "metadata": {
        "id": "2uz1yNcoRnTd"
      }
    },
    {
      "cell_type": "markdown",
      "source": [
        "#### JSON(JavaScript Object Notation)\n",
        "- JSON(JavaSvript Object Notation)은 경량의 DATA-교환 형식이다.\n",
        "- 이 형식은 사람이 읽고 쓰기에 용이하며, 기계가 분석하고 생성함에도 용이하다."
      ],
      "metadata": {
        "id": "lBFca-7dR1F1"
      }
    },
    {
      "cell_type": "markdown",
      "source": [
        "#### 객체(object)\n",
        "- JSON에서 데이터를 표현하는 최소 단위\n",
        "- { } (중괄호)로 묶여진 여러 개의 name(이름)과 value(값)의 쌍(pair)\n",
        "  - 이름은 항상 string(문자열)이어야 함\n",
        "  - 이름/값의 쌍은 :(콜론)으로 분리\n",
        "  - 여러 개의 쌍은 ,(쉼표)로 분리\n",
        "- 순서(Order)는 고려하지 않음"
      ],
      "metadata": {
        "id": "-KElS0kYSBn8"
      }
    },
    {
      "cell_type": "markdown",
      "source": [
        "#### 값(value)\n",
        "- 값으로 사용할 수 있는 자료형\n",
        "  - string(문자열)\n",
        "  - number(숫자)\n",
        "    - 정수(integer)\n",
        "    - 실수(fraction)\n",
        "    - 지수(exponent)\n",
        "  - object(객체)\n",
        "  - array(배열)\n",
        "  - true/false\n",
        "  - null"
      ],
      "metadata": {
        "id": "qoZMkEKGT1r_"
      }
    },
    {
      "cell_type": "markdown",
      "source": [
        "#### 문자열(string)\n",
        "- \" \"(쌍 따옴표)로 묶여 있어야 함\n",
        "- 문자열에 사용할 수 있는 기호\n",
        "  - 따옴표, \\(역 슬러시), 각종 제어문자를 제외한 표시 방법\n",
        "  - 역 슬러시를 포함한\n",
        "    - 따옴표\n",
        "    - 역 슬러시\n",
        "    - 슬러시\n",
        "    - backspace\n",
        "    - 폼피드\n",
        "    - 라이피드\n",
        "    - carriage return\n",
        "    - horizontal tab\n",
        "    - u를 포함한 4자리 16진수"
      ],
      "metadata": {
        "id": "xtOHTN_vUF-o"
      }
    },
    {
      "cell_type": "markdown",
      "source": [
        "#### 숫자(number)\n",
        "- 음수/양수 모두 표기할 수 있음\n",
        "- 정수는 0이 아닌 숫자로 시작하여, 0을 포함한 숫자로 끝남\n",
        "- 실수는 정수에 소수점을 포함하여 숫자로 끝남\n",
        "- 지수는 실수에 E 혹은 e를 포함하여 숫자로 끝남"
      ],
      "metadata": {
        "id": "MxbA4w4aU-Yz"
      }
    },
    {
      "cell_type": "markdown",
      "source": [
        "#### 공백(whitespace)\n",
        "- 문자열의 공백이 아닌, JSON이 내부적으로 표현할 때 사용하는 공백"
      ],
      "metadata": {
        "id": "CgiDmCt-Vajn"
      }
    },
    {
      "cell_type": "markdown",
      "source": [
        "#### Schema(스키마)\n",
        "- 어떠한 구조\n",
        "- 컴퓨터 공학에서 객체에 대한 자료형/구조 등을 의미,표현할 때 주로 사용\n",
        "  - 데이터베이스 스키마: 데이터베이스에서 자료의 구조, 표현 방법 등을 정의한 구조\n",
        "- 파이썬에서 하나의 변수가 다양한 자료형을 표현할 수 있듯이, JSON 또한 다양한 값을 표현할 수 있음"
      ],
      "metadata": {
        "id": "1MWAh1x4U-xh"
      }
    },
    {
      "cell_type": "markdown",
      "source": [
        "## 기상청 단기예보 조회서비스"
      ],
      "metadata": {
        "id": "tYItRveZVuYw"
      }
    },
    {
      "cell_type": "markdown",
      "source": [
        "\\>>> 당일 날짜만 가능!!!!! <<<"
      ],
      "metadata": {
        "id": "lmfC-JV1Vvzd"
      }
    },
    {
      "cell_type": "markdown",
      "source": [
        "#### 필요모듈 import"
      ],
      "metadata": {
        "id": "zi3ZZeLpY59o"
      }
    },
    {
      "cell_type": "code",
      "execution_count": null,
      "metadata": {
        "id": "vWbvlhy9QvoC"
      },
      "outputs": [],
      "source": [
        "import numpy as np\n",
        "import pandas as pd\n",
        "import matplotlib.pyplot as plt"
      ]
    },
    {
      "cell_type": "markdown",
      "source": [
        "#### 모듈 requests 메소드 get"
      ],
      "metadata": {
        "id": "gRYcdXAMZBJA"
      }
    },
    {
      "cell_type": "code",
      "source": [
        "import requests"
      ],
      "metadata": {
        "id": "60-9enCuZApK"
      },
      "execution_count": null,
      "outputs": []
    },
    {
      "cell_type": "markdown",
      "source": [
        "#### URL 정보와 매개변수"
      ],
      "metadata": {
        "id": "Jr5HEnL1ZfUG"
      }
    },
    {
      "cell_type": "code",
      "source": [
        "url='http://apis.data.go.kr/1360000/VilageFcstInfoService_2.0/getUltraSrtNcst' # 요청주소\n",
        "\n",
        "service_key='m9WQLzXhO4cNd5rhrm3XZgGm0i7my0MtUZb1DXGfo77OSmGUE9iuNmJMOVakM080eC4opIn1MU6shML3dQL0zQ==' # 본인 키\n",
        "\n",
        "payload={'serviceKey':service_key, 'pageNo':'1',\n",
        "         'numOfRows':'1000','dataType':'JSON',\n",
        "         'base_date':'20220719','base_time':'0500',\n",
        "         'nx':'60','ny':'127'} # 요청 변수"
      ],
      "metadata": {
        "id": "uv8KsUjzZEJ2"
      },
      "execution_count": null,
      "outputs": []
    },
    {
      "cell_type": "markdown",
      "source": [
        "##### 정보 요청"
      ],
      "metadata": {
        "id": "3O3AOblVanje"
      }
    },
    {
      "cell_type": "code",
      "source": [
        "reqs=requests.get(url,params=payload)"
      ],
      "metadata": {
        "id": "VAO_c43samV6"
      },
      "execution_count": null,
      "outputs": []
    },
    {
      "cell_type": "code",
      "source": [
        "print(reqs.url) # 요청한 URL 주소(GET 방식이므로 확인 가능)\n",
        "print(reqs.status_code) # 요청 결과, 정상 200"
      ],
      "metadata": {
        "colab": {
          "base_uri": "https://localhost:8080/"
        },
        "id": "nwElCMKJa339",
        "outputId": "8600d0d8-285d-4440-fa04-924a4756f85c"
      },
      "execution_count": null,
      "outputs": [
        {
          "output_type": "stream",
          "name": "stdout",
          "text": [
            "http://apis.data.go.kr/1360000/VilageFcstInfoService_2.0/getUltraSrtNcst?serviceKey=m9WQLzXhO4cNd5rhrm3XZgGm0i7my0MtUZb1DXGfo77OSmGUE9iuNmJMOVakM080eC4opIn1MU6shML3dQL0zQ%3D%3D&pageNo=1&numOfRows=1000&dataType=JSON&base_date=20220719&base_time=0500&nx=60&ny=127\n",
            "200\n"
          ]
        }
      ]
    },
    {
      "cell_type": "markdown",
      "source": [
        "##### 요청 결과"
      ],
      "metadata": {
        "id": "HcgPrUZsayqJ"
      }
    },
    {
      "cell_type": "code",
      "source": [
        "print(reqs.text) # JSON 내용\n",
        "print(len(reqs.content)) # JSON의 길이"
      ],
      "metadata": {
        "colab": {
          "base_uri": "https://localhost:8080/"
        },
        "id": "BfCnM4mjayZY",
        "outputId": "c1306edf-90e7-449f-bc20-f84bef069a0e"
      },
      "execution_count": null,
      "outputs": [
        {
          "output_type": "stream",
          "name": "stdout",
          "text": [
            "{\"response\":{\"header\":{\"resultCode\":\"00\",\"resultMsg\":\"NORMAL_SERVICE\"},\"body\":{\"dataType\":\"JSON\",\"items\":{\"item\":[{\"baseDate\":\"20220719\",\"baseTime\":\"0500\",\"category\":\"PTY\",\"nx\":60,\"ny\":127,\"obsrValue\":\"0\"},{\"baseDate\":\"20220719\",\"baseTime\":\"0500\",\"category\":\"REH\",\"nx\":60,\"ny\":127,\"obsrValue\":\"86\"},{\"baseDate\":\"20220719\",\"baseTime\":\"0500\",\"category\":\"RN1\",\"nx\":60,\"ny\":127,\"obsrValue\":\"0\"},{\"baseDate\":\"20220719\",\"baseTime\":\"0500\",\"category\":\"T1H\",\"nx\":60,\"ny\":127,\"obsrValue\":\"24.4\"},{\"baseDate\":\"20220719\",\"baseTime\":\"0500\",\"category\":\"UUU\",\"nx\":60,\"ny\":127,\"obsrValue\":\"0.6\"},{\"baseDate\":\"20220719\",\"baseTime\":\"0500\",\"category\":\"VEC\",\"nx\":60,\"ny\":127,\"obsrValue\":\"244\"},{\"baseDate\":\"20220719\",\"baseTime\":\"0500\",\"category\":\"VVV\",\"nx\":60,\"ny\":127,\"obsrValue\":\"0.3\"},{\"baseDate\":\"20220719\",\"baseTime\":\"0500\",\"category\":\"WSD\",\"nx\":60,\"ny\":127,\"obsrValue\":\"0.7\"}]},\"pageNo\":1,\"numOfRows\":1000,\"totalCount\":8}}}\n",
            "909\n"
          ]
        }
      ]
    },
    {
      "cell_type": "markdown",
      "source": [
        "#### 모듈 JSON\n",
        "- load/loads: 파일/문자열로부터 JSON 객체를 생성\n",
        "- dump/dumps: 객체를 파일/문자열로 생성\n",
        "- sort_keys: 메소드 dump/dumps로 불러온 JSON값인 딕셔너리 형태에서, Key 기준으로 정렬\n",
        "- indent: JSON 값을 출력할 때, 들여쓰기 여부를 선택 "
      ],
      "metadata": {
        "id": "u0S0vzPkbTAL"
      }
    },
    {
      "cell_type": "code",
      "source": [
        "import json\n",
        "print(json.dumps(json.loads(reqs.text),sort_keys=True,indent=4))"
      ],
      "metadata": {
        "colab": {
          "base_uri": "https://localhost:8080/"
        },
        "id": "o2C4Rj6ubSzO",
        "outputId": "b9795c68-e76d-4350-887f-1fd4f81760d4"
      },
      "execution_count": null,
      "outputs": [
        {
          "output_type": "stream",
          "name": "stdout",
          "text": [
            "{\n",
            "    \"response\": {\n",
            "        \"body\": {\n",
            "            \"dataType\": \"JSON\",\n",
            "            \"items\": {\n",
            "                \"item\": [\n",
            "                    {\n",
            "                        \"baseDate\": \"20220719\",\n",
            "                        \"baseTime\": \"0500\",\n",
            "                        \"category\": \"PTY\",\n",
            "                        \"nx\": 60,\n",
            "                        \"ny\": 127,\n",
            "                        \"obsrValue\": \"0\"\n",
            "                    },\n",
            "                    {\n",
            "                        \"baseDate\": \"20220719\",\n",
            "                        \"baseTime\": \"0500\",\n",
            "                        \"category\": \"REH\",\n",
            "                        \"nx\": 60,\n",
            "                        \"ny\": 127,\n",
            "                        \"obsrValue\": \"86\"\n",
            "                    },\n",
            "                    {\n",
            "                        \"baseDate\": \"20220719\",\n",
            "                        \"baseTime\": \"0500\",\n",
            "                        \"category\": \"RN1\",\n",
            "                        \"nx\": 60,\n",
            "                        \"ny\": 127,\n",
            "                        \"obsrValue\": \"0\"\n",
            "                    },\n",
            "                    {\n",
            "                        \"baseDate\": \"20220719\",\n",
            "                        \"baseTime\": \"0500\",\n",
            "                        \"category\": \"T1H\",\n",
            "                        \"nx\": 60,\n",
            "                        \"ny\": 127,\n",
            "                        \"obsrValue\": \"24.4\"\n",
            "                    },\n",
            "                    {\n",
            "                        \"baseDate\": \"20220719\",\n",
            "                        \"baseTime\": \"0500\",\n",
            "                        \"category\": \"UUU\",\n",
            "                        \"nx\": 60,\n",
            "                        \"ny\": 127,\n",
            "                        \"obsrValue\": \"0.6\"\n",
            "                    },\n",
            "                    {\n",
            "                        \"baseDate\": \"20220719\",\n",
            "                        \"baseTime\": \"0500\",\n",
            "                        \"category\": \"VEC\",\n",
            "                        \"nx\": 60,\n",
            "                        \"ny\": 127,\n",
            "                        \"obsrValue\": \"244\"\n",
            "                    },\n",
            "                    {\n",
            "                        \"baseDate\": \"20220719\",\n",
            "                        \"baseTime\": \"0500\",\n",
            "                        \"category\": \"VVV\",\n",
            "                        \"nx\": 60,\n",
            "                        \"ny\": 127,\n",
            "                        \"obsrValue\": \"0.3\"\n",
            "                    },\n",
            "                    {\n",
            "                        \"baseDate\": \"20220719\",\n",
            "                        \"baseTime\": \"0500\",\n",
            "                        \"category\": \"WSD\",\n",
            "                        \"nx\": 60,\n",
            "                        \"ny\": 127,\n",
            "                        \"obsrValue\": \"0.7\"\n",
            "                    }\n",
            "                ]\n",
            "            },\n",
            "            \"numOfRows\": 1000,\n",
            "            \"pageNo\": 1,\n",
            "            \"totalCount\": 8\n",
            "        },\n",
            "        \"header\": {\n",
            "            \"resultCode\": \"00\",\n",
            "            \"resultMsg\": \"NORMAL_SERVICE\"\n",
            "        }\n",
            "    }\n",
            "}\n"
          ]
        }
      ]
    },
    {
      "cell_type": "markdown",
      "source": [
        "#### JSON을 DataFrame으로"
      ],
      "metadata": {
        "id": "-CTKAfm4cbCT"
      }
    },
    {
      "cell_type": "code",
      "source": [
        "load_json=json.loads(reqs.text) # reqs.text를 json객체로 만듦\n",
        "\n",
        "print(type(load_json))\n",
        "print(type(reqs.text))"
      ],
      "metadata": {
        "colab": {
          "base_uri": "https://localhost:8080/"
        },
        "id": "g4if_-2SdamE",
        "outputId": "03cc66e7-bcb7-4fb5-e499-57b3c5c63dd7"
      },
      "execution_count": null,
      "outputs": [
        {
          "output_type": "stream",
          "name": "stdout",
          "text": [
            "<class 'dict'>\n",
            "<class 'str'>\n"
          ]
        }
      ]
    },
    {
      "cell_type": "code",
      "source": [
        "df=pd.DataFrame(load_json)\n",
        "df"
      ],
      "metadata": {
        "colab": {
          "base_uri": "https://localhost:8080/",
          "height": 112
        },
        "id": "XW6X6CmPbueI",
        "outputId": "e813fe69-5bfa-42af-d8c3-b1b46e128fcb"
      },
      "execution_count": null,
      "outputs": [
        {
          "output_type": "execute_result",
          "data": {
            "text/plain": [
              "                                                 response\n",
              "body    {'dataType': 'JSON', 'items': {'item': [{'base...\n",
              "header  {'resultCode': '00', 'resultMsg': 'NORMAL_SERV..."
            ],
            "text/html": [
              "\n",
              "  <div id=\"df-589fc367-c616-406d-914b-e829d864ac91\">\n",
              "    <div class=\"colab-df-container\">\n",
              "      <div>\n",
              "<style scoped>\n",
              "    .dataframe tbody tr th:only-of-type {\n",
              "        vertical-align: middle;\n",
              "    }\n",
              "\n",
              "    .dataframe tbody tr th {\n",
              "        vertical-align: top;\n",
              "    }\n",
              "\n",
              "    .dataframe thead th {\n",
              "        text-align: right;\n",
              "    }\n",
              "</style>\n",
              "<table border=\"1\" class=\"dataframe\">\n",
              "  <thead>\n",
              "    <tr style=\"text-align: right;\">\n",
              "      <th></th>\n",
              "      <th>response</th>\n",
              "    </tr>\n",
              "  </thead>\n",
              "  <tbody>\n",
              "    <tr>\n",
              "      <th>body</th>\n",
              "      <td>{'dataType': 'JSON', 'items': {'item': [{'base...</td>\n",
              "    </tr>\n",
              "    <tr>\n",
              "      <th>header</th>\n",
              "      <td>{'resultCode': '00', 'resultMsg': 'NORMAL_SERV...</td>\n",
              "    </tr>\n",
              "  </tbody>\n",
              "</table>\n",
              "</div>\n",
              "      <button class=\"colab-df-convert\" onclick=\"convertToInteractive('df-589fc367-c616-406d-914b-e829d864ac91')\"\n",
              "              title=\"Convert this dataframe to an interactive table.\"\n",
              "              style=\"display:none;\">\n",
              "        \n",
              "  <svg xmlns=\"http://www.w3.org/2000/svg\" height=\"24px\"viewBox=\"0 0 24 24\"\n",
              "       width=\"24px\">\n",
              "    <path d=\"M0 0h24v24H0V0z\" fill=\"none\"/>\n",
              "    <path d=\"M18.56 5.44l.94 2.06.94-2.06 2.06-.94-2.06-.94-.94-2.06-.94 2.06-2.06.94zm-11 1L8.5 8.5l.94-2.06 2.06-.94-2.06-.94L8.5 2.5l-.94 2.06-2.06.94zm10 10l.94 2.06.94-2.06 2.06-.94-2.06-.94-.94-2.06-.94 2.06-2.06.94z\"/><path d=\"M17.41 7.96l-1.37-1.37c-.4-.4-.92-.59-1.43-.59-.52 0-1.04.2-1.43.59L10.3 9.45l-7.72 7.72c-.78.78-.78 2.05 0 2.83L4 21.41c.39.39.9.59 1.41.59.51 0 1.02-.2 1.41-.59l7.78-7.78 2.81-2.81c.8-.78.8-2.07 0-2.86zM5.41 20L4 18.59l7.72-7.72 1.47 1.35L5.41 20z\"/>\n",
              "  </svg>\n",
              "      </button>\n",
              "      \n",
              "  <style>\n",
              "    .colab-df-container {\n",
              "      display:flex;\n",
              "      flex-wrap:wrap;\n",
              "      gap: 12px;\n",
              "    }\n",
              "\n",
              "    .colab-df-convert {\n",
              "      background-color: #E8F0FE;\n",
              "      border: none;\n",
              "      border-radius: 50%;\n",
              "      cursor: pointer;\n",
              "      display: none;\n",
              "      fill: #1967D2;\n",
              "      height: 32px;\n",
              "      padding: 0 0 0 0;\n",
              "      width: 32px;\n",
              "    }\n",
              "\n",
              "    .colab-df-convert:hover {\n",
              "      background-color: #E2EBFA;\n",
              "      box-shadow: 0px 1px 2px rgba(60, 64, 67, 0.3), 0px 1px 3px 1px rgba(60, 64, 67, 0.15);\n",
              "      fill: #174EA6;\n",
              "    }\n",
              "\n",
              "    [theme=dark] .colab-df-convert {\n",
              "      background-color: #3B4455;\n",
              "      fill: #D2E3FC;\n",
              "    }\n",
              "\n",
              "    [theme=dark] .colab-df-convert:hover {\n",
              "      background-color: #434B5C;\n",
              "      box-shadow: 0px 1px 3px 1px rgba(0, 0, 0, 0.15);\n",
              "      filter: drop-shadow(0px 1px 2px rgba(0, 0, 0, 0.3));\n",
              "      fill: #FFFFFF;\n",
              "    }\n",
              "  </style>\n",
              "\n",
              "      <script>\n",
              "        const buttonEl =\n",
              "          document.querySelector('#df-589fc367-c616-406d-914b-e829d864ac91 button.colab-df-convert');\n",
              "        buttonEl.style.display =\n",
              "          google.colab.kernel.accessAllowed ? 'block' : 'none';\n",
              "\n",
              "        async function convertToInteractive(key) {\n",
              "          const element = document.querySelector('#df-589fc367-c616-406d-914b-e829d864ac91');\n",
              "          const dataTable =\n",
              "            await google.colab.kernel.invokeFunction('convertToInteractive',\n",
              "                                                     [key], {});\n",
              "          if (!dataTable) return;\n",
              "\n",
              "          const docLinkHtml = 'Like what you see? Visit the ' +\n",
              "            '<a target=\"_blank\" href=https://colab.research.google.com/notebooks/data_table.ipynb>data table notebook</a>'\n",
              "            + ' to learn more about interactive tables.';\n",
              "          element.innerHTML = '';\n",
              "          dataTable['output_type'] = 'display_data';\n",
              "          await google.colab.output.renderOutput(dataTable, element);\n",
              "          const docLink = document.createElement('div');\n",
              "          docLink.innerHTML = docLinkHtml;\n",
              "          element.appendChild(docLink);\n",
              "        }\n",
              "      </script>\n",
              "    </div>\n",
              "  </div>\n",
              "  "
            ]
          },
          "metadata": {},
          "execution_count": 9
        }
      ]
    },
    {
      "cell_type": "markdown",
      "source": [
        "#### JSON을 변환하여 Key 확인"
      ],
      "metadata": {
        "id": "6Rxbx9ZPeHao"
      }
    },
    {
      "cell_type": "code",
      "source": [
        "print(load_json.keys()) # key에는 response 밖에 없기 때문에, 위의 dataframe이 response에 있는 값이 body와 header로 생성됨"
      ],
      "metadata": {
        "colab": {
          "base_uri": "https://localhost:8080/"
        },
        "id": "XCpnCrzFeD1X",
        "outputId": "91e570ab-576e-48aa-8df9-5295406c333d"
      },
      "execution_count": null,
      "outputs": [
        {
          "output_type": "stream",
          "name": "stdout",
          "text": [
            "dict_keys(['response'])\n"
          ]
        }
      ]
    },
    {
      "cell_type": "code",
      "source": [
        "print(load_json['response']['body'].keys())"
      ],
      "metadata": {
        "colab": {
          "base_uri": "https://localhost:8080/"
        },
        "id": "9OGFXB_reGXB",
        "outputId": "f53c8c86-d4f4-4c45-ad56-c25e8e236c01"
      },
      "execution_count": null,
      "outputs": [
        {
          "output_type": "stream",
          "name": "stdout",
          "text": [
            "dict_keys(['dataType', 'items', 'pageNo', 'numOfRows', 'totalCount'])\n"
          ]
        }
      ]
    },
    {
      "cell_type": "code",
      "source": [
        "print(load_json['response']['body']['items'].keys())"
      ],
      "metadata": {
        "colab": {
          "base_uri": "https://localhost:8080/"
        },
        "id": "nFR7oc3keXnm",
        "outputId": "b72d0ebc-bcf4-4286-fa28-c2c990311b12"
      },
      "execution_count": null,
      "outputs": [
        {
          "output_type": "stream",
          "name": "stdout",
          "text": [
            "dict_keys(['item'])\n"
          ]
        }
      ]
    },
    {
      "cell_type": "code",
      "source": [
        "print(load_json['response']['body']['items']['item']) # item안에는 더이상 key가 없음, "
      ],
      "metadata": {
        "colab": {
          "base_uri": "https://localhost:8080/"
        },
        "id": "Co-6z8YgeaPe",
        "outputId": "d72ea09d-1d8c-44c8-e85a-41167ce857e7"
      },
      "execution_count": null,
      "outputs": [
        {
          "output_type": "stream",
          "name": "stdout",
          "text": [
            "[{'baseDate': '20220719', 'baseTime': '0500', 'category': 'PTY', 'nx': 60, 'ny': 127, 'obsrValue': '0'}, {'baseDate': '20220719', 'baseTime': '0500', 'category': 'REH', 'nx': 60, 'ny': 127, 'obsrValue': '86'}, {'baseDate': '20220719', 'baseTime': '0500', 'category': 'RN1', 'nx': 60, 'ny': 127, 'obsrValue': '0'}, {'baseDate': '20220719', 'baseTime': '0500', 'category': 'T1H', 'nx': 60, 'ny': 127, 'obsrValue': '24.4'}, {'baseDate': '20220719', 'baseTime': '0500', 'category': 'UUU', 'nx': 60, 'ny': 127, 'obsrValue': '0.6'}, {'baseDate': '20220719', 'baseTime': '0500', 'category': 'VEC', 'nx': 60, 'ny': 127, 'obsrValue': '244'}, {'baseDate': '20220719', 'baseTime': '0500', 'category': 'VVV', 'nx': 60, 'ny': 127, 'obsrValue': '0.3'}, {'baseDate': '20220719', 'baseTime': '0500', 'category': 'WSD', 'nx': 60, 'ny': 127, 'obsrValue': '0.7'}]\n"
          ]
        }
      ]
    },
    {
      "cell_type": "code",
      "source": [
        "print(load_json['response']['body']['items']['item'][0])"
      ],
      "metadata": {
        "colab": {
          "base_uri": "https://localhost:8080/"
        },
        "id": "pMSjcPOkecar",
        "outputId": "7d9a16ad-884a-4c47-f0df-8f1c46b27c56"
      },
      "execution_count": null,
      "outputs": [
        {
          "output_type": "stream",
          "name": "stdout",
          "text": [
            "{'baseDate': '20220719', 'baseTime': '0500', 'category': 'PTY', 'nx': 60, 'ny': 127, 'obsrValue': '0'}\n"
          ]
        }
      ]
    },
    {
      "cell_type": "markdown",
      "source": [
        "#### 다시 JSON을 DataFrame 으로"
      ],
      "metadata": {
        "id": "Lr63BHZge0RO"
      }
    },
    {
      "cell_type": "code",
      "source": [
        "df=pd.DataFrame(load_json['response']['body']['items']['item'])\n",
        "df"
      ],
      "metadata": {
        "colab": {
          "base_uri": "https://localhost:8080/",
          "height": 300
        },
        "id": "yonhRiVTejdR",
        "outputId": "662ac383-aee8-46b2-f9ea-9e19be72483c"
      },
      "execution_count": null,
      "outputs": [
        {
          "output_type": "execute_result",
          "data": {
            "text/plain": [
              "   baseDate baseTime category  nx   ny obsrValue\n",
              "0  20220719     0500      PTY  60  127         0\n",
              "1  20220719     0500      REH  60  127        86\n",
              "2  20220719     0500      RN1  60  127         0\n",
              "3  20220719     0500      T1H  60  127      24.4\n",
              "4  20220719     0500      UUU  60  127       0.6\n",
              "5  20220719     0500      VEC  60  127       244\n",
              "6  20220719     0500      VVV  60  127       0.3\n",
              "7  20220719     0500      WSD  60  127       0.7"
            ],
            "text/html": [
              "\n",
              "  <div id=\"df-9920943b-5b01-41bd-a15e-d6884a4015f5\">\n",
              "    <div class=\"colab-df-container\">\n",
              "      <div>\n",
              "<style scoped>\n",
              "    .dataframe tbody tr th:only-of-type {\n",
              "        vertical-align: middle;\n",
              "    }\n",
              "\n",
              "    .dataframe tbody tr th {\n",
              "        vertical-align: top;\n",
              "    }\n",
              "\n",
              "    .dataframe thead th {\n",
              "        text-align: right;\n",
              "    }\n",
              "</style>\n",
              "<table border=\"1\" class=\"dataframe\">\n",
              "  <thead>\n",
              "    <tr style=\"text-align: right;\">\n",
              "      <th></th>\n",
              "      <th>baseDate</th>\n",
              "      <th>baseTime</th>\n",
              "      <th>category</th>\n",
              "      <th>nx</th>\n",
              "      <th>ny</th>\n",
              "      <th>obsrValue</th>\n",
              "    </tr>\n",
              "  </thead>\n",
              "  <tbody>\n",
              "    <tr>\n",
              "      <th>0</th>\n",
              "      <td>20220719</td>\n",
              "      <td>0500</td>\n",
              "      <td>PTY</td>\n",
              "      <td>60</td>\n",
              "      <td>127</td>\n",
              "      <td>0</td>\n",
              "    </tr>\n",
              "    <tr>\n",
              "      <th>1</th>\n",
              "      <td>20220719</td>\n",
              "      <td>0500</td>\n",
              "      <td>REH</td>\n",
              "      <td>60</td>\n",
              "      <td>127</td>\n",
              "      <td>86</td>\n",
              "    </tr>\n",
              "    <tr>\n",
              "      <th>2</th>\n",
              "      <td>20220719</td>\n",
              "      <td>0500</td>\n",
              "      <td>RN1</td>\n",
              "      <td>60</td>\n",
              "      <td>127</td>\n",
              "      <td>0</td>\n",
              "    </tr>\n",
              "    <tr>\n",
              "      <th>3</th>\n",
              "      <td>20220719</td>\n",
              "      <td>0500</td>\n",
              "      <td>T1H</td>\n",
              "      <td>60</td>\n",
              "      <td>127</td>\n",
              "      <td>24.4</td>\n",
              "    </tr>\n",
              "    <tr>\n",
              "      <th>4</th>\n",
              "      <td>20220719</td>\n",
              "      <td>0500</td>\n",
              "      <td>UUU</td>\n",
              "      <td>60</td>\n",
              "      <td>127</td>\n",
              "      <td>0.6</td>\n",
              "    </tr>\n",
              "    <tr>\n",
              "      <th>5</th>\n",
              "      <td>20220719</td>\n",
              "      <td>0500</td>\n",
              "      <td>VEC</td>\n",
              "      <td>60</td>\n",
              "      <td>127</td>\n",
              "      <td>244</td>\n",
              "    </tr>\n",
              "    <tr>\n",
              "      <th>6</th>\n",
              "      <td>20220719</td>\n",
              "      <td>0500</td>\n",
              "      <td>VVV</td>\n",
              "      <td>60</td>\n",
              "      <td>127</td>\n",
              "      <td>0.3</td>\n",
              "    </tr>\n",
              "    <tr>\n",
              "      <th>7</th>\n",
              "      <td>20220719</td>\n",
              "      <td>0500</td>\n",
              "      <td>WSD</td>\n",
              "      <td>60</td>\n",
              "      <td>127</td>\n",
              "      <td>0.7</td>\n",
              "    </tr>\n",
              "  </tbody>\n",
              "</table>\n",
              "</div>\n",
              "      <button class=\"colab-df-convert\" onclick=\"convertToInteractive('df-9920943b-5b01-41bd-a15e-d6884a4015f5')\"\n",
              "              title=\"Convert this dataframe to an interactive table.\"\n",
              "              style=\"display:none;\">\n",
              "        \n",
              "  <svg xmlns=\"http://www.w3.org/2000/svg\" height=\"24px\"viewBox=\"0 0 24 24\"\n",
              "       width=\"24px\">\n",
              "    <path d=\"M0 0h24v24H0V0z\" fill=\"none\"/>\n",
              "    <path d=\"M18.56 5.44l.94 2.06.94-2.06 2.06-.94-2.06-.94-.94-2.06-.94 2.06-2.06.94zm-11 1L8.5 8.5l.94-2.06 2.06-.94-2.06-.94L8.5 2.5l-.94 2.06-2.06.94zm10 10l.94 2.06.94-2.06 2.06-.94-2.06-.94-.94-2.06-.94 2.06-2.06.94z\"/><path d=\"M17.41 7.96l-1.37-1.37c-.4-.4-.92-.59-1.43-.59-.52 0-1.04.2-1.43.59L10.3 9.45l-7.72 7.72c-.78.78-.78 2.05 0 2.83L4 21.41c.39.39.9.59 1.41.59.51 0 1.02-.2 1.41-.59l7.78-7.78 2.81-2.81c.8-.78.8-2.07 0-2.86zM5.41 20L4 18.59l7.72-7.72 1.47 1.35L5.41 20z\"/>\n",
              "  </svg>\n",
              "      </button>\n",
              "      \n",
              "  <style>\n",
              "    .colab-df-container {\n",
              "      display:flex;\n",
              "      flex-wrap:wrap;\n",
              "      gap: 12px;\n",
              "    }\n",
              "\n",
              "    .colab-df-convert {\n",
              "      background-color: #E8F0FE;\n",
              "      border: none;\n",
              "      border-radius: 50%;\n",
              "      cursor: pointer;\n",
              "      display: none;\n",
              "      fill: #1967D2;\n",
              "      height: 32px;\n",
              "      padding: 0 0 0 0;\n",
              "      width: 32px;\n",
              "    }\n",
              "\n",
              "    .colab-df-convert:hover {\n",
              "      background-color: #E2EBFA;\n",
              "      box-shadow: 0px 1px 2px rgba(60, 64, 67, 0.3), 0px 1px 3px 1px rgba(60, 64, 67, 0.15);\n",
              "      fill: #174EA6;\n",
              "    }\n",
              "\n",
              "    [theme=dark] .colab-df-convert {\n",
              "      background-color: #3B4455;\n",
              "      fill: #D2E3FC;\n",
              "    }\n",
              "\n",
              "    [theme=dark] .colab-df-convert:hover {\n",
              "      background-color: #434B5C;\n",
              "      box-shadow: 0px 1px 3px 1px rgba(0, 0, 0, 0.15);\n",
              "      filter: drop-shadow(0px 1px 2px rgba(0, 0, 0, 0.3));\n",
              "      fill: #FFFFFF;\n",
              "    }\n",
              "  </style>\n",
              "\n",
              "      <script>\n",
              "        const buttonEl =\n",
              "          document.querySelector('#df-9920943b-5b01-41bd-a15e-d6884a4015f5 button.colab-df-convert');\n",
              "        buttonEl.style.display =\n",
              "          google.colab.kernel.accessAllowed ? 'block' : 'none';\n",
              "\n",
              "        async function convertToInteractive(key) {\n",
              "          const element = document.querySelector('#df-9920943b-5b01-41bd-a15e-d6884a4015f5');\n",
              "          const dataTable =\n",
              "            await google.colab.kernel.invokeFunction('convertToInteractive',\n",
              "                                                     [key], {});\n",
              "          if (!dataTable) return;\n",
              "\n",
              "          const docLinkHtml = 'Like what you see? Visit the ' +\n",
              "            '<a target=\"_blank\" href=https://colab.research.google.com/notebooks/data_table.ipynb>data table notebook</a>'\n",
              "            + ' to learn more about interactive tables.';\n",
              "          element.innerHTML = '';\n",
              "          dataTable['output_type'] = 'display_data';\n",
              "          await google.colab.output.renderOutput(dataTable, element);\n",
              "          const docLink = document.createElement('div');\n",
              "          docLink.innerHTML = docLinkHtml;\n",
              "          element.appendChild(docLink);\n",
              "        }\n",
              "      </script>\n",
              "    </div>\n",
              "  </div>\n",
              "  "
            ]
          },
          "metadata": {},
          "execution_count": 15
        }
      ]
    },
    {
      "cell_type": "markdown",
      "source": [
        "#### 여러 시간의 단기 예보"
      ],
      "metadata": {
        "id": "FjxnTmute5w1"
      }
    },
    {
      "cell_type": "markdown",
      "source": [
        "![image.png](data:image/png;base64,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)"
      ],
      "metadata": {
        "id": "gYCPoPTXhwBt"
      }
    },
    {
      "cell_type": "code",
      "source": [
        "import time\n",
        "\n",
        "payload={'serviceKey':service_key, 'pageNo':'1',\n",
        "         'numOfRows':'1000','dataType':'JSON',\n",
        "         'base_date':'20220719','base_time':'0500',\n",
        "         'nx':'60','ny':'127'} # 요청 변수\n",
        "time_list=['0000','0200','0400','0600','0800','1000'] # 2시간 단위\n",
        "pieces=list()"
      ],
      "metadata": {
        "id": "gEgIot5yevxn"
      },
      "execution_count": null,
      "outputs": []
    },
    {
      "cell_type": "code",
      "source": [
        "for i in time_list:\n",
        "  payload['base_time']=i\n",
        "  reqs=requests.get(url,params=payload) # 요청\n",
        "  time.sleep(1) # 요청할 때마다 1초 쉬기\n",
        "  load_json=json.loads(reqs.text)\n",
        "  df=pd.DataFrame(load_json['response']['body']['items']['item'])\n",
        "  \n",
        "  pieces.append(df) # 매 시간 조회한 날씨 정보의 JSON 응답 결과를 dataframe형태로 pieces에 저장\n",
        "\n",
        "df_weather=pd.concat(pieces,ignore_index=True) # pieces에 저장된 서로 다른 DataFrame을 하나의 Dataframe으로 합침\n",
        "df_weather"
      ],
      "metadata": {
        "colab": {
          "base_uri": "https://localhost:8080/",
          "height": 1000
        },
        "id": "BILcJz_ye4cY",
        "outputId": "f5223b1d-b9c8-4f3b-f04d-f012c7a0757e"
      },
      "execution_count": null,
      "outputs": [
        {
          "output_type": "execute_result",
          "data": {
            "text/plain": [
              "    baseDate baseTime category  nx   ny obsrValue\n",
              "0   20220719     0000      PTY  60  127         0\n",
              "1   20220719     0000      REH  60  127        82\n",
              "2   20220719     0000      RN1  60  127         0\n",
              "3   20220719     0000      T1H  60  127      25.2\n",
              "4   20220719     0000      UUU  60  127      -0.6\n",
              "5   20220719     0000      VEC  60  127        55\n",
              "6   20220719     0000      VVV  60  127      -0.4\n",
              "7   20220719     0000      WSD  60  127       0.8\n",
              "8   20220719     0200      PTY  60  127         0\n",
              "9   20220719     0200      REH  60  127        83\n",
              "10  20220719     0200      RN1  60  127         0\n",
              "11  20220719     0200      T1H  60  127      24.9\n",
              "12  20220719     0200      UUU  60  127       1.4\n",
              "13  20220719     0200      VEC  60  127       288\n",
              "14  20220719     0200      VVV  60  127      -0.4\n",
              "15  20220719     0200      WSD  60  127       1.5\n",
              "16  20220719     0400      PTY  60  127         0\n",
              "17  20220719     0400      REH  60  127        85\n",
              "18  20220719     0400      RN1  60  127         0\n",
              "19  20220719     0400      T1H  60  127      24.4\n",
              "20  20220719     0400      UUU  60  127       1.6\n",
              "21  20220719     0400      VEC  60  127       269\n",
              "22  20220719     0400      VVV  60  127         0\n",
              "23  20220719     0400      WSD  60  127       1.6\n",
              "24  20220719     0600      PTY  60  127         0\n",
              "25  20220719     0600      REH  60  127        84\n",
              "26  20220719     0600      RN1  60  127         0\n",
              "27  20220719     0600      T1H  60  127      24.8\n",
              "28  20220719     0600      UUU  60  127       1.1\n",
              "29  20220719     0600      VEC  60  127       256\n",
              "30  20220719     0600      VVV  60  127       0.3\n",
              "31  20220719     0600      WSD  60  127       1.1\n",
              "32  20220719     0800      PTY  60  127         0\n",
              "33  20220719     0800      REH  60  127        77\n",
              "34  20220719     0800      RN1  60  127         0\n",
              "35  20220719     0800      T1H  60  127      27.6\n",
              "36  20220719     0800      UUU  60  127       1.6\n",
              "37  20220719     0800      VEC  60  127       265\n",
              "38  20220719     0800      VVV  60  127       0.1\n",
              "39  20220719     0800      WSD  60  127       1.6\n",
              "40  20220719     1000      PTY  60  127         0\n",
              "41  20220719     1000      REH  60  127        64\n",
              "42  20220719     1000      RN1  60  127         0\n",
              "43  20220719     1000      T1H  60  127      29.4\n",
              "44  20220719     1000      UUU  60  127       2.9\n",
              "45  20220719     1000      VEC  60  127       278\n",
              "46  20220719     1000      VVV  60  127      -0.3\n",
              "47  20220719     1000      WSD  60  127       2.9"
            ],
            "text/html": [
              "\n",
              "  <div id=\"df-3c1b4ce1-e20d-48ad-875a-f47f5c66c651\">\n",
              "    <div class=\"colab-df-container\">\n",
              "      <div>\n",
              "<style scoped>\n",
              "    .dataframe tbody tr th:only-of-type {\n",
              "        vertical-align: middle;\n",
              "    }\n",
              "\n",
              "    .dataframe tbody tr th {\n",
              "        vertical-align: top;\n",
              "    }\n",
              "\n",
              "    .dataframe thead th {\n",
              "        text-align: right;\n",
              "    }\n",
              "</style>\n",
              "<table border=\"1\" class=\"dataframe\">\n",
              "  <thead>\n",
              "    <tr style=\"text-align: right;\">\n",
              "      <th></th>\n",
              "      <th>baseDate</th>\n",
              "      <th>baseTime</th>\n",
              "      <th>category</th>\n",
              "      <th>nx</th>\n",
              "      <th>ny</th>\n",
              "      <th>obsrValue</th>\n",
              "    </tr>\n",
              "  </thead>\n",
              "  <tbody>\n",
              "    <tr>\n",
              "      <th>0</th>\n",
              "      <td>20220719</td>\n",
              "      <td>0000</td>\n",
              "      <td>PTY</td>\n",
              "      <td>60</td>\n",
              "      <td>127</td>\n",
              "      <td>0</td>\n",
              "    </tr>\n",
              "    <tr>\n",
              "      <th>1</th>\n",
              "      <td>20220719</td>\n",
              "      <td>0000</td>\n",
              "      <td>REH</td>\n",
              "      <td>60</td>\n",
              "      <td>127</td>\n",
              "      <td>82</td>\n",
              "    </tr>\n",
              "    <tr>\n",
              "      <th>2</th>\n",
              "      <td>20220719</td>\n",
              "      <td>0000</td>\n",
              "      <td>RN1</td>\n",
              "      <td>60</td>\n",
              "      <td>127</td>\n",
              "      <td>0</td>\n",
              "    </tr>\n",
              "    <tr>\n",
              "      <th>3</th>\n",
              "      <td>20220719</td>\n",
              "      <td>0000</td>\n",
              "      <td>T1H</td>\n",
              "      <td>60</td>\n",
              "      <td>127</td>\n",
              "      <td>25.2</td>\n",
              "    </tr>\n",
              "    <tr>\n",
              "      <th>4</th>\n",
              "      <td>20220719</td>\n",
              "      <td>0000</td>\n",
              "      <td>UUU</td>\n",
              "      <td>60</td>\n",
              "      <td>127</td>\n",
              "      <td>-0.6</td>\n",
              "    </tr>\n",
              "    <tr>\n",
              "      <th>5</th>\n",
              "      <td>20220719</td>\n",
              "      <td>0000</td>\n",
              "      <td>VEC</td>\n",
              "      <td>60</td>\n",
              "      <td>127</td>\n",
              "      <td>55</td>\n",
              "    </tr>\n",
              "    <tr>\n",
              "      <th>6</th>\n",
              "      <td>20220719</td>\n",
              "      <td>0000</td>\n",
              "      <td>VVV</td>\n",
              "      <td>60</td>\n",
              "      <td>127</td>\n",
              "      <td>-0.4</td>\n",
              "    </tr>\n",
              "    <tr>\n",
              "      <th>7</th>\n",
              "      <td>20220719</td>\n",
              "      <td>0000</td>\n",
              "      <td>WSD</td>\n",
              "      <td>60</td>\n",
              "      <td>127</td>\n",
              "      <td>0.8</td>\n",
              "    </tr>\n",
              "    <tr>\n",
              "      <th>8</th>\n",
              "      <td>20220719</td>\n",
              "      <td>0200</td>\n",
              "      <td>PTY</td>\n",
              "      <td>60</td>\n",
              "      <td>127</td>\n",
              "      <td>0</td>\n",
              "    </tr>\n",
              "    <tr>\n",
              "      <th>9</th>\n",
              "      <td>20220719</td>\n",
              "      <td>0200</td>\n",
              "      <td>REH</td>\n",
              "      <td>60</td>\n",
              "      <td>127</td>\n",
              "      <td>83</td>\n",
              "    </tr>\n",
              "    <tr>\n",
              "      <th>10</th>\n",
              "      <td>20220719</td>\n",
              "      <td>0200</td>\n",
              "      <td>RN1</td>\n",
              "      <td>60</td>\n",
              "      <td>127</td>\n",
              "      <td>0</td>\n",
              "    </tr>\n",
              "    <tr>\n",
              "      <th>11</th>\n",
              "      <td>20220719</td>\n",
              "      <td>0200</td>\n",
              "      <td>T1H</td>\n",
              "      <td>60</td>\n",
              "      <td>127</td>\n",
              "      <td>24.9</td>\n",
              "    </tr>\n",
              "    <tr>\n",
              "      <th>12</th>\n",
              "      <td>20220719</td>\n",
              "      <td>0200</td>\n",
              "      <td>UUU</td>\n",
              "      <td>60</td>\n",
              "      <td>127</td>\n",
              "      <td>1.4</td>\n",
              "    </tr>\n",
              "    <tr>\n",
              "      <th>13</th>\n",
              "      <td>20220719</td>\n",
              "      <td>0200</td>\n",
              "      <td>VEC</td>\n",
              "      <td>60</td>\n",
              "      <td>127</td>\n",
              "      <td>288</td>\n",
              "    </tr>\n",
              "    <tr>\n",
              "      <th>14</th>\n",
              "      <td>20220719</td>\n",
              "      <td>0200</td>\n",
              "      <td>VVV</td>\n",
              "      <td>60</td>\n",
              "      <td>127</td>\n",
              "      <td>-0.4</td>\n",
              "    </tr>\n",
              "    <tr>\n",
              "      <th>15</th>\n",
              "      <td>20220719</td>\n",
              "      <td>0200</td>\n",
              "      <td>WSD</td>\n",
              "      <td>60</td>\n",
              "      <td>127</td>\n",
              "      <td>1.5</td>\n",
              "    </tr>\n",
              "    <tr>\n",
              "      <th>16</th>\n",
              "      <td>20220719</td>\n",
              "      <td>0400</td>\n",
              "      <td>PTY</td>\n",
              "      <td>60</td>\n",
              "      <td>127</td>\n",
              "      <td>0</td>\n",
              "    </tr>\n",
              "    <tr>\n",
              "      <th>17</th>\n",
              "      <td>20220719</td>\n",
              "      <td>0400</td>\n",
              "      <td>REH</td>\n",
              "      <td>60</td>\n",
              "      <td>127</td>\n",
              "      <td>85</td>\n",
              "    </tr>\n",
              "    <tr>\n",
              "      <th>18</th>\n",
              "      <td>20220719</td>\n",
              "      <td>0400</td>\n",
              "      <td>RN1</td>\n",
              "      <td>60</td>\n",
              "      <td>127</td>\n",
              "      <td>0</td>\n",
              "    </tr>\n",
              "    <tr>\n",
              "      <th>19</th>\n",
              "      <td>20220719</td>\n",
              "      <td>0400</td>\n",
              "      <td>T1H</td>\n",
              "      <td>60</td>\n",
              "      <td>127</td>\n",
              "      <td>24.4</td>\n",
              "    </tr>\n",
              "    <tr>\n",
              "      <th>20</th>\n",
              "      <td>20220719</td>\n",
              "      <td>0400</td>\n",
              "      <td>UUU</td>\n",
              "      <td>60</td>\n",
              "      <td>127</td>\n",
              "      <td>1.6</td>\n",
              "    </tr>\n",
              "    <tr>\n",
              "      <th>21</th>\n",
              "      <td>20220719</td>\n",
              "      <td>0400</td>\n",
              "      <td>VEC</td>\n",
              "      <td>60</td>\n",
              "      <td>127</td>\n",
              "      <td>269</td>\n",
              "    </tr>\n",
              "    <tr>\n",
              "      <th>22</th>\n",
              "      <td>20220719</td>\n",
              "      <td>0400</td>\n",
              "      <td>VVV</td>\n",
              "      <td>60</td>\n",
              "      <td>127</td>\n",
              "      <td>0</td>\n",
              "    </tr>\n",
              "    <tr>\n",
              "      <th>23</th>\n",
              "      <td>20220719</td>\n",
              "      <td>0400</td>\n",
              "      <td>WSD</td>\n",
              "      <td>60</td>\n",
              "      <td>127</td>\n",
              "      <td>1.6</td>\n",
              "    </tr>\n",
              "    <tr>\n",
              "      <th>24</th>\n",
              "      <td>20220719</td>\n",
              "      <td>0600</td>\n",
              "      <td>PTY</td>\n",
              "      <td>60</td>\n",
              "      <td>127</td>\n",
              "      <td>0</td>\n",
              "    </tr>\n",
              "    <tr>\n",
              "      <th>25</th>\n",
              "      <td>20220719</td>\n",
              "      <td>0600</td>\n",
              "      <td>REH</td>\n",
              "      <td>60</td>\n",
              "      <td>127</td>\n",
              "      <td>84</td>\n",
              "    </tr>\n",
              "    <tr>\n",
              "      <th>26</th>\n",
              "      <td>20220719</td>\n",
              "      <td>0600</td>\n",
              "      <td>RN1</td>\n",
              "      <td>60</td>\n",
              "      <td>127</td>\n",
              "      <td>0</td>\n",
              "    </tr>\n",
              "    <tr>\n",
              "      <th>27</th>\n",
              "      <td>20220719</td>\n",
              "      <td>0600</td>\n",
              "      <td>T1H</td>\n",
              "      <td>60</td>\n",
              "      <td>127</td>\n",
              "      <td>24.8</td>\n",
              "    </tr>\n",
              "    <tr>\n",
              "      <th>28</th>\n",
              "      <td>20220719</td>\n",
              "      <td>0600</td>\n",
              "      <td>UUU</td>\n",
              "      <td>60</td>\n",
              "      <td>127</td>\n",
              "      <td>1.1</td>\n",
              "    </tr>\n",
              "    <tr>\n",
              "      <th>29</th>\n",
              "      <td>20220719</td>\n",
              "      <td>0600</td>\n",
              "      <td>VEC</td>\n",
              "      <td>60</td>\n",
              "      <td>127</td>\n",
              "      <td>256</td>\n",
              "    </tr>\n",
              "    <tr>\n",
              "      <th>30</th>\n",
              "      <td>20220719</td>\n",
              "      <td>0600</td>\n",
              "      <td>VVV</td>\n",
              "      <td>60</td>\n",
              "      <td>127</td>\n",
              "      <td>0.3</td>\n",
              "    </tr>\n",
              "    <tr>\n",
              "      <th>31</th>\n",
              "      <td>20220719</td>\n",
              "      <td>0600</td>\n",
              "      <td>WSD</td>\n",
              "      <td>60</td>\n",
              "      <td>127</td>\n",
              "      <td>1.1</td>\n",
              "    </tr>\n",
              "    <tr>\n",
              "      <th>32</th>\n",
              "      <td>20220719</td>\n",
              "      <td>0800</td>\n",
              "      <td>PTY</td>\n",
              "      <td>60</td>\n",
              "      <td>127</td>\n",
              "      <td>0</td>\n",
              "    </tr>\n",
              "    <tr>\n",
              "      <th>33</th>\n",
              "      <td>20220719</td>\n",
              "      <td>0800</td>\n",
              "      <td>REH</td>\n",
              "      <td>60</td>\n",
              "      <td>127</td>\n",
              "      <td>77</td>\n",
              "    </tr>\n",
              "    <tr>\n",
              "      <th>34</th>\n",
              "      <td>20220719</td>\n",
              "      <td>0800</td>\n",
              "      <td>RN1</td>\n",
              "      <td>60</td>\n",
              "      <td>127</td>\n",
              "      <td>0</td>\n",
              "    </tr>\n",
              "    <tr>\n",
              "      <th>35</th>\n",
              "      <td>20220719</td>\n",
              "      <td>0800</td>\n",
              "      <td>T1H</td>\n",
              "      <td>60</td>\n",
              "      <td>127</td>\n",
              "      <td>27.6</td>\n",
              "    </tr>\n",
              "    <tr>\n",
              "      <th>36</th>\n",
              "      <td>20220719</td>\n",
              "      <td>0800</td>\n",
              "      <td>UUU</td>\n",
              "      <td>60</td>\n",
              "      <td>127</td>\n",
              "      <td>1.6</td>\n",
              "    </tr>\n",
              "    <tr>\n",
              "      <th>37</th>\n",
              "      <td>20220719</td>\n",
              "      <td>0800</td>\n",
              "      <td>VEC</td>\n",
              "      <td>60</td>\n",
              "      <td>127</td>\n",
              "      <td>265</td>\n",
              "    </tr>\n",
              "    <tr>\n",
              "      <th>38</th>\n",
              "      <td>20220719</td>\n",
              "      <td>0800</td>\n",
              "      <td>VVV</td>\n",
              "      <td>60</td>\n",
              "      <td>127</td>\n",
              "      <td>0.1</td>\n",
              "    </tr>\n",
              "    <tr>\n",
              "      <th>39</th>\n",
              "      <td>20220719</td>\n",
              "      <td>0800</td>\n",
              "      <td>WSD</td>\n",
              "      <td>60</td>\n",
              "      <td>127</td>\n",
              "      <td>1.6</td>\n",
              "    </tr>\n",
              "    <tr>\n",
              "      <th>40</th>\n",
              "      <td>20220719</td>\n",
              "      <td>1000</td>\n",
              "      <td>PTY</td>\n",
              "      <td>60</td>\n",
              "      <td>127</td>\n",
              "      <td>0</td>\n",
              "    </tr>\n",
              "    <tr>\n",
              "      <th>41</th>\n",
              "      <td>20220719</td>\n",
              "      <td>1000</td>\n",
              "      <td>REH</td>\n",
              "      <td>60</td>\n",
              "      <td>127</td>\n",
              "      <td>64</td>\n",
              "    </tr>\n",
              "    <tr>\n",
              "      <th>42</th>\n",
              "      <td>20220719</td>\n",
              "      <td>1000</td>\n",
              "      <td>RN1</td>\n",
              "      <td>60</td>\n",
              "      <td>127</td>\n",
              "      <td>0</td>\n",
              "    </tr>\n",
              "    <tr>\n",
              "      <th>43</th>\n",
              "      <td>20220719</td>\n",
              "      <td>1000</td>\n",
              "      <td>T1H</td>\n",
              "      <td>60</td>\n",
              "      <td>127</td>\n",
              "      <td>29.4</td>\n",
              "    </tr>\n",
              "    <tr>\n",
              "      <th>44</th>\n",
              "      <td>20220719</td>\n",
              "      <td>1000</td>\n",
              "      <td>UUU</td>\n",
              "      <td>60</td>\n",
              "      <td>127</td>\n",
              "      <td>2.9</td>\n",
              "    </tr>\n",
              "    <tr>\n",
              "      <th>45</th>\n",
              "      <td>20220719</td>\n",
              "      <td>1000</td>\n",
              "      <td>VEC</td>\n",
              "      <td>60</td>\n",
              "      <td>127</td>\n",
              "      <td>278</td>\n",
              "    </tr>\n",
              "    <tr>\n",
              "      <th>46</th>\n",
              "      <td>20220719</td>\n",
              "      <td>1000</td>\n",
              "      <td>VVV</td>\n",
              "      <td>60</td>\n",
              "      <td>127</td>\n",
              "      <td>-0.3</td>\n",
              "    </tr>\n",
              "    <tr>\n",
              "      <th>47</th>\n",
              "      <td>20220719</td>\n",
              "      <td>1000</td>\n",
              "      <td>WSD</td>\n",
              "      <td>60</td>\n",
              "      <td>127</td>\n",
              "      <td>2.9</td>\n",
              "    </tr>\n",
              "  </tbody>\n",
              "</table>\n",
              "</div>\n",
              "      <button class=\"colab-df-convert\" onclick=\"convertToInteractive('df-3c1b4ce1-e20d-48ad-875a-f47f5c66c651')\"\n",
              "              title=\"Convert this dataframe to an interactive table.\"\n",
              "              style=\"display:none;\">\n",
              "        \n",
              "  <svg xmlns=\"http://www.w3.org/2000/svg\" height=\"24px\"viewBox=\"0 0 24 24\"\n",
              "       width=\"24px\">\n",
              "    <path d=\"M0 0h24v24H0V0z\" fill=\"none\"/>\n",
              "    <path d=\"M18.56 5.44l.94 2.06.94-2.06 2.06-.94-2.06-.94-.94-2.06-.94 2.06-2.06.94zm-11 1L8.5 8.5l.94-2.06 2.06-.94-2.06-.94L8.5 2.5l-.94 2.06-2.06.94zm10 10l.94 2.06.94-2.06 2.06-.94-2.06-.94-.94-2.06-.94 2.06-2.06.94z\"/><path d=\"M17.41 7.96l-1.37-1.37c-.4-.4-.92-.59-1.43-.59-.52 0-1.04.2-1.43.59L10.3 9.45l-7.72 7.72c-.78.78-.78 2.05 0 2.83L4 21.41c.39.39.9.59 1.41.59.51 0 1.02-.2 1.41-.59l7.78-7.78 2.81-2.81c.8-.78.8-2.07 0-2.86zM5.41 20L4 18.59l7.72-7.72 1.47 1.35L5.41 20z\"/>\n",
              "  </svg>\n",
              "      </button>\n",
              "      \n",
              "  <style>\n",
              "    .colab-df-container {\n",
              "      display:flex;\n",
              "      flex-wrap:wrap;\n",
              "      gap: 12px;\n",
              "    }\n",
              "\n",
              "    .colab-df-convert {\n",
              "      background-color: #E8F0FE;\n",
              "      border: none;\n",
              "      border-radius: 50%;\n",
              "      cursor: pointer;\n",
              "      display: none;\n",
              "      fill: #1967D2;\n",
              "      height: 32px;\n",
              "      padding: 0 0 0 0;\n",
              "      width: 32px;\n",
              "    }\n",
              "\n",
              "    .colab-df-convert:hover {\n",
              "      background-color: #E2EBFA;\n",
              "      box-shadow: 0px 1px 2px rgba(60, 64, 67, 0.3), 0px 1px 3px 1px rgba(60, 64, 67, 0.15);\n",
              "      fill: #174EA6;\n",
              "    }\n",
              "\n",
              "    [theme=dark] .colab-df-convert {\n",
              "      background-color: #3B4455;\n",
              "      fill: #D2E3FC;\n",
              "    }\n",
              "\n",
              "    [theme=dark] .colab-df-convert:hover {\n",
              "      background-color: #434B5C;\n",
              "      box-shadow: 0px 1px 3px 1px rgba(0, 0, 0, 0.15);\n",
              "      filter: drop-shadow(0px 1px 2px rgba(0, 0, 0, 0.3));\n",
              "      fill: #FFFFFF;\n",
              "    }\n",
              "  </style>\n",
              "\n",
              "      <script>\n",
              "        const buttonEl =\n",
              "          document.querySelector('#df-3c1b4ce1-e20d-48ad-875a-f47f5c66c651 button.colab-df-convert');\n",
              "        buttonEl.style.display =\n",
              "          google.colab.kernel.accessAllowed ? 'block' : 'none';\n",
              "\n",
              "        async function convertToInteractive(key) {\n",
              "          const element = document.querySelector('#df-3c1b4ce1-e20d-48ad-875a-f47f5c66c651');\n",
              "          const dataTable =\n",
              "            await google.colab.kernel.invokeFunction('convertToInteractive',\n",
              "                                                     [key], {});\n",
              "          if (!dataTable) return;\n",
              "\n",
              "          const docLinkHtml = 'Like what you see? Visit the ' +\n",
              "            '<a target=\"_blank\" href=https://colab.research.google.com/notebooks/data_table.ipynb>data table notebook</a>'\n",
              "            + ' to learn more about interactive tables.';\n",
              "          element.innerHTML = '';\n",
              "          dataTable['output_type'] = 'display_data';\n",
              "          await google.colab.output.renderOutput(dataTable, element);\n",
              "          const docLink = document.createElement('div');\n",
              "          docLink.innerHTML = docLinkHtml;\n",
              "          element.appendChild(docLink);\n",
              "        }\n",
              "      </script>\n",
              "    </div>\n",
              "  </div>\n",
              "  "
            ]
          },
          "metadata": {},
          "execution_count": 17
        }
      ]
    },
    {
      "cell_type": "markdown",
      "source": [
        "## 기상청 지상(종관,ASOS) 일자료 조회서비스"
      ],
      "metadata": {
        "id": "zrAnm_mV2VdF"
      }
    },
    {
      "cell_type": "markdown",
      "source": [
        "#### URL 정보와 매개변수"
      ],
      "metadata": {
        "id": "wOROQboT2g0U"
      }
    },
    {
      "cell_type": "code",
      "source": [
        "url='http://apis.data.go.kr/1360000/AsosDalyInfoService/getWthrDataList'\n",
        "\n",
        "service_key='m9WQLzXhO4cNd5rhrm3XZgGm0i7my0MtUZb1DXGfo77OSmGUE9iuNmJMOVakM080eC4opIn1MU6shML3dQL0zQ=='\n",
        "\n",
        "payload={'serviceKey':service_key,'numOfRows':'999',\n",
        "         'pageNo':'1','dataType':'JSON',\n",
        "         'dataCd':'ASOS','dateCd':'DAY',\n",
        "         'startDt':'20220101','endDt':'20220701',\n",
        "         'stnIds':'108'}\n",
        "\n",
        "reqs=requests.get(url,params=payload)\n",
        "\n",
        "load_json=json.loads(reqs.text)\n",
        "print(load_json)"
      ],
      "metadata": {
        "colab": {
          "base_uri": "https://localhost:8080/"
        },
        "id": "qp2o2nr8gU3B",
        "outputId": "9765cdad-11a9-4f5b-aeca-9f739e20530e"
      },
      "execution_count": null,
      "outputs": [
        {
          "output_type": "stream",
          "name": "stdout",
          "text": [
            "{'response': {'header': {'resultCode': '00', 'resultMsg': 'NORMAL_SERVICE'}, 'body': {'dataType': 'JSON', 'items': {'item': [{'stnId': '108', 'stnNm': '서울', 'tm': '2022-01-01', 'avgTa': '-4.3', 'minTa': '-10.2', 'minTaHrmt': '0710', 'maxTa': '2.3', 'maxTaHrmt': '1544', 'mi10MaxRn': '', 'mi10MaxRnHrmt': '', 'hr1MaxRn': '', 'hr1MaxRnHrmt': '', 'sumRnDur': '', 'sumRn': '', 'maxInsWs': '4.5', 'maxInsWsWd': '70', 'maxInsWsHrmt': '0923', 'maxWs': '2.8', 'maxWsWd': '20', 'maxWsHrmt': '0819', 'avgWs': '1.5', 'hr24SumRws': '1335', 'maxWd': '50', 'avgTd': '-14.4', 'minRhm': '31', 'minRhmHrmt': '1329', 'avgRhm': '46.3', 'avgPv': '2.1', 'avgPa': '1019.8', 'maxPs': '1034.0', 'maxPsHrmt': '0247', 'minPs': '1027.3', 'minPsHrmt': '2351', 'avgPs': '1030.9', 'ssDur': '9.6', 'sumSsHr': '9.0', 'hr1MaxIcsrHrmt': '1200', 'hr1MaxIcsr': '1.82', 'sumGsr': '10.39', 'ddMefs': '', 'ddMefsHrmt': '', 'ddMes': '', 'ddMesHrmt': '', 'sumDpthFhsc': '', 'avgTca': '1.4', 'avgLmac': '1.4', 'avgTs': '-3.7', 'minTg': '-15.4', 'avgCm5Te': '-0.9', 'avgCm10Te': '-1.0', 'avgCm20Te': '-0.3', 'avgCm30Te': '0.9', 'avgM05Te': '2.7', 'avgM10Te': '6.6', 'avgM15Te': '10.1', 'avgM30Te': '15.1', 'avgM50Te': '17.2', 'sumLrgEv': '1.3', 'sumSmlEv': '1.8', 'n99Rn': '0.3', 'iscs': '', 'sumFogDur': ''}, {'stnId': '108', 'stnNm': '서울', 'tm': '2022-01-02', 'avgTa': '-1.3', 'minTa': '-5.2', 'minTaHrmt': '2356', 'maxTa': '3.0', 'maxTaHrmt': '1551', 'mi10MaxRn': '', 'mi10MaxRnHrmt': '', 'hr1MaxRn': '', 'hr1MaxRnHrmt': '', 'sumRnDur': '4.17', 'sumRn': '0.3', 'maxInsWs': '8.1', 'maxInsWsWd': '290', 'maxInsWsHrmt': '1345', 'maxWs': '4.6', 'maxWsWd': '290', 'maxWsHrmt': '1349', 'avgWs': '2.3', 'hr24SumRws': '1996', 'maxWd': '50', 'avgTd': '-8.8', 'minRhm': '39', 'minRhmHrmt': '1754', 'avgRhm': '57.9', 'avgPv': '3.3', 'avgPa': '1015.7', 'maxPs': '1028.4', 'maxPsHrmt': '2222', 'minPs': '1024.4', 'minPsHrmt': '0502', 'avgPs': '1026.7', 'ssDur': '9.6', 'sumSsHr': '5.4', 'hr1MaxIcsrHrmt': '1200', 'hr1MaxIcsr': '1.71', 'sumGsr': '8.52', 'ddMefs': '0.5', 'ddMefsHrmt': '0655', 'ddMes': '0.5', 'ddMesHrmt': '0655', 'sumDpthFhsc': '0.5', 'avgTca': '4.1', 'avgLmac': '4.0', 'avgTs': '-0.9', 'minTg': '-10.7', 'avgCm5Te': '-0.1', 'avgCm10Te': '-0.5', 'avgCm20Te': '-0.3', 'avgCm30Te': '0.8', 'avgM05Te': '2.7', 'avgM10Te': '6.4', 'avgM15Te': '10.0', 'avgM30Te': '15.0', 'avgM50Te': '17.2', 'sumLrgEv': '1.1', 'sumSmlEv': '1.6', 'n99Rn': '', 'iscs': '{눈}0305-{눈}{강도0}0600-0715.  {박무}0610-0705. {박무}1055-{박무}{강도0}1200-1205.  {연무}0550-{연무}{강도0}0600-0615. ', 'sumFogDur': ''}, {'stnId': '108', 'stnNm': '서울', 'tm': '2022-01-03', 'avgTa': '-1.9', 'minTa': '-8.0', 'minTaHrmt': '0714', 'maxTa': '2.5', 'maxTaHrmt': '1542', 'mi10MaxRn': '', 'mi10MaxRnHrmt': '', 'hr1MaxRn': '', 'hr1MaxRnHrmt': '', 'sumRnDur': '4.0', 'sumRn': '0.0', 'maxInsWs': '6.9', 'maxInsWsWd': '270', 'maxInsWsHrmt': '1319', 'maxWs': '4.1', 'maxWsWd': '250', 'maxWsHrmt': '1322', 'avgWs': '1.8', 'hr24SumRws': '1555', 'maxWd': '270', 'avgTd': '-9.3', 'minRhm': '35', 'minRhmHrmt': '1152', 'avgRhm': '58.3', 'avgPv': '3.2', 'avgPa': '1015.3', 'maxPs': '1028.5', 'maxPsHrmt': '0913', 'minPs': '1024.2', 'minPsHrmt': '2230', 'avgPs': '1026.2', 'ssDur': '9.7', 'sumSsHr': '7.8', 'hr1MaxIcsrHrmt': '1200', 'hr1MaxIcsr': '1.75', 'sumGsr': '9.35', 'ddMefs': '', 'ddMefsHrmt': '', 'ddMes': '', 'ddMesHrmt': '', 'sumDpthFhsc': '', 'avgTca': '4.9', 'avgLmac': '3.6', 'avgTs': '-2.3', 'minTg': '-14.4', 'avgCm5Te': '-0.5', 'avgCm10Te': '-0.8', 'avgCm20Te': '-0.3', 'avgCm30Te': '0.8', 'avgM05Te': '2.5', 'avgM10Te': '6.2', 'avgM15Te': '9.8', 'avgM30Te': '14.9', 'avgM50Te': '17.2', 'sumLrgEv': '1.1', 'sumSmlEv': '1.6', 'n99Rn': '0.0', 'iscs': '{눈}1815-2055. {눈}2240-{눈}{강도0}2400-', 'sumFogDur': ''}, {'stnId': '108', 'stnNm': '서울', 'tm': '2022-01-04', 'avgTa': '-2.5', 'minTa': '-5.6', 'minTaHrmt': '2400', 'maxTa': '1.0', 'maxTaHrmt': '1445', 'mi10MaxRn': '', 'mi10MaxRnHrmt': '', 'hr1MaxRn': '', 'hr1MaxRnHrmt': '', 'sumRnDur': '0.92', 'sumRn': '0.0', 'maxInsWs': '6.8', 'maxInsWsWd': '270', 'maxInsWsHrmt': '1444', 'maxWs': '4.2', 'maxWsWd': '250', 'maxWsHrmt': '1507', 'avgWs': '2.4', 'hr24SumRws': '2048', 'maxWd': '290', 'avgTd': '-11.8', 'minRhm': '28', 'minRhmHrmt': '1606', 'avgRhm': '51.8', 'avgPv': '2.6', 'avgPa': '1017.3', 'maxPs': '1029.8', 'maxPsHrmt': '2335', 'minPs': '1024.5', 'minPsHrmt': '0002', 'avgPs': '1028.3', 'ssDur': '9.7', 'sumSsHr': '9.0', 'hr1MaxIcsrHrmt': '1200', 'hr1MaxIcsr': '1.94', 'sumGsr': '11.3', 'ddMefs': '', 'ddMefsHrmt': '', 'ddMes': '', 'ddMesHrmt': '', 'sumDpthFhsc': '', 'avgTca': '0.0', 'avgLmac': '0.0', 'avgTs': '-1.8', 'minTg': '-13.1', 'avgCm5Te': '-0.1', 'avgCm10Te': '-0.5', 'avgCm20Te': '-0.3', 'avgCm30Te': '0.7', 'avgM05Te': '2.5', 'avgM10Te': '6.1', 'avgM15Te': '9.7', 'avgM30Te': '14.8', 'avgM50Te': '17.1', 'sumLrgEv': '1.4', 'sumSmlEv': '2.0', 'n99Rn': '', 'iscs': '-{눈}-0055. ', 'sumFogDur': ''}, {'stnId': '108', 'stnNm': '서울', 'tm': '2022-01-05', 'avgTa': '-2.8', 'minTa': '-7.8', 'minTaHrmt': '0634', 'maxTa': '1.9', 'maxTaHrmt': '1518', 'mi10MaxRn': '', 'mi10MaxRnHrmt': '', 'hr1MaxRn': '', 'hr1MaxRnHrmt': '', 'sumRnDur': '', 'sumRn': '', 'maxInsWs': '4.2', 'maxInsWsWd': '50', 'maxInsWsHrmt': '0843', 'maxWs': '2.9', 'maxWsWd': '50', 'maxWsHrmt': '1314', 'avgWs': '1.7', 'hr24SumRws': '1510', 'maxWd': '50', 'avgTd': '-12.5', 'minRhm': '34', 'minRhmHrmt': '1402', 'avgRhm': '47.6', 'avgPv': '2.4', 'avgPa': '1016.9', 'maxPs': '1029.7', 'maxPsHrmt': '0001', 'minPs': '1025.9', 'minPsHrmt': '1539', 'avgPs': '1028.0', 'ssDur': '9.7', 'sumSsHr': '1.9', 'hr1MaxIcsrHrmt': '1100', 'hr1MaxIcsr': '1.03', 'sumGsr': '6.12', 'ddMefs': '', 'ddMefsHrmt': '', 'ddMes': '', 'ddMesHrmt': '', 'sumDpthFhsc': '', 'avgTca': '7.3', 'avgLmac': '1.0', 'avgTs': '-2.8', 'minTg': '-14.1', 'avgCm5Te': '-0.5', 'avgCm10Te': '-0.8', 'avgCm20Te': '-0.4', 'avgCm30Te': '0.7', 'avgM05Te': '2.4', 'avgM10Te': '5.9', 'avgM15Te': '9.5', 'avgM30Te': '14.7', 'avgM50Te': '17.1', 'sumLrgEv': '1.0', 'sumSmlEv': '1.4', 'n99Rn': '', 'iscs': '{햇무리}0945-1535. ', 'sumFogDur': ''}, {'stnId': '108', 'stnNm': '서울', 'tm': '2022-01-06', 'avgTa': '-2.2', 'minTa': '-5.9', 'minTaHrmt': '0745', 'maxTa': '3.3', 'maxTaHrmt': '1604', 'mi10MaxRn': '', 'mi10MaxRnHrmt': '', 'hr1MaxRn': '', 'hr1MaxRnHrmt': '', 'sumRnDur': '', 'sumRn': '', 'maxInsWs': '7.8', 'maxInsWsWd': '290', 'maxInsWsHrmt': '1417', 'maxWs': '4.6', 'maxWsWd': '290', 'maxWsHrmt': '1419', 'avgWs': '2.3', 'hr24SumRws': '2000', 'maxWd': '270', 'avgTd': '-12.3', 'minRhm': '29', 'minRhmHrmt': '1414', 'avgRhm': '47.1', 'avgPv': '2.4', 'avgPa': '1018.0', 'maxPs': '1030.8', 'maxPsHrmt': '2309', 'minPs': '1026.7', 'minPsHrmt': '0155', 'avgPs': '1029.0', 'ssDur': '9.7', 'sumSsHr': '9.1', 'hr1MaxIcsrHrmt': '1200', 'hr1MaxIcsr': '1.95', 'sumGsr': '11.22', 'ddMefs': '', 'ddMefsHrmt': '', 'ddMes': '', 'ddMesHrmt': '', 'sumDpthFhsc': '', 'avgTca': '0.0', 'avgLmac': '0.0', 'avgTs': '-2.3', 'minTg': '-11.4', 'avgCm5Te': '-0.4', 'avgCm10Te': '-0.7', 'avgCm20Te': '-0.4', 'avgCm30Te': '0.6', 'avgM05Te': '2.3', 'avgM10Te': '5.8', 'avgM15Te': '9.4', 'avgM30Te': '14.7', 'avgM50Te': '17.1', 'sumLrgEv': '1.5', 'sumSmlEv': '2.1', 'n99Rn': '', 'iscs': '', 'sumFogDur': ''}, {'stnId': '108', 'stnNm': '서울', 'tm': '2022-01-07', 'avgTa': '-1.6', 'minTa': '-5.9', 'minTaHrmt': '0634', 'maxTa': '4.5', 'maxTaHrmt': '1525', 'mi10MaxRn': '', 'mi10MaxRnHrmt': '', 'hr1MaxRn': '', 'hr1MaxRnHrmt': '', 'sumRnDur': '', 'sumRn': '', 'maxInsWs': '5.2', 'maxInsWsWd': '270', 'maxInsWsHrmt': '1402', 'maxWs': '3.0', 'maxWsWd': '250', 'maxWsHrmt': '1608', 'avgWs': '1.5', 'hr24SumRws': '1317', 'maxWd': '250', 'avgTd': '-12.0', 'minRhm': '21', 'minRhmHrmt': '1528', 'avgRhm': '47.1', 'avgPv': '2.5', 'avgPa': '1018.8', 'maxPs': '1032.0', 'maxPsHrmt': '0855', 'minPs': '1028.2', 'minPsHrmt': '1534', 'avgPs': '1029.8', 'ssDur': '9.7', 'sumSsHr': '9.1', 'hr1MaxIcsrHrmt': '1200', 'hr1MaxIcsr': '1.92', 'sumGsr': '11.12', 'ddMefs': '', 'ddMefsHrmt': '', 'ddMes': '', 'ddMesHrmt': '', 'sumDpthFhsc': '', 'avgTca': '0.0', 'avgLmac': '0.0', 'avgTs': '-2.3', 'minTg': '-13.8', 'avgCm5Te': '-0.6', 'avgCm10Te': '-0.9', 'avgCm20Te': '-0.5', 'avgCm30Te': '0.5', 'avgM05Te': '2.2', 'avgM10Te': '5.7', 'avgM15Te': '9.2', 'avgM30Te': '14.6', 'avgM50Te': '17.0', 'sumLrgEv': '1.6', 'sumSmlEv': '2.2', 'n99Rn': '', 'iscs': '', 'sumFogDur': ''}, {'stnId': '108', 'stnNm': '서울', 'tm': '2022-01-08', 'avgTa': '0.3', 'minTa': '-5.0', 'minTaHrmt': '0729', 'maxTa': '3.7', 'maxTaHrmt': '1623', 'mi10MaxRn': '', 'mi10MaxRnHrmt': '', 'hr1MaxRn': '', 'hr1MaxRnHrmt': '', 'sumRnDur': '0.17', 'sumRn': '0.0', 'maxInsWs': '5.4', 'maxInsWsWd': '180', 'maxInsWsHrmt': '1534', 'maxWs': '3.5', 'maxWsWd': '200', 'maxWsHrmt': '1632', 'avgWs': '1.7', 'hr24SumRws': '1456', 'maxWd': '250', 'avgTd': '-5.7', 'minRhm': '49', 'minRhmHrmt': '1221', 'avgRhm': '64.3', 'avgPv': '4.2', 'avgPa': '1013.5', 'maxPs': '1028.2', 'maxPsHrmt': '0001', 'minPs': '1021.5', 'minPsHrmt': '2343', 'avgPs': '1024.4', 'ssDur': '9.7', 'sumSsHr': '0.7', 'hr1MaxIcsrHrmt': '1100', 'hr1MaxIcsr': '0.8', 'sumGsr': '3.68', 'ddMefs': '', 'ddMefsHrmt': '', 'ddMes': '', 'ddMesHrmt': '', 'sumDpthFhsc': '', 'avgTca': '5.9', 'avgLmac': '5.9', 'avgTs': '-2.1', 'minTg': '-12.0', 'avgCm5Te': '-0.4', 'avgCm10Te': '-0.8', 'avgCm20Te': '-0.5', 'avgCm30Te': '0.5', 'avgM05Te': '2.1', 'avgM10Te': '5.6', 'avgM15Te': '9.1', 'avgM30Te': '14.5', 'avgM50Te': '17.0', 'sumLrgEv': '0.7', 'sumSmlEv': '0.9', 'n99Rn': '0.0', 'iscs': '{눈}1435-1445.  {연무}1745-{연무}{강도0}1800-{연무}{강도0}2100-{연무}{강도1}2400-', 'sumFogDur': ''}, {'stnId': '108', 'stnNm': '서울', 'tm': '2022-01-09', 'avgTa': '1.3', 'minTa': '-1.2', 'minTaHrmt': '2353', 'maxTa': '5.6', 'maxTaHrmt': '1522', 'mi10MaxRn': '', 'mi10MaxRnHrmt': '', 'hr1MaxRn': '', 'hr1MaxRnHrmt': '', 'sumRnDur': '', 'sumRn': '', 'maxInsWs': '4.6', 'maxInsWsWd': '290', 'maxInsWsHrmt': '0507', 'maxWs': '2.8', 'maxWsWd': '270', 'maxWsHrmt': '0507', 'avgWs': '1.7', 'hr24SumRws': '1441', 'maxWd': '270', 'avgTd': '-3.5', 'minRhm': '46', 'minRhmHrmt': '1606', 'avgRhm': '71.5', 'avgPv': '4.8', 'avgPa': '1011.7', 'maxPs': '1023.5', 'maxPsHrmt': '1028', 'minPs': '1021.1', 'minPsHrmt': '0107', 'avgPs': '1022.5', 'ssDur': '9.7', 'sumSsHr': '4.5', 'hr1MaxIcsrHrmt': '1300', 'hr1MaxIcsr': '1.56', 'sumGsr': '7.16', 'ddMefs': '', 'ddMefsHrmt': '', 'ddMes': '', 'ddMesHrmt': '', 'sumDpthFhsc': '', 'avgTca': '3.1', 'avgLmac': '2.5', 'avgTs': '0.5', 'minTg': '-8.6', 'avgCm5Te': '0.2', 'avgCm10Te': '-0.3', 'avgCm20Te': '-0.4', 'avgCm30Te': '0.5', 'avgM05Te': '2.1', 'avgM10Te': '5.5', 'avgM15Te': '9.0', 'avgM30Te': '14.4', 'avgM50Te': '17.0', 'sumLrgEv': '0.9', 'sumSmlEv': '1.3', 'n99Rn': '', 'iscs': '{박무}0025-{박무}{강도1}0300-{박무}{강도1}0600-{박무}{강도1}0900-{박무}{강도1}1200-1235.  -{연무}-0030. {연무}1230-{연무}{강도0}1500-{연무}{강도0}1800-{연무}{강도0}2100-{연무}{강도0}2400-', 'sumFogDur': ''}, {'stnId': '108', 'stnNm': '서울', 'tm': '2022-01-10', 'avgTa': '0.5', 'minTa': '-3.4', 'minTaHrmt': '0735', 'maxTa': '4.4', 'maxTaHrmt': '1348', 'mi10MaxRn': '', 'mi10MaxRnHrmt': '', 'hr1MaxRn': '', 'hr1MaxRnHrmt': '', 'sumRnDur': '3.83', 'sumRn': '0.9', 'maxInsWs': '7.6', 'maxInsWsWd': '250', 'maxInsWsHrmt': '2359', 'maxWs': '3.4', 'maxWsWd': '250', 'maxWsHrmt': '1433', 'avgWs': '2.0', 'hr24SumRws': '1705', 'maxWd': '270', 'avgTd': '-5.1', 'minRhm': '37', 'minRhmHrmt': '1527', 'avgRhm': '68.3', 'avgPv': '4.2', 'avgPa': '1009.7', 'maxPs': '1023.5', 'maxPsHrmt': '0319', 'minPs': '1017.0', 'minPsHrmt': '2349', 'avgPs': '1020.5', 'ssDur': '9.8', 'sumSsHr': '3.9', 'hr1MaxIcsrHrmt': '1100', 'hr1MaxIcsr': '1.52', 'sumGsr': '7.25', 'ddMefs': '0.9', 'ddMefsHrmt': '2355', 'ddMes': '0.9', 'ddMesHrmt': '2355', 'sumDpthFhsc': '0.9', 'avgTca': '7.0', 'avgLmac': '3.3', 'avgTs': '-0.9', 'minTg': '-9.5', 'avgCm5Te': '0.0', 'avgCm10Te': '-0.4', 'avgCm20Te': '-0.3', 'avgCm30Te': '0.5', 'avgM05Te': '2.1', 'avgM10Te': '5.4', 'avgM15Te': '8.8', 'avgM30Te': '14.3', 'avgM50Te': '16.9', 'sumLrgEv': '1.1', 'sumSmlEv': '1.6', 'n99Rn': '1.1', 'iscs': '{눈}1855-2010. {눈}2125-{눈}{강도0}2400- {박무}0440-{박무}{강도0}0600-{박무}{강도0}0900-1055. {박무}2220-{박무}{강도1}2400- -{연무}-{연무}{강도0}0300-0445. {연무}1050-{연무}{강도0}1200-1405. {연무}1650-{연무}{강도0}1800-1840. ', 'sumFogDur': ''}, {'stnId': '108', 'stnNm': '서울', 'tm': '2022-01-11', 'avgTa': '-7.4', 'minTa': '-10.3', 'minTaHrmt': '2326', 'maxTa': '0.3', 'maxTaHrmt': '0001', 'mi10MaxRn': '', 'mi10MaxRnHrmt': '', 'hr1MaxRn': '', 'hr1MaxRnHrmt': '', 'sumRnDur': '1.5', 'sumRn': '0.2', 'maxInsWs': '12.4', 'maxInsWsWd': '320', 'maxInsWsHrmt': '0128', 'maxWs': '7.2', 'maxWsWd': '290', 'maxWsHrmt': '0129', 'avgWs': '4.0', 'hr24SumRws': '3442', 'maxWd': '270', 'avgTd': '-14.9', 'minRhm': '39', 'minRhmHrmt': '1538', 'avgRhm': '55.5', 'avgPv': '2.0', 'avgPa': '1010.1', 'maxPs': '1025.3', 'maxPsHrmt': '2315', 'minPs': '1017.0', 'minPsHrmt': '0001', 'avgPs': '1021.2', 'ssDur': '9.8', 'sumSsHr': '9.1', 'hr1MaxIcsrHrmt': '1200', 'hr1MaxIcsr': '2.04', 'sumGsr': '11.91', 'ddMefs': '0.1', 'ddMefsHrmt': '0100', 'ddMes': '1.0', 'ddMesHrmt': '0100', 'sumDpthFhsc': '0.1', 'avgTca': '0.4', 'avgLmac': '0.4', 'avgTs': '-2.3', 'minTg': '-13.3', 'avgCm5Te': '-0.1', 'avgCm10Te': '-0.5', 'avgCm20Te': '-0.3', 'avgCm30Te': '0.5', 'avgM05Te': '2.0', 'avgM10Te': '5.3', 'avgM15Te': '8.7', 'avgM30Te': '14.2', 'avgM50Te': '16.9', 'sumLrgEv': '1.1', 'sumSmlEv': '1.5', 'n99Rn': '', 'iscs': '-{눈}-0130.  -{박무}-0120. ', 'sumFogDur': ''}, {'stnId': '108', 'stnNm': '서울', 'tm': '2022-01-12', 'avgTa': '-7.7', 'minTa': '-11.3', 'minTaHrmt': '0223', 'maxTa': '-3.4', 'maxTaHrmt': '1521', 'mi10MaxRn': '', 'mi10MaxRnHrmt': '', 'hr1MaxRn': '', 'hr1MaxRnHrmt': '', 'sumRnDur': '', 'sumRn': '', 'maxInsWs': '7.1', 'maxInsWsWd': '290', 'maxInsWsHrmt': '1630', 'maxWs': '4.2', 'maxWsWd': '290', 'maxWsHrmt': '1019', 'avgWs': '2.4', 'hr24SumRws': '2089', 'maxWd': '270', 'avgTd': '-17.0', 'minRhm': '34', 'minRhmHrmt': '1528', 'avgRhm': '47.8', 'avgPv': '1.6', 'avgPa': '1012.0', 'maxPs': '1025.0', 'maxPsHrmt': '0001', 'minPs': '1021.4', 'minPsHrmt': '2358', 'avgPs': '1023.1', 'ssDur': '9.8', 'sumSsHr': '8.6', 'hr1MaxIcsrHrmt': '1200', 'hr1MaxIcsr': '2.04', 'sumGsr': '11.93', 'ddMefs': '', 'ddMefsHrmt': '', 'ddMes': '0.2', 'ddMesHrmt': '0001', 'sumDpthFhsc': '', 'avgTca': '2.8', 'avgLmac': '0.0', 'avgTs': '-4.1', 'minTg': '-15.3', 'avgCm5Te': '-1.1', 'avgCm10Te': '-1.2', 'avgCm20Te': '-0.5', 'avgCm30Te': '0.5', 'avgM05Te': '1.9', 'avgM10Te': '5.2', 'avgM15Te': '8.6', 'avgM30Te': '14.1', 'avgM50Te': '16.9', 'sumLrgEv': '1.2', 'sumSmlEv': '1.8', 'n99Rn': '', 'iscs': '', 'sumFogDur': ''}, {'stnId': '108', 'stnNm': '서울', 'tm': '2022-01-13', 'avgTa': '-6.4', 'minTa': '-8.9', 'minTaHrmt': '2352', 'maxTa': '-3.1', 'maxTaHrmt': '1456', 'mi10MaxRn': '', 'mi10MaxRnHrmt': '', 'hr1MaxRn': '', 'hr1MaxRnHrmt': '', 'sumRnDur': '', 'sumRn': '', 'maxInsWs': '13.9', 'maxInsWsWd': '320', 'maxInsWsHrmt': '1320', 'maxWs': '7.6', 'maxWsWd': '270', 'maxWsHrmt': '1308', 'avgWs': '3.3', 'hr24SumRws': '2881', 'maxWd': '270', 'avgTd': '-16.3', 'minRhm': '32', 'minRhmHrmt': '1408', 'avgRhm': '45.8', 'avgPv': '1.7', 'avgPa': '1011.1', 'maxPs': '1025.7', 'maxPsHrmt': '2319', 'minPs': '1019.4', 'minPsHrmt': '0419', 'avgPs': '1022.2', 'ssDur': '9.8', 'sumSsHr': '9.1', 'hr1MaxIcsrHrmt': '1200', 'hr1MaxIcsr': '2.03', 'sumGsr': '11.9', 'ddMefs': '', 'ddMefsHrmt': '', 'ddMes': '', 'ddMesHrmt': '', 'sumDpthFhsc': '', 'avgTca': '2.3', 'avgLmac': '1.9', 'avgTs': '-3.6', 'minTg': '-13.6', 'avgCm5Te': '-1.1', 'avgCm10Te': '-1.3', 'avgCm20Te': '-0.7', 'avgCm30Te': '0.3', 'avgM05Te': '1.9', 'avgM10Te': '5.1', 'avgM15Te': '8.5', 'avgM30Te': '14.0', 'avgM50Te': '16.8', 'sumLrgEv': '1.3', 'sumSmlEv': '1.8', 'n99Rn': '', 'iscs': '', 'sumFogDur': ''}, {'stnId': '108', 'stnNm': '서울', 'tm': '2022-01-14', 'avgTa': '-4.8', 'minTa': '-10.1', 'minTaHrmt': '0750', 'maxTa': '1.3', 'maxTaHrmt': '1526', 'mi10MaxRn': '', 'mi10MaxRnHrmt': '', 'hr1MaxRn': '', 'hr1MaxRnHrmt': '', 'sumRnDur': '', 'sumRn': '', 'maxInsWs': '6.3', 'maxInsWsWd': '160', 'maxInsWsHrmt': '1348', 'maxWs': '3.2', 'maxWsWd': '180', 'maxWsHrmt': '1356', 'avgWs': '1.7', 'hr24SumRws': '1453', 'maxWd': '270', 'avgTd': '-16.3', 'minRhm': '24', 'minRhmHrmt': '1606', 'avgRhm': '41.8', 'avgPv': '1.7', 'avgPa': '1014.8', 'maxPs': '1028.1', 'maxPsHrmt': '1055', 'minPs': '1024.0', 'minPsHrmt': '1801', 'avgPs': '1025.9', 'ssDur': '9.8', 'sumSsHr': '9.1', 'hr1MaxIcsrHrmt': '1200', 'hr1MaxIcsr': '2.04', 'sumGsr': '12.1', 'ddMefs': '', 'ddMefsHrmt': '', 'ddMes': '', 'ddMesHrmt': '', 'sumDpthFhsc': '', 'avgTca': '2.6', 'avgLmac': '0.0', 'avgTs': '-3.5', 'minTg': '-16.4', 'avgCm5Te': '-1.4', 'avgCm10Te': '-1.7', 'avgCm20Te': '-1.0', 'avgCm30Te': '0.1', 'avgM05Te': '1.8', 'avgM10Te': '5.0', 'avgM15Te': '8.4', 'avgM30Te': '13.9', 'avgM50Te': '16.8', 'sumLrgEv': '1.5', 'sumSmlEv': '2.2', 'n99Rn': '', 'iscs': '{달무리}2330-', 'sumFogDur': ''}, {'stnId': '108', 'stnNm': '서울', 'tm': '2022-01-15', 'avgTa': '-1.0', 'minTa': '-5.3', 'minTaHrmt': '0426', 'maxTa': '1.8', 'maxTaHrmt': '1545', 'mi10MaxRn': '', 'mi10MaxRnHrmt': '', 'hr1MaxRn': '', 'hr1MaxRnHrmt': '', 'sumRnDur': '0.92', 'sumRn': '0.0', 'maxInsWs': '4.9', 'maxInsWsWd': '20', 'maxInsWsHrmt': '1055', 'maxWs': '3.1', 'maxWsWd': '50', 'maxWsHrmt': '1045', 'avgWs': '1.9', 'hr24SumRws': '1641', 'maxWd': '50', 'avgTd': '-10.6', 'minRhm': '41', 'minRhmHrmt': '1131', 'avgRhm': '48.3', 'avgPv': '2.8', 'avgPa': '1011.9', 'maxPs': '1025.9', 'maxPsHrmt': '0001', 'minPs': '1021.0', 'minPsHrmt': '2137', 'avgPs': '1022.8', 'ssDur': '9.9', 'sumSsHr': '0.9', 'hr1MaxIcsrHrmt': '1100', 'hr1MaxIcsr': '0.92', 'sumGsr': '3.76', 'ddMefs': '', 'ddMefsHrmt': '', 'ddMes': '', 'ddMesHrmt': '', 'sumDpthFhsc': '', 'avgTca': '8.5', 'avgLmac': '5.6', 'avgTs': '-1.9', 'minTg': '-10.1', 'avgCm5Te': '-0.7', 'avgCm10Te': '-1.1', 'avgCm20Te': '-0.9', 'avgCm30Te': '0.0', 'avgM05Te': '1.7', 'avgM10Te': '4.9', 'avgM15Te': '8.3', 'avgM30Te': '13.9', 'avgM50Te': '16.7', 'sumLrgEv': '0.9', 'sumSmlEv': '1.2', 'n99Rn': '0.0', 'iscs': '{눈}1920-1935. {눈}2150-2230.  -{달무리}-0250. ', 'sumFogDur': ''}, {'stnId': '108', 'stnNm': '서울', 'tm': '2022-01-16', 'avgTa': '-2.0', 'minTa': '-7.2', 'minTaHrmt': '2352', 'maxTa': '2.4', 'maxTaHrmt': '0208', 'mi10MaxRn': '', 'mi10MaxRnHrmt': '', 'hr1MaxRn': '', 'hr1MaxRnHrmt': '', 'sumRnDur': '0.42', 'sumRn': '0.0', 'maxInsWs': '9.4', 'maxInsWsWd': '250', 'maxInsWsHrmt': '1503', 'maxWs': '5.7', 'maxWsWd': '250', 'maxWsHrmt': '1408', 'avgWs': '3.3', 'hr24SumRws': '2808', 'maxWd': '270', 'avgTd': '-10.4', 'minRhm': '29', 'minRhmHrmt': '1427', 'avgRhm': '54.5', 'avgPv': '3.0', 'avgPa': '1014.2', 'maxPs': '1028.6', 'maxPsHrmt': '2352', 'minPs': '1021.1', 'minPsHrmt': '0318', 'avgPs': '1025.2', 'ssDur': '9.9', 'sumSsHr': '8.8', 'hr1MaxIcsrHrmt': '1200', 'hr1MaxIcsr': '2.07', 'sumGsr': '11.98', 'ddMefs': '', 'ddMefsHrmt': '', 'ddMes': '', 'ddMesHrmt': '', 'sumDpthFhsc': '', 'avgTca': '1.6', 'avgLmac': '1.6', 'avgTs': '-0.3', 'minTg': '-9.3', 'avgCm5Te': '-0.1', 'avgCm10Te': '-0.5', 'avgCm20Te': '-0.5', 'avgCm30Te': '0.1', 'avgM05Te': '1.7', 'avgM10Te': '4.8', 'avgM15Te': '8.2', 'avgM30Te': '13.8', 'avgM50Te': '16.7', 'sumLrgEv': '1.5', 'sumSmlEv': '2.1', 'n99Rn': '', 'iscs': '{눈}0130-0155.  {박무}0405-{박무}{강도0}0600-0810. ', 'sumFogDur': ''}, {'stnId': '108', 'stnNm': '서울', 'tm': '2022-01-17', 'avgTa': '-5.8', 'minTa': '-9.2', 'minTaHrmt': '0518', 'maxTa': '0.1', 'maxTaHrmt': '1317', 'mi10MaxRn': '', 'mi10MaxRnHrmt': '', 'hr1MaxRn': '', 'hr1MaxRnHrmt': '', 'sumRnDur': '4.92', 'sumRn': '0.5', 'maxInsWs': '8.0', 'maxInsWsWd': '230', 'maxInsWsHrmt': '1706', 'maxWs': '4.1', 'maxWsWd': '270', 'maxWsHrmt': '1337', 'avgWs': '2.2', 'hr24SumRws': '1865', 'maxWd': '270', 'avgTd': '-12.5', 'minRhm': '38', 'minRhmHrmt': '1136', 'avgRhm': '59.9', 'avgPv': '2.4', 'avgPa': '1016.5', 'maxPs': '1029.4', 'maxPsHrmt': '2131', 'minPs': '1024.9', 'minPsHrmt': '1603', 'avgPs': '1027.7', 'ssDur': '9.9', 'sumSsHr': '4.5', 'hr1MaxIcsrHrmt': '1100', 'hr1MaxIcsr': '1.83', 'sumGsr': '8.07', 'ddMefs': '0.8', 'ddMefsHrmt': '1745', 'ddMes': '0.8', 'ddMesHrmt': '1745', 'sumDpthFhsc': '0.8', 'avgTca': '2.5', 'avgLmac': '2.5', 'avgTs': '-4.2', 'minTg': '-15.4', 'avgCm5Te': '-0.9', 'avgCm10Te': '-1.2', 'avgCm20Te': '-0.8', 'avgCm30Te': '0.1', 'avgM05Te': '1.6', 'avgM10Te': '4.8', 'avgM15Te': '8.1', 'avgM30Te': '13.7', 'avgM50Te': '16.7', 'sumLrgEv': '0.9', 'sumSmlEv': '1.3', 'n99Rn': '0.5', 'iscs': '{눈}1320-{눈}{강도0}1500-{눈}{강도0}1800-1815. ', 'sumFogDur': ''}, {'stnId': '108', 'stnNm': '서울', 'tm': '2022-01-18', 'avgTa': '-5.6', 'minTa': '-9.9', 'minTaHrmt': '0744', 'maxTa': '-0.7', 'maxTaHrmt': '1514', 'mi10MaxRn': '', 'mi10MaxRnHrmt': '', 'hr1MaxRn': '', 'hr1MaxRnHrmt': '', 'sumRnDur': '', 'sumRn': '', 'maxInsWs': '6.6', 'maxInsWsWd': '340', 'maxInsWsHrmt': '1444', 'maxWs': '4.3', 'maxWsWd': '290', 'maxWsHrmt': '1525', 'avgWs': '2.3', 'hr24SumRws': '1953', 'maxWd': '270', 'avgTd': '-15.3', 'minRhm': '27', 'minRhmHrmt': '1403', 'avgRhm': '47.9', 'avgPv': '1.9', 'avgPa': '1017.6', 'maxPs': '1030.8', 'maxPsHrmt': '0939', 'minPs': '1026.9', 'minPsHrmt': '1510', 'avgPs': '1028.7', 'ssDur': '9.9', 'sumSsHr': '9.2', 'hr1MaxIcsrHrmt': '1200', 'hr1MaxIcsr': '2.1', 'sumGsr': '12.4', 'ddMefs': '', 'ddMefsHrmt': '', 'ddMes': '0.5', 'ddMesHrmt': '0001', 'sumDpthFhsc': '', 'avgTca': '0.3', 'avgLmac': '0.0', 'avgTs': '-2.8', 'minTg': '-15.2', 'avgCm5Te': '-1.1', 'avgCm10Te': '-1.4', 'avgCm20Te': '-1.0', 'avgCm30Te': '-0.1', 'avgM05Te': '1.5', 'avgM10Te': '4.7', 'avgM15Te': '8.0', 'avgM30Te': '13.6', 'avgM50Te': '16.6', 'sumLrgEv': '1.4', 'sumSmlEv': '1.9', 'n99Rn': '0.0', 'iscs': '', 'sumFogDur': ''}, {'stnId': '108', 'stnNm': '서울', 'tm': '2022-01-19', 'avgTa': '-5.3', 'minTa': '-7.7', 'minTaHrmt': '2357', 'maxTa': '-2.7', 'maxTaHrmt': '1558', 'mi10MaxRn': '', 'mi10MaxRnHrmt': '', 'hr1MaxRn': '', 'hr1MaxRnHrmt': '', 'sumRnDur': '7.08', 'sumRn': '1.7', 'maxInsWs': '8.3', 'maxInsWsWd': '320', 'maxInsWsHrmt': '1759', 'maxWs': '4.7', 'maxWsWd': '320', 'maxWsHrmt': '2038', 'avgWs': '2.1', 'hr24SumRws': '1821', 'maxWd': '50', 'avgTd': '-9.6', 'minRhm': '50', 'minRhmHrmt': '0132', 'avgRhm': '72.3', 'avgPv': '3.0', 'avgPa': '1013.9', 'maxPs': '1028.1', 'maxPsHrmt': '0008', 'minPs': '1022.4', 'minPsHrmt': '1512', 'avgPs': '1025.0', 'ssDur': '9.9', 'sumSsHr': '0.0', 'hr1MaxIcsrHrmt': '1100', 'hr1MaxIcsr': '0.43', 'sumGsr': '2.13', 'ddMefs': '3.5', 'ddMefsHrmt': '1340', 'ddMes': '3.5', 'ddMesHrmt': '1340', 'sumDpthFhsc': '3.5', 'avgTca': '5.1', 'avgLmac': '5.1', 'avgTs': '-3.4', 'minTg': '-13.3', 'avgCm5Te': '-1.2', 'avgCm10Te': '-1.5', 'avgCm20Te': '-1.1', 'avgCm30Te': '-0.2', 'avgM05Te': '1.5', 'avgM10Te': '4.6', 'avgM15Te': '7.9', 'avgM30Te': '13.5', 'avgM50Te': '16.6', 'sumLrgEv': '0.4', 'sumSmlEv': '0.5', 'n99Rn': '1.7', 'iscs': '{눈}0855-{눈}{강도0}0900-{눈}{강도0}1200-{눈}{강도0}1500-1535. {눈}1625-1650.  {박무}1530-1705.  {달코로나}0550-0615. ', 'sumFogDur': ''}, {'stnId': '108', 'stnNm': '서울', 'tm': '2022-01-20', 'avgTa': '-5.0', 'minTa': '-9.8', 'minTaHrmt': '0605', 'maxTa': '0.9', 'maxTaHrmt': '1603', 'mi10MaxRn': '', 'mi10MaxRnHrmt': '', 'hr1MaxRn': '', 'hr1MaxRnHrmt': '', 'sumRnDur': '', 'sumRn': '', 'maxInsWs': '7.0', 'maxInsWsWd': '320', 'maxInsWsHrmt': '1922', 'maxWs': '4.7', 'maxWsWd': '320', 'maxWsHrmt': '1927', 'avgWs': '1.8', 'hr24SumRws': '1582', 'maxWd': '270', 'avgTd': '-11.1', 'minRhm': '42', 'minRhmHrmt': '1631', 'avgRhm': '63.5', 'avgPv': '2.6', 'avgPa': '1018.1', 'maxPs': '1031.0', 'maxPsHrmt': '2345', 'minPs': '1026.2', 'minPsHrmt': '0001', 'avgPs': '1029.3', 'ssDur': '10.0', 'sumSsHr': '9.1', 'hr1MaxIcsrHrmt': '1200', 'hr1MaxIcsr': '2.05', 'sumGsr': '12.29', 'ddMefs': '', 'ddMefsHrmt': '', 'ddMes': '2.4', 'ddMesHrmt': '0001', 'sumDpthFhsc': '', 'avgTca': '0.0', 'avgLmac': '0.0', 'avgTs': '-2.5', 'minTg': '-16.0', 'avgCm5Te': '-1.1', 'avgCm10Te': '-1.4', 'avgCm20Te': '-1.1', 'avgCm30Te': '-0.2', 'avgM05Te': '1.4', 'avgM10Te': '4.5', 'avgM15Te': '7.8', 'avgM30Te': '13.4', 'avgM50Te': '16.6', 'sumLrgEv': '1.2', 'sumSmlEv': '1.8', 'n99Rn': '', 'iscs': '', 'sumFogDur': ''}, {'stnId': '108', 'stnNm': '서울', 'tm': '2022-01-21', 'avgTa': '-2.7', 'minTa': '-8.7', 'minTaHrmt': '0755', 'maxTa': '4.6', 'maxTaHrmt': '1534', 'mi10MaxRn': '', 'mi10MaxRnHrmt': '', 'hr1MaxRn': '', 'hr1MaxRnHrmt': '', 'sumRnDur': '', 'sumRn': '', 'maxInsWs': '5.0', 'maxInsWsWd': '50', 'maxInsWsHrmt': '1301', 'maxWs': '3.0', 'maxWsWd': '50', 'maxWsHrmt': '1144', 'avgWs': '1.8', 'hr24SumRws': '1512', 'maxWd': '20', 'avgTd': '-10.9', 'minRhm': '29', 'minRhmHrmt': '1544', 'avgRhm': '55.6', 'avgPv': '2.7', 'avgPa': '1019.3', 'maxPs': '1032.8', 'maxPsHrmt': '0951', 'minPs': '1028.4', 'minPsHrmt': '2342', 'avgPs': '1030.3', 'ssDur': '10.0', 'sumSsHr': '9.2', 'hr1MaxIcsrHrmt': '1200', 'hr1MaxIcsr': '2.15', 'sumGsr': '12.79', 'ddMefs': '', 'ddMefsHrmt': '', 'ddMes': '', 'ddMesHrmt': '', 'sumDpthFhsc': '', 'avgTca': '0.0', 'avgLmac': '0.0', 'avgTs': '-1.9', 'minTg': '-14.4', 'avgCm5Te': '-1.0', 'avgCm10Te': '-1.3', 'avgCm20Te': '-1.1', 'avgCm30Te': '-0.2', 'avgM05Te': '1.4', 'avgM10Te': '4.5', 'avgM15Te': '7.8', 'avgM30Te': '13.3', 'avgM50Te': '16.5', 'sumLrgEv': '1.5', 'sumSmlEv': '2.2', 'n99Rn': '', 'iscs': '', 'sumFogDur': ''}, {'stnId': '108', 'stnNm': '서울', 'tm': '2022-01-22', 'avgTa': '0.3', 'minTa': '-5.0', 'minTaHrmt': '0734', 'maxTa': '7.1', 'maxTaHrmt': '1512', 'mi10MaxRn': '', 'mi10MaxRnHrmt': '', 'hr1MaxRn': '', 'hr1MaxRnHrmt': '', 'sumRnDur': '', 'sumRn': '', 'maxInsWs': '5.2', 'maxInsWsWd': '290', 'maxInsWsHrmt': '1854', 'maxWs': '3.4', 'maxWsWd': '290', 'maxWsHrmt': '1855', 'avgWs': '1.7', 'hr24SumRws': '1506', 'maxWd': '20', 'avgTd': '-8.7', 'minRhm': '32', 'minRhmHrmt': '1618', 'avgRhm': '52.4', 'avgPv': '3.2', 'avgPa': '1015.4', 'maxPs': '1028.5', 'maxPsHrmt': '0228', 'minPs': '1024.4', 'minPsHrmt': '1403', 'avgPs': '1026.3', 'ssDur': '10.0', 'sumSsHr': '6.0', 'hr1MaxIcsrHrmt': '1300', 'hr1MaxIcsr': '1.86', 'sumGsr': '9.7', 'ddMefs': '', 'ddMefsHrmt': '', 'ddMes': '', 'ddMesHrmt': '', 'sumDpthFhsc': '', 'avgTca': '5.9', 'avgLmac': '2.6', 'avgTs': '-0.3', 'minTg': '-10.4', 'avgCm5Te': '-0.6', 'avgCm10Te': '-1.1', 'avgCm20Te': '-0.9', 'avgCm30Te': '-0.2', 'avgM05Te': '1.3', 'avgM10Te': '4.4', 'avgM15Te': '7.7', 'avgM30Te': '13.3', 'avgM50Te': '16.5', 'sumLrgEv': '1.4', 'sumSmlEv': '2.0', 'n99Rn': '', 'iscs': '', 'sumFogDur': ''}, {'stnId': '108', 'stnNm': '서울', 'tm': '2022-01-23', 'avgTa': '2.0', 'minTa': '-0.6', 'minTaHrmt': '0549', 'maxTa': '6.7', 'maxTaHrmt': '1411', 'mi10MaxRn': '', 'mi10MaxRnHrmt': '', 'hr1MaxRn': '', 'hr1MaxRnHrmt': '', 'sumRnDur': '', 'sumRn': '', 'maxInsWs': '5.7', 'maxInsWsWd': '70', 'maxInsWsHrmt': '2329', 'maxWs': '3.1', 'maxWsWd': '250', 'maxWsHrmt': '1212', 'avgWs': '1.7', 'hr24SumRws': '1481', 'maxWd': '270', 'avgTd': '-6.8', 'minRhm': '43', 'minRhmHrmt': '1017', 'avgRhm': '52.4', 'avgPv': '3.7', 'avgPa': '1011.5', 'maxPs': '1025.0', 'maxPsHrmt': '0005', 'minPs': '1019.9', 'minPsHrmt': '1607', 'avgPs': '1022.3', 'ssDur': '10.1', 'sumSsHr': '5.3', 'hr1MaxIcsrHrmt': '1300', 'hr1MaxIcsr': '1.79', 'sumGsr': '7.67', 'ddMefs': '', 'ddMefsHrmt': '', 'ddMes': '', 'ddMesHrmt': '', 'sumDpthFhsc': '', 'avgTca': '4.8', 'avgLmac': '3.3', 'avgTs': '0.4', 'minTg': '-7.1', 'avgCm5Te': '0.1', 'avgCm10Te': '-0.5', 'avgCm20Te': '-0.5', 'avgCm30Te': '-0.1', 'avgM05Te': '1.4', 'avgM10Te': '4.3', 'avgM15Te': '7.6', 'avgM30Te': '13.2', 'avgM50Te': '16.4', 'sumLrgEv': '1.4', 'sumSmlEv': '2.0', 'n99Rn': '', 'iscs': '', 'sumFogDur': ''}, {'stnId': '108', 'stnNm': '서울', 'tm': '2022-01-24', 'avgTa': '4.6', 'minTa': '1.3', 'minTaHrmt': '0001', 'maxTa': '8.4', 'maxTaHrmt': '1329', 'mi10MaxRn': '', 'mi10MaxRnHrmt': '', 'hr1MaxRn': '', 'hr1MaxRnHrmt': '', 'sumRnDur': '', 'sumRn': '', 'maxInsWs': '9.6', 'maxInsWsWd': '70', 'maxInsWsHrmt': '1001', 'maxWs': '5.5', 'maxWsWd': '70', 'maxWsHrmt': '0959', 'avgWs': '3.5', 'hr24SumRws': '3053', 'maxWd': '70', 'avgTd': '-3.6', 'minRhm': '44', 'minRhmHrmt': '1310', 'avgRhm': '56.0', 'avgPv': '4.7', 'avgPa': '1011.0', 'maxPs': '1023.1', 'maxPsHrmt': '1112', 'minPs': '1020.5', 'minPsHrmt': '1431', 'avgPs': '1021.7', 'ssDur': '10.1', 'sumSsHr': '4.0', 'hr1MaxIcsrHrmt': '1100', 'hr1MaxIcsr': '1.65', 'sumGsr': '8.71', 'ddMefs': '', 'ddMefsHrmt': '', 'ddMes': '', 'ddMesHrmt': '', 'sumDpthFhsc': '', 'avgTca': '4.9', 'avgLmac': '4.4', 'avgTs': '0.8', 'minTg': '-1.3', 'avgCm5Te': '0.2', 'avgCm10Te': '-0.4', 'avgCm20Te': '-0.5', 'avgCm30Te': '-0.1', 'avgM05Te': '1.4', 'avgM10Te': '4.3', 'avgM15Te': '7.5', 'avgM30Te': '13.1', 'avgM50Te': '16.4', 'sumLrgEv': '1.7', 'sumSmlEv': '2.4', 'n99Rn': '0.5', 'iscs': '', 'sumFogDur': ''}, {'stnId': '108', 'stnNm': '서울', 'tm': '2022-01-25', 'avgTa': '2.8', 'minTa': '1.9', 'minTaHrmt': '0822', 'maxTa': '4.5', 'maxTaHrmt': '0001', 'mi10MaxRn': '', 'mi10MaxRnHrmt': '', 'hr1MaxRn': '', 'hr1MaxRnHrmt': '', 'sumRnDur': '11.75', 'sumRn': '0.7', 'maxInsWs': '7.7', 'maxInsWsWd': '250', 'maxInsWsHrmt': '1744', 'maxWs': '4.9', 'maxWsWd': '270', 'maxWsHrmt': '1748', 'avgWs': '2.3', 'hr24SumRws': '1991', 'maxWd': '50', 'avgTd': '-0.4', 'minRhm': '51', 'minRhmHrmt': '0001', 'avgRhm': '80.0', 'avgPv': '6.0', 'avgPa': '1010.2', 'maxPs': '1022.2', 'maxPsHrmt': '2320', 'minPs': '1019.2', 'minPsHrmt': '1501', 'avgPs': '1021.0', 'ssDur': '10.1', 'sumSsHr': '0.0', 'hr1MaxIcsrHrmt': '1300', 'hr1MaxIcsr': '0.41', 'sumGsr': '1.7', 'ddMefs': '', 'ddMefsHrmt': '', 'ddMes': '', 'ddMesHrmt': '', 'sumDpthFhsc': '', 'avgTca': '9.4', 'avgLmac': '7.9', 'avgTs': '0.9', 'minTg': '-0.2', 'avgCm5Te': '0.3', 'avgCm10Te': '-0.2', 'avgCm20Te': '-0.4', 'avgCm30Te': '-0.1', 'avgM05Te': '1.4', 'avgM10Te': '4.2', 'avgM15Te': '7.4', 'avgM30Te': '13.0', 'avgM50Te': '16.3', 'sumLrgEv': '0.4', 'sumSmlEv': '0.6', 'n99Rn': '0.2', 'iscs': '{진눈깨비}0250-{진눈깨비}{강도0}0300-{진눈깨비}{강도0}0600-{비}0720-{비}{강도0}0900-{비}{강도0}1200-1330. {비}1430-{비}{강도0}1500-1535.  {박무}0750-{박무}{강도0}0900-{박무}{강도0}1200-{박무}{강도0}1500-1630.', 'sumFogDur': ''}, {'stnId': '108', 'stnNm': '서울', 'tm': '2022-01-26', 'avgTa': '1.3', 'minTa': '-1.9', 'minTaHrmt': '0639', 'maxTa': '6.8', 'maxTaHrmt': '1429', 'mi10MaxRn': '', 'mi10MaxRnHrmt': '', 'hr1MaxRn': '', 'hr1MaxRnHrmt': '', 'sumRnDur': '', 'sumRn': '', 'maxInsWs': '7.7', 'maxInsWsWd': '320', 'maxInsWsHrmt': '2120', 'maxWs': '4.6', 'maxWsWd': '320', 'maxWsHrmt': '2124', 'avgWs': '2.2', 'hr24SumRws': '1913', 'maxWd': '270', 'avgTd': '-5.7', 'minRhm': '33', 'minRhmHrmt': '1709', 'avgRhm': '62.8', 'avgPv': '4.1', 'avgPa': '1013.7', 'maxPs': '1025.8', 'maxPsHrmt': '2245', 'minPs': '1022.2', 'minPsHrmt': '0001', 'avgPs': '1024.5', 'ssDur': '10.1', 'sumSsHr': '8.4', 'hr1MaxIcsrHrmt': '1200', 'hr1MaxIcsr': '2.02', 'sumGsr': '11.54', 'ddMefs': '', 'ddMefsHrmt': '', 'ddMes': '', 'ddMesHrmt': '', 'sumDpthFhsc': '', 'avgTca': '2.4', 'avgLmac': '0.0', 'avgTs': '1.3', 'minTg': '-9.2', 'avgCm5Te': '0.3', 'avgCm10Te': '-0.2', 'avgCm20Te': '-0.4', 'avgCm30Te': '0.0', 'avgM05Te': '1.4', 'avgM10Te': '4.2', 'avgM15Te': '7.4', 'avgM30Te': '12.9', 'avgM50Te': '16.3', 'sumLrgEv': '1.7', 'sumSmlEv': '2.5', 'n99Rn': '', 'iscs': '{박무}0020-{박무}{강도0}0300-{박무}{강도0}0600-{박무}{강도0}0900-0950. ', 'sumFogDur': ''}, {'stnId': '108', 'stnNm': '서울', 'tm': '2022-01-27', 'avgTa': '-1.1', 'minTa': '-4.6', 'minTaHrmt': '0757', 'maxTa': '4.0', 'maxTaHrmt': '1541', 'mi10MaxRn': '', 'mi10MaxRnHrmt': '', 'hr1MaxRn': '', 'hr1MaxRnHrmt': '', 'sumRnDur': '', 'sumRn': '', 'maxInsWs': '7.7', 'maxInsWsWd': '290', 'maxInsWsHrmt': '2023', 'maxWs': '4.1', 'maxWsWd': '290', 'maxWsHrmt': '2032', 'avgWs': '2.1', 'hr24SumRws': '1854', 'maxWd': '270', 'avgTd': '-10.5', 'minRhm': '31', 'minRhmHrmt': '1520', 'avgRhm': '50.0', 'avgPv': '2.8', 'avgPa': '1014.2', 'maxPs': '1026.5', 'maxPsHrmt': '0827', 'minPs': '1022.8', 'minPsHrmt': '1448', 'avgPs': '1025.1', 'ssDur': '10.2', 'sumSsHr': '8.9', 'hr1MaxIcsrHrmt': '1100', 'hr1MaxIcsr': '1.9', 'sumGsr': '11.72', 'ddMefs': '', 'ddMefsHrmt': '', 'ddMes': '', 'ddMesHrmt': '', 'sumDpthFhsc': '', 'avgTca': '2.1', 'avgLmac': '0.0', 'avgTs': '0.3', 'minTg': '-9.6', 'avgCm5Te': '0.3', 'avgCm10Te': '-0.2', 'avgCm20Te': '-0.3', 'avgCm30Te': '0.0', 'avgM05Te': '1.4', 'avgM10Te': '4.1', 'avgM15Te': '7.3', 'avgM30Te': '12.9', 'avgM50Te': '16.3', 'sumLrgEv': '1.6', 'sumSmlEv': '2.3', 'n99Rn': '', 'iscs': '', 'sumFogDur': ''}, {'stnId': '108', 'stnNm': '서울', 'tm': '2022-01-28', 'avgTa': '-2.7', 'minTa': '-5.9', 'minTaHrmt': '0811', 'maxTa': '2.1', 'maxTaHrmt': '1516', 'mi10MaxRn': '', 'mi10MaxRnHrmt': '', 'hr1MaxRn': '', 'hr1MaxRnHrmt': '', 'sumRnDur': '', 'sumRn': '', 'maxInsWs': '8.2', 'maxInsWsWd': '290', 'maxInsWsHrmt': '1613', 'maxWs': '5.1', 'maxWsWd': '290', 'maxWsHrmt': '2324', 'avgWs': '2.8', 'hr24SumRws': '2379', 'maxWd': '270', 'avgTd': '-11.5', 'minRhm': '33', 'minRhmHrmt': '1518', 'avgRhm': '51.6', 'avgPv': '2.5', 'avgPa': '1014.1', 'maxPs': '1027.0', 'maxPsHrmt': '0925', 'minPs': '1023.3', 'minPsHrmt': '1902', 'avgPs': '1025.1', 'ssDur': '10.2', 'sumSsHr': '9.2', 'hr1MaxIcsrHrmt': '1200', 'hr1MaxIcsr': '2.23', 'sumGsr': '13.65', 'ddMefs': '', 'ddMefsHrmt': '', 'ddMes': '', 'ddMesHrmt': '', 'sumDpthFhsc': '', 'avgTca': '2.0', 'avgLmac': '0.0', 'avgTs': '-0.9', 'minTg': '-9.7', 'avgCm5Te': '0.0', 'avgCm10Te': '-0.4', 'avgCm20Te': '-0.3', 'avgCm30Te': '0.1', 'avgM05Te': '1.4', 'avgM10Te': '4.1', 'avgM15Te': '7.2', 'avgM30Te': '12.8', 'avgM50Te': '16.2', 'sumLrgEv': '1.6', 'sumSmlEv': '2.3', 'n99Rn': '', 'iscs': '', 'sumFogDur': ''}, {'stnId': '108', 'stnNm': '서울', 'tm': '2022-01-29', 'avgTa': '-3.6', 'minTa': '-7.2', 'minTaHrmt': '0741', 'maxTa': '0.9', 'maxTaHrmt': '1531', 'mi10MaxRn': '', 'mi10MaxRnHrmt': '', 'hr1MaxRn': '', 'hr1MaxRnHrmt': '', 'sumRnDur': '', 'sumRn': '', 'maxInsWs': '8.6', 'maxInsWsWd': '320', 'maxInsWsHrmt': '1426', 'maxWs': '5.1', 'maxWsWd': '320', 'maxWsHrmt': '1429', 'avgWs': '2.4', 'hr24SumRws': '2110', 'maxWd': '290', 'avgTd': '-13.3', 'minRhm': '28', 'minRhmHrmt': '1510', 'avgRhm': '48.9', 'avgPv': '2.2', 'avgPa': '1011.5', 'maxPs': '1024.8', 'maxPsHrmt': '0004', 'minPs': '1020.3', 'minPsHrmt': '1632', 'avgPs': '1022.4', 'ssDur': '10.2', 'sumSsHr': '9.5', 'hr1MaxIcsrHrmt': '1200', 'hr1MaxIcsr': '2.26', 'sumGsr': '14.07', 'ddMefs': '', 'ddMefsHrmt': '', 'ddMes': '', 'ddMesHrmt': '', 'sumDpthFhsc': '', 'avgTca': '0.8', 'avgLmac': '0.0', 'avgTs': '-1.5', 'minTg': '-13.3', 'avgCm5Te': '-0.4', 'avgCm10Te': '-0.7', 'avgCm20Te': '-0.4', 'avgCm30Te': '0.1', 'avgM05Te': '1.4', 'avgM10Te': '4.1', 'avgM15Te': '7.2', 'avgM30Te': '12.7', 'avgM50Te': '16.2', 'sumLrgEv': '1.6', 'sumSmlEv': '2.3', 'n99Rn': '', 'iscs': '', 'sumFogDur': ''}, {'stnId': '108', 'stnNm': '서울', 'tm': '2022-01-30', 'avgTa': '-2.8', 'minTa': '-8.0', 'minTaHrmt': '0713', 'maxTa': '2.4', 'maxTaHrmt': '1629', 'mi10MaxRn': '', 'mi10MaxRnHrmt': '', 'hr1MaxRn': '', 'hr1MaxRnHrmt': '', 'sumRnDur': '', 'sumRn': '', 'maxInsWs': '7.8', 'maxInsWsWd': '290', 'maxInsWsHrmt': '1335', 'maxWs': '4.6', 'maxWsWd': '270', 'maxWsHrmt': '1409', 'avgWs': '2.2', 'hr24SumRws': '1911', 'maxWd': '270', 'avgTd': '-13.4', 'minRhm': '27', 'minRhmHrmt': '1510', 'avgRhm': '45.4', 'avgPv': '2.2', 'avgPa': '1011.5', 'maxPs': '1024.5', 'maxPsHrmt': '2351', 'minPs': '1020.6', 'minPsHrmt': '1456', 'avgPs': '1022.4', 'ssDur': '10.3', 'sumSsHr': '9.6', 'hr1MaxIcsrHrmt': '1200', 'hr1MaxIcsr': '2.31', 'sumGsr': '14.1', 'ddMefs': '', 'ddMefsHrmt': '', 'ddMes': '', 'ddMesHrmt': '', 'sumDpthFhsc': '', 'avgTca': '0.6', 'avgLmac': '0.0', 'avgTs': '-1.4', 'minTg': '-14.2', 'avgCm5Te': '-0.6', 'avgCm10Te': '-0.9', 'avgCm20Te': '-0.6', 'avgCm30Te': '0.1', 'avgM05Te': '1.4', 'avgM10Te': '4.0', 'avgM15Te': '7.1', 'avgM30Te': '12.6', 'avgM50Te': '16.1', 'sumLrgEv': '1.8', 'sumSmlEv': '2.6', 'n99Rn': '', 'iscs': '', 'sumFogDur': ''}, {'stnId': '108', 'stnNm': '서울', 'tm': '2022-01-31', 'avgTa': '-0.7', 'minTa': '-6.8', 'minTaHrmt': '0736', 'maxTa': '4.8', 'maxTaHrmt': '1507', 'mi10MaxRn': '', 'mi10MaxRnHrmt': '', 'hr1MaxRn': '', 'hr1MaxRnHrmt': '', 'sumRnDur': '2.75', 'sumRn': '1.2', 'maxInsWs': '8.7', 'maxInsWsWd': '200', 'maxInsWsHrmt': '2118', 'maxWs': '4.3', 'maxWsWd': '250', 'maxWsHrmt': '1617', 'avgWs': '1.9', 'hr24SumRws': '1673', 'maxWd': '250', 'avgTd': '-7.9', 'minRhm': '39', 'minRhmHrmt': '1229', 'avgRhm': '59.0', 'avgPv': '3.5', 'avgPa': '1012.9', 'maxPs': '1025.9', 'maxPsHrmt': '0802', 'minPs': '1021.8', 'minPsHrmt': '2018', 'avgPs': '1023.8', 'ssDur': '10.3', 'sumSsHr': '8.0', 'hr1MaxIcsrHrmt': '1100', 'hr1MaxIcsr': '1.95', 'sumGsr': '11.47', 'ddMefs': '1.8', 'ddMefsHrmt': '2335', 'ddMes': '1.8', 'ddMesHrmt': '2335', 'sumDpthFhsc': '1.8', 'avgTca': '3.3', 'avgLmac': '2.9', 'avgTs': '-0.7', 'minTg': '-14.1', 'avgCm5Te': '-0.5', 'avgCm10Te': '-0.9', 'avgCm20Te': '-0.6', 'avgCm30Te': '0.1', 'avgM05Te': '1.4', 'avgM10Te': '4.0', 'avgM15Te': '7.1', 'avgM30Te': '12.6', 'avgM50Te': '16.1', 'sumLrgEv': '1.3', 'sumSmlEv': '1.9', 'n99Rn': '2.9', 'iscs': '{눈}2055-{눈}{강도0}2100-2340.  {박무}2120-{박무}{강도0}2400-', 'sumFogDur': ''}, {'stnId': '108', 'stnNm': '서울', 'tm': '2022-02-01', 'avgTa': '-1.3', 'minTa': '-2.7', 'minTaHrmt': '2345', 'maxTa': '0.9', 'maxTaHrmt': '1601', 'mi10MaxRn': '', 'mi10MaxRnHrmt': '', 'hr1MaxRn': '', 'hr1MaxRnHrmt': '', 'sumRnDur': '4.83', 'sumRn': '1.7', 'maxInsWs': '9.0', 'maxInsWsWd': '320', 'maxInsWsHrmt': '1348', 'maxWs': '4.4', 'maxWsWd': '270', 'maxWsHrmt': '1229', 'avgWs': '2.6', 'hr24SumRws': '2271', 'maxWd': '250', 'avgTd': '-4.9', 'minRhm': '59', 'minRhmHrmt': '1509', 'avgRhm': '76.6', 'avgPv': '4.3', 'avgPa': '1014.2', 'maxPs': '1028.8', 'maxPsHrmt': '2357', 'minPs': '1021.8', 'minPsHrmt': '0449', 'avgPs': '1025.2', 'ssDur': '10.3', 'sumSsHr': '4.7', 'hr1MaxIcsrHrmt': '1300', 'hr1MaxIcsr': '1.66', 'sumGsr': '9.04', 'ddMefs': '3.3', 'ddMefsHrmt': '0555', 'ddMes': '5.0', 'ddMesHrmt': '0555', 'sumDpthFhsc': '3.3', 'avgTca': '6.6', 'avgLmac': '6.6', 'avgTs': '-0.4', 'minTg': '-6.0', 'avgCm5Te': '0.2', 'avgCm10Te': '-0.4', 'avgCm20Te': '-0.4', 'avgCm30Te': '0.1', 'avgM05Te': '1.4', 'avgM10Te': '4.0', 'avgM15Te': '7.0', 'avgM30Te': '12.5', 'avgM50Te': '16.1', 'sumLrgEv': '0.9', 'sumSmlEv': '1.3', 'n99Rn': '0.0', 'iscs': '{눈}0240-{눈}{강도0}0300-{시정(미만)}{1km}{눈}0407-{시정(이상)}{0.1km}{눈}0420-{눈}{강도0}0600-0625. {눈}0840-{눈}{강도0}0900-0935. {눈}1015-1025.  -{박무}-0055. {박무}2110-{박무}{강도0}2400- {연무}1915-{연무}{강도0}2100-2115. ', 'sumFogDur': ''}, {'stnId': '108', 'stnNm': '서울', 'tm': '2022-02-02', 'avgTa': '-3.4', 'minTa': '-6.0', 'minTaHrmt': '0541', 'maxTa': '0.0', 'maxTaHrmt': '1529', 'mi10MaxRn': '', 'mi10MaxRnHrmt': '', 'hr1MaxRn': '', 'hr1MaxRnHrmt': '', 'sumRnDur': '', 'sumRn': '', 'maxInsWs': '8.3', 'maxInsWsWd': '290', 'maxInsWsHrmt': '1428', 'maxWs': '5.0', 'maxWsWd': '250', 'maxWsHrmt': '1408', 'avgWs': '2.4', 'hr24SumRws': '2053', 'maxWd': '270', 'avgTd': '-10.4', 'minRhm': '36', 'minRhmHrmt': '1453', 'avgRhm': '60.5', 'avgPv': '2.8', 'avgPa': '1017.4', 'maxPs': '1030.2', 'maxPsHrmt': '0925', 'minPs': '1027.2', 'minPsHrmt': '2315', 'avgPs': '1028.5', 'ssDur': '10.4', 'sumSsHr': '9.2', 'hr1MaxIcsrHrmt': '1200', 'hr1MaxIcsr': '2.36', 'sumGsr': '14.68', 'ddMefs': '', 'ddMefsHrmt': '', 'ddMes': '0.5', 'ddMesHrmt': '0001', 'sumDpthFhsc': '', 'avgTca': '3.5', 'avgLmac': '3.1', 'avgTs': '-0.6', 'minTg': '-11.1', 'avgCm5Te': '-0.1', 'avgCm10Te': '-0.5', 'avgCm20Te': '-0.4', 'avgCm30Te': '0.1', 'avgM05Te': '1.4', 'avgM10Te': '3.9', 'avgM15Te': '7.0', 'avgM30Te': '12.4', 'avgM50Te': '16.0', 'sumLrgEv': '1.4', 'sumSmlEv': '2.1', 'n99Rn': '', 'iscs': '-{박무}-0220. ', 'sumFogDur': ''}, {'stnId': '108', 'stnNm': '서울', 'tm': '2022-02-03', 'avgTa': '-3.4', 'minTa': '-6.9', 'minTaHrmt': '0746', 'maxTa': '0.4', 'maxTaHrmt': '1458', 'mi10MaxRn': '', 'mi10MaxRnHrmt': '', 'hr1MaxRn': '', 'hr1MaxRnHrmt': '', 'sumRnDur': '', 'sumRn': '', 'maxInsWs': '8.2', 'maxInsWsWd': '270', 'maxInsWsHrmt': '1611', 'maxWs': '4.6', 'maxWsWd': '270', 'maxWsHrmt': '1601', 'avgWs': '2.4', 'hr24SumRws': '2088', 'maxWd': '270', 'avgTd': '-12.2', 'minRhm': '34', 'minRhmHrmt': '1235', 'avgRhm': '52.4', 'avgPv': '2.4', 'avgPa': '1016.3', 'maxPs': '1029.0', 'maxPsHrmt': '1036', 'minPs': '1026.0', 'minPsHrmt': '1442', 'avgPs': '1027.3', 'ssDur': '10.4', 'sumSsHr': '9.7', 'hr1MaxIcsrHrmt': '1200', 'hr1MaxIcsr': '2.39', 'sumGsr': '14.87', 'ddMefs': '', 'ddMefsHrmt': '', 'ddMes': '', 'ddMesHrmt': '', 'sumDpthFhsc': '', 'avgTca': '1.5', 'avgLmac': '0.0', 'avgTs': '-0.8', 'minTg': '-12.8', 'avgCm5Te': '-0.3', 'avgCm10Te': '-0.7', 'avgCm20Te': '-0.4', 'avgCm30Te': '0.1', 'avgM05Te': '1.3', 'avgM10Te': '3.9', 'avgM15Te': '6.9', 'avgM30Te': '12.3', 'avgM50Te': '16.0', 'sumLrgEv': '1.6', 'sumSmlEv': '2.3', 'n99Rn': '', 'iscs': '', 'sumFogDur': ''}, {'stnId': '108', 'stnNm': '서울', 'tm': '2022-02-04', 'avgTa': '-5.2', 'minTa': '-8.2', 'minTaHrmt': '2356', 'maxTa': '-0.7', 'maxTaHrmt': '1404', 'mi10MaxRn': '', 'mi10MaxRnHrmt': '', 'hr1MaxRn': '', 'hr1MaxRnHrmt': '', 'sumRnDur': '0.67', 'sumRn': '0.0', 'maxInsWs': '12.3', 'maxInsWsWd': '290', 'maxInsWsHrmt': '2019', 'maxWs': '6.5', 'maxWsWd': '290', 'maxWsHrmt': '2019', 'avgWs': '3.1', 'hr24SumRws': '2648', 'maxWd': '270', 'avgTd': '-13.4', 'minRhm': '35', 'minRhmHrmt': '1134', 'avgRhm': '53.3', 'avgPv': '2.2', 'avgPa': '1014.2', 'maxPs': '1027.0', 'maxPsHrmt': '0201', 'minPs': '1023.5', 'minPsHrmt': '1722', 'avgPs': '1025.3', 'ssDur': '10.4', 'sumSsHr': '7.3', 'hr1MaxIcsrHrmt': '1200', 'hr1MaxIcsr': '2.41', 'sumGsr': '12.94', 'ddMefs': '', 'ddMefsHrmt': '', 'ddMes': '', 'ddMesHrmt': '', 'sumDpthFhsc': '', 'avgTca': '1.9', 'avgLmac': '1.9', 'avgTs': '-2.6', 'minTg': '-13.2', 'avgCm5Te': '-0.6', 'avgCm10Te': '-0.9', 'avgCm20Te': '-0.5', 'avgCm30Te': '0.1', 'avgM05Te': '1.3', 'avgM10Te': '3.9', 'avgM15Te': '6.9', 'avgM30Te': '12.3', 'avgM50Te': '15.9', 'sumLrgEv': '1.5', 'sumSmlEv': '2.1', 'n99Rn': '0.0', 'iscs': '{눈}1605-1645. ', 'sumFogDur': ''}, {'stnId': '108', 'stnNm': '서울', 'tm': '2022-02-05', 'avgTa': '-6.6', 'minTa': '-9.7', 'minTaHrmt': '0742', 'maxTa': '-2.0', 'maxTaHrmt': '1508', 'mi10MaxRn': '', 'mi10MaxRnHrmt': '', 'hr1MaxRn': '', 'hr1MaxRnHrmt': '', 'sumRnDur': '', 'sumRn': '', 'maxInsWs': '11.9', 'maxInsWsWd': '270', 'maxInsWsHrmt': '1637', 'maxWs': '6.8', 'maxWsWd': '270', 'maxWsHrmt': '1521', 'avgWs': '3.1', 'hr24SumRws': '2716', 'maxWd': '270', 'avgTd': '-15.7', 'minRhm': '36', 'minRhmHrmt': '1609', 'avgRhm': '48.8', 'avgPv': '1.8', 'avgPa': '1015.4', 'maxPs': '1028.0', 'maxPsHrmt': '2022', 'minPs': '1024.4', 'minPsHrmt': '1438', 'avgPs': '1026.5', 'ssDur': '10.5', 'sumSsHr': '9.1', 'hr1MaxIcsrHrmt': '1200', 'hr1MaxIcsr': '2.43', 'sumGsr': '14.31', 'ddMefs': '', 'ddMefsHrmt': '', 'ddMes': '', 'ddMesHrmt': '', 'sumDpthFhsc': '', 'avgTca': '0.9', 'avgLmac': '0.9', 'avgTs': '-3.1', 'minTg': '-12.9', 'avgCm5Te': '-1.0', 'avgCm10Te': '-1.3', 'avgCm20Te': '-0.8', 'avgCm30Te': '0.0', 'avgM05Te': '1.3', 'avgM10Te': '3.9', 'avgM15Te': '6.8', 'avgM30Te': '12.2', 'avgM50Te': '15.9', 'sumLrgEv': '1.4', 'sumSmlEv': '2.0', 'n99Rn': '', 'iscs': '', 'sumFogDur': ''}, {'stnId': '108', 'stnNm': '서울', 'tm': '2022-02-06', 'avgTa': '-3.9', 'minTa': '-8.4', 'minTaHrmt': '0500', 'maxTa': '1.7', 'maxTaHrmt': '1537', 'mi10MaxRn': '', 'mi10MaxRnHrmt': '', 'hr1MaxRn': '', 'hr1MaxRnHrmt': '', 'sumRnDur': '', 'sumRn': '', 'maxInsWs': '11.4', 'maxInsWsWd': '290', 'maxInsWsHrmt': '1253', 'maxWs': '5.4', 'maxWsWd': '290', 'maxWsHrmt': '1301', 'avgWs': '2.5', 'hr24SumRws': '2178', 'maxWd': '270', 'avgTd': '-13.0', 'minRhm': '31', 'minRhmHrmt': '1533', 'avgRhm': '50.3', 'avgPv': '2.3', 'avgPa': '1016.9', 'maxPs': '1029.9', 'maxPsHrmt': '2348', 'minPs': '1026.0', 'minPsHrmt': '1537', 'avgPs': '1028.0', 'ssDur': '10.5', 'sumSsHr': '9.5', 'hr1MaxIcsrHrmt': '1300', 'hr1MaxIcsr': '2.39', 'sumGsr': '14.83', 'ddMefs': '', 'ddMefsHrmt': '', 'ddMes': '', 'ddMesHrmt': '', 'sumDpthFhsc': '', 'avgTca': '1.0', 'avgLmac': '0.3', 'avgTs': '-1.5', 'minTg': '-14.7', 'avgCm5Te': '-1.1', 'avgCm10Te': '-1.4', 'avgCm20Te': '-1.0', 'avgCm30Te': '-0.2', 'avgM05Te': '1.2', 'avgM10Te': '3.8', 'avgM15Te': '6.8', 'avgM30Te': '12.1', 'avgM50Te': '15.8', 'sumLrgEv': '1.7', 'sumSmlEv': '2.5', 'n99Rn': '', 'iscs': '', 'sumFogDur': ''}, {'stnId': '108', 'stnNm': '서울', 'tm': '2022-02-07', 'avgTa': '-2.5', 'minTa': '-7.3', 'minTaHrmt': '0510', 'maxTa': '1.9', 'maxTaHrmt': '1259', 'mi10MaxRn': '', 'mi10MaxRnHrmt': '', 'hr1MaxRn': '', 'hr1MaxRnHrmt': '', 'sumRnDur': '', 'sumRn': '', 'maxInsWs': '9.7', 'maxInsWsWd': '290', 'maxInsWsHrmt': '1358', 'maxWs': '4.6', 'maxWsWd': '290', 'maxWsHrmt': '1424', 'avgWs': '1.8', 'hr24SumRws': '1537', 'maxWd': '270', 'avgTd': '-11.6', 'minRhm': '31', 'minRhmHrmt': '1313', 'avgRhm': '51.3', 'avgPv': '2.6', 'avgPa': '1017.5', 'maxPs': '1030.2', 'maxPsHrmt': '1036', 'minPs': '1026.3', 'minPsHrmt': '1511', 'avgPs': '1028.5', 'ssDur': '10.5', 'sumSsHr': '6.5', 'hr1MaxIcsrHrmt': '1200', 'hr1MaxIcsr': '2.04', 'sumGsr': '10.41', 'ddMefs': '', 'ddMefsHrmt': '', 'ddMes': '', 'ddMesHrmt': '', 'sumDpthFhsc': '', 'avgTca': '6.1', 'avgLmac': '1.3', 'avgTs': '-1.6', 'minTg': '-13.7', 'avgCm5Te': '-0.8', 'avgCm10Te': '-1.1', 'avgCm20Te': '-0.9', 'avgCm30Te': '-0.2', 'avgM05Te': '1.2', 'avgM10Te': '3.8', 'avgM15Te': '6.7', 'avgM30Te': '12.1', 'avgM50Te': '15.8', 'sumLrgEv': '1.3', 'sumSmlEv': '1.8', 'n99Rn': '', 'iscs': '', 'sumFogDur': ''}, {'stnId': '108', 'stnNm': '서울', 'tm': '2022-02-08', 'avgTa': '-0.1', 'minTa': '-4.1', 'minTaHrmt': '0629', 'maxTa': '5.6', 'maxTaHrmt': '1555', 'mi10MaxRn': '', 'mi10MaxRnHrmt': '', 'hr1MaxRn': '', 'hr1MaxRnHrmt': '', 'sumRnDur': '', 'sumRn': '', 'maxInsWs': '6.8', 'maxInsWsWd': '320', 'maxInsWsHrmt': '1335', 'maxWs': '3.7', 'maxWsWd': '290', 'maxWsHrmt': '1440', 'avgWs': '1.9', 'hr24SumRws': '1648', 'maxWd': '270', 'avgTd': '-9.0', 'minRhm': '26', 'minRhmHrmt': '1556', 'avgRhm': '53.8', 'avgPv': '3.1', 'avgPa': '1016.6', 'maxPs': '1028.5', 'maxPsHrmt': '2245', 'minPs': '1025.9', 'minPsHrmt': '1629', 'avgPs': '1027.5', 'ssDur': '10.6', 'sumSsHr': '8.1', 'hr1MaxIcsrHrmt': '1300', 'hr1MaxIcsr': '2.36', 'sumGsr': '14.49', 'ddMefs': '', 'ddMefsHrmt': '', 'ddMes': '', 'ddMesHrmt': '', 'sumDpthFhsc': '', 'avgTca': '1.5', 'avgLmac': '0.4', 'avgTs': '1.3', 'minTg': '-10.1', 'avgCm5Te': '-0.3', 'avgCm10Te': '-0.8', 'avgCm20Te': '-0.7', 'avgCm30Te': '-0.2', 'avgM05Te': '1.2', 'avgM10Te': '3.7', 'avgM15Te': '6.7', 'avgM30Te': '12.0', 'avgM50Te': '15.8', 'sumLrgEv': '1.9', 'sumSmlEv': '2.7', 'n99Rn': '', 'iscs': '', 'sumFogDur': ''}, {'stnId': '108', 'stnNm': '서울', 'tm': '2022-02-09', 'avgTa': '1.0', 'minTa': '-4.3', 'minTaHrmt': '0757', 'maxTa': '7.2', 'maxTaHrmt': '1400', 'mi10MaxRn': '', 'mi10MaxRnHrmt': '', 'hr1MaxRn': '', 'hr1MaxRnHrmt': '', 'sumRnDur': '', 'sumRn': '', 'maxInsWs': '5.7', 'maxInsWsWd': '320', 'maxInsWsHrmt': '2112', 'maxWs': '3.5', 'maxWsWd': '290', 'maxWsHrmt': '2101', 'avgWs': '1.8', 'hr24SumRws': '1591', 'maxWd': '20', 'avgTd': '-8.4', 'minRhm': '26', 'minRhmHrmt': '1527', 'avgRhm': '52.3', 'avgPv': '3.2', 'avgPa': '1014.7', 'maxPs': '1029.0', 'maxPsHrmt': '0824', 'minPs': '1023.0', 'minPsHrmt': '1643', 'avgPs': '1025.6', 'ssDur': '10.6', 'sumSsHr': '9.2', 'hr1MaxIcsrHrmt': '1300', 'hr1MaxIcsr': '2.09', 'sumGsr': '12.8', 'ddMefs': '', 'ddMefsHrmt': '', 'ddMes': '', 'ddMesHrmt': '', 'sumDpthFhsc': '', 'avgTca': '5.5', 'avgLmac': '0.0', 'avgTs': '0.9', 'minTg': '-11.2', 'avgCm5Te': '-0.2', 'avgCm10Te': '-0.6', 'avgCm20Te': '-0.6', 'avgCm30Te': '-0.1', 'avgM05Te': '1.2', 'avgM10Te': '3.7', 'avgM15Te': '6.7', 'avgM30Te': '11.9', 'avgM50Te': '15.7', 'sumLrgEv': '1.8', 'sumSmlEv': '2.6', 'n99Rn': '', 'iscs': '', 'sumFogDur': ''}, {'stnId': '108', 'stnNm': '서울', 'tm': '2022-02-10', 'avgTa': '1.4', 'minTa': '-3.2', 'minTaHrmt': '0707', 'maxTa': '6.7', 'maxTaHrmt': '1544', 'mi10MaxRn': '', 'mi10MaxRnHrmt': '', 'hr1MaxRn': '', 'hr1MaxRnHrmt': '', 'sumRnDur': '', 'sumRn': '', 'maxInsWs': '8.8', 'maxInsWsWd': '320', 'maxInsWsHrmt': '1439', 'maxWs': '4.9', 'maxWsWd': '320', 'maxWsHrmt': '1447', 'avgWs': '2.3', 'hr24SumRws': '1949', 'maxWd': '270', 'avgTd': '-6.3', 'minRhm': '33', 'minRhmHrmt': '1335', 'avgRhm': '57.8', 'avgPv': '3.9', 'avgPa': '1012.5', 'maxPs': '1024.9', 'maxPsHrmt': '2303', 'minPs': '1021.9', 'minPsHrmt': '1431', 'avgPs': '1023.3', 'ssDur': '10.6', 'sumSsHr': '9.6', 'hr1MaxIcsrHrmt': '1200', 'hr1MaxIcsr': '2.37', 'sumGsr': '14.93', 'ddMefs': '', 'ddMefsHrmt': '', 'ddMes': '', 'ddMesHrmt': '', 'sumDpthFhsc': '', 'avgTca': '1.6', 'avgLmac': '0.0', 'avgTs': '2.1', 'minTg': '-10.0', 'avgCm5Te': '0.1', 'avgCm10Te': '-0.4', 'avgCm20Te': '-0.5', 'avgCm30Te': '-0.1', 'avgM05Te': '1.2', 'avgM10Te': '3.7', 'avgM15Te': '6.6', 'avgM30Te': '11.9', 'avgM50Te': '15.7', 'sumLrgEv': '2.0', 'sumSmlEv': '2.8', 'n99Rn': '', 'iscs': '', 'sumFogDur': ''}, {'stnId': '108', 'stnNm': '서울', 'tm': '2022-02-11', 'avgTa': '2.9', 'minTa': '-2.6', 'minTaHrmt': '0740', 'maxTa': '8.8', 'maxTaHrmt': '1449', 'mi10MaxRn': '', 'mi10MaxRnHrmt': '', 'hr1MaxRn': '', 'hr1MaxRnHrmt': '', 'sumRnDur': '', 'sumRn': '', 'maxInsWs': '6.8', 'maxInsWsWd': '270', 'maxInsWsHrmt': '1439', 'maxWs': '3.5', 'maxWsWd': '250', 'maxWsHrmt': '1447', 'avgWs': '1.8', 'hr24SumRws': '1553', 'maxWd': '270', 'avgTd': '-4.3', 'minRhm': '34', 'minRhmHrmt': '1453', 'avgRhm': '61.1', 'avgPv': '4.5', 'avgPa': '1015.5', 'maxPs': '1028.2', 'maxPsHrmt': '0900', 'minPs': '1024.5', 'minPsHrmt': '0127', 'avgPs': '1026.3', 'ssDur': '10.7', 'sumSsHr': '8.9', 'hr1MaxIcsrHrmt': '1200', 'hr1MaxIcsr': '2.16', 'sumGsr': '13.28', 'ddMefs': '', 'ddMefsHrmt': '', 'ddMes': '', 'ddMesHrmt': '', 'sumDpthFhsc': '', 'avgTca': '2.6', 'avgLmac': '0.0', 'avgTs': '3.3', 'minTg': '-10.5', 'avgCm5Te': '0.2', 'avgCm10Te': '-0.3', 'avgCm20Te': '-0.4', 'avgCm30Te': '-0.1', 'avgM05Te': '1.2', 'avgM10Te': '3.6', 'avgM15Te': '6.6', 'avgM30Te': '11.8', 'avgM50Te': '15.6', 'sumLrgEv': '1.9', 'sumSmlEv': '2.7', 'n99Rn': '', 'iscs': '{박무}0040-{박무}{강도0}0300-{박무}{강도0}0600-0805.  {연무}2025-{연무}{강도0}2100-{연무}{강도0}2400-', 'sumFogDur': ''}, {'stnId': '108', 'stnNm': '서울', 'tm': '2022-02-12', 'avgTa': '4.8', 'minTa': '-0.1', 'minTaHrmt': '0727', 'maxTa': '10.4', 'maxTaHrmt': '1605', 'mi10MaxRn': '', 'mi10MaxRnHrmt': '', 'hr1MaxRn': '', 'hr1MaxRnHrmt': '', 'sumRnDur': '', 'sumRn': '', 'maxInsWs': '6.7', 'maxInsWsWd': '250', 'maxInsWsHrmt': '1433', 'maxWs': '3.8', 'maxWsWd': '270', 'maxWsHrmt': '1516', 'avgWs': '1.7', 'hr24SumRws': '1461', 'maxWd': '270', 'avgTd': '-6.1', 'minRhm': '22', 'minRhmHrmt': '1409', 'avgRhm': '50.4', 'avgPv': '4.1', 'avgPa': '1014.0', 'maxPs': '1027.1', 'maxPsHrmt': '0852', 'minPs': '1022.6', 'minPsHrmt': '1704', 'avgPs': '1024.7', 'ssDur': '10.7', 'sumSsHr': '9.3', 'hr1MaxIcsrHrmt': '1200', 'hr1MaxIcsr': '2.39', 'sumGsr': '15.11', 'ddMefs': '', 'ddMefsHrmt': '', 'ddMes': '', 'ddMesHrmt': '', 'sumDpthFhsc': '', 'avgTca': '3.5', 'avgLmac': '0.0', 'avgTs': '5.1', 'minTg': '-5.5', 'avgCm5Te': '0.4', 'avgCm10Te': '-0.2', 'avgCm20Te': '-0.4', 'avgCm30Te': '0.0', 'avgM05Te': '1.2', 'avgM10Te': '3.6', 'avgM15Te': '6.5', 'avgM30Te': '11.7', 'avgM50Te': '15.6', 'sumLrgEv': '2.6', 'sumSmlEv': '3.8', 'n99Rn': '', 'iscs': '{박무}0435-{박무}{강도1}0600-{박무}{강도0}0900-1010.  -{연무}-{연무}{강도0}0300-0440. {연무}1005-{연무}{강도0}1200-1235. ', 'sumFogDur': ''}, {'stnId': '108', 'stnNm': '서울', 'tm': '2022-02-13', 'avgTa': '4.8', 'minTa': '1.6', 'minTaHrmt': '0330', 'maxTa': '9.5', 'maxTaHrmt': '1616', 'mi10MaxRn': '', 'mi10MaxRnHrmt': '', 'hr1MaxRn': '', 'hr1MaxRnHrmt': '', 'sumRnDur': '', 'sumRn': '', 'maxInsWs': '5.4', 'maxInsWsWd': '340', 'maxInsWsHrmt': '1413', 'maxWs': '3.5', 'maxWsWd': '320', 'maxWsHrmt': '1507', 'avgWs': '1.8', 'hr24SumRws': '1543', 'maxWd': '50', 'avgTd': '-6.3', 'minRhm': '32', 'minRhmHrmt': '1634', 'avgRhm': '44.9', 'avgPv': '3.9', 'avgPa': '1011.3', 'maxPs': '1023.5', 'maxPsHrmt': '0230', 'minPs': '1020.1', 'minPsHrmt': '1718', 'avgPs': '1022.0', 'ssDur': '10.8', 'sumSsHr': '3.0', 'hr1MaxIcsrHrmt': '1000', 'hr1MaxIcsr': '1.39', 'sumGsr': '9.29', 'ddMefs': '', 'ddMefsHrmt': '', 'ddMes': '', 'ddMesHrmt': '', 'sumDpthFhsc': '', 'avgTca': '5.3', 'avgLmac': '0.9', 'avgTs': '2.2', 'minTg': '-5.7', 'avgCm5Te': '0.4', 'avgCm10Te': '-0.2', 'avgCm20Te': '-0.3', 'avgCm30Te': '0.0', 'avgM05Te': '1.2', 'avgM10Te': '3.6', 'avgM15Te': '6.5', 'avgM30Te': '11.7', 'avgM50Te': '15.6', 'sumLrgEv': '1.7', 'sumSmlEv': '2.4', 'n99Rn': '', 'iscs': '{햇무리}0855-1230. ', 'sumFogDur': ''}, {'stnId': '108', 'stnNm': '서울', 'tm': '2022-02-14', 'avgTa': '2.5', 'minTa': '-1.3', 'minTaHrmt': '2352', 'maxTa': '8.1', 'maxTaHrmt': '1248', 'mi10MaxRn': '', 'mi10MaxRnHrmt': '', 'hr1MaxRn': '', 'hr1MaxRnHrmt': '', 'sumRnDur': '2.42', 'sumRn': '1.7', 'maxInsWs': '10.2', 'maxInsWsWd': '230', 'maxInsWsHrmt': '1426', 'maxWs': '5.7', 'maxWsWd': '270', 'maxWsHrmt': '1554', 'avgWs': '2.9', 'hr24SumRws': '2470', 'maxWd': '70', 'avgTd': '-3.0', 'minRhm': '43', 'minRhmHrmt': '1414', 'avgRhm': '68.3', 'avgPv': '5.0', 'avgPa': '1009.5', 'maxPs': '1022.1', 'maxPsHrmt': '0152', 'minPs': '1017.7', 'minPsHrmt': '1431', 'avgPs': '1020.2', 'ssDur': '10.8', 'sumSsHr': '0.9', 'hr1MaxIcsrHrmt': '1200', 'hr1MaxIcsr': '1.55', 'sumGsr': '7.04', 'ddMefs': '', 'ddMefsHrmt': '', 'ddMes': '', 'ddMesHrmt': '', 'sumDpthFhsc': '', 'avgTca': '6.6', 'avgLmac': '3.1', 'avgTs': '1.4', 'minTg': '-6.2', 'avgCm5Te': '0.5', 'avgCm10Te': '-0.1', 'avgCm20Te': '-0.3', 'avgCm30Te': '0.1', 'avgM05Te': '1.2', 'avgM10Te': '3.6', 'avgM15Te': '6.5', 'avgM30Te': '11.6', 'avgM50Te': '15.5', 'sumLrgEv': '1.3', 'sumSmlEv': '1.8', 'n99Rn': '1.7', 'iscs': '{비}1530-1755.  {박무}1540-{박무}{강도0}1800-2005.  {연무}1345-1405. ', 'sumFogDur': ''}, {'stnId': '108', 'stnNm': '서울', 'tm': '2022-02-15', 'avgTa': '-4.7', 'minTa': '-7.7', 'minTaHrmt': '2321', 'maxTa': '-1.3', 'maxTaHrmt': '0001', 'mi10MaxRn': '', 'mi10MaxRnHrmt': '', 'hr1MaxRn': '', 'hr1MaxRnHrmt': '', 'sumRnDur': '12.17', 'sumRn': '0.0', 'maxInsWs': '9.9', 'maxInsWsWd': '270', 'maxInsWsHrmt': '0025', 'maxWs': '5.7', 'maxWsWd': '270', 'maxWsHrmt': '0447', 'avgWs': '3.8', 'hr24SumRws': '3315', 'maxWd': '270', 'avgTd': '-11.8', 'minRhm': '44', 'minRhmHrmt': '2013', 'avgRhm': '58.0', 'avgPv': '2.5', 'avgPa': '1011.1', 'maxPs': '1023.7', 'maxPsHrmt': '2223', 'minPs': '1020.5', 'minPsHrmt': '0333', 'avgPs': '1022.1', 'ssDur': '10.8', 'sumSsHr': '3.0', 'hr1MaxIcsrHrmt': '1300', 'hr1MaxIcsr': '1.86', 'sumGsr': '9.99', 'ddMefs': '', 'ddMefsHrmt': '', 'ddMes': '', 'ddMesHrmt': '', 'sumDpthFhsc': '', 'avgTca': '5.6', 'avgLmac': '5.6', 'avgTs': '-1.5', 'minTg': '-9.0', 'avgCm5Te': '0.4', 'avgCm10Te': '-0.1', 'avgCm20Te': '-0.3', 'avgCm30Te': '0.1', 'avgM05Te': '1.2', 'avgM10Te': '3.6', 'avgM15Te': '6.4', 'avgM30Te': '11.6', 'avgM50Te': '15.5', 'sumLrgEv': '1.1', 'sumSmlEv': '1.6', 'n99Rn': '0.0', 'iscs': '{눈}0105-{눈}{강도0}0300-{눈}{강도0}0600-{눈}{강도0}0900-1110. {눈}1415-{눈}{강도0}1500-1620. ', 'sumFogDur': ''}, {'stnId': '108', 'stnNm': '서울', 'tm': '2022-02-16', 'avgTa': '-7.3', 'minTa': '-9.6', 'minTaHrmt': '2400', 'maxTa': '-4.1', 'maxTaHrmt': '1526', 'mi10MaxRn': '', 'mi10MaxRnHrmt': '', 'hr1MaxRn': '', 'hr1MaxRnHrmt': '', 'sumRnDur': '0.33', 'sumRn': '0.0', 'maxInsWs': '11.4', 'maxInsWsWd': '270', 'maxInsWsHrmt': '1259', 'maxWs': '6.8', 'maxWsWd': '270', 'maxWsHrmt': '1308', 'avgWs': '3.7', 'hr24SumRws': '3203', 'maxWd': '290', 'avgTd': '-16.1', 'minRhm': '32', 'minRhmHrmt': '1359', 'avgRhm': '50.4', 'avgPv': '1.8', 'avgPa': '1012.9', 'maxPs': '1025.7', 'maxPsHrmt': '2354', 'minPs': '1022.2', 'minPsHrmt': '1605', 'avgPs': '1024.1', 'ssDur': '10.9', 'sumSsHr': '9.0', 'hr1MaxIcsrHrmt': '1200', 'hr1MaxIcsr': '2.67', 'sumGsr': '16.28', 'ddMefs': '', 'ddMefsHrmt': '', 'ddMes': '', 'ddMesHrmt': '', 'sumDpthFhsc': '', 'avgTca': '0.9', 'avgLmac': '0.9', 'avgTs': '-2.3', 'minTg': '-11.1', 'avgCm5Te': '0.1', 'avgCm10Te': '-0.3', 'avgCm20Te': '-0.3', 'avgCm30Te': '0.1', 'avgM05Te': '1.2', 'avgM10Te': '3.5', 'avgM15Te': '6.4', 'avgM30Te': '11.5', 'avgM50Te': '15.4', 'sumLrgEv': '1.5', 'sumSmlEv': '2.2', 'n99Rn': '', 'iscs': '{눈}0630-0650. ', 'sumFogDur': ''}, {'stnId': '108', 'stnNm': '서울', 'tm': '2022-02-17', 'avgTa': '-6.2', 'minTa': '-10.7', 'minTaHrmt': '0752', 'maxTa': '-0.5', 'maxTaHrmt': '1554', 'mi10MaxRn': '', 'mi10MaxRnHrmt': '', 'hr1MaxRn': '', 'hr1MaxRnHrmt': '', 'sumRnDur': '', 'sumRn': '', 'maxInsWs': '10.4', 'maxInsWsWd': '290', 'maxInsWsHrmt': '0248', 'maxWs': '4.9', 'maxWsWd': '290', 'maxWsHrmt': '0250', 'avgWs': '2.5', 'hr24SumRws': '2171', 'maxWd': '270', 'avgTd': '-17.3', 'minRhm': '28', 'minRhmHrmt': '1559', 'avgRhm': '41.6', 'avgPv': '1.6', 'avgPa': '1017.5', 'maxPs': '1031.2', 'maxPsHrmt': '2359', 'minPs': '1025.6', 'minPsHrmt': '0118', 'avgPs': '1028.7', 'ssDur': '10.9', 'sumSsHr': '9.8', 'hr1MaxIcsrHrmt': '1200', 'hr1MaxIcsr': '2.64', 'sumGsr': '17.2', 'ddMefs': '', 'ddMefsHrmt': '', 'ddMes': '', 'ddMesHrmt': '', 'sumDpthFhsc': '', 'avgTca': '0.0', 'avgLmac': '0.0', 'avgTs': '-0.1', 'minTg': '-12.8', 'avgCm5Te': '-0.6', 'avgCm10Te': '-0.8', 'avgCm20Te': '-0.4', 'avgCm30Te': '0.1', 'avgM05Te': '1.2', 'avgM10Te': '3.5', 'avgM15Te': '6.4', 'avgM30Te': '11.5', 'avgM50Te': '15.4', 'sumLrgEv': '1.7', 'sumSmlEv': '2.4', 'n99Rn': '', 'iscs': '', 'sumFogDur': ''}, {'stnId': '108', 'stnNm': '서울', 'tm': '2022-02-18', 'avgTa': '-1.2', 'minTa': '-8.0', 'minTaHrmt': '0716', 'maxTa': '5.7', 'maxTaHrmt': '1531', 'mi10MaxRn': '', 'mi10MaxRnHrmt': '', 'hr1MaxRn': '', 'hr1MaxRnHrmt': '', 'sumRnDur': '', 'sumRn': '', 'maxInsWs': '6.1', 'maxInsWsWd': '290', 'maxInsWsHrmt': '1809', 'maxWs': '3.6', 'maxWsWd': '270', 'maxWsHrmt': '1731', 'avgWs': '2.0', 'hr24SumRws': '1720', 'maxWd': '20', 'avgTd': '-13.5', 'minRhm': '21', 'minRhmHrmt': '1526', 'avgRhm': '40.4', 'avgPv': '2.2', 'avgPa': '1018.8', 'maxPs': '1033.2', 'maxPsHrmt': '0728', 'minPs': '1026.3', 'minPsHrmt': '2348', 'avgPs': '1029.8', 'ssDur': '10.9', 'sumSsHr': '8.6', 'hr1MaxIcsrHrmt': '1200', 'hr1MaxIcsr': '2.55', 'sumGsr': '15.91', 'ddMefs': '', 'ddMefsHrmt': '', 'ddMes': '', 'ddMesHrmt': '', 'sumDpthFhsc': '', 'avgTca': '3.9', 'avgLmac': '1.0', 'avgTs': '1.6', 'minTg': '-13.7', 'avgCm5Te': '-0.5', 'avgCm10Te': '-0.8', 'avgCm20Te': '-0.5', 'avgCm30Te': '0.1', 'avgM05Te': '1.2', 'avgM10Te': '3.5', 'avgM15Te': '6.3', 'avgM30Te': '11.4', 'avgM50Te': '15.3', 'sumLrgEv': '2.2', 'sumSmlEv': '3.2', 'n99Rn': '', 'iscs': '', 'sumFogDur': ''}, {'stnId': '108', 'stnNm': '서울', 'tm': '2022-02-19', 'avgTa': '-1.7', 'minTa': '-6.2', 'minTaHrmt': '2345', 'maxTa': '3.7', 'maxTaHrmt': '1403', 'mi10MaxRn': '', 'mi10MaxRnHrmt': '', 'hr1MaxRn': '', 'hr1MaxRnHrmt': '', 'sumRnDur': '2.17', 'sumRn': '0.1', 'maxInsWs': '11.5', 'maxInsWsWd': '290', 'maxInsWsHrmt': '2010', 'maxWs': '6.6', 'maxWsWd': '290', 'maxWsHrmt': '1959', 'avgWs': '2.9', 'hr24SumRws': '2531', 'maxWd': '290', 'avgTd': '-10.3', 'minRhm': '38', 'minRhmHrmt': '1500', 'avgRhm': '52.9', 'avgPv': '2.9', 'avgPa': '1013.0', 'maxPs': '1026.7', 'maxPsHrmt': '0026', 'minPs': '1021.4', 'minPsHrmt': '1655', 'avgPs': '1024.0', 'ssDur': '11.0', 'sumSsHr': '2.9', 'hr1MaxIcsrHrmt': '1300', 'hr1MaxIcsr': '2.06', 'sumGsr': '9.25', 'ddMefs': '0.1', 'ddMefsHrmt': '1730', 'ddMes': '0.1', 'ddMesHrmt': '1730', 'sumDpthFhsc': '0.1', 'avgTca': '6.5', 'avgLmac': '3.1', 'avgTs': '0.1', 'minTg': '-8.6', 'avgCm5Te': '0.2', 'avgCm10Te': '-0.3', 'avgCm20Te': '-0.4', 'avgCm30Te': '0.1', 'avgM05Te': '1.2', 'avgM10Te': '3.5', 'avgM15Te': '6.3', 'avgM30Te': '11.3', 'avgM50Te': '15.3', 'sumLrgEv': '1.4', 'sumSmlEv': '2.0', 'n99Rn': '0.1', 'iscs': '{눈}1605-{눈}{강도0}1800-1815.  {달무리}0255-0330. ', 'sumFogDur': ''}, {'stnId': '108', 'stnNm': '서울', 'tm': '2022-02-20', 'avgTa': '-4.8', 'minTa': '-8.4', 'minTaHrmt': '0703', 'maxTa': '-0.5', 'maxTaHrmt': '1548', 'mi10MaxRn': '', 'mi10MaxRnHrmt': '', 'hr1MaxRn': '', 'hr1MaxRnHrmt': '', 'sumRnDur': '', 'sumRn': '', 'maxInsWs': '11.0', 'maxInsWsWd': '270', 'maxInsWsHrmt': '1502', 'maxWs': '6.3', 'maxWsWd': '290', 'maxWsHrmt': '1145', 'avgWs': '4.1', 'hr24SumRws': '3503', 'maxWd': '270', 'avgTd': '-16.3', 'minRhm': '24', 'minRhmHrmt': '1619', 'avgRhm': '41.1', 'avgPv': '1.7', 'avgPa': '1015.5', 'maxPs': '1029.1', 'maxPsHrmt': '2319', 'minPs': '1024.2', 'minPsHrmt': '0001', 'avgPs': '1026.6', 'ssDur': '11.0', 'sumSsHr': '10.0', 'hr1MaxIcsrHrmt': '1200', 'hr1MaxIcsr': '2.76', 'sumGsr': '18.09', 'ddMefs': '', 'ddMefsHrmt': '', 'ddMes': '', 'ddMesHrmt': '', 'sumDpthFhsc': '', 'avgTca': '0.1', 'avgLmac': '0.1', 'avgTs': '0.3', 'minTg': '-9.7', 'avgCm5Te': '-0.2', 'avgCm10Te': '-0.6', 'avgCm20Te': '-0.4', 'avgCm30Te': '0.1', 'avgM05Te': '1.2', 'avgM10Te': '3.5', 'avgM15Te': '6.3', 'avgM30Te': '11.3', 'avgM50Te': '15.3', 'sumLrgEv': '1.9', 'sumSmlEv': '2.7', 'n99Rn': '', 'iscs': '', 'sumFogDur': ''}, {'stnId': '108', 'stnNm': '서울', 'tm': '2022-02-21', 'avgTa': '-3.0', 'minTa': '-8.1', 'minTaHrmt': '0623', 'maxTa': '3.6', 'maxTaHrmt': '1415', 'mi10MaxRn': '', 'mi10MaxRnHrmt': '', 'hr1MaxRn': '', 'hr1MaxRnHrmt': '', 'sumRnDur': '2.58', 'sumRn': '0.1', 'maxInsWs': '13.1', 'maxInsWsWd': '250', 'maxInsWsHrmt': '1336', 'maxWs': '7.1', 'maxWsWd': '270', 'maxWsHrmt': '1528', 'avgWs': '2.9', 'hr24SumRws': '2514', 'maxWd': '270', 'avgTd': '-10.6', 'minRhm': '41', 'minRhmHrmt': '1413', 'avgRhm': '56.3', 'avgPv': '2.8', 'avgPa': '1016.9', 'maxPs': '1030.9', 'maxPsHrmt': '2359', 'minPs': '1024.7', 'minPsHrmt': '1331', 'avgPs': '1027.9', 'ssDur': '11.0', 'sumSsHr': '6.5', 'hr1MaxIcsrHrmt': '1400', 'hr1MaxIcsr': '1.77', 'sumGsr': '11.41', 'ddMefs': '', 'ddMefsHrmt': '', 'ddMes': '', 'ddMesHrmt': '', 'sumDpthFhsc': '', 'avgTca': '2.5', 'avgLmac': '2.5', 'avgTs': '-0.1', 'minTg': '-14.8', 'avgCm5Te': '-0.4', 'avgCm10Te': '-0.8', 'avgCm20Te': '-0.5', 'avgCm30Te': '0.1', 'avgM05Te': '1.2', 'avgM10Te': '3.5', 'avgM15Te': '6.3', 'avgM30Te': '11.2', 'avgM50Te': '15.2', 'sumLrgEv': '1.5', 'sumSmlEv': '2.2', 'n99Rn': '0.1', 'iscs': '{눈}1050-{눈}{강도0}1200-1245. {눈}1330-1345. {눈}1425-1450. ', 'sumFogDur': ''}, {'stnId': '108', 'stnNm': '서울', 'tm': '2022-02-22', 'avgTa': '-4.5', 'minTa': '-8.0', 'minTaHrmt': '2400', 'maxTa': '0.5', 'maxTaHrmt': '1438', 'mi10MaxRn': '', 'mi10MaxRnHrmt': '', 'hr1MaxRn': '', 'hr1MaxRnHrmt': '', 'sumRnDur': '', 'sumRn': '', 'maxInsWs': '11.9', 'maxInsWsWd': '270', 'maxInsWsHrmt': '1946', 'maxWs': '5.6', 'maxWsWd': '320', 'maxWsHrmt': '1952', 'avgWs': '3.2', 'hr24SumRws': '2748', 'maxWd': '270', 'avgTd': '-15.2', 'minRhm': '33', 'minRhmHrmt': '0938', 'avgRhm': '43.3', 'avgPv': '1.9', 'avgPa': '1021.0', 'maxPs': '1033.9', 'maxPsHrmt': '2358', 'minPs': '1030.3', 'minPsHrmt': '1432', 'avgPs': '1032.1', 'ssDur': '11.1', 'sumSsHr': '8.0', 'hr1MaxIcsrHrmt': '1100', 'hr1MaxIcsr': '2.51', 'sumGsr': '15.64', 'ddMefs': '', 'ddMefsHrmt': '', 'ddMes': '', 'ddMesHrmt': '', 'sumDpthFhsc': '', 'avgTca': '1.0', 'avgLmac': '0.8', 'avgTs': '0.5', 'minTg': '-11.7', 'avgCm5Te': '-0.3', 'avgCm10Te': '-0.7', 'avgCm20Te': '-0.5', 'avgCm30Te': '0.1', 'avgM05Te': '1.2', 'avgM10Te': '3.5', 'avgM15Te': '6.2', 'avgM30Te': '11.2', 'avgM50Te': '15.2', 'sumLrgEv': '1.7', 'sumSmlEv': '2.5', 'n99Rn': '', 'iscs': '', 'sumFogDur': ''}, {'stnId': '108', 'stnNm': '서울', 'tm': '2022-02-23', 'avgTa': '-5.6', 'minTa': '-10.0', 'minTaHrmt': '0721', 'maxTa': '-0.6', 'maxTaHrmt': '1623', 'mi10MaxRn': '', 'mi10MaxRnHrmt': '', 'hr1MaxRn': '', 'hr1MaxRnHrmt': '', 'sumRnDur': '', 'sumRn': '', 'maxInsWs': '10.0', 'maxInsWsWd': '320', 'maxInsWsHrmt': '1447', 'maxWs': '5.5', 'maxWsWd': '290', 'maxWsHrmt': '1450', 'avgWs': '2.6', 'hr24SumRws': '2220', 'maxWd': '270', 'avgTd': '-18.0', 'minRhm': '24', 'minRhmHrmt': '1550', 'avgRhm': '38.5', 'avgPv': '1.5', 'avgPa': '1021.9', 'maxPs': '1035.6', 'maxPsHrmt': '0925', 'minPs': '1030.7', 'minPsHrmt': '1659', 'avgPs': '1033.1', 'ssDur': '11.1', 'sumSsHr': '10.2', 'hr1MaxIcsrHrmt': '1200', 'hr1MaxIcsr': '2.82', 'sumGsr': '18.78', 'ddMefs': '', 'ddMefsHrmt': '', 'ddMes': '', 'ddMesHrmt': '', 'sumDpthFhsc': '', 'avgTca': '0.0', 'avgLmac': '0.0', 'avgTs': '0.3', 'minTg': '-14.7', 'avgCm5Te': '-0.6', 'avgCm10Te': '-1.0', 'avgCm20Te': '-0.6', 'avgCm30Te': '0.1', 'avgM05Te': '1.2', 'avgM10Te': '3.4', 'avgM15Te': '6.2', 'avgM30Te': '11.1', 'avgM50Te': '15.1', 'sumLrgEv': '2.0', 'sumSmlEv': '2.9', 'n99Rn': '', 'iscs': '', 'sumFogDur': ''}, {'stnId': '108', 'stnNm': '서울', 'tm': '2022-02-24', 'avgTa': '-2.4', 'minTa': '-8.5', 'minTaHrmt': '0508', 'maxTa': '3.7', 'maxTaHrmt': '1454', 'mi10MaxRn': '', 'mi10MaxRnHrmt': '', 'hr1MaxRn': '', 'hr1MaxRnHrmt': '', 'sumRnDur': '', 'sumRn': '', 'maxInsWs': '10.2', 'maxInsWsWd': '230', 'maxInsWsHrmt': '1501', 'maxWs': '5.0', 'maxWsWd': '320', 'maxWsHrmt': '1232', 'avgWs': '2.2', 'hr24SumRws': '1880', 'maxWd': '290', 'avgTd': '-11.1', 'minRhm': '31', 'minRhmHrmt': '1113', 'avgRhm': '52.4', 'avgPv': '2.8', 'avgPa': '1019.6', 'maxPs': '1033.2', 'maxPsHrmt': '0925', 'minPs': '1028.3', 'minPsHrmt': '2349', 'avgPs': '1030.7', 'ssDur': '11.2', 'sumSsHr': '10.3', 'hr1MaxIcsrHrmt': '1200', 'hr1MaxIcsr': '2.72', 'sumGsr': '18.42', 'ddMefs': '', 'ddMefsHrmt': '', 'ddMes': '', 'ddMesHrmt': '', 'sumDpthFhsc': '', 'avgTca': '0.0', 'avgLmac': '0.0', 'avgTs': '1.9', 'minTg': '-15.8', 'avgCm5Te': '-0.6', 'avgCm10Te': '-1.0', 'avgCm20Te': '-0.7', 'avgCm30Te': '0.0', 'avgM05Te': '1.2', 'avgM10Te': '3.4', 'avgM15Te': '6.2', 'avgM30Te': '11.1', 'avgM50Te': '15.1', 'sumLrgEv': '1.9', 'sumSmlEv': '2.7', 'n99Rn': '', 'iscs': '', 'sumFogDur': ''}, {'stnId': '108', 'stnNm': '서울', 'tm': '2022-02-25', 'avgTa': '3.0', 'minTa': '-3.6', 'minTaHrmt': '0716', 'maxTa': '8.4', 'maxTaHrmt': '1537', 'mi10MaxRn': '', 'mi10MaxRnHrmt': '', 'hr1MaxRn': '', 'hr1MaxRnHrmt': '', 'sumRnDur': '', 'sumRn': '', 'maxInsWs': '8.4', 'maxInsWsWd': '250', 'maxInsWsHrmt': '1255', 'maxWs': '4.8', 'maxWsWd': '250', 'maxWsHrmt': '1555', 'avgWs': '2.3', 'hr24SumRws': '2009', 'maxWd': '230', 'avgTd': '-0.7', 'minRhm': '55', 'minRhmHrmt': '1234', 'avgRhm': '77.5', 'avgPv': '5.9', 'avgPa': '1015.6', 'maxPs': '1029.2', 'maxPsHrmt': '0848', 'minPs': '1023.6', 'minPsHrmt': '2353', 'avgPs': '1026.4', 'ssDur': '11.2', 'sumSsHr': '6.4', 'hr1MaxIcsrHrmt': '1100', 'hr1MaxIcsr': '2.16', 'sumGsr': '12.36', 'ddMefs': '', 'ddMefsHrmt': '', 'ddMes': '', 'ddMesHrmt': '', 'sumDpthFhsc': '', 'avgTca': '3.8', 'avgLmac': '3.8', 'avgTs': '3.6', 'minTg': '-11.1', 'avgCm5Te': '0.0', 'avgCm10Te': '-0.5', 'avgCm20Te': '-0.5', 'avgCm30Te': '0.0', 'avgM05Te': '1.2', 'avgM10Te': '3.4', 'avgM15Te': '6.2', 'avgM30Te': '11.0', 'avgM50Te': '15.1', 'sumLrgEv': '1.5', 'sumSmlEv': '2.1', 'n99Rn': '', 'iscs': '{박무}0520-{박무}{강도0}0600-0655. {박무}1935-{박무}{강도0}2100-{박무}{강도0}2400- {연무}1255-{연무}{강도0}1500-{연무}{강도0}1800-1940. ', 'sumFogDur': ''}, {'stnId': '108', 'stnNm': '서울', 'tm': '2022-02-26', 'avgTa': '5.4', 'minTa': '1.0', 'minTaHrmt': '2355', 'maxTa': '9.3', 'maxTaHrmt': '1313', 'mi10MaxRn': '', 'mi10MaxRnHrmt': '', 'hr1MaxRn': '', 'hr1MaxRnHrmt': '', 'sumRnDur': '3.58', 'sumRn': '1.1', 'maxInsWs': '14.5', 'maxInsWsWd': '290', 'maxInsWsHrmt': '2110', 'maxWs': '7.2', 'maxWsWd': '290', 'maxWsHrmt': '2116', 'avgWs': '3.9', 'hr24SumRws': '3369', 'maxWd': '200', 'avgTd': '1.8', 'minRhm': '63', 'minRhmHrmt': '1325', 'avgRhm': '78.4', 'avgPv': '7.1', 'avgPa': '1006.9', 'maxPs': '1023.7', 'maxPsHrmt': '0001', 'minPs': '1011.6', 'minPsHrmt': '1843', 'avgPs': '1017.5', 'ssDur': '11.2', 'sumSsHr': '0.2', 'hr1MaxIcsrHrmt': '1200', 'hr1MaxIcsr': '1.32', 'sumGsr': '5.58', 'ddMefs': '', 'ddMefsHrmt': '', 'ddMes': '', 'ddMesHrmt': '', 'sumDpthFhsc': '', 'avgTca': '8.0', 'avgLmac': '6.4', 'avgTs': '3.7', 'minTg': '-2.5', 'avgCm5Te': '0.5', 'avgCm10Te': '-0.2', 'avgCm20Te': '-0.4', 'avgCm30Te': '0.0', 'avgM05Te': '1.2', 'avgM10Te': '3.4', 'avgM15Te': '6.1', 'avgM30Te': '11.0', 'avgM50Te': '15.0', 'sumLrgEv': '1.2', 'sumSmlEv': '1.8', 'n99Rn': '1.1', 'iscs': '{비}1455-{비}{강도0}1500-1610. {비}1755-{비}{강도0}1800-2015.  -{박무}-{박무}{강도0}0300-{박무}{강도0}0600-{박무}{강도0}0900-1055. {박무}1845-{박무}{강도1}2100-2350.', 'sumFogDur': ''}, {'stnId': '108', 'stnNm': '서울', 'tm': '2022-02-27', 'avgTa': '3.7', 'minTa': '-1.6', 'minTaHrmt': '0730', 'maxTa': '9.1', 'maxTaHrmt': '1513', 'mi10MaxRn': '', 'mi10MaxRnHrmt': '', 'hr1MaxRn': '', 'hr1MaxRnHrmt': '', 'sumRnDur': '', 'sumRn': '', 'maxInsWs': '12.3', 'maxInsWsWd': '200', 'maxInsWsHrmt': '1501', 'maxWs': '7.4', 'maxWsWd': '250', 'maxWsHrmt': '1442', 'avgWs': '2.8', 'hr24SumRws': '2453', 'maxWd': '230', 'avgTd': '-4.5', 'minRhm': '33', 'minRhmHrmt': '1144', 'avgRhm': '56.6', 'avgPv': '4.5', 'avgPa': '1010.9', 'maxPs': '1023.2', 'maxPsHrmt': '0916', 'minPs': '1017.3', 'minPsHrmt': '0001', 'avgPs': '1021.6', 'ssDur': '11.3', 'sumSsHr': '10.5', 'hr1MaxIcsrHrmt': '1200', 'hr1MaxIcsr': '2.78', 'sumGsr': '18.62', 'ddMefs': '', 'ddMefsHrmt': '', 'ddMes': '', 'ddMesHrmt': '', 'sumDpthFhsc': '', 'avgTca': '0.0', 'avgLmac': '0.0', 'avgTs': '3.9', 'minTg': '-8.1', 'avgCm5Te': '0.5', 'avgCm10Te': '-0.2', 'avgCm20Te': '-0.3', 'avgCm30Te': '0.1', 'avgM05Te': '1.2', 'avgM10Te': '3.4', 'avgM15Te': '6.1', 'avgM30Te': '10.9', 'avgM50Te': '15.0', 'sumLrgEv': '2.5', 'sumSmlEv': '3.6', 'n99Rn': '', 'iscs': '', 'sumFogDur': ''}, {'stnId': '108', 'stnNm': '서울', 'tm': '2022-02-28', 'avgTa': '6.8', 'minTa': '2.7', 'minTaHrmt': '0048', 'maxTa': '11.5', 'maxTaHrmt': '1626', 'mi10MaxRn': '', 'mi10MaxRnHrmt': '', 'hr1MaxRn': '', 'hr1MaxRnHrmt': '', 'sumRnDur': '', 'sumRn': '', 'maxInsWs': '6.1', 'maxInsWsWd': '250', 'maxInsWsHrmt': '2254', 'maxWs': '3.3', 'maxWsWd': '200', 'maxWsHrmt': '2212', 'avgWs': '1.5', 'hr24SumRws': '1297', 'maxWd': '200', 'avgTd': '-0.5', 'minRhm': '36', 'minRhmHrmt': '1622', 'avgRhm': '62.3', 'avgPv': '6.0', 'avgPa': '1009.9', 'maxPs': '1024.2', 'maxPsHrmt': '0803', 'minPs': '1016.4', 'minPsHrmt': '2400', 'avgPs': '1020.5', 'ssDur': '11.3', 'sumSsHr': '3.4', 'hr1MaxIcsrHrmt': '1200', 'hr1MaxIcsr': '2.02', 'sumGsr': '10.5', 'ddMefs': '', 'ddMefsHrmt': '', 'ddMes': '', 'ddMesHrmt': '', 'sumDpthFhsc': '', 'avgTca': '8.0', 'avgLmac': '5.1', 'avgTs': '3.4', 'minTg': '-2.8', 'avgCm5Te': '0.8', 'avgCm10Te': '-0.1', 'avgCm20Te': '-0.3', 'avgCm30Te': '0.1', 'avgM05Te': '1.2', 'avgM10Te': '3.4', 'avgM15Te': '6.1', 'avgM30Te': '10.9', 'avgM50Te': '14.9', 'sumLrgEv': '1.6', 'sumSmlEv': '2.3', 'n99Rn': '2.3', 'iscs': '', 'sumFogDur': ''}, {'stnId': '108', 'stnNm': '서울', 'tm': '2022-03-01', 'avgTa': '5.8', 'minTa': '0.3', 'minTaHrmt': '2355', 'maxTa': '9.7', 'maxTaHrmt': '1616', 'mi10MaxRn': '', 'mi10MaxRnHrmt': '', 'hr1MaxRn': '', 'hr1MaxRnHrmt': '', 'sumRnDur': '7.08', 'sumRn': '2.3', 'maxInsWs': '9.8', 'maxInsWsWd': '290', 'maxInsWsHrmt': '2039', 'maxWs': '5.4', 'maxWsWd': '250', 'maxWsHrmt': '1630', 'avgWs': '2.3', 'hr24SumRws': '1978', 'maxWd': '270', 'avgTd': '0.5', 'minRhm': '46', 'minRhmHrmt': '1647', 'avgRhm': '70.5', 'avgPv': '6.6', 'avgPa': '1004.2', 'maxPs': '1018.5', 'maxPsHrmt': '2328', 'minPs': '1012.5', 'minPsHrmt': '1426', 'avgPs': '1014.7', 'ssDur': '11.4', 'sumSsHr': '2.5', 'hr1MaxIcsrHrmt': '1400', 'hr1MaxIcsr': '1.2', 'sumGsr': '6.49', 'ddMefs': '', 'ddMefsHrmt': '', 'ddMes': '', 'ddMesHrmt': '', 'sumDpthFhsc': '', 'avgTca': '6.1', 'avgLmac': '4.8', 'avgTs': '5.7', 'minTg': '-4.6', 'avgCm5Te': '1.1', 'avgCm10Te': '0.1', 'avgCm20Te': '-0.3', 'avgCm30Te': '0.1', 'avgM05Te': '1.2', 'avgM10Te': '3.3', 'avgM15Te': '6.0', 'avgM30Te': '10.8', 'avgM50Te': '14.9', 'sumLrgEv': '1.3', 'sumSmlEv': '1.8', 'n99Rn': '', 'iscs': '{비}0135-{비}{강도0}0300-{비}{강도0}0600-0840.  {박무}0455-{박무}{강도0}0600-{박무}{강도0}0900-{박무}{강도0}1200-1455. ', 'sumFogDur': ''}, {'stnId': '108', 'stnNm': '서울', 'tm': '2022-03-02', 'avgTa': '3.5', 'minTa': '-2.3', 'minTaHrmt': '0611', 'maxTa': '8.8', 'maxTaHrmt': '1256', 'mi10MaxRn': '', 'mi10MaxRnHrmt': '', 'hr1MaxRn': '', 'hr1MaxRnHrmt': '', 'sumRnDur': '', 'sumRn': '', 'maxInsWs': '10.6', 'maxInsWsWd': '250', 'maxInsWsHrmt': '1603', 'maxWs': '6.3', 'maxWsWd': '230', 'maxWsHrmt': '1547', 'avgWs': '2.7', 'hr24SumRws': '2336', 'maxWd': '270', 'avgTd': '-5.0', 'minRhm': '29', 'minRhmHrmt': '1201', 'avgRhm': '55.9', 'avgPv': '4.3', 'avgPa': '1007.0', 'maxPs': '1019.5', 'maxPsHrmt': '0852', 'minPs': '1015.9', 'minPsHrmt': '1634', 'avgPs': '1017.7', 'ssDur': '11.4', 'sumSsHr': '10.7', 'hr1MaxIcsrHrmt': '1200', 'hr1MaxIcsr': '2.81', 'sumGsr': '19.53', 'ddMefs': '', 'ddMefsHrmt': '', 'ddMes': '', 'ddMesHrmt': '', 'sumDpthFhsc': '', 'avgTca': '1.0', 'avgLmac': '1.0', 'avgTs': '4.0', 'minTg': '-8.2', 'avgCm5Te': '0.7', 'avgCm10Te': '0.0', 'avgCm20Te': '-0.3', 'avgCm30Te': '0.1', 'avgM05Te': '1.2', 'avgM10Te': '3.3', 'avgM15Te': '6.0', 'avgM30Te': '10.8', 'avgM50Te': '14.8', 'sumLrgEv': '2.7', 'sumSmlEv': '3.8', 'n99Rn': '', 'iscs': '', 'sumFogDur': ''}, {'stnId': '108', 'stnNm': '서울', 'tm': '2022-03-03', 'avgTa': '5.8', 'minTa': '0.9', 'minTaHrmt': '0720', 'maxTa': '12.4', 'maxTaHrmt': '1413', 'mi10MaxRn': '', 'mi10MaxRnHrmt': '', 'hr1MaxRn': '', 'hr1MaxRnHrmt': '', 'sumRnDur': '', 'sumRn': '', 'maxInsWs': '9.0', 'maxInsWsWd': '270', 'maxInsWsHrmt': '1607', 'maxWs': '4.7', 'maxWsWd': '290', 'maxWsHrmt': '1609', 'avgWs': '2.1', 'hr24SumRws': '1842', 'maxWd': '270', 'avgTd': '-4.6', 'minRhm': '24', 'minRhmHrmt': '1511', 'avgRhm': '52.9', 'avgPv': '4.5', 'avgPa': '1007.1', 'maxPs': '1019.4', 'maxPsHrmt': '0948', 'minPs': '1016.7', 'minPsHrmt': '1745', 'avgPs': '1017.7', 'ssDur': '11.4', 'sumSsHr': '10.6', 'hr1MaxIcsrHrmt': '1200', 'hr1MaxIcsr': '2.85', 'sumGsr': '19.16', 'ddMefs': '', 'ddMefsHrmt': '', 'ddMes': '', 'ddMesHrmt': '', 'sumDpthFhsc': '', 'avgTca': '0.0', 'avgLmac': '0.0', 'avgTs': '5.5', 'minTg': '-7.3', 'avgCm5Te': '1.4', 'avgCm10Te': '0.4', 'avgCm20Te': '-0.3', 'avgCm30Te': '0.1', 'avgM05Te': '1.2', 'avgM10Te': '3.3', 'avgM15Te': '6.0', 'avgM30Te': '10.8', 'avgM50Te': '14.8', 'sumLrgEv': '3.2', 'sumSmlEv': '4.5', 'n99Rn': '', 'iscs': '{박무}0230-{박무}{강도0}0300-{박무}{강도0}0600-0810. ', 'sumFogDur': ''}, {'stnId': '108', 'stnNm': '서울', 'tm': '2022-03-04', 'avgTa': '6.9', 'minTa': '0.6', 'minTaHrmt': '0652', 'maxTa': '14.6', 'maxTaHrmt': '1338', 'mi10MaxRn': '', 'mi10MaxRnHrmt': '', 'hr1MaxRn': '', 'hr1MaxRnHrmt': '', 'sumRnDur': '', 'sumRn': '', 'maxInsWs': '18.5', 'maxInsWsWd': '180', 'maxInsWsHrmt': '1414', 'maxWs': '8.8', 'maxWsWd': '180', 'maxWsHrmt': '1419', 'avgWs': '3.6', 'hr24SumRws': '3068', 'maxWd': '200', 'avgTd': '-0.5', 'minRhm': '35', 'minRhmHrmt': '1537', 'avgRhm': '60.5', 'avgPv': '6.1', 'avgPa': '1001.0', 'maxPs': '1017.6', 'maxPsHrmt': '0006', 'minPs': '1005.9', 'minPsHrmt': '1707', 'avgPs': '1011.4', 'ssDur': '11.5', 'sumSsHr': '3.7', 'hr1MaxIcsrHrmt': '1300', 'hr1MaxIcsr': '2.31', 'sumGsr': '10.65', 'ddMefs': '', 'ddMefsHrmt': '', 'ddMes': '', 'ddMesHrmt': '', 'sumDpthFhsc': '', 'avgTca': '5.1', 'avgLmac': '4.1', 'avgTs': '3.7', 'minTg': '-5.1', 'avgCm5Te': '1.7', 'avgCm10Te': '0.6', 'avgCm20Te': '-0.3', 'avgCm30Te': '0.2', 'avgM05Te': '1.7', 'avgM10Te': '3.3', 'avgM15Te': '6.0', 'avgM30Te': '10.7', 'avgM50Te': '14.8', 'sumLrgEv': '2.5', 'sumSmlEv': '3.6', 'n99Rn': '', 'iscs': '{박무}2005-{박무}{강도0}2100-{박무}{강도0}2400- {황사}2020-{황사}{강도0}2100-{황사}{강도0}2400-', 'sumFogDur': ''}, {'stnId': '108', 'stnNm': '서울', 'tm': '2022-03-05', 'avgTa': '2.3', 'minTa': '-0.7', 'minTaHrmt': '2341', 'maxTa': '6.7', 'maxTaHrmt': '1600', 'mi10MaxRn': '', 'mi10MaxRnHrmt': '', 'hr1MaxRn': '', 'hr1MaxRnHrmt': '', 'sumRnDur': '', 'sumRn': '', 'maxInsWs': '15.2', 'maxInsWsWd': '250', 'maxInsWsHrmt': '1434', 'maxWs': '7.5', 'maxWsWd': '250', 'maxWsHrmt': '1438', 'avgWs': '4.3', 'hr24SumRws': '3697', 'maxWd': '270', 'avgTd': '-11.0', 'minRhm': '22', 'minRhmHrmt': '1248', 'avgRhm': '38.4', 'avgPv': '2.7', 'avgPa': '1005.2', 'maxPs': '1020.0', 'maxPsHrmt': '2333', 'minPs': '1009.7', 'minPsHrmt': '0001', 'avgPs': '1015.8', 'ssDur': '11.5', 'sumSsHr': '10.5', 'hr1MaxIcsrHrmt': '1200', 'hr1MaxIcsr': '2.96', 'sumGsr': '20.26', 'ddMefs': '', 'ddMefsHrmt': '', 'ddMes': '', 'ddMesHrmt': '', 'sumDpthFhsc': '', 'avgTca': '0.1', 'avgLmac': '0.1', 'avgTs': '4.4', 'minTg': '-2.7', 'avgCm5Te': '1.5', 'avgCm10Te': '0.6', 'avgCm20Te': '-0.2', 'avgCm30Te': '0.5', 'avgM05Te': '2.6', 'avgM10Te': '3.4', 'avgM15Te': '6.0', 'avgM30Te': '10.7', 'avgM50Te': '14.7', 'sumLrgEv': '3.3', 'sumSmlEv': '4.7', 'n99Rn': '', 'iscs': '-{박무}-0115.  -{황사}-{황사}{강도0}0300-{황사}{강도0}0600-{황사}{강도0}0900-{황사}{강도0}1200-1320. ', 'sumFogDur': ''}, {'stnId': '108', 'stnNm': '서울', 'tm': '2022-03-06', 'avgTa': '1.4', 'minTa': '-3.0', 'minTaHrmt': '0629', 'maxTa': '6.8', 'maxTaHrmt': '1603', 'mi10MaxRn': '', 'mi10MaxRnHrmt': '', 'hr1MaxRn': '', 'hr1MaxRnHrmt': '', 'sumRnDur': '', 'sumRn': '', 'maxInsWs': '8.6', 'maxInsWsWd': '270', 'maxInsWsHrmt': '1733', 'maxWs': '4.9', 'maxWsWd': '320', 'maxWsHrmt': '1458', 'avgWs': '2.6', 'hr24SumRws': '2224', 'maxWd': '270', 'avgTd': '-11.5', 'minRhm': '20', 'minRhmHrmt': '1405', 'avgRhm': '39.5', 'avgPv': '2.6', 'avgPa': '1011.0', 'maxPs': '1023.8', 'maxPsHrmt': '0908', 'minPs': '1019.6', 'minPsHrmt': '1642', 'avgPs': '1021.8', 'ssDur': '11.6', 'sumSsHr': '10.8', 'hr1MaxIcsrHrmt': '1200', 'hr1MaxIcsr': '3.03', 'sumGsr': '21.0', 'ddMefs': '', 'ddMefsHrmt': '', 'ddMes': '', 'ddMesHrmt': '', 'sumDpthFhsc': '', 'avgTca': '1.3', 'avgLmac': '0.0', 'avgTs': '5.0', 'minTg': '-9.8', 'avgCm5Te': '1.4', 'avgCm10Te': '0.8', 'avgCm20Te': '0.7', 'avgCm30Te': '1.4', 'avgM05Te': '2.9', 'avgM10Te': '3.6', 'avgM15Te': '6.0', 'avgM30Te': '10.6', 'avgM50Te': '14.7', 'sumLrgEv': '3.0', 'sumSmlEv': '4.3', 'n99Rn': '', 'iscs': '', 'sumFogDur': ''}, {'stnId': '108', 'stnNm': '서울', 'tm': '2022-03-07', 'avgTa': '2.8', 'minTa': '-2.7', 'minTaHrmt': '0703', 'maxTa': '8.7', 'maxTaHrmt': '1505', 'mi10MaxRn': '', 'mi10MaxRnHrmt': '', 'hr1MaxRn': '', 'hr1MaxRnHrmt': '', 'sumRnDur': '', 'sumRn': '', 'maxInsWs': '6.5', 'maxInsWsWd': '270', 'maxInsWsHrmt': '1630', 'maxWs': '3.9', 'maxWsWd': '270', 'maxWsHrmt': '1633', 'avgWs': '2.0', 'hr24SumRws': '1734', 'maxWd': '270', 'avgTd': '-8.1', 'minRhm': '24', 'minRhmHrmt': '1422', 'avgRhm': '45.8', 'avgPv': '3.3', 'avgPa': '1010.0', 'maxPs': '1022.6', 'maxPsHrmt': '0741', 'minPs': '1018.8', 'minPsHrmt': '1502', 'avgPs': '1020.7', 'ssDur': '11.6', 'sumSsHr': '7.0', 'hr1MaxIcsrHrmt': '1200', 'hr1MaxIcsr': '2.49', 'sumGsr': '14.99', 'ddMefs': '', 'ddMefsHrmt': '', 'ddMes': '', 'ddMesHrmt': '', 'sumDpthFhsc': '', 'avgTca': '6.1', 'avgLmac': '2.4', 'avgTs': '3.9', 'minTg': '-8.5', 'avgCm5Te': '2.4', 'avgCm10Te': '1.7', 'avgCm20Te': '1.7', 'avgCm30Te': '2.0', 'avgM05Te': '3.0', 'avgM10Te': '3.8', 'avgM15Te': '6.0', 'avgM30Te': '10.6', 'avgM50Te': '14.7', 'sumLrgEv': '2.2', 'sumSmlEv': '3.1', 'n99Rn': '', 'iscs': '', 'sumFogDur': ''}, {'stnId': '108', 'stnNm': '서울', 'tm': '2022-03-08', 'avgTa': '6.0', 'minTa': '1.1', 'minTaHrmt': '0307', 'maxTa': '12.3', 'maxTaHrmt': '1455', 'mi10MaxRn': '', 'mi10MaxRnHrmt': '', 'hr1MaxRn': '', 'hr1MaxRnHrmt': '', 'sumRnDur': '', 'sumRn': '', 'maxInsWs': '7.5', 'maxInsWsWd': '290', 'maxInsWsHrmt': '1541', 'maxWs': '4.1', 'maxWsWd': '270', 'maxWsHrmt': '1550', 'avgWs': '2.0', 'hr24SumRws': '1692', 'maxWd': '270', 'avgTd': '-2.3', 'minRhm': '44', 'minRhmHrmt': '0048', 'avgRhm': '56.1', 'avgPv': '5.3', 'avgPa': '1008.6', 'maxPs': '1020.2', 'maxPsHrmt': '0143', 'minPs': '1017.3', 'minPsHrmt': '1452', 'avgPs': '1019.2', 'ssDur': '11.6', 'sumSsHr': '8.2', 'hr1MaxIcsrHrmt': '1100', 'hr1MaxIcsr': '2.59', 'sumGsr': '16.44', 'ddMefs': '', 'ddMefsHrmt': '', 'ddMes': '', 'ddMesHrmt': '', 'sumDpthFhsc': '', 'avgTca': '4.9', 'avgLmac': '3.5', 'avgTs': '6.8', 'minTg': '-5.3', 'avgCm5Te': '4.0', 'avgCm10Te': '3.2', 'avgCm20Te': '2.8', 'avgCm30Te': '2.7', 'avgM05Te': '3.2', 'avgM10Te': '4.0', 'avgM15Te': '6.1', 'avgM30Te': '10.5', 'avgM50Te': '14.6', 'sumLrgEv': '2.3', 'sumSmlEv': '3.2', 'n99Rn': '', 'iscs': '', 'sumFogDur': ''}, {'stnId': '108', 'stnNm': '서울', 'tm': '2022-03-09', 'avgTa': '7.1', 'minTa': '1.7', 'minTaHrmt': '0706', 'maxTa': '14.8', 'maxTaHrmt': '1520', 'mi10MaxRn': '', 'mi10MaxRnHrmt': '', 'hr1MaxRn': '', 'hr1MaxRnHrmt': '', 'sumRnDur': '', 'sumRn': '', 'maxInsWs': '6.5', 'maxInsWsWd': '270', 'maxInsWsHrmt': '1732', 'maxWs': '4.2', 'maxWsWd': '250', 'maxWsHrmt': '1728', 'avgWs': '1.9', 'hr24SumRws': '1667', 'maxWd': '270', 'avgTd': '1.3', 'minRhm': '34', 'minRhmHrmt': '1504', 'avgRhm': '69.6', 'avgPv': '6.7', 'avgPa': '1011.2', 'maxPs': '1023.6', 'maxPsHrmt': '0830', 'minPs': '1019.7', 'minPsHrmt': '0001', 'avgPs': '1021.8', 'ssDur': '11.7', 'sumSsHr': '8.7', 'hr1MaxIcsrHrmt': '1300', 'hr1MaxIcsr': '2.81', 'sumGsr': '18.85', 'ddMefs': '', 'ddMefsHrmt': '', 'ddMes': '', 'ddMesHrmt': '', 'sumDpthFhsc': '', 'avgTca': '2.3', 'avgLmac': '1.3', 'avgTs': '9.0', 'minTg': '-4.2', 'avgCm5Te': '5.4', 'avgCm10Te': '4.6', 'avgCm20Te': '4.1', 'avgCm30Te': '4.0', 'avgM05Te': '3.9', 'avgM10Te': '4.2', 'avgM15Te': '6.2', 'avgM30Te': '10.5', 'avgM50Te': '14.6', 'sumLrgEv': '', 'sumSmlEv': '', 'n99Rn': '', 'iscs': '{박무}0355-{박무}{강도0}0600-{박무}{강도0}0900-1010.  {연무}2040-{연무}{강도0}2100-2120. ', 'sumFogDur': ''}, {'stnId': '108', 'stnNm': '서울', 'tm': '2022-03-10', 'avgTa': '9.3', 'minTa': '4.2', 'minTaHrmt': '0658', 'maxTa': '15.8', 'maxTaHrmt': '1534', 'mi10MaxRn': '', 'mi10MaxRnHrmt': '', 'hr1MaxRn': '', 'hr1MaxRnHrmt': '', 'sumRnDur': '', 'sumRn': '', 'maxInsWs': '9.6', 'maxInsWsWd': '200', 'maxInsWsHrmt': '1435', 'maxWs': '5.1', 'maxWsWd': '200', 'maxWsHrmt': '1558', 'avgWs': '2.1', 'hr24SumRws': '1802', 'maxWd': '270', 'avgTd': '-1.6', 'minRhm': '17', 'minRhmHrmt': '1424', 'avgRhm': '51.4', 'avgPv': '5.5', 'avgPa': '1010.1', 'maxPs': '1022.5', 'maxPsHrmt': '0816', 'minPs': '1018.8', 'minPsHrmt': '1636', 'avgPs': '1020.6', 'ssDur': '11.7', 'sumSsHr': '9.3', 'hr1MaxIcsrHrmt': '1200', 'hr1MaxIcsr': '2.41', 'sumGsr': '16.75', 'ddMefs': '', 'ddMefsHrmt': '', 'ddMes': '', 'ddMesHrmt': '', 'sumDpthFhsc': '', 'avgTca': '6.6', 'avgLmac': '0.0', 'avgTs': '9.3', 'minTg': '-2.1', 'avgCm5Te': '6.6', 'avgCm10Te': '5.9', 'avgCm20Te': '5.3', 'avgCm30Te': '5.0', 'avgM05Te': '4.7', 'avgM10Te': '4.4', 'avgM15Te': '6.3', 'avgM30Te': '10.5', 'avgM50Te': '14.5', 'sumLrgEv': '3.4', 'sumSmlEv': '4.8', 'n99Rn': '', 'iscs': '{연무}0130-{연무}{강도0}0300-{연무}{강도0}0600-{연무}{강도0}0900-1020.  {햇무리}0950-1550.', 'sumFogDur': ''}, {'stnId': '108', 'stnNm': '서울', 'tm': '2022-03-11', 'avgTa': '11.2', 'minTa': '5.1', 'minTaHrmt': '0641', 'maxTa': '18.4', 'maxTaHrmt': '1544', 'mi10MaxRn': '', 'mi10MaxRnHrmt': '', 'hr1MaxRn': '', 'hr1MaxRnHrmt': '', 'sumRnDur': '', 'sumRn': '', 'maxInsWs': '6.4', 'maxInsWsWd': '270', 'maxInsWsHrmt': '1401', 'maxWs': '3.3', 'maxWsWd': '180', 'maxWsHrmt': '1330', 'avgWs': '1.9', 'hr24SumRws': '1654', 'maxWd': '20', 'avgTd': '3.2', 'minRhm': '44', 'minRhmHrmt': '1602', 'avgRhm': '58.4', 'avgPv': '7.9', 'avgPa': '1007.8', 'maxPs': '1020.3', 'maxPsHrmt': '0954', 'minPs': '1015.6', 'minPsHrmt': '1601', 'avgPs': '1018.1', 'ssDur': '11.8', 'sumSsHr': '5.9', 'hr1MaxIcsrHrmt': '1200', 'hr1MaxIcsr': '2.71', 'sumGsr': '14.49', 'ddMefs': '', 'ddMefsHrmt': '', 'ddMes': '', 'ddMesHrmt': '', 'sumDpthFhsc': '', 'avgTca': '5.3', 'avgLmac': '2.8', 'avgTs': '11.4', 'minTg': '-1.0', 'avgCm5Te': '7.6', 'avgCm10Te': '6.8', 'avgCm20Te': '6.1', 'avgCm30Te': '5.8', 'avgM05Te': '5.3', 'avgM10Te': '4.7', 'avgM15Te': '6.4', 'avgM30Te': '10.4', 'avgM50Te': '14.5', 'sumLrgEv': '2.6', 'sumSmlEv': '3.8', 'n99Rn': '', 'iscs': '', 'sumFogDur': ''}, {'stnId': '108', 'stnNm': '서울', 'tm': '2022-03-12', 'avgTa': '12.8', 'minTa': '6.3', 'minTaHrmt': '0632', 'maxTa': '19.5', 'maxTaHrmt': '1408', 'mi10MaxRn': '', 'mi10MaxRnHrmt': '', 'hr1MaxRn': '', 'hr1MaxRnHrmt': '', 'sumRnDur': '3.33', 'sumRn': '2.6', 'maxInsWs': '10.3', 'maxInsWsWd': '200', 'maxInsWsHrmt': '2128', 'maxWs': '5.2', 'maxWsWd': '180', 'maxWsHrmt': '2213', 'avgWs': '2.7', 'hr24SumRws': '2350', 'maxWd': '200', 'avgTd': '7.6', 'minRhm': '49', 'minRhmHrmt': '1213', 'avgRhm': '72.1', 'avgPv': '10.7', 'avgPa': '1004.4', 'maxPs': '1018.4', 'maxPsHrmt': '0753', 'minPs': '1010.8', 'minPsHrmt': '2247', 'avgPs': '1014.6', 'ssDur': '11.8', 'sumSsHr': '3.2', 'hr1MaxIcsrHrmt': '1200', 'hr1MaxIcsr': '2.35', 'sumGsr': '12.82', 'ddMefs': '', 'ddMefsHrmt': '', 'ddMes': '', 'ddMesHrmt': '', 'sumDpthFhsc': '', 'avgTca': '5.8', 'avgLmac': '4.4', 'avgTs': '12.1', 'minTg': '-0.5', 'avgCm5Te': '9.1', 'avgCm10Te': '8.1', 'avgCm20Te': '7.3', 'avgCm30Te': '6.8', 'avgM05Te': '6.1', 'avgM10Te': '5.0', 'avgM15Te': '6.5', 'avgM30Te': '10.4', 'avgM50Te': '14.5', 'sumLrgEv': '2.1', 'sumSmlEv': '3.0', 'n99Rn': '44.4', 'iscs': '{비}1935-{안개비}2025-{안개비}{강도0}2100-2135. {비}2240-{비}{강도0}2400- {박무}1950-{박무}{강도0}2100-2105. {박무}2335-{박무}{강도1}2400- {연무}1240-1310. ', 'sumFogDur': ''}, {'stnId': '108', 'stnNm': '서울', 'tm': '2022-03-13', 'avgTa': '11.7', 'minTa': '10.7', 'minTaHrmt': '0111', 'maxTa': '12.6', 'maxTaHrmt': '0001', 'mi10MaxRn': '', 'mi10MaxRnHrmt': '', 'hr1MaxRn': '', 'hr1MaxRnHrmt': '', 'sumRnDur': '12.42', 'sumRn': '42.1', 'maxInsWs': '9.5', 'maxInsWsWd': '200', 'maxInsWsHrmt': '0321', 'maxWs': '4.8', 'maxWsWd': '320', 'maxWsHrmt': '0043', 'avgWs': '1.9', 'hr24SumRws': '1661', 'maxWd': '250', 'avgTd': '10.9', 'minRhm': '90', 'minRhmHrmt': '1939', 'avgRhm': '95.5', 'avgPv': '13.0', 'avgPa': '1000.6', 'maxPs': '1013.7', 'maxPsHrmt': '2238', 'minPs': '1009.2', 'minPsHrmt': '1401', 'avgPs': '1010.9', 'ssDur': '11.8', 'sumSsHr': '0.0', 'hr1MaxIcsrHrmt': '1400', 'hr1MaxIcsr': '0.35', 'sumGsr': '2.1', 'ddMefs': '', 'ddMefsHrmt': '', 'ddMes': '', 'ddMesHrmt': '', 'sumDpthFhsc': '', 'avgTca': '9.4', 'avgLmac': '9.1', 'avgTs': '11.1', 'minTg': '8.2', 'avgCm5Te': '10.7', 'avgCm10Te': '9.9', 'avgCm20Te': '9.3', 'avgCm30Te': '8.7', 'avgM05Te': '7.5', 'avgM10Te': '5.4', 'avgM15Te': '6.6', 'avgM30Te': '10.4', 'avgM50Te': '14.4', 'sumLrgEv': '0.5', 'sumSmlEv': '0.8', 'n99Rn': '0.3', 'iscs': '-{비}-{시정(미만)}{1km}{비}0129-{시정(이상)}{1km}{비}0135-{비}{강도1}0300-{안개비}0510-{안개비}{강도0}0600-{안개비}{강도0}0900-1020. {안개비}1140-{안개비}{강도0}1200-1345.  -{박무}-{박무}{강도1}0300-{박무}{강도1}0600-{박무}{강도1}0900-{박무}{강도1}1200-{박무}{강도0}1500-{박무}{강도0}1800-2030.', 'sumFogDur': ''}, {'stnId': '108', 'stnNm': '서울', 'tm': '2022-03-14', 'avgTa': '8.2', 'minTa': '4.9', 'minTaHrmt': '2350', 'maxTa': '13.2', 'maxTaHrmt': '1205', 'mi10MaxRn': '', 'mi10MaxRnHrmt': '', 'hr1MaxRn': '', 'hr1MaxRnHrmt': '', 'sumRnDur': '5.58', 'sumRn': '8.7', 'maxInsWs': '12.0', 'maxInsWsWd': '250', 'maxInsWsHrmt': '1216', 'maxWs': '6.2', 'maxWsWd': '250', 'maxWsHrmt': '1243', 'avgWs': '3.2', 'hr24SumRws': '2724', 'maxWd': '50', 'avgTd': '6.6', 'minRhm': '82', 'minRhmHrmt': '1117', 'avgRhm': '90.3', 'avgPv': '9.9', 'avgPa': '1001.0', 'maxPs': '1013.6', 'maxPsHrmt': '0226', 'minPs': '1008.9', 'minPsHrmt': '1407', 'avgPs': '1011.4', 'ssDur': '11.9', 'sumSsHr': '0.0', 'hr1MaxIcsrHrmt': '1000', 'hr1MaxIcsr': '0.62', 'sumGsr': '2.18', 'ddMefs': '', 'ddMefsHrmt': '', 'ddMes': '', 'ddMesHrmt': '', 'sumDpthFhsc': '', 'avgTca': '6.4', 'avgLmac': '5.5', 'avgTs': '7.7', 'minTg': '3.3', 'avgCm5Te': '9.4', 'avgCm10Te': '8.9', 'avgCm20Te': '8.7', 'avgCm30Te': '8.5', 'avgM05Te': '8.0', 'avgM10Te': '6.0', 'avgM15Te': '6.8', 'avgM30Te': '10.3', 'avgM50Te': '14.4', 'sumLrgEv': '0.6', 'sumSmlEv': '0.8', 'n99Rn': '8.7', 'iscs': '{비}1205-{비}{강도0}1500-{안개비}1620-1740.  {박무}1220-{박무}{강도1}1500-{박무}{강도0}1800-2010.', 'sumFogDur': ''}, {'stnId': '108', 'stnNm': '서울', 'tm': '2022-03-15', 'avgTa': '7.2', 'minTa': '2.3', 'minTaHrmt': '0702', 'maxTa': '13.3', 'maxTaHrmt': '1538', 'mi10MaxRn': '', 'mi10MaxRnHrmt': '', 'hr1MaxRn': '', 'hr1MaxRnHrmt': '', 'sumRnDur': '', 'sumRn': '', 'maxInsWs': '7.0', 'maxInsWsWd': '290', 'maxInsWsHrmt': '2112', 'maxWs': '3.9', 'maxWsWd': '250', 'maxWsHrmt': '0101', 'avgWs': '2.0', 'hr24SumRws': '1698', 'maxWd': '250', 'avgTd': '2.2', 'minRhm': '46', 'minRhmHrmt': '1605', 'avgRhm': '72.6', 'avgPv': '7.2', 'avgPa': '1003.7', 'maxPs': '1016.3', 'maxPsHrmt': '0759', 'minPs': '1011.4', 'minPsHrmt': '1709', 'avgPs': '1014.2', 'ssDur': '11.9', 'sumSsHr': '7.1', 'hr1MaxIcsrHrmt': '1300', 'hr1MaxIcsr': '2.76', 'sumGsr': '17.55', 'ddMefs': '', 'ddMefsHrmt': '', 'ddMes': '', 'ddMesHrmt': '', 'sumDpthFhsc': '', 'avgTca': '3.8', 'avgLmac': '2.4', 'avgTs': '9.8', 'minTg': '-0.9', 'avgCm5Te': '8.7', 'avgCm10Te': '8.1', 'avgCm20Te': '7.7', 'avgCm30Te': '7.8', 'avgM05Te': '7.7', 'avgM10Te': '6.4', 'avgM15Te': '7.1', 'avgM30Te': '10.3', 'avgM50Te': '14.3', 'sumLrgEv': '2.2', 'sumSmlEv': '3.2', 'n99Rn': '', 'iscs': '{연무}2020-{연무}{강도0}2100-2345.', 'sumFogDur': ''}, {'stnId': '108', 'stnNm': '서울', 'tm': '2022-03-16', 'avgTa': '10.3', 'minTa': '3.6', 'minTaHrmt': '0703', 'maxTa': '16.8', 'maxTaHrmt': '1513', 'mi10MaxRn': '', 'mi10MaxRnHrmt': '', 'hr1MaxRn': '', 'hr1MaxRnHrmt': '', 'sumRnDur': '', 'sumRn': '', 'maxInsWs': '6.5', 'maxInsWsWd': '320', 'maxInsWsHrmt': '1551', 'maxWs': '4.3', 'maxWsWd': '290', 'maxWsHrmt': '1333', 'avgWs': '2.1', 'hr24SumRws': '1818', 'maxWd': '290', 'avgTd': '3.0', 'minRhm': '38', 'minRhmHrmt': '1552', 'avgRhm': '62.6', 'avgPv': '7.6', 'avgPa': '1006.2', 'maxPs': '1019.8', 'maxPsHrmt': '2213', 'minPs': '1013.9', 'minPsHrmt': '0339', 'avgPs': '1016.6', 'ssDur': '12.0', 'sumSsHr': '8.1', 'hr1MaxIcsrHrmt': '1200', 'hr1MaxIcsr': '2.76', 'sumGsr': '17.67', 'ddMefs': '', 'ddMefsHrmt': '', 'ddMes': '', 'ddMesHrmt': '', 'sumDpthFhsc': '', 'avgTca': '3.8', 'avgLmac': '0.0', 'avgTs': '10.8', 'minTg': '-1.0', 'avgCm5Te': '9.2', 'avgCm10Te': '8.5', 'avgCm20Te': '8.2', 'avgCm30Te': '8.1', 'avgM05Te': '7.8', 'avgM10Te': '6.6', 'avgM15Te': '7.3', 'avgM30Te': '10.3', 'avgM50Te': '14.3', 'sumLrgEv': '3.0', 'sumSmlEv': '4.3', 'n99Rn': '', 'iscs': '{박무}0240-{박무}{강도0}0300-0505. {박무}0735-{박무}{강도0}0900-0950.  {연무}1020-1110. ', 'sumFogDur': ''}, {'stnId': '108', 'stnNm': '서울', 'tm': '2022-03-17', 'avgTa': '10.7', 'minTa': '7.8', 'minTaHrmt': '2333', 'maxTa': '15.1', 'maxTaHrmt': '1413', 'mi10MaxRn': '', 'mi10MaxRnHrmt': '', 'hr1MaxRn': '', 'hr1MaxRnHrmt': '', 'sumRnDur': '5.5', 'sumRn': '1.2', 'maxInsWs': '10.5', 'maxInsWsWd': '70', 'maxInsWsHrmt': '2215', 'maxWs': '5.9', 'maxWsWd': '50', 'maxWsHrmt': '2052', 'avgWs': '2.7', 'hr24SumRws': '2325', 'maxWd': '50', 'avgTd': '3.5', 'minRhm': '45', 'minRhmHrmt': '1344', 'avgRhm': '62.0', 'avgPv': '7.9', 'avgPa': '1008.5', 'maxPs': '1021.0', 'maxPsHrmt': '0902', 'minPs': '1016.7', 'minPsHrmt': '1715', 'avgPs': '1018.8', 'ssDur': '12.0', 'sumSsHr': '1.9', 'hr1MaxIcsrHrmt': '1100', 'hr1MaxIcsr': '2.17', 'sumGsr': '9.49', 'ddMefs': '', 'ddMefsHrmt': '', 'ddMes': '', 'ddMesHrmt': '', 'sumDpthFhsc': '', 'avgTca': '10.0', 'avgLmac': '7.6', 'avgTs': '9.7', 'minTg': '5.9', 'avgCm5Te': '10.3', 'avgCm10Te': '9.6', 'avgCm20Te': '9.1', 'avgCm30Te': '8.8', 'avgM05Te': '8.3', 'avgM10Te': '6.9', 'avgM15Te': '7.5', 'avgM30Te': '10.3', 'avgM50Te': '14.3', 'sumLrgEv': '2.2', 'sumSmlEv': '3.1', 'n99Rn': '1.2', 'iscs': '{비}1830-{비}{강도0}2100-{비}{강도0}2400- {햇무리}1045-1240.', 'sumFogDur': ''}, {'stnId': '108', 'stnNm': '서울', 'tm': '2022-03-18', 'avgTa': '7.5', 'minTa': '5.5', 'minTaHrmt': '2356', 'maxTa': '9.6', 'maxTaHrmt': '1246', 'mi10MaxRn': '', 'mi10MaxRnHrmt': '', 'hr1MaxRn': '', 'hr1MaxRnHrmt': '', 'sumRnDur': '4.17', 'sumRn': '0.0', 'maxInsWs': '12.3', 'maxInsWsWd': '70', 'maxInsWsHrmt': '0024', 'maxWs': '7.1', 'maxWsWd': '50', 'maxWsHrmt': '0642', 'avgWs': '4.4', 'hr24SumRws': '3817', 'maxWd': '50', 'avgTd': '0.3', 'minRhm': '52', 'minRhmHrmt': '1536', 'avgRhm': '60.8', 'avgPv': '6.3', 'avgPa': '1000.8', 'maxPs': '1017.7', 'maxPsHrmt': '0001', 'minPs': '1008.4', 'minPsHrmt': '2355', 'avgPs': '1011.2', 'ssDur': '12.0', 'sumSsHr': '0.0', 'hr1MaxIcsrHrmt': '1100', 'hr1MaxIcsr': '0.8', 'sumGsr': '5.17', 'ddMefs': '', 'ddMefsHrmt': '', 'ddMes': '', 'ddMesHrmt': '', 'sumDpthFhsc': '', 'avgTca': '9.1', 'avgLmac': '7.5', 'avgTs': '7.2', 'minTg': '4.6', 'avgCm5Te': '9.1', 'avgCm10Te': '8.7', 'avgCm20Te': '8.7', 'avgCm30Te': '8.7', 'avgM05Te': '8.6', 'avgM10Te': '7.1', 'avgM15Te': '7.7', 'avgM30Te': '10.2', 'avgM50Te': '14.2', 'sumLrgEv': '1.5', 'sumSmlEv': '2.2', 'n99Rn': '10.0', 'iscs': '-{비}-0250. {비}0510-0550. {비}1340-1420.', 'sumFogDur': ''}, {'stnId': '108', 'stnNm': '서울', 'tm': '2022-03-19', 'avgTa': '3.4', 'minTa': '0.9', 'minTaHrmt': '0721', 'maxTa': '6.1', 'maxTaHrmt': '1557', 'mi10MaxRn': '', 'mi10MaxRnHrmt': '', 'hr1MaxRn': '', 'hr1MaxRnHrmt': '', 'sumRnDur': '11.58', 'sumRn': '14.6', 'maxInsWs': '8.7', 'maxInsWsWd': '70', 'maxInsWsHrmt': '0131', 'maxWs': '4.9', 'maxWsWd': '50', 'maxWsHrmt': '0005', 'avgWs': '3.0', 'hr24SumRws': '2556', 'maxWd': '50', 'avgTd': '1.0', 'minRhm': '62', 'minRhmHrmt': '0001', 'avgRhm': '84.6', 'avgPv': '6.6', 'avgPa': '998.9', 'maxPs': '1015.6', 'maxPsHrmt': '2346', 'minPs': '1005.0', 'minPsHrmt': '0735', 'avgPs': '1009.5', 'ssDur': '12.1', 'sumSsHr': '0.0', 'hr1MaxIcsrHrmt': '1300', 'hr1MaxIcsr': '0.92', 'sumGsr': '4.93', 'ddMefs': '0.7', 'ddMefsHrmt': '1050', 'ddMes': '0.7', 'ddMesHrmt': '1050', 'sumDpthFhsc': '0.7', 'avgTca': '8.9', 'avgLmac': '7.9', 'avgTs': '4.6', 'minTg': '-0.5', 'avgCm5Te': '6.9', 'avgCm10Te': '6.6', 'avgCm20Te': '7.0', 'avgCm30Te': '7.6', 'avgM05Te': '8.1', 'avgM10Te': '7.4', 'avgM15Te': '7.9', 'avgM30Te': '10.2', 'avgM50Te': '14.2', 'sumLrgEv': '0.7', 'sumSmlEv': '1.0', 'n99Rn': '4.6', 'iscs': '{비}0210-{비}{강도0}0300-{진눈깨비}0520-{진눈깨비}{강도1}0600-{눈}0610-{진눈깨비}0820-{진눈깨비}{강도1}0900-{비}1145-{비}{강도0}1200-1345.  {박무}0355-0425. {박무}0525-{박무}{강도1}0600-{박무}{강도1}0900-1140. ', 'sumFogDur': ''}, {'stnId': '108', 'stnNm': '서울', 'tm': '2022-03-20', 'avgTa': '5.4', 'minTa': '2.2', 'minTaHrmt': '2400', 'maxTa': '9.3', 'maxTaHrmt': '1556', 'mi10MaxRn': '', 'mi10MaxRnHrmt': '', 'hr1MaxRn': '', 'hr1MaxRnHrmt': '', 'sumRnDur': '3.58', 'sumRn': '0.0', 'maxInsWs': '9.1', 'maxInsWsWd': '200', 'maxInsWsHrmt': '1652', 'maxWs': '5.0', 'maxWsWd': '230', 'maxWsHrmt': '1648', 'avgWs': '2.6', 'hr24SumRws': '2219', 'maxWd': '250', 'avgTd': '-0.8', 'minRhm': '41', 'minRhmHrmt': '1518', 'avgRhm': '66.1', 'avgPv': '5.9', 'avgPa': '1008.2', 'maxPs': '1022.9', 'maxPsHrmt': '2358', 'minPs': '1015.6', 'minPsHrmt': '0001', 'avgPs': '1018.8', 'ssDur': '12.1', 'sumSsHr': '6.3', 'hr1MaxIcsrHrmt': '1400', 'hr1MaxIcsr': '2.49', 'sumGsr': '15.76', 'ddMefs': '', 'ddMefsHrmt': '', 'ddMes': '', 'ddMesHrmt': '', 'sumDpthFhsc': '', 'avgTca': '5.1', 'avgLmac': '4.3', 'avgTs': '8.2', 'minTg': '-1.7', 'avgCm5Te': '7.2', 'avgCm10Te': '6.7', 'avgCm20Te': '6.6', 'avgCm30Te': '6.9', 'avgM05Te': '7.3', 'avgM10Te': '7.4', 'avgM15Te': '8.0', 'avgM30Te': '10.2', 'avgM50Te': '14.2', 'sumLrgEv': '2.3', 'sumSmlEv': '3.2', 'n99Rn': '0.0', 'iscs': '{비}0220-{비}{강도0}0300-0540. {비}0920-0935.  {박무}0630-{박무}{강도0}0900-0940.', 'sumFogDur': ''}, {'stnId': '108', 'stnNm': '서울', 'tm': '2022-03-21', 'avgTa': '5.0', 'minTa': '-0.3', 'minTaHrmt': '0640', 'maxTa': '10.9', 'maxTaHrmt': '1355', 'mi10MaxRn': '', 'mi10MaxRnHrmt': '', 'hr1MaxRn': '', 'hr1MaxRnHrmt': '', 'sumRnDur': '', 'sumRn': '', 'maxInsWs': '8.4', 'maxInsWsWd': '290', 'maxInsWsHrmt': '2138', 'maxWs': '4.9', 'maxWsWd': '320', 'maxWsHrmt': '2200', 'avgWs': '2.4', 'hr24SumRws': '2057', 'maxWd': '270', 'avgTd': '-5.1', 'minRhm': '27', 'minRhmHrmt': '1309', 'avgRhm': '49.5', 'avgPv': '4.2', 'avgPa': '1013.3', 'maxPs': '1026.3', 'maxPsHrmt': '0740', 'minPs': '1022.1', 'minPsHrmt': '1847', 'avgPs': '1024.0', 'ssDur': '12.2', 'sumSsHr': '6.8', 'hr1MaxIcsrHrmt': '1200', 'hr1MaxIcsr': '2.62', 'sumGsr': '16.69', 'ddMefs': '', 'ddMefsHrmt': '', 'ddMes': '', 'ddMesHrmt': '', 'sumDpthFhsc': '', 'avgTca': '7.5', 'avgLmac': '0.4', 'avgTs': '6.2', 'minTg': '-5.4', 'avgCm5Te': '6.8', 'avgCm10Te': '6.4', 'avgCm20Te': '6.5', 'avgCm30Te': '6.9', 'avgM05Te': '7.4', 'avgM10Te': '7.4', 'avgM15Te': '8.2', 'avgM30Te': '10.2', 'avgM50Te': '14.1', 'sumLrgEv': '2.7', 'sumSmlEv': '3.9', 'n99Rn': '', 'iscs': '{햇무리}1140-1440. ', 'sumFogDur': ''}, {'stnId': '108', 'stnNm': '서울', 'tm': '2022-03-22', 'avgTa': '7.1', 'minTa': '1.1', 'minTaHrmt': '0637', 'maxTa': '13.6', 'maxTaHrmt': '1617', 'mi10MaxRn': '', 'mi10MaxRnHrmt': '', 'hr1MaxRn': '', 'hr1MaxRnHrmt': '', 'sumRnDur': '', 'sumRn': '', 'maxInsWs': '8.3', 'maxInsWsWd': '270', 'maxInsWsHrmt': '1904', 'maxWs': '5.1', 'maxWsWd': '270', 'maxWsHrmt': '1911', 'avgWs': '2.2', 'hr24SumRws': '1892', 'maxWd': '270', 'avgTd': '-3.5', 'minRhm': '27', 'minRhmHrmt': '1356', 'avgRhm': '48.9', 'avgPv': '4.8', 'avgPa': '1011.4', 'maxPs': '1024.5', 'maxPsHrmt': '0831', 'minPs': '1019.0', 'minPsHrmt': '1755', 'avgPs': '1022.0', 'ssDur': '12.2', 'sumSsHr': '11.0', 'hr1MaxIcsrHrmt': '1200', 'hr1MaxIcsr': '3.04', 'sumGsr': '21.71', 'ddMefs': '', 'ddMefsHrmt': '', 'ddMes': '', 'ddMesHrmt': '', 'sumDpthFhsc': '', 'avgTca': '2.5', 'avgLmac': '0.0', 'avgTs': '9.5', 'minTg': '-3.5', 'avgCm5Te': '7.7', 'avgCm10Te': '7.1', 'avgCm20Te': '6.9', 'avgCm30Te': '7.0', 'avgM05Te': '7.3', 'avgM10Te': '7.4', 'avgM15Te': '8.3', 'avgM30Te': '10.2', 'avgM50Te': '14.1', 'sumLrgEv': '3.3', 'sumSmlEv': '4.8', 'n99Rn': '', 'iscs': '', 'sumFogDur': ''}, {'stnId': '108', 'stnNm': '서울', 'tm': '2022-03-23', 'avgTa': '6.2', 'minTa': '4.9', 'minTaHrmt': '0616', 'maxTa': '8.2', 'maxTaHrmt': '1615', 'mi10MaxRn': '', 'mi10MaxRnHrmt': '', 'hr1MaxRn': '', 'hr1MaxRnHrmt': '', 'sumRnDur': '', 'sumRn': '', 'maxInsWs': '7.8', 'maxInsWsWd': '270', 'maxInsWsHrmt': '1251', 'maxWs': '4.0', 'maxWsWd': '250', 'maxWsHrmt': '1626', 'avgWs': '2.3', 'hr24SumRws': '1956', 'maxWd': '250', 'avgTd': '-1.9', 'minRhm': '41', 'minRhmHrmt': '1257', 'avgRhm': '56.8', 'avgPv': '5.4', 'avgPa': '1007.5', 'maxPs': '1020.5', 'maxPsHrmt': '0023', 'minPs': '1016.4', 'minPsHrmt': '1634', 'avgPs': '1018.1', 'ssDur': '12.2', 'sumSsHr': '0.0', 'hr1MaxIcsrHrmt': '1000', 'hr1MaxIcsr': '0.99', 'sumGsr': '7.05', 'ddMefs': '', 'ddMefsHrmt': '', 'ddMes': '', 'ddMesHrmt': '', 'sumDpthFhsc': '', 'avgTca': '9.0', 'avgLmac': '6.3', 'avgTs': '7.0', 'minTg': '-0.3', 'avgCm5Te': '7.7', 'avgCm10Te': '7.3', 'avgCm20Te': '7.3', 'avgCm30Te': '7.6', 'avgM05Te': '7.7', 'avgM10Te': '7.4', 'avgM15Te': '8.3', 'avgM30Te': '10.2', 'avgM50Te': '14.1', 'sumLrgEv': '1.4', 'sumSmlEv': '2.0', 'n99Rn': '', 'iscs': '', 'sumFogDur': ''}, {'stnId': '108', 'stnNm': '서울', 'tm': '2022-03-24', 'avgTa': '8.2', 'minTa': '3.9', 'minTaHrmt': '0453', 'maxTa': '12.4', 'maxTaHrmt': '1459', 'mi10MaxRn': '', 'mi10MaxRnHrmt': '', 'hr1MaxRn': '', 'hr1MaxRnHrmt': '', 'sumRnDur': '', 'sumRn': '', 'maxInsWs': '6.0', 'maxInsWsWd': '200', 'maxInsWsHrmt': '1550', 'maxWs': '3.9', 'maxWsWd': '200', 'maxWsHrmt': '1511', 'avgWs': '1.8', 'hr24SumRws': '1535', 'maxWd': '200', 'avgTd': '3.1', 'minRhm': '56', 'minRhmHrmt': '0001', 'avgRhm': '70.6', 'avgPv': '7.7', 'avgPa': '1009.1', 'maxPs': '1021.7', 'maxPsHrmt': '2245', 'minPs': '1017.4', 'minPsHrmt': '0412', 'avgPs': '1019.6', 'ssDur': '12.3', 'sumSsHr': '0.7', 'hr1MaxIcsrHrmt': '1400', 'hr1MaxIcsr': '1.86', 'sumGsr': '6.34', 'ddMefs': '', 'ddMefsHrmt': '', 'ddMes': '', 'ddMesHrmt': '', 'sumDpthFhsc': '', 'avgTca': '8.4', 'avgLmac': '4.4', 'avgTs': '8.5', 'minTg': '0.0', 'avgCm5Te': '7.8', 'avgCm10Te': '7.2', 'avgCm20Te': '7.1', 'avgCm30Te': '7.3', 'avgM05Te': '7.6', 'avgM10Te': '7.5', 'avgM15Te': '8.4', 'avgM30Te': '10.2', 'avgM50Te': '14.0', 'sumLrgEv': '1.2', 'sumSmlEv': '1.8', 'n99Rn': '', 'iscs': '', 'sumFogDur': ''}, {'stnId': '108', 'stnNm': '서울', 'tm': '2022-03-25', 'avgTa': '12.0', 'minTa': '6.3', 'minTaHrmt': '0559', 'maxTa': '17.2', 'maxTaHrmt': '1549', 'mi10MaxRn': '', 'mi10MaxRnHrmt': '', 'hr1MaxRn': '', 'hr1MaxRnHrmt': '', 'sumRnDur': '4.75', 'sumRn': '10.9', 'maxInsWs': '10.4', 'maxInsWsWd': '50', 'maxInsWsHrmt': '2303', 'maxWs': '6.1', 'maxWsWd': '50', 'maxWsHrmt': '2306', 'avgWs': '2.6', 'hr24SumRws': '2287', 'maxWd': '70', 'avgTd': '6.2', 'minRhm': '46', 'minRhmHrmt': '1320', 'avgRhm': '70.0', 'avgPv': '9.6', 'avgPa': '1004.5', 'maxPs': '1022.2', 'maxPsHrmt': '0227', 'minPs': '1003.2', 'minPsHrmt': '2358', 'avgPs': '1014.8', 'ssDur': '12.3', 'sumSsHr': '1.3', 'hr1MaxIcsrHrmt': '0900', 'hr1MaxIcsr': '1.42', 'sumGsr': '9.06', 'ddMefs': '', 'ddMefsHrmt': '', 'ddMes': '', 'ddMesHrmt': '', 'sumDpthFhsc': '', 'avgTca': '7.9', 'avgLmac': '3.9', 'avgTs': '10.3', 'minTg': '1.9', 'avgCm5Te': '9.0', 'avgCm10Te': '8.4', 'avgCm20Te': '7.8', 'avgCm30Te': '7.7', 'avgM05Te': '7.7', 'avgM10Te': '7.5', 'avgM15Te': '8.5', 'avgM30Te': '10.2', 'avgM50Te': '14.0', 'sumLrgEv': '1.7', 'sumSmlEv': '2.4', 'n99Rn': '29.5', 'iscs': '{비}1915-{비}{강도0}2100-{비}{강도0}2400- {박무}0020-{박무}{강도0}0300-{박무}{강도0}0600-{박무}{강도0}0900-0915. {박무}1950-{박무}{강도0}2100-{박무}{강도0}2400- {연무}0910-1140. ', 'sumFogDur': ''}, {'stnId': '108', 'stnNm': '서울', 'tm': '2022-03-26', 'avgTa': '11.8', 'minTa': '9.5', 'minTaHrmt': '0959', 'maxTa': '14.7', 'maxTaHrmt': '1735', 'mi10MaxRn': '', 'mi10MaxRnHrmt': '', 'hr1MaxRn': '', 'hr1MaxRnHrmt': '', 'sumRnDur': '11.08', 'sumRn': '19.8', 'maxInsWs': '12.0', 'maxInsWsWd': '230', 'maxInsWsHrmt': '0726', 'maxWs': '6.0', 'maxWsWd': '230', 'maxWsHrmt': '0728', 'avgWs': '2.9', 'hr24SumRws': '2529', 'maxWd': '250', 'avgTd': '8.2', 'minRhm': '53', 'minRhmHrmt': '2116', 'avgRhm': '80.9', 'avgPv': '11.2', 'avgPa': '992.1', 'maxPs': '1011.7', 'maxPsHrmt': '2352', 'minPs': '994.9', 'minPsHrmt': '0548', 'avgPs': '1002.3', 'ssDur': '12.4', 'sumSsHr': '0.9', 'hr1MaxIcsrHrmt': '1000', 'hr1MaxIcsr': '1.1', 'sumGsr': '6.39', 'ddMefs': '', 'ddMefsHrmt': '', 'ddMes': '', 'ddMesHrmt': '', 'sumDpthFhsc': '', 'avgTca': '8.3', 'avgLmac': '5.6', 'avgTs': '12.0', 'minTg': '6.0', 'avgCm5Te': '11.0', 'avgCm10Te': '10.3', 'avgCm20Te': '9.6', 'avgCm30Te': '9.2', 'avgM05Te': '8.5', 'avgM10Te': '7.6', 'avgM15Te': '8.5', 'avgM30Te': '10.2', 'avgM50Te': '14.0', 'sumLrgEv': '1.3', 'sumSmlEv': '1.9', 'n99Rn': '1.2', 'iscs': '-{비}-{비}{강도0}0300-{비}{강도1}0600-0643. {비}0708-{비}{강도0}0900-1040. {안개비}1235-1325.  -{박무}-{박무}{강도0}0300-{시정(미만)}{1km}{안개}0522-{시정(이상)}{1km}{박무}0532-{박무}{강도1}0600-0617. {박무}0755-{박무}{강도1}0900-1030. {박무}1245-1305.', 'sumFogDur': '0.17'}, {'stnId': '108', 'stnNm': '서울', 'tm': '2022-03-27', 'avgTa': '8.1', 'minTa': '5.0', 'minTaHrmt': '2354', 'maxTa': '12.6', 'maxTaHrmt': '1432', 'mi10MaxRn': '', 'mi10MaxRnHrmt': '', 'hr1MaxRn': '', 'hr1MaxRnHrmt': '', 'sumRnDur': '', 'sumRn': '', 'maxInsWs': '13.5', 'maxInsWsWd': '290', 'maxInsWsHrmt': '1534', 'maxWs': '7.3', 'maxWsWd': '320', 'maxWsHrmt': '1701', 'avgWs': '3.0', 'hr24SumRws': '2573', 'maxWd': '290', 'avgTd': '-2.7', 'minRhm': '23', 'minRhmHrmt': '1650', 'avgRhm': '49.1', 'avgPv': '5.2', 'avgPa': '1005.6', 'maxPs': '1022.6', 'maxPsHrmt': '2357', 'minPs': '1011.5', 'minPsHrmt': '0001', 'avgPs': '1016.0', 'ssDur': '12.4', 'sumSsHr': '10.4', 'hr1MaxIcsrHrmt': '1200', 'hr1MaxIcsr': '3.09', 'sumGsr': '22.23', 'ddMefs': '', 'ddMefsHrmt': '', 'ddMes': '', 'ddMesHrmt': '', 'sumDpthFhsc': '', 'avgTca': '0.3', 'avgLmac': '0.3', 'avgTs': '10.8', 'minTg': '-1.5', 'avgCm5Te': '9.8', 'avgCm10Te': '9.3', 'avgCm20Te': '9.2', 'avgCm30Te': '9.3', 'avgM05Te': '9.0', 'avgM10Te': '7.8', 'avgM15Te': '8.5', 'avgM30Te': '10.2', 'avgM50Te': '13.9', 'sumLrgEv': '3.9', 'sumSmlEv': '5.6', 'n99Rn': '', 'iscs': '', 'sumFogDur': ''}, {'stnId': '108', 'stnNm': '서울', 'tm': '2022-03-28', 'avgTa': '8.2', 'minTa': '1.5', 'minTaHrmt': '0611', 'maxTa': '15.1', 'maxTaHrmt': '1600', 'mi10MaxRn': '', 'mi10MaxRnHrmt': '', 'hr1MaxRn': '', 'hr1MaxRnHrmt': '', 'sumRnDur': '', 'sumRn': '', 'maxInsWs': '7.6', 'maxInsWsWd': '250', 'maxInsWsHrmt': '1801', 'maxWs': '4.7', 'maxWsWd': '270', 'maxWsHrmt': '1805', 'avgWs': '2.1', 'hr24SumRws': '1833', 'maxWd': '290', 'avgTd': '-6.9', 'minRhm': '15', 'minRhmHrmt': '1428', 'avgRhm': '35.6', 'avgPv': '3.7', 'avgPa': '1015.2', 'maxPs': '1027.5', 'maxPsHrmt': '0925', 'minPs': '1022.5', 'minPsHrmt': '0007', 'avgPs': '1025.7', 'ssDur': '12.5', 'sumSsHr': '11.7', 'hr1MaxIcsrHrmt': '1200', 'hr1MaxIcsr': '3.38', 'sumGsr': '24.71', 'ddMefs': '', 'ddMefsHrmt': '', 'ddMes': '', 'ddMesHrmt': '', 'sumDpthFhsc': '', 'avgTca': '0.5', 'avgLmac': '0.0', 'avgTs': '10.5', 'minTg': '-6.7', 'avgCm5Te': '9.2', 'avgCm10Te': '8.7', 'avgCm20Te': '8.6', 'avgCm30Te': '8.8', 'avgM05Te': '8.9', 'avgM10Te': '8.1', 'avgM15Te': '8.6', 'avgM30Te': '10.0', 'avgM50Te': '13.9', 'sumLrgEv': '4.6', 'sumSmlEv': '6.6', 'n99Rn': '', 'iscs': '', 'sumFogDur': ''}, {'stnId': '108', 'stnNm': '서울', 'tm': '2022-03-29', 'avgTa': '9.7', 'minTa': '3.3', 'minTaHrmt': '0533', 'maxTa': '15.6', 'maxTaHrmt': '1545', 'mi10MaxRn': '', 'mi10MaxRnHrmt': '', 'hr1MaxRn': '', 'hr1MaxRnHrmt': '', 'sumRnDur': '', 'sumRn': '', 'maxInsWs': '8.6', 'maxInsWsWd': '270', 'maxInsWsHrmt': '1512', 'maxWs': '4.8', 'maxWsWd': '270', 'maxWsHrmt': '1443', 'avgWs': '2.1', 'hr24SumRws': '1845', 'maxWd': '50', 'avgTd': '0.3', 'minRhm': '37', 'minRhmHrmt': '0001', 'avgRhm': '52.9', 'avgPv': '6.4', 'avgPa': '1013.9', 'maxPs': '1027.4', 'maxPsHrmt': '0126', 'minPs': '1022.1', 'minPsHrmt': '1940', 'avgPs': '1024.4', 'ssDur': '12.5', 'sumSsHr': '11.2', 'hr1MaxIcsrHrmt': '1200', 'hr1MaxIcsr': '3.21', 'sumGsr': '23.32', 'ddMefs': '', 'ddMefsHrmt': '', 'ddMes': '', 'ddMesHrmt': '', 'sumDpthFhsc': '', 'avgTca': '1.4', 'avgLmac': '0.4', 'avgTs': '11.6', 'minTg': '-3.9', 'avgCm5Te': '9.8', 'avgCm10Te': '9.2', 'avgCm20Te': '8.9', 'avgCm30Te': '9.0', 'avgM05Te': '9.0', 'avgM10Te': '8.2', 'avgM15Te': '8.8', 'avgM30Te': '10.0', 'avgM50Te': '13.9', 'sumLrgEv': '3.6', 'sumSmlEv': '5.2', 'n99Rn': '', 'iscs': '', 'sumFogDur': ''}, {'stnId': '108', 'stnNm': '서울', 'tm': '2022-03-30', 'avgTa': '10.8', 'minTa': '5.9', 'minTaHrmt': '0629', 'maxTa': '15.7', 'maxTaHrmt': '1209', 'mi10MaxRn': '', 'mi10MaxRnHrmt': '', 'hr1MaxRn': '', 'hr1MaxRnHrmt': '', 'sumRnDur': '3.25', 'sumRn': '0.4', 'maxInsWs': '6.1', 'maxInsWsWd': '50', 'maxInsWsHrmt': '0954', 'maxWs': '3.6', 'maxWsWd': '50', 'maxWsHrmt': '0958', 'avgWs': '1.8', 'hr24SumRws': '1573', 'maxWd': '50', 'avgTd': '6.6', 'minRhm': '50', 'minRhmHrmt': '1214', 'avgRhm': '76.5', 'avgPv': '9.9', 'avgPa': '1010.3', 'maxPs': '1022.7', 'maxPsHrmt': '0217', 'minPs': '1017.2', 'minPsHrmt': '1641', 'avgPs': '1020.6', 'ssDur': '12.5', 'sumSsHr': '1.2', 'hr1MaxIcsrHrmt': '1100', 'hr1MaxIcsr': '1.85', 'sumGsr': '7.64', 'ddMefs': '', 'ddMefsHrmt': '', 'ddMes': '', 'ddMesHrmt': '', 'sumDpthFhsc': '', 'avgTca': '7.0', 'avgLmac': '5.4', 'avgTs': '9.7', 'minTg': '-0.7', 'avgCm5Te': '10.1', 'avgCm10Te': '9.6', 'avgCm20Te': '9.4', 'avgCm30Te': '9.4', 'avgM05Te': '9.3', 'avgM10Te': '8.3', 'avgM15Te': '8.9', 'avgM30Te': '10.1', 'avgM50Te': '13.8', 'sumLrgEv': '1.4', 'sumSmlEv': '1.9', 'n99Rn': '0.4', 'iscs': '{비}1235-1440. {비}1625-1735.  {박무}2010-{박무}{강도0}2100-{박무}{강도0}2400-', 'sumFogDur': ''}, {'stnId': '108', 'stnNm': '서울', 'tm': '2022-03-31', 'avgTa': '10.9', 'minTa': '7.6', 'minTaHrmt': '2352', 'maxTa': '14.7', 'maxTaHrmt': '1421', 'mi10MaxRn': '', 'mi10MaxRnHrmt': '', 'hr1MaxRn': '', 'hr1MaxRnHrmt': '', 'sumRnDur': '', 'sumRn': '', 'maxInsWs': '8.6', 'maxInsWsWd': '250', 'maxInsWsHrmt': '1603', 'maxWs': '4.7', 'maxWsWd': '340', 'maxWsHrmt': '1632', 'avgWs': '2.5', 'hr24SumRws': '2174', 'maxWd': '290', 'avgTd': '3.8', 'minRhm': '43', 'minRhmHrmt': '1711', 'avgRhm': '63.5', 'avgPv': '8.1', 'avgPa': '1013.4', 'maxPs': '1028.0', 'maxPsHrmt': '2357', 'minPs': '1020.5', 'minPsHrmt': '0117', 'avgPs': '1023.8', 'ssDur': '12.6', 'sumSsHr': '3.3', 'hr1MaxIcsrHrmt': '1400', 'hr1MaxIcsr': '1.95', 'sumGsr': '13.98', 'ddMefs': '', 'ddMefsHrmt': '', 'ddMes': '', 'ddMesHrmt': '', 'sumDpthFhsc': '', 'avgTca': '7.0', 'avgLmac': '4.6', 'avgTs': '11.9', 'minTg': '1.0', 'avgCm5Te': '11.3', 'avgCm10Te': '10.6', 'avgCm20Te': '10.1', 'avgCm30Te': '9.9', 'avgM05Te': '9.5', 'avgM10Te': '8.5', 'avgM15Te': '9.0', 'avgM30Te': '10.1', 'avgM50Te': '13.8', 'sumLrgEv': '2.7', 'sumSmlEv': '3.9', 'n99Rn': '', 'iscs': '-{박무}-0220.', 'sumFogDur': ''}, {'stnId': '108', 'stnNm': '서울', 'tm': '2022-04-01', 'avgTa': '9.2', 'minTa': '4.5', 'minTaHrmt': '0620', 'maxTa': '14.9', 'maxTaHrmt': '1347', 'mi10MaxRn': '', 'mi10MaxRnHrmt': '', 'hr1MaxRn': '', 'hr1MaxRnHrmt': '', 'sumRnDur': '', 'sumRn': '', 'maxInsWs': '9.5', 'maxInsWsWd': '270', 'maxInsWsHrmt': '1510', 'maxWs': '5.0', 'maxWsWd': '270', 'maxWsHrmt': '1516', 'avgWs': '2.6', 'hr24SumRws': '2257', 'maxWd': '50', 'avgTd': '-1.3', 'minRhm': '26', 'minRhmHrmt': '1453', 'avgRhm': '50.5', 'avgPv': '5.6', 'avgPa': '1018.1', 'maxPs': '1030.8', 'maxPsHrmt': '0855', 'minPs': '1026.5', 'minPsHrmt': '1704', 'avgPs': '1028.7', 'ssDur': '12.6', 'sumSsHr': '10.9', 'hr1MaxIcsrHrmt': '1100', 'hr1MaxIcsr': '3.08', 'sumGsr': '23.35', 'ddMefs': '', 'ddMefsHrmt': '', 'ddMes': '', 'ddMesHrmt': '', 'sumDpthFhsc': '', 'avgTca': '1.1', 'avgLmac': '0.6', 'avgTs': '12.2', 'minTg': '0.2', 'avgCm5Te': '10.8', 'avgCm10Te': '10.2', 'avgCm20Te': '10.0', 'avgCm30Te': '10.0', 'avgM05Te': '9.8', 'avgM10Te': '8.6', 'avgM15Te': '9.1', 'avgM30Te': '10.2', 'avgM50Te': '13.8', 'sumLrgEv': '3.7', 'sumSmlEv': '5.3', 'n99Rn': '', 'iscs': '', 'sumFogDur': ''}, {'stnId': '108', 'stnNm': '서울', 'tm': '2022-04-02', 'avgTa': '8.2', 'minTa': '3.7', 'minTaHrmt': '0618', 'maxTa': '14.2', 'maxTaHrmt': '1444', 'mi10MaxRn': '', 'mi10MaxRnHrmt': '', 'hr1MaxRn': '', 'hr1MaxRnHrmt': '', 'sumRnDur': '', 'sumRn': '', 'maxInsWs': '10.9', 'maxInsWsWd': '250', 'maxInsWsHrmt': '1535', 'maxWs': '5.4', 'maxWsWd': '270', 'maxWsHrmt': '1536', 'avgWs': '2.3', 'hr24SumRws': '1962', 'maxWd': '270', 'avgTd': '-1.1', 'minRhm': '28', 'minRhmHrmt': '1304', 'avgRhm': '55.0', 'avgPv': '5.7', 'avgPa': '1016.7', 'maxPs': '1028.9', 'maxPsHrmt': '0029', 'minPs': '1025.2', 'minPsHrmt': '1450', 'avgPs': '1027.3', 'ssDur': '12.6', 'sumSsHr': '11.8', 'hr1MaxIcsrHrmt': '1200', 'hr1MaxIcsr': '3.27', 'sumGsr': '24.09', 'ddMefs': '', 'ddMefsHrmt': '', 'ddMes': '', 'ddMesHrmt': '', 'sumDpthFhsc': '', 'avgTca': '0.5', 'avgLmac': '0.0', 'avgTs': '11.6', 'minTg': '-4.4', 'avgCm5Te': '10.6', 'avgCm10Te': '10.0', 'avgCm20Te': '9.9', 'avgCm30Te': '10.0', 'avgM05Te': '9.9', 'avgM10Te': '8.8', 'avgM15Te': '9.2', 'avgM30Te': '10.2', 'avgM50Te': '13.8', 'sumLrgEv': '3.9', 'sumSmlEv': '5.6', 'n99Rn': '', 'iscs': '', 'sumFogDur': ''}, {'stnId': '108', 'stnNm': '서울', 'tm': '2022-04-03', 'avgTa': '9.6', 'minTa': '3.5', 'minTaHrmt': '0629', 'maxTa': '17.0', 'maxTaHrmt': '1527', 'mi10MaxRn': '', 'mi10MaxRnHrmt': '', 'hr1MaxRn': '', 'hr1MaxRnHrmt': '', 'sumRnDur': '', 'sumRn': '', 'maxInsWs': '8.0', 'maxInsWsWd': '290', 'maxInsWsHrmt': '1929', 'maxWs': '5.0', 'maxWsWd': '270', 'maxWsHrmt': '1744', 'avgWs': '2.1', 'hr24SumRws': '1822', 'maxWd': '270', 'avgTd': '-0.2', 'minRhm': '24', 'minRhmHrmt': '1437', 'avgRhm': '55.0', 'avgPv': '6.1', 'avgPa': '1017.3', 'maxPs': '1029.3', 'maxPsHrmt': '1023', 'minPs': '1025.6', 'minPsHrmt': '1547', 'avgPs': '1027.8', 'ssDur': '12.7', 'sumSsHr': '11.9', 'hr1MaxIcsrHrmt': '1200', 'hr1MaxIcsr': '3.31', 'sumGsr': '24.34', 'ddMefs': '', 'ddMefsHrmt': '', 'ddMes': '', 'ddMesHrmt': '', 'sumDpthFhsc': '', 'avgTca': '0.0', 'avgLmac': '0.0', 'avgTs': '12.6', 'minTg': '-4.5', 'avgCm5Te': '11.0', 'avgCm10Te': '10.3', 'avgCm20Te': '10.0', 'avgCm30Te': '10.1', 'avgM05Te': '10.0', 'avgM10Te': '8.9', 'avgM15Te': '9.4', 'avgM30Te': '10.2', 'avgM50Te': '13.7', 'sumLrgEv': '4.2', 'sumSmlEv': '6.1', 'n99Rn': '', 'iscs': '', 'sumFogDur': ''}, {'stnId': '108', 'stnNm': '서울', 'tm': '2022-04-04', 'avgTa': '10.3', 'minTa': '5.1', 'minTaHrmt': '0638', 'maxTa': '16.4', 'maxTaHrmt': '1328', 'mi10MaxRn': '', 'mi10MaxRnHrmt': '', 'hr1MaxRn': '', 'hr1MaxRnHrmt': '', 'sumRnDur': '', 'sumRn': '', 'maxInsWs': '8.4', 'maxInsWsWd': '290', 'maxInsWsHrmt': '1416', 'maxWs': '4.8', 'maxWsWd': '250', 'maxWsHrmt': '1513', 'avgWs': '2.3', 'hr24SumRws': '1963', 'maxWd': '270', 'avgTd': '-0.7', 'minRhm': '24', 'minRhmHrmt': '1256', 'avgRhm': '50.3', 'avgPv': '5.9', 'avgPa': '1017.2', 'maxPs': '1029.7', 'maxPsHrmt': '0713', 'minPs': '1025.9', 'minPsHrmt': '1747', 'avgPs': '1027.6', 'ssDur': '12.7', 'sumSsHr': '11.6', 'hr1MaxIcsrHrmt': '1200', 'hr1MaxIcsr': '3.3', 'sumGsr': '24.75', 'ddMefs': '', 'ddMefsHrmt': '', 'ddMes': '', 'ddMesHrmt': '', 'sumDpthFhsc': '', 'avgTca': '0.0', 'avgLmac': '0.0', 'avgTs': '13.4', 'minTg': '-2.8', 'avgCm5Te': '11.5', 'avgCm10Te': '10.9', 'avgCm20Te': '10.6', 'avgCm30Te': '10.5', 'avgM05Te': '10.3', 'avgM10Te': '9.1', 'avgM15Te': '9.5', 'avgM30Te': '10.2', 'avgM50Te': '13.7', 'sumLrgEv': '4.6', 'sumSmlEv': '6.5', 'n99Rn': '', 'iscs': '{박무}0545-{박무}{강도0}0600-0850.  {연무}0205-{연무}{강도0}0300-0550. {연무}0845-{연무}{강도0}0900-0940. ', 'sumFogDur': ''}, {'stnId': '108', 'stnNm': '서울', 'tm': '2022-04-05', 'avgTa': '10.3', 'minTa': '4.9', 'minTaHrmt': '0615', 'maxTa': '15.8', 'maxTaHrmt': '1409', 'mi10MaxRn': '', 'mi10MaxRnHrmt': '', 'hr1MaxRn': '', 'hr1MaxRnHrmt': '', 'sumRnDur': '', 'sumRn': '', 'maxInsWs': '9.0', 'maxInsWsWd': '200', 'maxInsWsHrmt': '1314', 'maxWs': '5.5', 'maxWsWd': '200', 'maxWsHrmt': '1321', 'avgWs': '2.4', 'hr24SumRws': '2034', 'maxWd': '270', 'avgTd': '-3.0', 'minRhm': '23', 'minRhmHrmt': '1812', 'avgRhm': '41.1', 'avgPv': '4.9', 'avgPa': '1011.9', 'maxPs': '1026.6', 'maxPsHrmt': '0001', 'minPs': '1019.4', 'minPsHrmt': '1612', 'avgPs': '1022.3', 'ssDur': '12.8', 'sumSsHr': '9.9', 'hr1MaxIcsrHrmt': '1200', 'hr1MaxIcsr': '2.86', 'sumGsr': '21.21', 'ddMefs': '', 'ddMefsHrmt': '', 'ddMes': '', 'ddMesHrmt': '', 'sumDpthFhsc': '', 'avgTca': '6.1', 'avgLmac': '0.9', 'avgTs': '12.3', 'minTg': '-4.2', 'avgCm5Te': '11.3', 'avgCm10Te': '10.7', 'avgCm20Te': '10.5', 'avgCm30Te': '10.6', 'avgM05Te': '10.5', 'avgM10Te': '9.2', 'avgM15Te': '9.6', 'avgM30Te': '10.3', 'avgM50Te': '13.7', 'sumLrgEv': '3.9', 'sumSmlEv': '5.6', 'n99Rn': '', 'iscs': '{햇무리}0740-1130. ', 'sumFogDur': ''}, {'stnId': '108', 'stnNm': '서울', 'tm': '2022-04-06', 'avgTa': '11.7', 'minTa': '8.0', 'minTaHrmt': '0600', 'maxTa': '17.0', 'maxTaHrmt': '1431', 'mi10MaxRn': '', 'mi10MaxRnHrmt': '', 'hr1MaxRn': '', 'hr1MaxRnHrmt': '', 'sumRnDur': '', 'sumRn': '', 'maxInsWs': '7.3', 'maxInsWsWd': '270', 'maxInsWsHrmt': '1216', 'maxWs': '4.4', 'maxWsWd': '270', 'maxWsHrmt': '1242', 'avgWs': '2.5', 'hr24SumRws': '2158', 'maxWd': '270', 'avgTd': '1.4', 'minRhm': '19', 'minRhmHrmt': '1358', 'avgRhm': '52.3', 'avgPv': '6.9', 'avgPa': '1010.5', 'maxPs': '1023.2', 'maxPsHrmt': '0752', 'minPs': '1018.9', 'minPsHrmt': '1732', 'avgPs': '1020.9', 'ssDur': '12.8', 'sumSsHr': '8.6', 'hr1MaxIcsrHrmt': '1200', 'hr1MaxIcsr': '3.28', 'sumGsr': '21.54', 'ddMefs': '', 'ddMefsHrmt': '', 'ddMes': '', 'ddMesHrmt': '', 'sumDpthFhsc': '', 'avgTca': '6.4', 'avgLmac': '4.6', 'avgTs': '13.8', 'minTg': '4.5', 'avgCm5Te': '12.5', 'avgCm10Te': '11.8', 'avgCm20Te': '11.3', 'avgCm30Te': '11.0', 'avgM05Te': '10.7', 'avgM10Te': '9.4', 'avgM15Te': '9.7', 'avgM30Te': '10.3', 'avgM50Te': '13.6', 'sumLrgEv': '4.2', 'sumSmlEv': '6.0', 'n99Rn': '', 'iscs': '{박무}0705-0850.  {햇무리}1350-1430.', 'sumFogDur': ''}, {'stnId': '108', 'stnNm': '서울', 'tm': '2022-04-07', 'avgTa': '10.9', 'minTa': '7.4', 'minTaHrmt': '2359', 'maxTa': '15.7', 'maxTaHrmt': '1310', 'mi10MaxRn': '', 'mi10MaxRnHrmt': '', 'hr1MaxRn': '', 'hr1MaxRnHrmt': '', 'sumRnDur': '', 'sumRn': '', 'maxInsWs': '11.2', 'maxInsWsWd': '200', 'maxInsWsHrmt': '1625', 'maxWs': '7.1', 'maxWsWd': '200', 'maxWsHrmt': '1617', 'avgWs': '3.3', 'hr24SumRws': '2842', 'maxWd': '250', 'avgTd': '-1.8', 'minRhm': '21', 'minRhmHrmt': '1714', 'avgRhm': '43.5', 'avgPv': '5.5', 'avgPa': '1007.5', 'maxPs': '1020.3', 'maxPsHrmt': '2230', 'minPs': '1015.5', 'minPsHrmt': '1513', 'avgPs': '1017.9', 'ssDur': '12.8', 'sumSsHr': '10.0', 'hr1MaxIcsrHrmt': '1200', 'hr1MaxIcsr': '3.38', 'sumGsr': '24.3', 'ddMefs': '', 'ddMefsHrmt': '', 'ddMes': '', 'ddMesHrmt': '', 'sumDpthFhsc': '', 'avgTca': '2.4', 'avgLmac': '2.0', 'avgTs': '15.1', 'minTg': '1.9', 'avgCm5Te': '13.1', 'avgCm10Te': '12.3', 'avgCm20Te': '11.9', 'avgCm30Te': '11.7', 'avgM05Te': '11.2', 'avgM10Te': '9.6', 'avgM15Te': '9.8', 'avgM30Te': '10.3', 'avgM50Te': '13.6', 'sumLrgEv': '4.4', 'sumSmlEv': '6.3', 'n99Rn': '', 'iscs': '', 'sumFogDur': ''}, {'stnId': '108', 'stnNm': '서울', 'tm': '2022-04-08', 'avgTa': '12.9', 'minTa': '5.1', 'minTaHrmt': '0612', 'maxTa': '20.0', 'maxTaHrmt': '1521', 'mi10MaxRn': '', 'mi10MaxRnHrmt': '', 'hr1MaxRn': '', 'hr1MaxRnHrmt': '', 'sumRnDur': '', 'sumRn': '', 'maxInsWs': '8.5', 'maxInsWsWd': '180', 'maxInsWsHrmt': '1629', 'maxWs': '5.0', 'maxWsWd': '200', 'maxWsHrmt': '1634', 'avgWs': '2.1', 'hr24SumRws': '1806', 'maxWd': '200', 'avgTd': '1.4', 'minRhm': '27', 'minRhmHrmt': '1315', 'avgRhm': '49.0', 'avgPv': '6.7', 'avgPa': '1008.5', 'maxPs': '1021.9', 'maxPsHrmt': '0846', 'minPs': '1015.8', 'minPsHrmt': '1702', 'avgPs': '1018.7', 'ssDur': '12.9', 'sumSsHr': '12.0', 'hr1MaxIcsrHrmt': '1200', 'hr1MaxIcsr': '3.31', 'sumGsr': '24.92', 'ddMefs': '', 'ddMefsHrmt': '', 'ddMes': '', 'ddMesHrmt': '', 'sumDpthFhsc': '', 'avgTca': '0.0', 'avgLmac': '0.0', 'avgTs': '16.1', 'minTg': '-1.5', 'avgCm5Te': '13.1', 'avgCm10Te': '12.4', 'avgCm20Te': '11.9', 'avgCm30Te': '11.8', 'avgM05Te': '11.5', 'avgM10Te': '9.8', 'avgM15Te': '10.0', 'avgM30Te': '10.3', 'avgM50Te': '13.6', 'sumLrgEv': '4.9', 'sumSmlEv': '7.0', 'n99Rn': '0.5', 'iscs': '', 'sumFogDur': ''}, {'stnId': '108', 'stnNm': '서울', 'tm': '2022-04-09', 'avgTa': '17.8', 'minTa': '12.4', 'minTaHrmt': '0751', 'maxTa': '24.2', 'maxTaHrmt': '1418', 'mi10MaxRn': '0.4', 'mi10MaxRnHrmt': '0736', 'hr1MaxRn': '0.5', 'hr1MaxRnHrmt': '0710', 'sumRnDur': '1.08', 'sumRn': '0.5', 'maxInsWs': '12.0', 'maxInsWsWd': '180', 'maxInsWsHrmt': '1923', 'maxWs': '6.7', 'maxWsWd': '200', 'maxWsHrmt': '1924', 'avgWs': '3.0', 'hr24SumRws': '2573', 'maxWd': '200', 'avgTd': '5.0', 'minRhm': '34', 'minRhmHrmt': '1358', 'avgRhm': '43.8', 'avgPv': '8.9', 'avgPa': '1004.6', 'maxPs': '1015.9', 'maxPsHrmt': '0002', 'minPs': '1012.5', 'minPsHrmt': '1524', 'avgPs': '1014.6', 'ssDur': '12.9', 'sumSsHr': '9.0', 'hr1MaxIcsrHrmt': '1200', 'hr1MaxIcsr': '3.11', 'sumGsr': '21.41', 'ddMefs': '', 'ddMefsHrmt': '', 'ddMes': '', 'ddMesHrmt': '', 'sumDpthFhsc': '', 'avgTca': '2.4', 'avgLmac': '2.3', 'avgTs': '18.1', 'minTg': '4.4', 'avgCm5Te': '14.6', 'avgCm10Te': '13.8', 'avgCm20Te': '13.1', 'avgCm30Te': '12.6', 'avgM05Te': '11.8', 'avgM10Te': '10.0', 'avgM15Te': '10.1', 'avgM30Te': '10.3', 'avgM50Te': '13.6', 'sumLrgEv': '5.3', 'sumSmlEv': '7.6', 'n99Rn': '', 'iscs': '{비}0710-0750. {비}0815-0840. ', 'sumFogDur': ''}, {'stnId': '108', 'stnNm': '서울', 'tm': '2022-04-10', 'avgTa': '18.2', 'minTa': '12.7', 'minTaHrmt': '0614', 'maxTa': '25.1', 'maxTaHrmt': '1501', 'mi10MaxRn': '', 'mi10MaxRnHrmt': '', 'hr1MaxRn': '', 'hr1MaxRnHrmt': '', 'sumRnDur': '', 'sumRn': '', 'maxInsWs': '8.7', 'maxInsWsWd': '250', 'maxInsWsHrmt': '1743', 'maxWs': '4.9', 'maxWsWd': '270', 'maxWsHrmt': '1748', 'avgWs': '2.0', 'hr24SumRws': '1758', 'maxWd': '270', 'avgTd': '5.6', 'minRhm': '22', 'minRhmHrmt': '1436', 'avgRhm': '46.0', 'avgPv': '9.1', 'avgPa': '1006.1', 'maxPs': '1017.8', 'maxPsHrmt': '0743', 'minPs': '1013.9', 'minPsHrmt': '1540', 'avgPs': '1016.1', 'ssDur': '13.0', 'sumSsHr': '11.5', 'hr1MaxIcsrHrmt': '1200', 'hr1MaxIcsr': '3.25', 'sumGsr': '24.18', 'ddMefs': '', 'ddMefsHrmt': '', 'ddMes': '', 'ddMesHrmt': '', 'sumDpthFhsc': '', 'avgTca': '1.5', 'avgLmac': '0.0', 'avgTs': '20.1', 'minTg': '4.1', 'avgCm5Te': '15.8', 'avgCm10Te': '14.9', 'avgCm20Te': '14.1', 'avgCm30Te': '13.5', 'avgM05Te': '12.5', 'avgM10Te': '10.3', 'avgM15Te': '10.3', 'avgM30Te': '10.4', 'avgM50Te': '13.5', 'sumLrgEv': '5.4', 'sumSmlEv': '7.8', 'n99Rn': '', 'iscs': '', 'sumFogDur': ''}, {'stnId': '108', 'stnNm': '서울', 'tm': '2022-04-11', 'avgTa': '19.6', 'minTa': '13.4', 'minTaHrmt': '0556', 'maxTa': '26.6', 'maxTaHrmt': '1529', 'mi10MaxRn': '', 'mi10MaxRnHrmt': '', 'hr1MaxRn': '', 'hr1MaxRnHrmt': '', 'sumRnDur': '', 'sumRn': '', 'maxInsWs': '8.3', 'maxInsWsWd': '200', 'maxInsWsHrmt': '1705', 'maxWs': '4.6', 'maxWsWd': '230', 'maxWsHrmt': '1632', 'avgWs': '2.4', 'hr24SumRws': '2049', 'maxWd': '70', 'avgTd': '11.2', 'minRhm': '34', 'minRhmHrmt': '1427', 'avgRhm': '60.4', 'avgPv': '13.4', 'avgPa': '1002.7', 'maxPs': '1016.3', 'maxPsHrmt': '0013', 'minPs': '1009.2', 'minPsHrmt': '1743', 'avgPs': '1012.6', 'ssDur': '13.0', 'sumSsHr': '10.2', 'hr1MaxIcsrHrmt': '1200', 'hr1MaxIcsr': '3.29', 'sumGsr': '24.04', 'ddMefs': '', 'ddMefsHrmt': '', 'ddMes': '', 'ddMesHrmt': '', 'sumDpthFhsc': '', 'avgTca': '2.8', 'avgLmac': '2.8', 'avgTs': '22.4', 'minTg': '6.5', 'avgCm5Te': '16.9', 'avgCm10Te': '16.0', 'avgCm20Te': '15.1', 'avgCm30Te': '14.4', 'avgM05Te': '13.2', 'avgM10Te': '10.6', 'avgM15Te': '10.4', 'avgM30Te': '10.4', 'avgM50Te': '13.5', 'sumLrgEv': '5.0', 'sumSmlEv': '7.2', 'n99Rn': '0.0', 'iscs': '', 'sumFogDur': ''}, {'stnId': '108', 'stnNm': '서울', 'tm': '2022-04-12', 'avgTa': '19.3', 'minTa': '15.9', 'minTaHrmt': '2358', 'maxTa': '26.4', 'maxTaHrmt': '1449', 'mi10MaxRn': '0.3', 'mi10MaxRnHrmt': '2128', 'hr1MaxRn': '0.4', 'hr1MaxRnHrmt': '2038', 'sumRnDur': '4.0', 'sumRn': '0.5', 'maxInsWs': '10.9', 'maxInsWsWd': '290', 'maxInsWsHrmt': '1752', 'maxWs': '6.4', 'maxWsWd': '290', 'maxWsHrmt': '1723', 'avgWs': '2.8', 'hr24SumRws': '2459', 'maxWd': '230', 'avgTd': '15.0', 'minRhm': '50', 'minRhmHrmt': '1431', 'avgRhm': '77.9', 'avgPv': '17.0', 'avgPa': '1000.4', 'maxPs': '1011.9', 'maxPsHrmt': '0527', 'minPs': '1007.2', 'minPsHrmt': '1556', 'avgPs': '1010.4', 'ssDur': '13.1', 'sumSsHr': '6.0', 'hr1MaxIcsrHrmt': '1300', 'hr1MaxIcsr': '3.01', 'sumGsr': '18.23', 'ddMefs': '', 'ddMefsHrmt': '', 'ddMes': '', 'ddMesHrmt': '', 'sumDpthFhsc': '', 'avgTca': '8.6', 'avgLmac': '6.9', 'avgTs': '23.6', 'minTg': '13.8', 'avgCm5Te': '18.9', 'avgCm10Te': '17.4', 'avgCm20Te': '16.4', 'avgCm30Te': '15.5', 'avgM05Te': '14.1', 'avgM10Te': '10.9', 'avgM15Te': '10.6', 'avgM30Te': '10.4', 'avgM50Te': '13.5', 'sumLrgEv': '3.4', 'sumSmlEv': '4.9', 'n99Rn': '1.8', 'iscs': '{비}0355-0425. {비}2010-{비}{강도0}2100-2340.  {박무}2040-{박무}{강도0}2100-2230. {박무}2310-{박무}{강도0}2400-', 'sumFogDur': ''}, {'stnId': '108', 'stnNm': '서울', 'tm': '2022-04-13', 'avgTa': '13.1', 'minTa': '12.0', 'minTaHrmt': '2135', 'maxTa': '15.9', 'maxTaHrmt': '0001', 'mi10MaxRn': '0.3', 'mi10MaxRnHrmt': '0211', 'hr1MaxRn': '0.8', 'hr1MaxRnHrmt': '0128', 'sumRnDur': '5.5', 'sumRn': '1.3', 'maxInsWs': '14.5', 'maxInsWsWd': '50', 'maxInsWsHrmt': '1534', 'maxWs': '8.4', 'maxWsWd': '50', 'maxWsHrmt': '1608', 'avgWs': '4.4', 'hr24SumRws': '3817', 'maxWd': '70', 'avgTd': '7.2', 'minRhm': '47', 'minRhmHrmt': '2357', 'avgRhm': '69.3', 'avgPv': '10.6', 'avgPa': '1004.2', 'maxPs': '1017.4', 'maxPsHrmt': '2400', 'minPs': '1010.8', 'minPsHrmt': '0109', 'avgPs': '1014.5', 'ssDur': '13.1', 'sumSsHr': '0.0', 'hr1MaxIcsrHrmt': '1000', 'hr1MaxIcsr': '0.64', 'sumGsr': '4.06', 'ddMefs': '', 'ddMefsHrmt': '', 'ddMes': '', 'ddMesHrmt': '', 'sumDpthFhsc': '', 'avgTca': '10.0', 'avgLmac': '7.5', 'avgTs': '13.0', 'minTg': '10.8', 'avgCm5Te': '15.6', 'avgCm10Te': '15.6', 'avgCm20Te': '15.6', 'avgCm30Te': '15.5', 'avgM05Te': '15.0', 'avgM10Te': '11.4', 'avgM15Te': '10.8', 'avgM30Te': '10.8', 'avgM50Te': '13.5', 'sumLrgEv': '2.5', 'sumSmlEv': '3.5', 'n99Rn': '', 'iscs': '{비}0110-{비}{강도0}0300-{비}{강도0}0600-0640.  -{박무}-{박무}{강도1}0300-0555.', 'sumFogDur': ''}, {'stnId': '108', 'stnNm': '서울', 'tm': '2022-04-14', 'avgTa': '13.2', 'minTa': '11.4', 'minTaHrmt': '2335', 'maxTa': '15.3', 'maxTaHrmt': '1411', 'mi10MaxRn': '', 'mi10MaxRnHrmt': '', 'hr1MaxRn': '', 'hr1MaxRnHrmt': '', 'sumRnDur': '', 'sumRn': '', 'maxInsWs': '11.1', 'maxInsWsWd': '50', 'maxInsWsHrmt': '0826', 'maxWs': '6.6', 'maxWsWd': '50', 'maxWsHrmt': '0826', 'avgWs': '4.0', 'hr24SumRws': '3465', 'maxWd': '70', 'avgTd': '3.8', 'minRhm': '45', 'minRhmHrmt': '0354', 'avgRhm': '53.4', 'avgPv': '8.0', 'avgPa': '1008.0', 'maxPs': '1020.5', 'maxPsHrmt': '2345', 'minPs': '1016.5', 'minPsHrmt': '0429', 'avgPs': '1018.3', 'ssDur': '13.1', 'sumSsHr': '0.0', 'hr1MaxIcsrHrmt': '1300', 'hr1MaxIcsr': '1.63', 'sumGsr': '9.52', 'ddMefs': '', 'ddMefsHrmt': '', 'ddMes': '', 'ddMesHrmt': '', 'sumDpthFhsc': '', 'avgTca': '9.3', 'avgLmac': '6.8', 'avgTs': '14.2', 'minTg': '8.1', 'avgCm5Te': '13.9', 'avgCm10Te': '13.6', 'avgCm20Te': '13.6', 'avgCm30Te': '13.9', 'avgM05Te': '14.1', 'avgM10Te': '11.8', 'avgM15Te': '11.0', 'avgM30Te': '10.8', 'avgM50Te': '13.4', 'sumLrgEv': '2.7', 'sumSmlEv': '3.9', 'n99Rn': '', 'iscs': '', 'sumFogDur': ''}, {'stnId': '108', 'stnNm': '서울', 'tm': '2022-04-15', 'avgTa': '13.3', 'minTa': '7.5', 'minTaHrmt': '0627', 'maxTa': '19.3', 'maxTaHrmt': '1602', 'mi10MaxRn': '', 'mi10MaxRnHrmt': '', 'hr1MaxRn': '', 'hr1MaxRnHrmt': '', 'sumRnDur': '', 'sumRn': '', 'maxInsWs': '9.9', 'maxInsWsWd': '320', 'maxInsWsHrmt': '2043', 'maxWs': '5.7', 'maxWsWd': '290', 'maxWsHrmt': '1420', 'avgWs': '3.0', 'hr24SumRws': '2622', 'maxWd': '50', 'avgTd': '1.7', 'minRhm': '28', 'minRhmHrmt': '1328', 'avgRhm': '46.8', 'avgPv': '6.9', 'avgPa': '1007.4', 'maxPs': '1020.7', 'maxPsHrmt': '0012', 'minPs': '1013.5', 'minPsHrmt': '1600', 'avgPs': '1017.6', 'ssDur': '13.2', 'sumSsHr': '12.2', 'hr1MaxIcsrHrmt': '1200', 'hr1MaxIcsr': '3.42', 'sumGsr': '26.31', 'ddMefs': '', 'ddMefsHrmt': '', 'ddMes': '', 'ddMesHrmt': '', 'sumDpthFhsc': '', 'avgTca': '1.0', 'avgLmac': '0.4', 'avgTs': '19.0', 'minTg': '1.8', 'avgCm5Te': '14.5', 'avgCm10Te': '13.7', 'avgCm20Te': '13.4', 'avgCm30Te': '13.4', 'avgM05Te': '13.6', 'avgM10Te': '11.9', 'avgM15Te': '11.3', 'avgM30Te': '10.8', 'avgM50Te': '13.4', 'sumLrgEv': '4.9', 'sumSmlEv': '7.0', 'n99Rn': '', 'iscs': '', 'sumFogDur': ''}, {'stnId': '108', 'stnNm': '서울', 'tm': '2022-04-16', 'avgTa': '13.2', 'minTa': '7.1', 'minTaHrmt': '0557', 'maxTa': '20.2', 'maxTaHrmt': '1513', 'mi10MaxRn': '', 'mi10MaxRnHrmt': '', 'hr1MaxRn': '', 'hr1MaxRnHrmt': '', 'sumRnDur': '', 'sumRn': '', 'maxInsWs': '9.8', 'maxInsWsWd': '290', 'maxInsWsHrmt': '1633', 'maxWs': '5.5', 'maxWsWd': '270', 'maxWsHrmt': '1613', 'avgWs': '2.5', 'hr24SumRws': '2198', 'maxWd': '250', 'avgTd': '1.5', 'minRhm': '18', 'minRhmHrmt': '1348', 'avgRhm': '48.5', 'avgPv': '6.9', 'avgPa': '1007.2', 'maxPs': '1019.2', 'maxPsHrmt': '0747', 'minPs': '1015.0', 'minPsHrmt': '1543', 'avgPs': '1017.5', 'ssDur': '13.2', 'sumSsHr': '12.3', 'hr1MaxIcsrHrmt': '1200', 'hr1MaxIcsr': '3.47', 'sumGsr': '26.64', 'ddMefs': '', 'ddMefsHrmt': '', 'ddMes': '', 'ddMesHrmt': '', 'sumDpthFhsc': '', 'avgTca': '0.3', 'avgLmac': '0.0', 'avgTs': '19.1', 'minTg': '-1.9', 'avgCm5Te': '14.8', 'avgCm10Te': '14.1', 'avgCm20Te': '13.8', 'avgCm30Te': '13.7', 'avgM05Te': '13.8', 'avgM10Te': '12.0', 'avgM15Te': '11.5', 'avgM30Te': '10.9', 'avgM50Te': '13.4', 'sumLrgEv': '5.3', 'sumSmlEv': '7.6', 'n99Rn': '', 'iscs': '', 'sumFogDur': ''}, {'stnId': '108', 'stnNm': '서울', 'tm': '2022-04-17', 'avgTa': '14.0', 'minTa': '7.2', 'minTaHrmt': '0559', 'maxTa': '21.9', 'maxTaHrmt': '1418', 'mi10MaxRn': '', 'mi10MaxRnHrmt': '', 'hr1MaxRn': '', 'hr1MaxRnHrmt': '', 'sumRnDur': '', 'sumRn': '', 'maxInsWs': '9.0', 'maxInsWsWd': '290', 'maxInsWsHrmt': '1500', 'maxWs': '5.2', 'maxWsWd': '270', 'maxWsHrmt': '1504', 'avgWs': '2.3', 'hr24SumRws': '1995', 'maxWd': '250', 'avgTd': '3.5', 'minRhm': '24', 'minRhmHrmt': '1818', 'avgRhm': '53.8', 'avgPv': '7.9', 'avgPa': '1007.7', 'maxPs': '1019.6', 'maxPsHrmt': '1021', 'minPs': '1016.3', 'minPsHrmt': '1539', 'avgPs': '1017.9', 'ssDur': '13.2', 'sumSsHr': '11.7', 'hr1MaxIcsrHrmt': '1200', 'hr1MaxIcsr': '3.45', 'sumGsr': '26.0', 'ddMefs': '', 'ddMefsHrmt': '', 'ddMes': '', 'ddMesHrmt': '', 'sumDpthFhsc': '', 'avgTca': '2.6', 'avgLmac': '0.0', 'avgTs': '19.5', 'minTg': '-1.9', 'avgCm5Te': '15.4', 'avgCm10Te': '14.5', 'avgCm20Te': '14.1', 'avgCm30Te': '13.9', 'avgM05Te': '13.9', 'avgM10Te': '12.1', 'avgM15Te': '11.6', 'avgM30Te': '10.9', 'avgM50Te': '13.4', 'sumLrgEv': '5.1', 'sumSmlEv': '7.2', 'n99Rn': '', 'iscs': '{박무}0205-{박무}{강도0}0300-{박무}{강도0}0600-0705. ', 'sumFogDur': ''}, {'stnId': '108', 'stnNm': '서울', 'tm': '2022-04-18', 'avgTa': '15.2', 'minTa': '11.4', 'minTaHrmt': '0309', 'maxTa': '21.6', 'maxTaHrmt': '1427', 'mi10MaxRn': '', 'mi10MaxRnHrmt': '', 'hr1MaxRn': '', 'hr1MaxRnHrmt': '', 'sumRnDur': '', 'sumRn': '', 'maxInsWs': '10.2', 'maxInsWsWd': '270', 'maxInsWsHrmt': '1433', 'maxWs': '5.5', 'maxWsWd': '250', 'maxWsHrmt': '1457', 'avgWs': '2.4', 'hr24SumRws': '2053', 'maxWd': '250', 'avgTd': '2.6', 'minRhm': '21', 'minRhmHrmt': '1429', 'avgRhm': '46.1', 'avgPv': '7.5', 'avgPa': '1007.4', 'maxPs': '1019.3', 'maxPsHrmt': '0046', 'minPs': '1015.7', 'minPsHrmt': '1744', 'avgPs': '1017.6', 'ssDur': '13.3', 'sumSsHr': '7.8', 'hr1MaxIcsrHrmt': '1200', 'hr1MaxIcsr': '3.19', 'sumGsr': '20.59', 'ddMefs': '', 'ddMefsHrmt': '', 'ddMes': '', 'ddMesHrmt': '', 'sumDpthFhsc': '', 'avgTca': '4.8', 'avgLmac': '0.9', 'avgTs': '19.3', 'minTg': '4.4', 'avgCm5Te': '16.1', 'avgCm10Te': '15.2', 'avgCm20Te': '14.7', 'avgCm30Te': '14.4', 'avgM05Te': '14.3', 'avgM10Te': '12.2', 'avgM15Te': '11.8', 'avgM30Te': '10.9', 'avgM50Te': '13.4', 'sumLrgEv': '4.6', 'sumSmlEv': '6.6', 'n99Rn': '', 'iscs': '{햇무리}0925-1140.', 'sumFogDur': ''}, {'stnId': '108', 'stnNm': '서울', 'tm': '2022-04-19', 'avgTa': '15.2', 'minTa': '8.9', 'minTaHrmt': '0614', 'maxTa': '22.1', 'maxTaHrmt': '1357', 'mi10MaxRn': '', 'mi10MaxRnHrmt': '', 'hr1MaxRn': '', 'hr1MaxRnHrmt': '', 'sumRnDur': '', 'sumRn': '', 'maxInsWs': '8.7', 'maxInsWsWd': '250', 'maxInsWsHrmt': '1411', 'maxWs': '5.2', 'maxWsWd': '250', 'maxWsHrmt': '1558', 'avgWs': '2.4', 'hr24SumRws': '2064', 'maxWd': '250', 'avgTd': '4.6', 'minRhm': '28', 'minRhmHrmt': '1507', 'avgRhm': '51.9', 'avgPv': '8.5', 'avgPa': '1006.9', 'maxPs': '1018.6', 'maxPsHrmt': '0108', 'minPs': '1015.4', 'minPsHrmt': '1708', 'avgPs': '1017.1', 'ssDur': '13.3', 'sumSsHr': '12.1', 'hr1MaxIcsrHrmt': '1200', 'hr1MaxIcsr': '3.27', 'sumGsr': '25.17', 'ddMefs': '', 'ddMefsHrmt': '', 'ddMes': '', 'ddMesHrmt': '', 'sumDpthFhsc': '', 'avgTca': '0.0', 'avgLmac': '0.0', 'avgTs': '20.5', 'minTg': '0.4', 'avgCm5Te': '16.1', 'avgCm10Te': '15.2', 'avgCm20Te': '14.8', 'avgCm30Te': '14.6', 'avgM05Te': '14.5', 'avgM10Te': '12.4', 'avgM15Te': '11.9', 'avgM30Te': '11.0', 'avgM50Te': '13.3', 'sumLrgEv': '5.1', 'sumSmlEv': '7.4', 'n99Rn': '', 'iscs': '{연무}2340-{연무}{강도0}2400-', 'sumFogDur': ''}, {'stnId': '108', 'stnNm': '서울', 'tm': '2022-04-20', 'avgTa': '15.7', 'minTa': '9.7', 'minTaHrmt': '0610', 'maxTa': '22.1', 'maxTaHrmt': '1357', 'mi10MaxRn': '', 'mi10MaxRnHrmt': '', 'hr1MaxRn': '', 'hr1MaxRnHrmt': '', 'sumRnDur': '', 'sumRn': '', 'maxInsWs': '9.0', 'maxInsWsWd': '290', 'maxInsWsHrmt': '1452', 'maxWs': '4.7', 'maxWsWd': '230', 'maxWsHrmt': '1345', 'avgWs': '2.3', 'hr24SumRws': '1969', 'maxWd': '250', 'avgTd': '4.0', 'minRhm': '23', 'minRhmHrmt': '1327', 'avgRhm': '48.8', 'avgPv': '8.1', 'avgPa': '1005.5', 'maxPs': '1018.0', 'maxPsHrmt': '0018', 'minPs': '1013.2', 'minPsHrmt': '1643', 'avgPs': '1015.7', 'ssDur': '13.4', 'sumSsHr': '12.3', 'hr1MaxIcsrHrmt': '1200', 'hr1MaxIcsr': '3.39', 'sumGsr': '26.26', 'ddMefs': '', 'ddMefsHrmt': '', 'ddMes': '', 'ddMesHrmt': '', 'sumDpthFhsc': '', 'avgTca': '0.0', 'avgLmac': '0.0', 'avgTs': '21.3', 'minTg': '-0.1', 'avgCm5Te': '16.5', 'avgCm10Te': '15.6', 'avgCm20Te': '15.1', 'avgCm30Te': '14.8', 'avgM05Te': '14.7', 'avgM10Te': '12.5', 'avgM15Te': '12.1', 'avgM30Te': '11.0', 'avgM50Te': '13.3', 'sumLrgEv': '5.6', 'sumSmlEv': '8.0', 'n99Rn': '', 'iscs': '-{연무}-{연무}{강도0}0300-{연무}{강도0}0600-0810. ', 'sumFogDur': ''}, {'stnId': '108', 'stnNm': '서울', 'tm': '2022-04-21', 'avgTa': '16.3', 'minTa': '9.6', 'minTaHrmt': '0543', 'maxTa': '22.7', 'maxTaHrmt': '1343', 'mi10MaxRn': '', 'mi10MaxRnHrmt': '', 'hr1MaxRn': '', 'hr1MaxRnHrmt': '', 'sumRnDur': '', 'sumRn': '', 'maxInsWs': '10.0', 'maxInsWsWd': '180', 'maxInsWsHrmt': '1322', 'maxWs': '5.9', 'maxWsWd': '200', 'maxWsHrmt': '1559', 'avgWs': '2.8', 'hr24SumRws': '2382', 'maxWd': '200', 'avgTd': '4.4', 'minRhm': '21', 'minRhmHrmt': '1146', 'avgRhm': '48.4', 'avgPv': '8.6', 'avgPa': '1001.6', 'maxPs': '1015.1', 'maxPsHrmt': '0001', 'minPs': '1009.2', 'minPsHrmt': '1536', 'avgPs': '1011.7', 'ssDur': '13.4', 'sumSsHr': '6.3', 'hr1MaxIcsrHrmt': '1100', 'hr1MaxIcsr': '3.0', 'sumGsr': '19.54', 'ddMefs': '', 'ddMefsHrmt': '', 'ddMes': '', 'ddMesHrmt': '', 'sumDpthFhsc': '', 'avgTca': '5.3', 'avgLmac': '4.4', 'avgTs': '19.7', 'minTg': '0.3', 'avgCm5Te': '16.4', 'avgCm10Te': '15.6', 'avgCm20Te': '15.2', 'avgCm30Te': '15.1', 'avgM05Te': '15.0', 'avgM10Te': '12.7', 'avgM15Te': '12.2', 'avgM30Te': '11.1', 'avgM50Te': '13.3', 'sumLrgEv': '4.8', 'sumSmlEv': '6.8', 'n99Rn': '', 'iscs': '', 'sumFogDur': ''}, {'stnId': '108', 'stnNm': '서울', 'tm': '2022-04-22', 'avgTa': '15.0', 'minTa': '13.2', 'minTaHrmt': '2349', 'maxTa': '16.8', 'maxTaHrmt': '0929', 'mi10MaxRn': '', 'mi10MaxRnHrmt': '', 'hr1MaxRn': '', 'hr1MaxRnHrmt': '', 'sumRnDur': '', 'sumRn': '', 'maxInsWs': '11.7', 'maxInsWsWd': '200', 'maxInsWsHrmt': '1238', 'maxWs': '6.6', 'maxWsWd': '230', 'maxWsHrmt': '1251', 'avgWs': '3.5', 'hr24SumRws': '3006', 'maxWd': '200', 'avgTd': '10.8', 'minRhm': '58', 'minRhmHrmt': '0103', 'avgRhm': '76.8', 'avgPv': '13.1', 'avgPa': '1000.3', 'maxPs': '1012.8', 'maxPsHrmt': '2354', 'minPs': '1008.8', 'minPsHrmt': '1520', 'avgPs': '1010.4', 'ssDur': '13.4', 'sumSsHr': '0.0', 'hr1MaxIcsrHrmt': '0900', 'hr1MaxIcsr': '0.45', 'sumGsr': '3.06', 'ddMefs': '', 'ddMefsHrmt': '', 'ddMes': '', 'ddMesHrmt': '', 'sumDpthFhsc': '', 'avgTca': '8.5', 'avgLmac': '8.3', 'avgTs': '15.1', 'minTg': '9.2', 'avgCm5Te': '15.4', 'avgCm10Te': '15.1', 'avgCm20Te': '15.1', 'avgCm30Te': '15.0', 'avgM05Te': '15.2', 'avgM10Te': '12.9', 'avgM15Te': '12.4', 'avgM30Te': '11.1', 'avgM50Te': '13.3', 'sumLrgEv': '1.1', 'sumSmlEv': '1.6', 'n99Rn': '', 'iscs': '{박무}1435-{박무}{강도0}1500-{박무}{강도0}1800-{박무}{강도0}2100-{박무}{강도0}2400-', 'sumFogDur': ''}, {'stnId': '108', 'stnNm': '서울', 'tm': '2022-04-23', 'avgTa': '17.7', 'minTa': '10.4', 'minTaHrmt': '0539', 'maxTa': '25.3', 'maxTaHrmt': '1555', 'mi10MaxRn': '', 'mi10MaxRnHrmt': '', 'hr1MaxRn': '', 'hr1MaxRnHrmt': '', 'sumRnDur': '', 'sumRn': '', 'maxInsWs': '6.8', 'maxInsWsWd': '140', 'maxInsWsHrmt': '1333', 'maxWs': '3.5', 'maxWsWd': '110', 'maxWsHrmt': '1341', 'avgWs': '1.7', 'hr24SumRws': '1510', 'maxWd': '250', 'avgTd': '7.2', 'minRhm': '21', 'minRhmHrmt': '1749', 'avgRhm': '57.3', 'avgPv': '10.4', 'avgPa': '1001.9', 'maxPs': '1015.0', 'maxPsHrmt': '0842', 'minPs': '1008.7', 'minPsHrmt': '1633', 'avgPs': '1011.9', 'ssDur': '13.5', 'sumSsHr': '9.1', 'hr1MaxIcsrHrmt': '1200', 'hr1MaxIcsr': '3.26', 'sumGsr': '23.47', 'ddMefs': '', 'ddMefsHrmt': '', 'ddMes': '', 'ddMesHrmt': '', 'sumDpthFhsc': '', 'avgTca': '6.0', 'avgLmac': '1.0', 'avgTs': '22.9', 'minTg': '2.2', 'avgCm5Te': '17.1', 'avgCm10Te': '15.8', 'avgCm20Te': '15.0', 'avgCm30Te': '14.7', 'avgM05Te': '14.8', 'avgM10Te': '13.1', 'avgM15Te': '12.5', 'avgM30Te': '11.2', 'avgM50Te': '13.3', 'sumLrgEv': '4.2', 'sumSmlEv': '6.0', 'n99Rn': '0.3', 'iscs': '-{박무}-{박무}{강도0}0300-{박무}{강도0}0600-{박무}{강도0}0900-0950. ', 'sumFogDur': ''}, {'stnId': '108', 'stnNm': '서울', 'tm': '2022-04-24', 'avgTa': '18.5', 'minTa': '15.0', 'minTaHrmt': '0608', 'maxTa': '24.5', 'maxTaHrmt': '1418', 'mi10MaxRn': '0.1', 'mi10MaxRnHrmt': '', 'hr1MaxRn': '0.2', 'hr1MaxRnHrmt': '', 'sumRnDur': '4.75', 'sumRn': '0.3', 'maxInsWs': '8.0', 'maxInsWsWd': '270', 'maxInsWsHrmt': '1407', 'maxWs': '5.0', 'maxWsWd': '270', 'maxWsHrmt': '1814', 'avgWs': '2.3', 'hr24SumRws': '1976', 'maxWd': '270', 'avgTd': '13.1', 'minRhm': '48', 'minRhmHrmt': '1553', 'avgRhm': '72.5', 'avgPv': '15.2', 'avgPa': '1001.2', 'maxPs': '1012.5', 'maxPsHrmt': '2320', 'minPs': '1008.7', 'minPsHrmt': '1614', 'avgPs': '1011.2', 'ssDur': '13.5', 'sumSsHr': '7.0', 'hr1MaxIcsrHrmt': '1200', 'hr1MaxIcsr': '3.39', 'sumGsr': '20.45', 'ddMefs': '', 'ddMefsHrmt': '', 'ddMes': '', 'ddMesHrmt': '', 'sumDpthFhsc': '', 'avgTca': '6.4', 'avgLmac': '5.6', 'avgTs': '22.8', 'minTg': '9.1', 'avgCm5Te': '18.6', 'avgCm10Te': '17.2', 'avgCm20Te': '16.3', 'avgCm30Te': '15.7', 'avgM05Te': '15.3', 'avgM10Te': '13.2', 'avgM15Te': '12.7', 'avgM30Te': '11.2', 'avgM50Te': '13.3', 'sumLrgEv': '3.8', 'sumSmlEv': '5.5', 'n99Rn': '1.1', 'iscs': '{안개비}0445-{안개비}{강도0}0600-{안개비}{강도0}0900-0920. {안개비}2350-{안개비}{강도0}2400- {박무}0445-{박무}{강도0}0600-{박무}{강도0}0900-1005. {박무}2355-{박무}{강도0}2400-', 'sumFogDur': ''}, {'stnId': '108', 'stnNm': '서울', 'tm': '2022-04-25', 'avgTa': '20.0', 'minTa': '17.0', 'minTaHrmt': '0001', 'maxTa': '23.6', 'maxTaHrmt': '1606', 'mi10MaxRn': '0.1', 'mi10MaxRnHrmt': '', 'hr1MaxRn': '0.3', 'hr1MaxRnHrmt': '0529', 'sumRnDur': '11.25', 'sumRn': '1.3', 'maxInsWs': '5.5', 'maxInsWsWd': '140', 'maxInsWsHrmt': '2331', 'maxWs': '3.2', 'maxWsWd': '110', 'maxWsHrmt': '2340', 'avgWs': '1.4', 'hr24SumRws': '1207', 'maxWd': '50', 'avgTd': '16.3', 'minRhm': '61', 'minRhmHrmt': '1554', 'avgRhm': '80.5', 'avgPv': '18.6', 'avgPa': '1000.6', 'maxPs': '1013.8', 'maxPsHrmt': '0724', 'minPs': '1005.9', 'minPsHrmt': '2356', 'avgPs': '1010.5', 'ssDur': '13.5', 'sumSsHr': '0.3', 'hr1MaxIcsrHrmt': '1300', 'hr1MaxIcsr': '1.98', 'sumGsr': '8.1', 'ddMefs': '', 'ddMefsHrmt': '', 'ddMes': '', 'ddMesHrmt': '', 'sumDpthFhsc': '', 'avgTca': '10.0', 'avgLmac': '6.0', 'avgTs': '20.6', 'minTg': '15.8', 'avgCm5Te': '18.9', 'avgCm10Te': '17.9', 'avgCm20Te': '17.1', 'avgCm30Te': '16.6', 'avgM05Te': '16.1', 'avgM10Te': '13.3', 'avgM15Te': '12.8', 'avgM30Te': '11.3', 'avgM50Te': '13.3', 'sumLrgEv': '2.0', 'sumSmlEv': '2.8', 'n99Rn': '1.2', 'iscs': '-{안개비}-{안개비}{강도0}0300-{안개비}{강도0}0600-0830. {비}2115-{비}{강도0}2400- -{박무}-{박무}{강도1}0300-{박무}{강도2}0600-{박무}{강도0}0900-1050. {박무}2335-{박무}{강도0}2400-', 'sumFogDur': ''}, {'stnId': '108', 'stnNm': '서울', 'tm': '2022-04-26', 'avgTa': '21.9', 'minTa': '17.0', 'minTaHrmt': '0437', 'maxTa': '28.7', 'maxTaHrmt': '1451', 'mi10MaxRn': '0.3', 'mi10MaxRnHrmt': '0249', 'hr1MaxRn': '0.8', 'hr1MaxRnHrmt': '0237', 'sumRnDur': '4.83', 'sumRn': '1.0', 'maxInsWs': '11.5', 'maxInsWsWd': '320', 'maxInsWsHrmt': '1740', 'maxWs': '6.7', 'maxWsWd': '290', 'maxWsHrmt': '1743', 'avgWs': '3.1', 'hr24SumRws': '2652', 'maxWd': '270', 'avgTd': '12.5', 'minRhm': '36', 'minRhmHrmt': '1538', 'avgRhm': '57.9', 'avgPv': '14.7', 'avgPa': '993.2', 'maxPs': '1009.3', 'maxPsHrmt': '2359', 'minPs': '998.6', 'minPsHrmt': '1540', 'avgPs': '1003.0', 'ssDur': '13.6', 'sumSsHr': '9.5', 'hr1MaxIcsrHrmt': '1200', 'hr1MaxIcsr': '3.48', 'sumGsr': '24.94', 'ddMefs': '', 'ddMefsHrmt': '', 'ddMes': '', 'ddMesHrmt': '', 'sumDpthFhsc': '', 'avgTca': '5.0', 'avgLmac': '2.1', 'avgTs': '26.0', 'minTg': '12.3', 'avgCm5Te': '20.6', 'avgCm10Te': '19.0', 'avgCm20Te': '17.8', 'avgCm30Te': '17.0', 'avgM05Te': '16.3', 'avgM10Te': '13.6', 'avgM15Te': '12.9', 'avgM30Te': '11.3', 'avgM50Te': '13.2', 'sumLrgEv': '6.3', 'sumSmlEv': '9.0', 'n99Rn': '', 'iscs': '-{비}-{비}{강도0}0300-0450.  -{박무}-{박무}{강도0}0300-0405.  {햇무리}1345-1530.', 'sumFogDur': ''}, {'stnId': '108', 'stnNm': '서울', 'tm': '2022-04-27', 'avgTa': '17.7', 'minTa': '12.6', 'minTaHrmt': '0528', 'maxTa': '23.9', 'maxTaHrmt': '1551', 'mi10MaxRn': '', 'mi10MaxRnHrmt': '', 'hr1MaxRn': '', 'hr1MaxRnHrmt': '', 'sumRnDur': '', 'sumRn': '', 'maxInsWs': '9.5', 'maxInsWsWd': '340', 'maxInsWsHrmt': '0604', 'maxWs': '4.7', 'maxWsWd': '320', 'maxWsHrmt': '0613', 'avgWs': '2.7', 'hr24SumRws': '2344', 'maxWd': '250', 'avgTd': '0.1', 'minRhm': '17', 'minRhmHrmt': '1407', 'avgRhm': '31.5', 'avgPv': '6.3', 'avgPa': '1004.3', 'maxPs': '1017.3', 'maxPsHrmt': '2258', 'minPs': '1009.3', 'minPsHrmt': '0001', 'avgPs': '1014.4', 'ssDur': '13.6', 'sumSsHr': '11.8', 'hr1MaxIcsrHrmt': '1200', 'hr1MaxIcsr': '3.46', 'sumGsr': '26.83', 'ddMefs': '', 'ddMefsHrmt': '', 'ddMes': '', 'ddMesHrmt': '', 'sumDpthFhsc': '', 'avgTca': '0.4', 'avgLmac': '0.0', 'avgTs': '24.1', 'minTg': '5.0', 'avgCm5Te': '19.4', 'avgCm10Te': '18.6', 'avgCm20Te': '18.0', 'avgCm30Te': '17.5', 'avgM05Te': '17.0', 'avgM10Te': '13.9', 'avgM15Te': '13.1', 'avgM30Te': '11.4', 'avgM50Te': '13.2', 'sumLrgEv': '6.4', 'sumSmlEv': '9.1', 'n99Rn': '', 'iscs': '{황사}0325-{황사}{강도0}0600-{황사}{강도0}0900-{황사}{강도0}1200-{황사}{강도0}1500-{황사}{강도0}1800-{황사}{강도0}2100-{황사}{강도0}2400-', 'sumFogDur': ''}, {'stnId': '108', 'stnNm': '서울', 'tm': '2022-04-28', 'avgTa': '18.2', 'minTa': '11.6', 'minTaHrmt': '0603', 'maxTa': '25.9', 'maxTaHrmt': '1432', 'mi10MaxRn': '0.0', 'mi10MaxRnHrmt': '', 'hr1MaxRn': '0.0', 'hr1MaxRnHrmt': '', 'sumRnDur': '0.25', 'sumRn': '0.0', 'maxInsWs': '13.1', 'maxInsWsWd': '50', 'maxInsWsHrmt': '2202', 'maxWs': '5.6', 'maxWsWd': '50', 'maxWsHrmt': '2150', 'avgWs': '2.6', 'hr24SumRws': '2249', 'maxWd': '50', 'avgTd': '4.9', 'minRhm': '19', 'minRhmHrmt': '1359', 'avgRhm': '44.0', 'avgPv': '8.8', 'avgPa': '1005.6', 'maxPs': '1018.8', 'maxPsHrmt': '0658', 'minPs': '1013.2', 'minPsHrmt': '1529', 'avgPs': '1015.6', 'ssDur': '13.6', 'sumSsHr': '8.3', 'hr1MaxIcsrHrmt': '1200', 'hr1MaxIcsr': '3.29', 'sumGsr': '22.34', 'ddMefs': '', 'ddMefsHrmt': '', 'ddMes': '', 'ddMesHrmt': '', 'sumDpthFhsc': '', 'avgTca': '5.8', 'avgLmac': '3.5', 'avgTs': '24.4', 'minTg': '4.4', 'avgCm5Te': '19.4', 'avgCm10Te': '18.3', 'avgCm20Te': '17.7', 'avgCm30Te': '17.4', 'avgM05Te': '17.1', 'avgM10Te': '14.2', 'avgM15Te': '13.3', 'avgM30Te': '11.5', 'avgM50Te': '13.2', 'sumLrgEv': '5.1', 'sumSmlEv': '7.3', 'n99Rn': '15.5', 'iscs': '{비}2345-{비}{강도0}2400- -{황사}-0025.', 'sumFogDur': ''}, {'stnId': '108', 'stnNm': '서울', 'tm': '2022-04-29', 'avgTa': '13.4', 'minTa': '10.7', 'minTaHrmt': '0619', 'maxTa': '16.5', 'maxTaHrmt': '1236', 'mi10MaxRn': '0.9', 'mi10MaxRnHrmt': '0454', 'hr1MaxRn': '4.0', 'hr1MaxRnHrmt': '0423', 'sumRnDur': '9.75', 'sumRn': '15.5', 'maxInsWs': '10.6', 'maxInsWsWd': '70', 'maxInsWsHrmt': '0917', 'maxWs': '5.7', 'maxWsWd': '50', 'maxWsHrmt': '1016', 'avgWs': '3.4', 'hr24SumRws': '2947', 'maxWd': '50', 'avgTd': '7.8', 'minRhm': '54', 'minRhmHrmt': '1415', 'avgRhm': '70.6', 'avgPv': '10.7', 'avgPa': '1006.3', 'maxPs': '1020.3', 'maxPsHrmt': '2356', 'minPs': '1014.2', 'minPsHrmt': '0252', 'avgPs': '1016.5', 'ssDur': '13.7', 'sumSsHr': '1.5', 'hr1MaxIcsrHrmt': '1100', 'hr1MaxIcsr': '2.77', 'sumGsr': '13.08', 'ddMefs': '', 'ddMefsHrmt': '', 'ddMes': '', 'ddMesHrmt': '', 'sumDpthFhsc': '', 'avgTca': '8.8', 'avgLmac': '7.4', 'avgTs': '15.1', 'minTg': '8.4', 'avgCm5Te': '17.1', 'avgCm10Te': '17.0', 'avgCm20Te': '17.2', 'avgCm30Te': '17.2', 'avgM05Te': '17.3', 'avgM10Te': '14.4', 'avgM15Te': '13.4', 'avgM30Te': '11.5', 'avgM50Te': '13.2', 'sumLrgEv': '2.6', 'sumSmlEv': '3.7', 'n99Rn': '0.0', 'iscs': '-{비}-{비}{강도0}0300-{비}{강도1}0600-{비}{강도0}0900-0945.  {박무}0145-{박무}{강도0}0300-{박무}{강도0}0600-0635.', 'sumFogDur': ''}, {'stnId': '108', 'stnNm': '서울', 'tm': '2022-04-30', 'avgTa': '13.0', 'minTa': '10.5', 'minTaHrmt': '0143', 'maxTa': '17.8', 'maxTaHrmt': '1326', 'mi10MaxRn': '', 'mi10MaxRnHrmt': '', 'hr1MaxRn': '', 'hr1MaxRnHrmt': '', 'sumRnDur': '', 'sumRn': '', 'maxInsWs': '10.5', 'maxInsWsWd': '270', 'maxInsWsHrmt': '1513', 'maxWs': '6.6', 'maxWsWd': '270', 'maxWsHrmt': '1511', 'avgWs': '2.9', 'hr24SumRws': '2494', 'maxWd': '50', 'avgTd': '7.0', 'minRhm': '49', 'minRhmHrmt': '1328', 'avgRhm': '68.0', 'avgPv': '10.1', 'avgPa': '1007.2', 'maxPs': '1020.5', 'maxPsHrmt': '0009', 'minPs': '1014.5', 'minPsHrmt': '1651', 'avgPs': '1017.4', 'ssDur': '13.7', 'sumSsHr': '0.8', 'hr1MaxIcsrHrmt': '1300', 'hr1MaxIcsr': '2.18', 'sumGsr': '12.52', 'ddMefs': '', 'ddMefsHrmt': '', 'ddMes': '', 'ddMesHrmt': '', 'sumDpthFhsc': '', 'avgTca': '8.0', 'avgLmac': '5.8', 'avgTs': '14.6', 'minTg': '5.9', 'avgCm5Te': '16.0', 'avgCm10Te': '15.7', 'avgCm20Te': '15.9', 'avgCm30Te': '16.1', 'avgM05Te': '16.6', 'avgM10Te': '14.6', 'avgM15Te': '13.6', 'avgM30Te': '11.6', 'avgM50Te': '13.2', 'sumLrgEv': '2.6', 'sumSmlEv': '3.7', 'n99Rn': '', 'iscs': '{박무}2110-2330. ', 'sumFogDur': ''}, {'stnId': '108', 'stnNm': '서울', 'tm': '2022-05-01', 'avgTa': '13.4', 'minTa': '7.9', 'minTaHrmt': '0514', 'maxTa': '19.2', 'maxTaHrmt': '1512', 'mi10MaxRn': '', 'mi10MaxRnHrmt': '', 'hr1MaxRn': '', 'hr1MaxRnHrmt': '', 'sumRnDur': '', 'sumRn': '', 'maxInsWs': '14.1', 'maxInsWsWd': '230', 'maxInsWsHrmt': '1415', 'maxWs': '7.5', 'maxWsWd': '230', 'maxWsHrmt': '1424', 'avgWs': '3.1', 'hr24SumRws': '2702', 'maxWd': '270', 'avgTd': '3.3', 'minRhm': '22', 'minRhmHrmt': '1329', 'avgRhm': '54.8', 'avgPv': '7.9', 'avgPa': '1002.6', 'maxPs': '1016.6', 'maxPsHrmt': '0016', 'minPs': '1010.3', 'minPsHrmt': '1739', 'avgPs': '1012.8', 'ssDur': '13.8', 'sumSsHr': '10.0', 'hr1MaxIcsrHrmt': '1200', 'hr1MaxIcsr': '3.63', 'sumGsr': '27.41', 'ddMefs': '', 'ddMefsHrmt': '', 'ddMes': '', 'ddMesHrmt': '', 'sumDpthFhsc': '', 'avgTca': '1.3', 'avgLmac': '1.3', 'avgTs': '19.1', 'minTg': '-0.5', 'avgCm5Te': '16.1', 'avgCm10Te': '15.5', 'avgCm20Te': '15.4', 'avgCm30Te': '15.6', 'avgM05Te': '16.1', 'avgM10Te': '14.6', 'avgM15Te': '13.8', 'avgM30Te': '11.6', 'avgM50Te': '13.2', 'sumLrgEv': '5.1', 'sumSmlEv': '7.3', 'n99Rn': '', 'iscs': '', 'sumFogDur': ''}, {'stnId': '108', 'stnNm': '서울', 'tm': '2022-05-02', 'avgTa': '14.2', 'minTa': '9.1', 'minTaHrmt': '0538', 'maxTa': '19.4', 'maxTaHrmt': '1508', 'mi10MaxRn': '', 'mi10MaxRnHrmt': '', 'hr1MaxRn': '', 'hr1MaxRnHrmt': '', 'sumRnDur': '', 'sumRn': '', 'maxInsWs': '10.4', 'maxInsWsWd': '290', 'maxInsWsHrmt': '1233', 'maxWs': '5.2', 'maxWsWd': '250', 'maxWsHrmt': '1250', 'avgWs': '2.4', 'hr24SumRws': '2087', 'maxWd': '270', 'avgTd': '4.3', 'minRhm': '26', 'minRhmHrmt': '1621', 'avgRhm': '56.5', 'avgPv': '8.5', 'avgPa': '1003.2', 'maxPs': '1016.7', 'maxPsHrmt': '2350', 'minPs': '1011.6', 'minPsHrmt': '1514', 'avgPs': '1013.4', 'ssDur': '13.8', 'sumSsHr': '10.4', 'hr1MaxIcsrHrmt': '1200', 'hr1MaxIcsr': '3.69', 'sumGsr': '26.03', 'ddMefs': '', 'ddMefsHrmt': '', 'ddMes': '', 'ddMesHrmt': '', 'sumDpthFhsc': '', 'avgTca': '2.0', 'avgLmac': '2.0', 'avgTs': '20.3', 'minTg': '0.9', 'avgCm5Te': '16.7', 'avgCm10Te': '16.1', 'avgCm20Te': '15.9', 'avgCm30Te': '15.9', 'avgM05Te': '16.2', 'avgM10Te': '14.6', 'avgM15Te': '13.9', 'avgM30Te': '11.7', 'avgM50Te': '13.2', 'sumLrgEv': '4.9', 'sumSmlEv': '7.0', 'n99Rn': '', 'iscs': '{박무}0510-{박무}{강도0}0600-0850. ', 'sumFogDur': ''}, {'stnId': '108', 'stnNm': '서울', 'tm': '2022-05-03', 'avgTa': '14.8', 'minTa': '9.1', 'minTaHrmt': '0606', 'maxTa': '20.8', 'maxTaHrmt': '1535', 'mi10MaxRn': '', 'mi10MaxRnHrmt': '', 'hr1MaxRn': '', 'hr1MaxRnHrmt': '', 'sumRnDur': '', 'sumRn': '', 'maxInsWs': '9.5', 'maxInsWsWd': '250', 'maxInsWsHrmt': '1658', 'maxWs': '5.3', 'maxWsWd': '180', 'maxWsHrmt': '1300', 'avgWs': '2.5', 'hr24SumRws': '2180', 'maxWd': '250', 'avgTd': '2.2', 'minRhm': '24', 'minRhmHrmt': '1430', 'avgRhm': '45.9', 'avgPv': '7.3', 'avgPa': '1008.5', 'maxPs': '1019.8', 'maxPsHrmt': '2242', 'minPs': '1016.7', 'minPsHrmt': '0001', 'avgPs': '1018.7', 'ssDur': '13.8', 'sumSsHr': '12.5', 'hr1MaxIcsrHrmt': '1200', 'hr1MaxIcsr': '3.51', 'sumGsr': '28.07', 'ddMefs': '', 'ddMefsHrmt': '', 'ddMes': '', 'ddMesHrmt': '', 'sumDpthFhsc': '', 'avgTca': '1.0', 'avgLmac': '0.0', 'avgTs': '21.5', 'minTg': '0.4', 'avgCm5Te': '17.3', 'avgCm10Te': '16.5', 'avgCm20Te': '16.2', 'avgCm30Te': '16.1', 'avgM05Te': '16.3', 'avgM10Te': '14.6', 'avgM15Te': '14.0', 'avgM30Te': '11.7', 'avgM50Te': '13.2', 'sumLrgEv': '5.9', 'sumSmlEv': '8.4', 'n99Rn': '', 'iscs': '', 'sumFogDur': ''}, {'stnId': '108', 'stnNm': '서울', 'tm': '2022-05-04', 'avgTa': '17.8', 'minTa': '10.0', 'minTaHrmt': '0620', 'maxTa': '25.2', 'maxTaHrmt': '1348', 'mi10MaxRn': '', 'mi10MaxRnHrmt': '', 'hr1MaxRn': '', 'hr1MaxRnHrmt': '', 'sumRnDur': '', 'sumRn': '', 'maxInsWs': '9.8', 'maxInsWsWd': '230', 'maxInsWsHrmt': '1427', 'maxWs': '5.7', 'maxWsWd': '230', 'maxWsHrmt': '1545', 'avgWs': '2.7', 'hr24SumRws': '2354', 'maxWd': '230', 'avgTd': '4.8', 'minRhm': '31', 'minRhmHrmt': '1011', 'avgRhm': '43.3', 'avgPv': '8.7', 'avgPa': '1008.5', 'maxPs': '1019.8', 'maxPsHrmt': '0021', 'minPs': '1016.5', 'minPsHrmt': '1603', 'avgPs': '1018.6', 'ssDur': '13.9', 'sumSsHr': '12.6', 'hr1MaxIcsrHrmt': '1200', 'hr1MaxIcsr': '3.41', 'sumGsr': '27.22', 'ddMefs': '', 'ddMefsHrmt': '', 'ddMes': '', 'ddMesHrmt': '', 'sumDpthFhsc': '', 'avgTca': '0.0', 'avgLmac': '0.0', 'avgTs': '23.3', 'minTg': '2.3', 'avgCm5Te': '18.3', 'avgCm10Te': '17.3', 'avgCm20Te': '16.7', 'avgCm30Te': '16.6', 'avgM05Te': '16.6', 'avgM10Te': '14.7', 'avgM15Te': '14.1', 'avgM30Te': '11.8', 'avgM50Te': '13.2', 'sumLrgEv': '6.3', 'sumSmlEv': '8.9', 'n99Rn': '', 'iscs': '', 'sumFogDur': ''}, {'stnId': '108', 'stnNm': '서울', 'tm': '2022-05-05', 'avgTa': '18.9', 'minTa': '12.5', 'minTaHrmt': '0557', 'maxTa': '25.8', 'maxTaHrmt': '1501', 'mi10MaxRn': '', 'mi10MaxRnHrmt': '', 'hr1MaxRn': '', 'hr1MaxRnHrmt': '', 'sumRnDur': '', 'sumRn': '', 'maxInsWs': '7.2', 'maxInsWsWd': '230', 'maxInsWsHrmt': '1741', 'maxWs': '4.8', 'maxWsWd': '270', 'maxWsHrmt': '1812', 'avgWs': '2.2', 'hr24SumRws': '1934', 'maxWd': '20', 'avgTd': '7.1', 'minRhm': '30', 'minRhmHrmt': '0926', 'avgRhm': '48.1', 'avgPv': '10.3', 'avgPa': '1008.3', 'maxPs': '1020.5', 'maxPsHrmt': '0945', 'minPs': '1015.7', 'minPsHrmt': '1704', 'avgPs': '1018.4', 'ssDur': '13.9', 'sumSsHr': '12.7', 'hr1MaxIcsrHrmt': '1200', 'hr1MaxIcsr': '3.67', 'sumGsr': '29.35', 'ddMefs': '', 'ddMefsHrmt': '', 'ddMes': '', 'ddMesHrmt': '', 'sumDpthFhsc': '', 'avgTca': '0.5', 'avgLmac': '0.0', 'avgTs': '26.5', 'minTg': '3.3', 'avgCm5Te': '19.6', 'avgCm10Te': '18.5', 'avgCm20Te': '17.7', 'avgCm30Te': '17.2', 'avgM05Te': '17.0', 'avgM10Te': '14.8', 'avgM15Te': '14.2', 'avgM30Te': '11.9', 'avgM50Te': '13.2', 'sumLrgEv': '6.0', 'sumSmlEv': '8.5', 'n99Rn': '', 'iscs': '', 'sumFogDur': ''}, {'stnId': '108', 'stnNm': '서울', 'tm': '2022-05-06', 'avgTa': '19.6', 'minTa': '13.7', 'minTaHrmt': '0530', 'maxTa': '25.6', 'maxTaHrmt': '1345', 'mi10MaxRn': '', 'mi10MaxRnHrmt': '', 'hr1MaxRn': '', 'hr1MaxRnHrmt': '', 'sumRnDur': '', 'sumRn': '', 'maxInsWs': '8.6', 'maxInsWsWd': '320', 'maxInsWsHrmt': '1223', 'maxWs': '5.1', 'maxWsWd': '200', 'maxWsHrmt': '1326', 'avgWs': '2.5', 'hr24SumRws': '2158', 'maxWd': '270', 'avgTd': '12.8', 'minRhm': '40', 'minRhmHrmt': '1412', 'avgRhm': '67.1', 'avgPv': '14.9', 'avgPa': '1006.1', 'maxPs': '1017.8', 'maxPsHrmt': '0028', 'minPs': '1014.1', 'minPsHrmt': '1640', 'avgPs': '1016.1', 'ssDur': '13.9', 'sumSsHr': '10.3', 'hr1MaxIcsrHrmt': '1200', 'hr1MaxIcsr': '3.69', 'sumGsr': '25.6', 'ddMefs': '', 'ddMefsHrmt': '', 'ddMes': '', 'ddMesHrmt': '', 'sumDpthFhsc': '', 'avgTca': '5.3', 'avgLmac': '2.9', 'avgTs': '25.6', 'minTg': '5.7', 'avgCm5Te': '20.4', 'avgCm10Te': '19.2', 'avgCm20Te': '18.4', 'avgCm30Te': '17.9', 'avgM05Te': '17.6', 'avgM10Te': '15.0', 'avgM15Te': '14.3', 'avgM30Te': '11.9', 'avgM50Te': '13.2', 'sumLrgEv': '4.8', 'sumSmlEv': '6.8', 'n99Rn': '0.5', 'iscs': '', 'sumFogDur': ''}, {'stnId': '108', 'stnNm': '서울', 'tm': '2022-05-07', 'avgTa': '18.4', 'minTa': '15.3', 'minTaHrmt': '0754', 'maxTa': '23.1', 'maxTaHrmt': '1319', 'mi10MaxRn': '0.2', 'mi10MaxRnHrmt': '', 'hr1MaxRn': '0.2', 'hr1MaxRnHrmt': '', 'sumRnDur': '3.92', 'sumRn': '0.5', 'maxInsWs': '10.7', 'maxInsWsWd': '270', 'maxInsWsHrmt': '1436', 'maxWs': '5.9', 'maxWsWd': '290', 'maxWsHrmt': '1219', 'avgWs': '3.0', 'hr24SumRws': '2633', 'maxWd': '270', 'avgTd': '6.3', 'minRhm': '18', 'minRhmHrmt': '1557', 'avgRhm': '52.4', 'avgPv': '10.5', 'avgPa': '1006.6', 'maxPs': '1018.7', 'maxPsHrmt': '2327', 'minPs': '1015.3', 'minPsHrmt': '1544', 'avgPs': '1016.7', 'ssDur': '13.9', 'sumSsHr': '6.8', 'hr1MaxIcsrHrmt': '1200', 'hr1MaxIcsr': '3.57', 'sumGsr': '22.57', 'ddMefs': '', 'ddMefsHrmt': '', 'ddMes': '', 'ddMesHrmt': '', 'sumDpthFhsc': '', 'avgTca': '8.6', 'avgLmac': '3.5', 'avgTs': '23.2', 'minTg': '8.6', 'avgCm5Te': '20.7', 'avgCm10Te': '19.8', 'avgCm20Te': '19.1', 'avgCm30Te': '18.6', 'avgM05Te': '18.2', 'avgM10Te': '15.2', 'avgM15Te': '14.4', 'avgM30Te': '12.0', 'avgM50Te': '13.2', 'sumLrgEv': '6.0', 'sumSmlEv': '8.6', 'n99Rn': '', 'iscs': '{비}0320-{비}{강도0}0600-0630. {안개비}0745-0830.  {박무}0350-0440.', 'sumFogDur': ''}, {'stnId': '108', 'stnNm': '서울', 'tm': '2022-05-08', 'avgTa': '15.3', 'minTa': '11.7', 'minTaHrmt': '2344', 'maxTa': '18.2', 'maxTaHrmt': '1230', 'mi10MaxRn': '0.4', 'mi10MaxRnHrmt': '2113', 'hr1MaxRn': '1.1', 'hr1MaxRnHrmt': '2110', 'sumRnDur': '5.58', 'sumRn': '2.0', 'maxInsWs': '10.6', 'maxInsWsWd': '50', 'maxInsWsHrmt': '1915', 'maxWs': '5.2', 'maxWsWd': '50', 'maxWsHrmt': '1918', 'avgWs': '2.8', 'hr24SumRws': '2461', 'maxWd': '50', 'avgTd': '4.6', 'minRhm': '35', 'minRhmHrmt': '0001', 'avgRhm': '51.8', 'avgPv': '8.6', 'avgPa': '1008.7', 'maxPs': '1020.9', 'maxPsHrmt': '0731', 'minPs': '1017.1', 'minPsHrmt': '1642', 'avgPs': '1018.9', 'ssDur': '14.0', 'sumSsHr': '0.0', 'hr1MaxIcsrHrmt': '1200', 'hr1MaxIcsr': '1.0', 'sumGsr': '6.2', 'ddMefs': '', 'ddMefsHrmt': '', 'ddMes': '', 'ddMesHrmt': '', 'sumDpthFhsc': '', 'avgTca': '9.1', 'avgLmac': '4.3', 'avgTs': '16.2', 'minTg': '10.0', 'avgCm5Te': '17.9', 'avgCm10Te': '18.0', 'avgCm20Te': '18.2', 'avgCm30Te': '18.3', 'avgM05Te': '18.4', 'avgM10Te': '15.5', 'avgM15Te': '14.6', 'avgM30Te': '12.1', 'avgM50Te': '13.2', 'sumLrgEv': '2.3', 'sumSmlEv': '3.3', 'n99Rn': '2.0', 'iscs': '{비}1720-{비}{강도0}1800-{비}{강도0}2100-2255.', 'sumFogDur': ''}, {'stnId': '108', 'stnNm': '서울', 'tm': '2022-05-09', 'avgTa': '17.9', 'minTa': '11.0', 'minTaHrmt': '0613', 'maxTa': '25.3', 'maxTaHrmt': '1620', 'mi10MaxRn': '', 'mi10MaxRnHrmt': '', 'hr1MaxRn': '', 'hr1MaxRnHrmt': '', 'sumRnDur': '', 'sumRn': '', 'maxInsWs': '7.3', 'maxInsWsWd': '110', 'maxInsWsHrmt': '1344', 'maxWs': '4.5', 'maxWsWd': '110', 'maxWsHrmt': '1252', 'avgWs': '2.2', 'hr24SumRws': '1900', 'maxWd': '70', 'avgTd': '8.2', 'minRhm': '30', 'minRhmHrmt': '1628', 'avgRhm': '56.4', 'avgPv': '10.8', 'avgPa': '1007.8', 'maxPs': '1020.1', 'maxPsHrmt': '0736', 'minPs': '1015.3', 'minPsHrmt': '1647', 'avgPs': '1017.9', 'ssDur': '14.0', 'sumSsHr': '12.8', 'hr1MaxIcsrHrmt': '1200', 'hr1MaxIcsr': '3.77', 'sumGsr': '29.25', 'ddMefs': '', 'ddMefsHrmt': '', 'ddMes': '', 'ddMesHrmt': '', 'sumDpthFhsc': '', 'avgTca': '3.1', 'avgLmac': '1.3', 'avgTs': '23.6', 'minTg': '7.3', 'avgCm5Te': '19.1', 'avgCm10Te': '18.1', 'avgCm20Te': '17.5', 'avgCm30Te': '17.4', 'avgM05Te': '17.7', 'avgM10Te': '15.7', 'avgM15Te': '14.7', 'avgM30Te': '12.1', 'avgM50Te': '13.2', 'sumLrgEv': '5.7', 'sumSmlEv': '8.1', 'n99Rn': '', 'iscs': '', 'sumFogDur': ''}, {'stnId': '108', 'stnNm': '서울', 'tm': '2022-05-10', 'avgTa': '19.9', 'minTa': '13.6', 'minTaHrmt': '0547', 'maxTa': '26.3', 'maxTaHrmt': '1529', 'mi10MaxRn': '0.0', 'mi10MaxRnHrmt': '', 'hr1MaxRn': '0.0', 'hr1MaxRnHrmt': '', 'sumRnDur': '1.33', 'sumRn': '0.0', 'maxInsWs': '9.2', 'maxInsWsWd': '160', 'maxInsWsHrmt': '1342', 'maxWs': '4.6', 'maxWsWd': '160', 'maxWsHrmt': '1338', 'avgWs': '2.2', 'hr24SumRws': '1910', 'maxWd': '50', 'avgTd': '4.1', 'minRhm': '16', 'minRhmHrmt': '1424', 'avgRhm': '39.0', 'avgPv': '8.3', 'avgPa': '1005.7', 'maxPs': '1018.5', 'maxPsHrmt': '0742', 'minPs': '1012.8', 'minPsHrmt': '1728', 'avgPs': '1015.7', 'ssDur': '14.0', 'sumSsHr': '9.5', 'hr1MaxIcsrHrmt': '1200', 'hr1MaxIcsr': '3.75', 'sumGsr': '27.82', 'ddMefs': '', 'ddMefsHrmt': '', 'ddMes': '', 'ddMesHrmt': '', 'sumDpthFhsc': '', 'avgTca': '7.3', 'avgLmac': '2.3', 'avgTs': '26.7', 'minTg': '5.8', 'avgCm5Te': '20.5', 'avgCm10Te': '19.4', 'avgCm20Te': '18.6', 'avgCm30Te': '18.2', 'avgM05Te': '18.1', 'avgM10Te': '15.8', 'avgM15Te': '14.9', 'avgM30Te': '12.2', 'avgM50Te': '13.2', 'sumLrgEv': '7.1', 'sumSmlEv': '10.1', 'n99Rn': '0.0', 'iscs': '{비}2240-{비}{강도0}2400-', 'sumFogDur': ''}, {'stnId': '108', 'stnNm': '서울', 'tm': '2022-05-11', 'avgTa': '19.7', 'minTa': '16.6', 'minTaHrmt': '2353', 'maxTa': '25.2', 'maxTaHrmt': '1508', 'mi10MaxRn': '0.0', 'mi10MaxRnHrmt': '', 'hr1MaxRn': '0.0', 'hr1MaxRnHrmt': '', 'sumRnDur': '0.92', 'sumRn': '0.0', 'maxInsWs': '7.8', 'maxInsWsWd': '290', 'maxInsWsHrmt': '1531', 'maxWs': '4.4', 'maxWsWd': '230', 'maxWsHrmt': '1609', 'avgWs': '2.4', 'hr24SumRws': '2093', 'maxWd': '270', 'avgTd': '8.7', 'minRhm': '35', 'minRhmHrmt': '1331', 'avgRhm': '50.4', 'avgPv': '11.3', 'avgPa': '1004.7', 'maxPs': '1015.8', 'maxPsHrmt': '0917', 'minPs': '1013.0', 'minPsHrmt': '1607', 'avgPs': '1014.6', 'ssDur': '14.1', 'sumSsHr': '9.8', 'hr1MaxIcsrHrmt': '1100', 'hr1MaxIcsr': '3.31', 'sumGsr': '25.73', 'ddMefs': '', 'ddMefsHrmt': '', 'ddMes': '', 'ddMesHrmt': '', 'sumDpthFhsc': '', 'avgTca': '6.9', 'avgLmac': '2.6', 'avgTs': '28.2', 'minTg': '12.6', 'avgCm5Te': '21.9', 'avgCm10Te': '20.6', 'avgCm20Te': '19.6', 'avgCm30Te': '19.1', 'avgM05Te': '18.6', 'avgM10Te': '15.9', 'avgM15Te': '15.0', 'avgM30Te': '12.2', 'avgM50Te': '13.2', 'sumLrgEv': '5.0', 'sumSmlEv': '7.2', 'n99Rn': '', 'iscs': '-{비}-0030. {비}0210-0235.', 'sumFogDur': ''}, {'stnId': '108', 'stnNm': '서울', 'tm': '2022-05-12', 'avgTa': '20.9', 'minTa': '14.1', 'minTaHrmt': '0607', 'maxTa': '28.1', 'maxTaHrmt': '1540', 'mi10MaxRn': '', 'mi10MaxRnHrmt': '', 'hr1MaxRn': '', 'hr1MaxRnHrmt': '', 'sumRnDur': '', 'sumRn': '', 'maxInsWs': '7.3', 'maxInsWsWd': '270', 'maxInsWsHrmt': '1653', 'maxWs': '4.8', 'maxWsWd': '250', 'maxWsHrmt': '1657', 'avgWs': '1.9', 'hr24SumRws': '1621', 'maxWd': '250', 'avgTd': '9.8', 'minRhm': '32', 'minRhmHrmt': '1432', 'avgRhm': '51.5', 'avgPv': '12.1', 'avgPa': '1000.7', 'maxPs': '1014.7', 'maxPsHrmt': '0001', 'minPs': '1007.6', 'minPsHrmt': '1725', 'avgPs': '1010.6', 'ssDur': '14.1', 'sumSsHr': '11.4', 'hr1MaxIcsrHrmt': '1200', 'hr1MaxIcsr': '3.47', 'sumGsr': '27.45', 'ddMefs': '', 'ddMefsHrmt': '', 'ddMes': '', 'ddMesHrmt': '', 'sumDpthFhsc': '', 'avgTca': '3.9', 'avgLmac': '0.8', 'avgTs': '28.5', 'minTg': '7.8', 'avgCm5Te': '22.3', 'avgCm10Te': '21.0', 'avgCm20Te': '20.1', 'avgCm30Te': '19.5', 'avgM05Te': '19.1', 'avgM10Te': '16.1', 'avgM15Te': '15.1', 'avgM30Te': '12.3', 'avgM50Te': '13.2', 'sumLrgEv': '5.8', 'sumSmlEv': '8.3', 'n99Rn': '', 'iscs': '', 'sumFogDur': ''}, {'stnId': '108', 'stnNm': '서울', 'tm': '2022-05-13', 'avgTa': '19.4', 'minTa': '15.0', 'minTaHrmt': '2358', 'maxTa': '25.2', 'maxTaHrmt': '1355', 'mi10MaxRn': '', 'mi10MaxRnHrmt': '', 'hr1MaxRn': '', 'hr1MaxRnHrmt': '', 'sumRnDur': '', 'sumRn': '', 'maxInsWs': '11.7', 'maxInsWsWd': '320', 'maxInsWsHrmt': '1749', 'maxWs': '6.1', 'maxWsWd': '290', 'maxWsHrmt': '1753', 'avgWs': '2.2', 'hr24SumRws': '1923', 'maxWd': '50', 'avgTd': '6.9', 'minRhm': '28', 'minRhmHrmt': '1509', 'avgRhm': '45.8', 'avgPv': '10.0', 'avgPa': '997.5', 'maxPs': '1009.3', 'maxPsHrmt': '2333', 'minPs': '1004.6', 'minPsHrmt': '1529', 'avgPs': '1007.4', 'ssDur': '14.1', 'sumSsHr': '4.8', 'hr1MaxIcsrHrmt': '1000', 'hr1MaxIcsr': '2.71', 'sumGsr': '19.95', 'ddMefs': '', 'ddMefsHrmt': '', 'ddMes': '', 'ddMesHrmt': '', 'sumDpthFhsc': '', 'avgTca': '5.9', 'avgLmac': '4.5', 'avgTs': '24.2', 'minTg': '7.1', 'avgCm5Te': '21.8', 'avgCm10Te': '20.9', 'avgCm20Te': '20.4', 'avgCm30Te': '19.9', 'avgM05Te': '19.6', 'avgM10Te': '16.4', 'avgM15Te': '15.3', 'avgM30Te': '12.3', 'avgM50Te': '13.2', 'sumLrgEv': '4.8', 'sumSmlEv': '6.8', 'n99Rn': '', 'iscs': '', 'sumFogDur': ''}, {'stnId': '108', 'stnNm': '서울', 'tm': '2022-05-14', 'avgTa': '15.7', 'minTa': '11.9', 'minTaHrmt': '0545', 'maxTa': '20.0', 'maxTaHrmt': '1342', 'mi10MaxRn': '', 'mi10MaxRnHrmt': '', 'hr1MaxRn': '', 'hr1MaxRnHrmt': '', 'sumRnDur': '', 'sumRn': '', 'maxInsWs': '11.9', 'maxInsWsWd': '230', 'maxInsWsHrmt': '1650', 'maxWs': '6.3', 'maxWsWd': '270', 'maxWsHrmt': '1143', 'avgWs': '3.3', 'hr24SumRws': '2855', 'maxWd': '250', 'avgTd': '3.5', 'minRhm': '29', 'minRhmHrmt': '1103', 'avgRhm': '45.5', 'avgPv': '7.9', 'avgPa': '1001.8', 'maxPs': '1015.6', 'maxPsHrmt': '2325', 'minPs': '1009.1', 'minPsHrmt': '0154', 'avgPs': '1011.9', 'ssDur': '14.2', 'sumSsHr': '10.8', 'hr1MaxIcsrHrmt': '1300', 'hr1MaxIcsr': '2.61', 'sumGsr': '22.58', 'ddMefs': '', 'ddMefsHrmt': '', 'ddMes': '', 'ddMesHrmt': '', 'sumDpthFhsc': '', 'avgTca': '4.4', 'avgLmac': '0.0', 'avgTs': '22.0', 'minTg': '3.6', 'avgCm5Te': '19.5', 'avgCm10Te': '19.2', 'avgCm20Te': '19.3', 'avgCm30Te': '19.3', 'avgM05Te': '19.5', 'avgM10Te': '16.6', 'avgM15Te': '15.4', 'avgM30Te': '12.4', 'avgM50Te': '13.2', 'sumLrgEv': '5.2', 'sumSmlEv': '7.5', 'n99Rn': '', 'iscs': '', 'sumFogDur': ''}, {'stnId': '108', 'stnNm': '서울', 'tm': '2022-05-15', 'avgTa': '16.2', 'minTa': '10.5', 'minTaHrmt': '0516', 'maxTa': '22.4', 'maxTaHrmt': '1509', 'mi10MaxRn': '', 'mi10MaxRnHrmt': '', 'hr1MaxRn': '', 'hr1MaxRnHrmt': '', 'sumRnDur': '', 'sumRn': '', 'maxInsWs': '10.8', 'maxInsWsWd': '270', 'maxInsWsHrmt': '1511', 'maxWs': '6.4', 'maxWsWd': '270', 'maxWsHrmt': '1531', 'avgWs': '3.2', 'hr24SumRws': '2735', 'maxWd': '270', 'avgTd': '1.8', 'minRhm': '24', 'minRhmHrmt': '1708', 'avgRhm': '39.8', 'avgPv': '7.0', 'avgPa': '1003.6', 'maxPs': '1016.1', 'maxPsHrmt': '0837', 'minPs': '1011.2', 'minPsHrmt': '1740', 'avgPs': '1013.7', 'ssDur': '14.2', 'sumSsHr': '12.9', 'hr1MaxIcsrHrmt': '1200', 'hr1MaxIcsr': '3.68', 'sumGsr': '30.01', 'ddMefs': '', 'ddMefsHrmt': '', 'ddMes': '', 'ddMesHrmt': '', 'sumDpthFhsc': '', 'avgTca': '2.0', 'avgLmac': '0.5', 'avgTs': '24.7', 'minTg': '1.4', 'avgCm5Te': '19.9', 'avgCm10Te': '19.0', 'avgCm20Te': '18.8', 'avgCm30Te': '18.7', 'avgM05Te': '19.1', 'avgM10Te': '16.8', 'avgM15Te': '15.6', 'avgM30Te': '12.5', 'avgM50Te': '13.2', 'sumLrgEv': '6.6', 'sumSmlEv': '9.4', 'n99Rn': '', 'iscs': '', 'sumFogDur': ''}, {'stnId': '108', 'stnNm': '서울', 'tm': '2022-05-16', 'avgTa': '17.3', 'minTa': '10.9', 'minTaHrmt': '0537', 'maxTa': '23.7', 'maxTaHrmt': '1352', 'mi10MaxRn': '', 'mi10MaxRnHrmt': '', 'hr1MaxRn': '', 'hr1MaxRnHrmt': '', 'sumRnDur': '', 'sumRn': '', 'maxInsWs': '10.8', 'maxInsWsWd': '250', 'maxInsWsHrmt': '1645', 'maxWs': '5.9', 'maxWsWd': '230', 'maxWsHrmt': '1650', 'avgWs': '2.8', 'hr24SumRws': '2445', 'maxWd': '200', 'avgTd': '8.0', 'minRhm': '36', 'minRhmHrmt': '1409', 'avgRhm': '56.3', 'avgPv': '10.8', 'avgPa': '1001.0', 'maxPs': '1013.7', 'maxPsHrmt': '0021', 'minPs': '1008.3', 'minPsHrmt': '1550', 'avgPs': '1011.1', 'ssDur': '14.2', 'sumSsHr': '13.1', 'hr1MaxIcsrHrmt': '1200', 'hr1MaxIcsr': '3.53', 'sumGsr': '28.89', 'ddMefs': '', 'ddMefsHrmt': '', 'ddMes': '', 'ddMesHrmt': '', 'sumDpthFhsc': '', 'avgTca': '0.5', 'avgLmac': '0.5', 'avgTs': '25.5', 'minTg': '1.9', 'avgCm5Te': '20.7', 'avgCm10Te': '19.6', 'avgCm20Te': '19.2', 'avgCm30Te': '19.0', 'avgM05Te': '19.2', 'avgM10Te': '16.9', 'avgM15Te': '15.7', 'avgM30Te': '12.5', 'avgM50Te': '13.2', 'sumLrgEv': '5.8', 'sumSmlEv': '8.2', 'n99Rn': '', 'iscs': '', 'sumFogDur': ''}, {'stnId': '108', 'stnNm': '서울', 'tm': '2022-05-17', 'avgTa': '20.0', 'minTa': '13.0', 'minTaHrmt': '0551', 'maxTa': '27.4', 'maxTaHrmt': '1527', 'mi10MaxRn': '', 'mi10MaxRnHrmt': '', 'hr1MaxRn': '', 'hr1MaxRnHrmt': '', 'sumRnDur': '', 'sumRn': '', 'maxInsWs': '9.4', 'maxInsWsWd': '200', 'maxInsWsHrmt': '1429', 'maxWs': '5.1', 'maxWsWd': '180', 'maxWsHrmt': '1459', 'avgWs': '2.4', 'hr24SumRws': '2085', 'maxWd': '230', 'avgTd': '11.3', 'minRhm': '36', 'minRhmHrmt': '1453', 'avgRhm': '60.1', 'avgPv': '13.4', 'avgPa': '1002.6', 'maxPs': '1014.7', 'maxPsHrmt': '2337', 'minPs': '1010.8', 'minPsHrmt': '1500', 'avgPs': '1012.5', 'ssDur': '14.2', 'sumSsHr': '12.8', 'hr1MaxIcsrHrmt': '1200', 'hr1MaxIcsr': '3.41', 'sumGsr': '27.56', 'ddMefs': '', 'ddMefsHrmt': '', 'ddMes': '', 'ddMesHrmt': '', 'sumDpthFhsc': '', 'avgTca': '0.3', 'avgLmac': '0.3', 'avgTs': '27.5', 'minTg': '7.1', 'avgCm5Te': '22.2', 'avgCm10Te': '20.8', 'avgCm20Te': '20.0', 'avgCm30Te': '19.5', 'avgM05Te': '19.5', 'avgM10Te': '17.0', 'avgM15Te': '15.9', 'avgM30Te': '12.6', 'avgM50Te': '13.2', 'sumLrgEv': '5.5', 'sumSmlEv': '7.8', 'n99Rn': '0.0', 'iscs': '', 'sumFogDur': ''}, {'stnId': '108', 'stnNm': '서울', 'tm': '2022-05-18', 'avgTa': '20.0', 'minTa': '15.7', 'minTaHrmt': '0442', 'maxTa': '25.4', 'maxTaHrmt': '1404', 'mi10MaxRn': '0.6', 'mi10MaxRnHrmt': '0911', 'hr1MaxRn': '1.5', 'hr1MaxRnHrmt': '0853', 'sumRnDur': '2.33', 'sumRn': '1.5', 'maxInsWs': '11.0', 'maxInsWsWd': '230', 'maxInsWsHrmt': '1824', 'maxWs': '6.0', 'maxWsWd': '200', 'maxWsHrmt': '1723', 'avgWs': '2.9', 'hr24SumRws': '2511', 'maxWd': '200', 'avgTd': '11.4', 'minRhm': '39', 'minRhmHrmt': '1338', 'avgRhm': '59.4', 'avgPv': '13.5', 'avgPa': '1005.5', 'maxPs': '1018.0', 'maxPsHrmt': '0902', 'minPs': '1012.9', 'minPsHrmt': '1751', 'avgPs': '1015.4', 'ssDur': '14.3', 'sumSsHr': '6.4', 'hr1MaxIcsrHrmt': '1300', 'hr1MaxIcsr': '2.96', 'sumGsr': '15.71', 'ddMefs': '', 'ddMefsHrmt': '', 'ddMes': '', 'ddMesHrmt': '', 'sumDpthFhsc': '', 'avgTca': '4.3', 'avgLmac': '2.9', 'avgTs': '19.6', 'minTg': '8.3', 'avgCm5Te': '20.9', 'avgCm10Te': '20.5', 'avgCm20Te': '20.1', 'avgCm30Te': '19.9', 'avgM05Te': '20.0', 'avgM10Te': '17.1', 'avgM15Te': '16.0', 'avgM30Te': '12.7', 'avgM50Te': '13.2', 'sumLrgEv': '4.2', 'sumSmlEv': '6.1', 'n99Rn': '1.5', 'iscs': '{비}0750-{비}{강도0}0900-1010.  {박무}0150-{박무}{강도0}0300-{박무}{강도0}0600-0620. ', 'sumFogDur': ''}, {'stnId': '108', 'stnNm': '서울', 'tm': '2022-05-19', 'avgTa': '19.9', 'minTa': '16.1', 'minTaHrmt': '0614', 'maxTa': '24.2', 'maxTaHrmt': '1406', 'mi10MaxRn': '', 'mi10MaxRnHrmt': '', 'hr1MaxRn': '', 'hr1MaxRnHrmt': '', 'sumRnDur': '', 'sumRn': '', 'maxInsWs': '10.6', 'maxInsWsWd': '180', 'maxInsWsHrmt': '1611', 'maxWs': '5.4', 'maxWsWd': '180', 'maxWsHrmt': '1346', 'avgWs': '3.0', 'hr24SumRws': '2615', 'maxWd': '200', 'avgTd': '9.9', 'minRhm': '43', 'minRhmHrmt': '1036', 'avgRhm': '53.6', 'avgPv': '12.3', 'avgPa': '1006.0', 'maxPs': '1016.7', 'maxPsHrmt': '2306', 'minPs': '1014.6', 'minPsHrmt': '1811', 'avgPs': '1016.0', 'ssDur': '14.3', 'sumSsHr': '7.8', 'hr1MaxIcsrHrmt': '1000', 'hr1MaxIcsr': '2.56', 'sumGsr': '20.97', 'ddMefs': '', 'ddMefsHrmt': '', 'ddMes': '', 'ddMesHrmt': '', 'sumDpthFhsc': '', 'avgTca': '4.9', 'avgLmac': '0.9', 'avgTs': '24.5', 'minTg': '10.5', 'avgCm5Te': '21.1', 'avgCm10Te': '20.4', 'avgCm20Te': '19.9', 'avgCm30Te': '19.6', 'avgM05Te': '19.7', 'avgM10Te': '17.3', 'avgM15Te': '16.1', 'avgM30Te': '12.7', 'avgM50Te': '13.2', 'sumLrgEv': '4.6', 'sumSmlEv': '6.5', 'n99Rn': '', 'iscs': '{햇무리}1055-1310.', 'sumFogDur': ''}, {'stnId': '108', 'stnNm': '서울', 'tm': '2022-05-20', 'avgTa': '20.6', 'minTa': '15.6', 'minTaHrmt': '0543', 'maxTa': '25.8', 'maxTaHrmt': '1322', 'mi10MaxRn': '', 'mi10MaxRnHrmt': '', 'hr1MaxRn': '', 'hr1MaxRnHrmt': '', 'sumRnDur': '', 'sumRn': '', 'maxInsWs': '8.4', 'maxInsWsWd': '270', 'maxInsWsHrmt': '1359', 'maxWs': '5.1', 'maxWsWd': '270', 'maxWsHrmt': '1334', 'avgWs': '2.3', 'hr24SumRws': '2005', 'maxWd': '270', 'avgTd': '10.1', 'minRhm': '28', 'minRhmHrmt': '1554', 'avgRhm': '52.8', 'avgPv': '12.4', 'avgPa': '1003.2', 'maxPs': '1016.3', 'maxPsHrmt': '0001', 'minPs': '1010.5', 'minPsHrmt': '1745', 'avgPs': '1013.1', 'ssDur': '14.3', 'sumSsHr': '10.8', 'hr1MaxIcsrHrmt': '1200', 'hr1MaxIcsr': '3.29', 'sumGsr': '25.74', 'ddMefs': '', 'ddMefsHrmt': '', 'ddMes': '', 'ddMesHrmt': '', 'sumDpthFhsc': '', 'avgTca': '5.0', 'avgLmac': '2.1', 'avgTs': '26.6', 'minTg': '7.8', 'avgCm5Te': '22.1', 'avgCm10Te': '21.0', 'avgCm20Te': '20.2', 'avgCm30Te': '19.8', 'avgM05Te': '19.8', 'avgM10Te': '17.4', 'avgM15Te': '16.3', 'avgM30Te': '12.8', 'avgM50Te': '13.2', 'sumLrgEv': '5.1', 'sumSmlEv': '7.3', 'n99Rn': '', 'iscs': '', 'sumFogDur': ''}, {'stnId': '108', 'stnNm': '서울', 'tm': '2022-05-21', 'avgTa': '20.1', 'minTa': '16.1', 'minTaHrmt': '2349', 'maxTa': '26.0', 'maxTaHrmt': '1420', 'mi10MaxRn': '', 'mi10MaxRnHrmt': '', 'hr1MaxRn': '', 'hr1MaxRnHrmt': '', 'sumRnDur': '', 'sumRn': '', 'maxInsWs': '9.3', 'maxInsWsWd': '290', 'maxInsWsHrmt': '1608', 'maxWs': '5.1', 'maxWsWd': '270', 'maxWsHrmt': '1433', 'avgWs': '2.5', 'hr24SumRws': '2125', 'maxWd': '270', 'avgTd': '14.2', 'minRhm': '48', 'minRhmHrmt': '1559', 'avgRhm': '70.8', 'avgPv': '16.2', 'avgPa': '999.1', 'maxPs': '1011.9', 'maxPsHrmt': '0001', 'minPs': '1006.5', 'minPsHrmt': '1756', 'avgPs': '1009.0', 'ssDur': '14.3', 'sumSsHr': '9.3', 'hr1MaxIcsrHrmt': '1200', 'hr1MaxIcsr': '3.47', 'sumGsr': '24.88', 'ddMefs': '', 'ddMefsHrmt': '', 'ddMes': '', 'ddMesHrmt': '', 'sumDpthFhsc': '', 'avgTca': '3.6', 'avgLmac': '3.6', 'avgTs': '27.1', 'minTg': '10.6', 'avgCm5Te': '23.1', 'avgCm10Te': '22.0', 'avgCm20Te': '21.0', 'avgCm30Te': '20.4', 'avgM05Te': '20.2', 'avgM10Te': '17.5', 'avgM15Te': '16.4', 'avgM30Te': '12.9', 'avgM50Te': '13.2', 'sumLrgEv': '4.6', 'sumSmlEv': '6.5', 'n99Rn': '', 'iscs': '{박무}0255-{박무}{강도0}0300-{박무}{강도0}0600-0740.', 'sumFogDur': ''}, {'stnId': '108', 'stnNm': '서울', 'tm': '2022-05-22', 'avgTa': '20.3', 'minTa': '15.7', 'minTaHrmt': '0315', 'maxTa': '25.8', 'maxTaHrmt': '1450', 'mi10MaxRn': '', 'mi10MaxRnHrmt': '', 'hr1MaxRn': '', 'hr1MaxRnHrmt': '', 'sumRnDur': '', 'sumRn': '', 'maxInsWs': '8.2', 'maxInsWsWd': '200', 'maxInsWsHrmt': '1246', 'maxWs': '4.6', 'maxWsWd': '180', 'maxWsHrmt': '1229', 'avgWs': '2.5', 'hr24SumRws': '2134', 'maxWd': '270', 'avgTd': '14.5', 'minRhm': '52', 'minRhmHrmt': '1431', 'avgRhm': '70.9', 'avgPv': '16.5', 'avgPa': '997.6', 'maxPs': '1009.3', 'maxPsHrmt': '2354', 'minPs': '1005.6', 'minPsHrmt': '1550', 'avgPs': '1007.5', 'ssDur': '14.4', 'sumSsHr': '9.0', 'hr1MaxIcsrHrmt': '1200', 'hr1MaxIcsr': '3.45', 'sumGsr': '24.3', 'ddMefs': '', 'ddMefsHrmt': '', 'ddMes': '', 'ddMesHrmt': '', 'sumDpthFhsc': '', 'avgTca': '3.8', 'avgLmac': '3.8', 'avgTs': '27.6', 'minTg': '13.9', 'avgCm5Te': '23.5', 'avgCm10Te': '22.4', 'avgCm20Te': '21.6', 'avgCm30Te': '20.9', 'avgM05Te': '20.7', 'avgM10Te': '17.7', 'avgM15Te': '16.5', 'avgM30Te': '12.9', 'avgM50Te': '13.3', 'sumLrgEv': '4.6', 'sumSmlEv': '6.5', 'n99Rn': '', 'iscs': '{박무}0415-{박무}{강도0}0600-0740.', 'sumFogDur': ''}, {'stnId': '108', 'stnNm': '서울', 'tm': '2022-05-23', 'avgTa': '23.0', 'minTa': '17.8', 'minTaHrmt': '0108', 'maxTa': '30.7', 'maxTaHrmt': '1513', 'mi10MaxRn': '', 'mi10MaxRnHrmt': '', 'hr1MaxRn': '', 'hr1MaxRnHrmt': '', 'sumRnDur': '', 'sumRn': '', 'maxInsWs': '7.2', 'maxInsWsWd': '200', 'maxInsWsHrmt': '1931', 'maxWs': '4.3', 'maxWsWd': '250', 'maxWsHrmt': '1656', 'avgWs': '2.3', 'hr24SumRws': '2021', 'maxWd': '270', 'avgTd': '15.1', 'minRhm': '39', 'minRhmHrmt': '1516', 'avgRhm': '63.5', 'avgPv': '17.2', 'avgPa': '1001.7', 'maxPs': '1014.6', 'maxPsHrmt': '2259', 'minPs': '1009.3', 'minPsHrmt': '0001', 'avgPs': '1011.5', 'ssDur': '14.4', 'sumSsHr': '10.4', 'hr1MaxIcsrHrmt': '1200', 'hr1MaxIcsr': '3.38', 'sumGsr': '26.01', 'ddMefs': '', 'ddMefsHrmt': '', 'ddMes': '', 'ddMesHrmt': '', 'sumDpthFhsc': '', 'avgTca': '3.0', 'avgLmac': '2.1', 'avgTs': '30.2', 'minTg': '13.7', 'avgCm5Te': '24.7', 'avgCm10Te': '23.4', 'avgCm20Te': '22.3', 'avgCm30Te': '21.5', 'avgM05Te': '21.1', 'avgM10Te': '17.9', 'avgM15Te': '16.6', 'avgM30Te': '13.0', 'avgM50Te': '13.3', 'sumLrgEv': '5.8', 'sumSmlEv': '8.2', 'n99Rn': '', 'iscs': '{박무}0025-{박무}{강도0}0300-{박무}{강도0}0600-{박무}{강도0}0900-0915.  {연무}0910-1130.', 'sumFogDur': ''}, {'stnId': '108', 'stnNm': '서울', 'tm': '2022-05-24', 'avgTa': '22.9', 'minTa': '16.7', 'minTaHrmt': '0528', 'maxTa': '30.2', 'maxTaHrmt': '1450', 'mi10MaxRn': '', 'mi10MaxRnHrmt': '', 'hr1MaxRn': '', 'hr1MaxRnHrmt': '', 'sumRnDur': '', 'sumRn': '', 'maxInsWs': '7.5', 'maxInsWsWd': '250', 'maxInsWsHrmt': '1453', 'maxWs': '4.6', 'maxWsWd': '250', 'maxWsHrmt': '1727', 'avgWs': '2.1', 'hr24SumRws': '1789', 'maxWd': '270', 'avgTd': '12.9', 'minRhm': '29', 'minRhmHrmt': '1505', 'avgRhm': '56.8', 'avgPv': '14.9', 'avgPa': '1003.7', 'maxPs': '1016.2', 'maxPsHrmt': '0813', 'minPs': '1011.3', 'minPsHrmt': '1628', 'avgPs': '1013.5', 'ssDur': '14.4', 'sumSsHr': '12.3', 'hr1MaxIcsrHrmt': '1200', 'hr1MaxIcsr': '3.59', 'sumGsr': '28.86', 'ddMefs': '', 'ddMefsHrmt': '', 'ddMes': '', 'ddMesHrmt': '', 'sumDpthFhsc': '', 'avgTca': '3.4', 'avgLmac': '0.0', 'avgTs': '30.8', 'minTg': '9.9', 'avgCm5Te': '24.9', 'avgCm10Te': '23.8', 'avgCm20Te': '22.8', 'avgCm30Te': '22.0', 'avgM05Te': '21.6', 'avgM10Te': '18.1', 'avgM15Te': '16.8', 'avgM30Te': '13.1', 'avgM50Te': '13.3', 'sumLrgEv': '6.1', 'sumSmlEv': '8.8', 'n99Rn': '', 'iscs': '{박무}0435-0550.', 'sumFogDur': ''}, {'stnId': '108', 'stnNm': '서울', 'tm': '2022-05-25', 'avgTa': '21.0', 'minTa': '16.7', 'minTaHrmt': '2400', 'maxTa': '26.7', 'maxTaHrmt': '1211', 'mi10MaxRn': '1.4', 'mi10MaxRnHrmt': '2112', 'hr1MaxRn': '2.9', 'hr1MaxRnHrmt': '2100', 'sumRnDur': '4.92', 'sumRn': '3.5', 'maxInsWs': '9.6', 'maxInsWsWd': '290', 'maxInsWsHrmt': '1500', 'maxWs': '5.0', 'maxWsWd': '270', 'maxWsHrmt': '1509', 'avgWs': '2.6', 'hr24SumRws': '2240', 'maxWd': '250', 'avgTd': '13.9', 'minRhm': '36', 'minRhmHrmt': '1539', 'avgRhm': '66.6', 'avgPv': '15.9', 'avgPa': '998.4', 'maxPs': '1012.4', 'maxPsHrmt': '0003', 'minPs': '1005.1', 'minPsHrmt': '2018', 'avgPs': '1008.3', 'ssDur': '14.5', 'sumSsHr': '8.1', 'hr1MaxIcsrHrmt': '1100', 'hr1MaxIcsr': '2.99', 'sumGsr': '22.59', 'ddMefs': '', 'ddMefsHrmt': '', 'ddMes': '', 'ddMesHrmt': '', 'sumDpthFhsc': '', 'avgTca': '6.5', 'avgLmac': '2.4', 'avgTs': '28.7', 'minTg': '10.4', 'avgCm5Te': '24.0', 'avgCm10Te': '23.3', 'avgCm20Te': '22.7', 'avgCm30Te': '22.2', 'avgM05Te': '22.0', 'avgM10Te': '18.4', 'avgM15Te': '16.9', 'avgM30Te': '13.1', 'avgM50Te': '13.3', 'sumLrgEv': '4.5', 'sumSmlEv': '6.4', 'n99Rn': '3.5', 'iscs': '{비}1755-{비}{강도0}1800-{비}{강도0}2100-2250.  {박무}2105-2210.  {햇무리}1140-1410. ', 'sumFogDur': ''}, {'stnId': '108', 'stnNm': '서울', 'tm': '2022-05-26', 'avgTa': '18.7', 'minTa': '14.1', 'minTaHrmt': '0540', 'maxTa': '23.5', 'maxTaHrmt': '1513', 'mi10MaxRn': '0.0', 'mi10MaxRnHrmt': '', 'hr1MaxRn': '0.0', 'hr1MaxRnHrmt': '', 'sumRnDur': '0.75', 'sumRn': '0.0', 'maxInsWs': '13.0', 'maxInsWsWd': '200', 'maxInsWsHrmt': '1720', 'maxWs': '7.6', 'maxWsWd': '200', 'maxWsHrmt': '1541', 'avgWs': '3.7', 'hr24SumRws': '3206', 'maxWd': '230', 'avgTd': '9.7', 'minRhm': '29', 'minRhmHrmt': '1642', 'avgRhm': '59.9', 'avgPv': '12.3', 'avgPa': '993.9', 'maxPs': '1006.4', 'maxPsHrmt': '0816', 'minPs': '1001.0', 'minPsHrmt': '2355', 'avgPs': '1003.8', 'ssDur': '14.5', 'sumSsHr': '11.6', 'hr1MaxIcsrHrmt': '1200', 'hr1MaxIcsr': '3.73', 'sumGsr': '28.88', 'ddMefs': '', 'ddMefsHrmt': '', 'ddMes': '', 'ddMesHrmt': '', 'sumDpthFhsc': '', 'avgTca': '4.5', 'avgLmac': '4.1', 'avgTs': '24.7', 'minTg': '10.4', 'avgCm5Te': '22.9', 'avgCm10Te': '22.4', 'avgCm20Te': '22.1', 'avgCm30Te': '21.9', 'avgM05Te': '22.0', 'avgM10Te': '18.7', 'avgM15Te': '17.1', 'avgM30Te': '13.2', 'avgM50Te': '13.3', 'sumLrgEv': '6.4', 'sumSmlEv': '9.1', 'n99Rn': '0.0', 'iscs': '{비}2315-{비}{강도0}2400-', 'sumFogDur': ''}, {'stnId': '108', 'stnNm': '서울', 'tm': '2022-05-27', 'avgTa': '20.0', 'minTa': '16.0', 'minTaHrmt': '0601', 'maxTa': '25.6', 'maxTaHrmt': '1552', 'mi10MaxRn': '0.0', 'mi10MaxRnHrmt': '', 'hr1MaxRn': '0.0', 'hr1MaxRnHrmt': '', 'sumRnDur': '0.17', 'sumRn': '0.0', 'maxInsWs': '10.0', 'maxInsWsWd': '290', 'maxInsWsHrmt': '1224', 'maxWs': '6.3', 'maxWsWd': '270', 'maxWsHrmt': '1233', 'avgWs': '3.3', 'hr24SumRws': '2890', 'maxWd': '250', 'avgTd': '12.2', 'minRhm': '47', 'minRhmHrmt': '1212', 'avgRhm': '62.5', 'avgPv': '14.3', 'avgPa': '991.1', 'maxPs': '1004.2', 'maxPsHrmt': '2338', 'minPs': '999.1', 'minPsHrmt': '0348', 'avgPs': '1000.9', 'ssDur': '14.5', 'sumSsHr': '11.8', 'hr1MaxIcsrHrmt': '1200', 'hr1MaxIcsr': '3.45', 'sumGsr': '28.71', 'ddMefs': '', 'ddMefsHrmt': '', 'ddMes': '', 'ddMesHrmt': '', 'sumDpthFhsc': '', 'avgTca': '2.4', 'avgLmac': '2.4', 'avgTs': '29.1', 'minTg': '13.5', 'avgCm5Te': '23.2', 'avgCm10Te': '22.4', 'avgCm20Te': '22.0', 'avgCm30Te': '21.7', 'avgM05Te': '21.7', 'avgM10Te': '18.8', 'avgM15Te': '17.3', 'avgM30Te': '13.3', 'avgM50Te': '13.3', 'sumLrgEv': '5.7', 'sumSmlEv': '8.1', 'n99Rn': '', 'iscs': '-{비}-0010.', 'sumFogDur': ''}, {'stnId': '108', 'stnNm': '서울', 'tm': '2022-05-28', 'avgTa': '22.3', 'minTa': '15.0', 'minTaHrmt': '0439', 'maxTa': '29.3', 'maxTaHrmt': '1426', 'mi10MaxRn': '', 'mi10MaxRnHrmt': '', 'hr1MaxRn': '', 'hr1MaxRnHrmt': '', 'sumRnDur': '', 'sumRn': '', 'maxInsWs': '12.4', 'maxInsWsWd': '200', 'maxInsWsHrmt': '1542', 'maxWs': '6.8', 'maxWsWd': '230', 'maxWsHrmt': '1550', 'avgWs': '2.8', 'hr24SumRws': '2380', 'maxWd': '230', 'avgTd': '11.7', 'minRhm': '29', 'minRhmHrmt': '1821', 'avgRhm': '54.1', 'avgPv': '13.8', 'avgPa': '995.1', 'maxPs': '1007.0', 'maxPsHrmt': '2352', 'minPs': '1003.1', 'minPsHrmt': '0306', 'avgPs': '1004.8', 'ssDur': '14.5', 'sumSsHr': '12.4', 'hr1MaxIcsrHrmt': '1200', 'hr1MaxIcsr': '3.41', 'sumGsr': '27.49', 'ddMefs': '', 'ddMefsHrmt': '', 'ddMes': '', 'ddMesHrmt': '', 'sumDpthFhsc': '', 'avgTca': '2.1', 'avgLmac': '0.8', 'avgTs': '27.2', 'minTg': '7.3', 'avgCm5Te': '24.0', 'avgCm10Te': '23.0', 'avgCm20Te': '22.3', 'avgCm30Te': '21.8', 'avgM05Te': '21.8', 'avgM10Te': '19.0', 'avgM15Te': '17.4', 'avgM30Te': '13.3', 'avgM50Te': '13.3', 'sumLrgEv': '6.2', 'sumSmlEv': '8.9', 'n99Rn': '', 'iscs': '{햇무리}1045-1330.', 'sumFogDur': ''}, {'stnId': '108', 'stnNm': '서울', 'tm': '2022-05-29', 'avgTa': '23.1', 'minTa': '19.3', 'minTaHrmt': '0446', 'maxTa': '29.7', 'maxTaHrmt': '1648', 'mi10MaxRn': '', 'mi10MaxRnHrmt': '', 'hr1MaxRn': '', 'hr1MaxRnHrmt': '', 'sumRnDur': '', 'sumRn': '', 'maxInsWs': '9.2', 'maxInsWsWd': '200', 'maxInsWsHrmt': '0031', 'maxWs': '5.0', 'maxWsWd': '270', 'maxWsHrmt': '1832', 'avgWs': '2.3', 'hr24SumRws': '2011', 'maxWd': '230', 'avgTd': '16.1', 'minRhm': '39', 'minRhmHrmt': '1600', 'avgRhm': '66.4', 'avgPv': '18.3', 'avgPa': '995.0', 'maxPs': '1007.2', 'maxPsHrmt': '0723', 'minPs': '1002.0', 'minPsHrmt': '1639', 'avgPs': '1004.7', 'ssDur': '14.5', 'sumSsHr': '7.0', 'hr1MaxIcsrHrmt': '1100', 'hr1MaxIcsr': '3.58', 'sumGsr': '21.5', 'ddMefs': '', 'ddMefsHrmt': '', 'ddMes': '', 'ddMesHrmt': '', 'sumDpthFhsc': '', 'avgTca': '6.0', 'avgLmac': '5.5', 'avgTs': '27.0', 'minTg': '16.7', 'avgCm5Te': '24.8', 'avgCm10Te': '23.8', 'avgCm20Te': '23.0', 'avgCm30Te': '22.3', 'avgM05Te': '22.1', 'avgM10Te': '19.1', 'avgM15Te': '17.6', 'avgM30Te': '13.4', 'avgM50Te': '13.3', 'sumLrgEv': '4.5', 'sumSmlEv': '6.4', 'n99Rn': '0.0', 'iscs': '', 'sumFogDur': ''}, {'stnId': '108', 'stnNm': '서울', 'tm': '2022-05-30', 'avgTa': '20.8', 'minTa': '17.2', 'minTaHrmt': '2335', 'maxTa': '24.7', 'maxTaHrmt': '1237', 'mi10MaxRn': '0.0', 'mi10MaxRnHrmt': '', 'hr1MaxRn': '0.0', 'hr1MaxRnHrmt': '', 'sumRnDur': '1.08', 'sumRn': '0.0', 'maxInsWs': '9.8', 'maxInsWsWd': '270', 'maxInsWsHrmt': '1557', 'maxWs': '4.8', 'maxWsWd': '250', 'maxWsHrmt': '1456', 'avgWs': '2.5', 'hr24SumRws': '2129', 'maxWd': '290', 'avgTd': '15.2', 'minRhm': '55', 'minRhmHrmt': '2145', 'avgRhm': '71.0', 'avgPv': '17.4', 'avgPa': '992.5', 'maxPs': '1005.4', 'maxPsHrmt': '2357', 'minPs': '1000.2', 'minPsHrmt': '1507', 'avgPs': '1002.3', 'ssDur': '14.5', 'sumSsHr': '0.2', 'hr1MaxIcsrHrmt': '1100', 'hr1MaxIcsr': '1.77', 'sumGsr': '9.8', 'ddMefs': '', 'ddMefsHrmt': '', 'ddMes': '', 'ddMesHrmt': '', 'sumDpthFhsc': '', 'avgTca': '7.9', 'avgLmac': '6.1', 'avgTs': '23.4', 'minTg': '10.6', 'avgCm5Te': '23.6', 'avgCm10Te': '23.2', 'avgCm20Te': '22.9', 'avgCm30Te': '22.6', 'avgM05Te': '22.4', 'avgM10Te': '19.2', 'avgM15Te': '17.7', 'avgM30Te': '13.5', 'avgM50Te': '13.3', 'sumLrgEv': '2.7', 'sumSmlEv': '3.9', 'n99Rn': '0.0', 'iscs': '{비}0555-{비}{강도0}0600-0650. {안개비}1905-1915.', 'sumFogDur': ''}, {'stnId': '108', 'stnNm': '서울', 'tm': '2022-05-31', 'avgTa': '20.7', 'minTa': '14.2', 'minTaHrmt': '0525', 'maxTa': '27.2', 'maxTaHrmt': '1428', 'mi10MaxRn': '', 'mi10MaxRnHrmt': '', 'hr1MaxRn': '', 'hr1MaxRnHrmt': '', 'sumRnDur': '', 'sumRn': '', 'maxInsWs': '11.8', 'maxInsWsWd': '230', 'maxInsWsHrmt': '1611', 'maxWs': '6.6', 'maxWsWd': '230', 'maxWsHrmt': '1611', 'avgWs': '2.5', 'hr24SumRws': '2165', 'maxWd': '230', 'avgTd': '6.4', 'minRhm': '19', 'minRhmHrmt': '1512', 'avgRhm': '42.4', 'avgPv': '9.8', 'avgPa': '997.5', 'maxPs': '1008.9', 'maxPsHrmt': '0959', 'minPs': '1005.4', 'minPsHrmt': '0001', 'avgPs': '1007.4', 'ssDur': '14.6', 'sumSsHr': '12.0', 'hr1MaxIcsrHrmt': '1200', 'hr1MaxIcsr': '3.62', 'sumGsr': '27.48', 'ddMefs': '', 'ddMefsHrmt': '', 'ddMes': '', 'ddMesHrmt': '', 'sumDpthFhsc': '', 'avgTca': '1.4', 'avgLmac': '0.4', 'avgTs': '28.1', 'minTg': '6.5', 'avgCm5Te': '23.2', 'avgCm10Te': '22.4', 'avgCm20Te': '21.9', 'avgCm30Te': '21.8', 'avgM05Te': '22.0', 'avgM10Te': '19.4', 'avgM15Te': '17.9', 'avgM30Te': '13.5', 'avgM50Te': '13.4', 'sumLrgEv': '6.8', 'sumSmlEv': '9.7', 'n99Rn': '', 'iscs': '', 'sumFogDur': ''}, {'stnId': '108', 'stnNm': '서울', 'tm': '2022-06-01', 'avgTa': '22.1', 'minTa': '16.2', 'minTaHrmt': '0547', 'maxTa': '28.6', 'maxTaHrmt': '1415', 'mi10MaxRn': '', 'mi10MaxRnHrmt': '', 'hr1MaxRn': '', 'hr1MaxRnHrmt': '', 'sumRnDur': '', 'sumRn': '', 'maxInsWs': '10.3', 'maxInsWsWd': '290', 'maxInsWsHrmt': '1306', 'maxWs': '5.5', 'maxWsWd': '270', 'maxWsHrmt': '1309', 'avgWs': '2.6', 'hr24SumRws': '2255', 'maxWd': '270', 'avgTd': '7.3', 'minRhm': '18', 'minRhmHrmt': '1418', 'avgRhm': '41.6', 'avgPv': '10.4', 'avgPa': '995.8', 'maxPs': '1009.3', 'maxPsHrmt': '0333', 'minPs': '1003.0', 'minPsHrmt': '1752', 'avgPs': '1005.6', 'ssDur': '14.6', 'sumSsHr': '13.5', 'hr1MaxIcsrHrmt': '1200', 'hr1MaxIcsr': '3.72', 'sumGsr': '30.79', 'ddMefs': '', 'ddMefsHrmt': '', 'ddMes': '', 'ddMesHrmt': '', 'sumDpthFhsc': '', 'avgTca': '0.6', 'avgLmac': '0.0', 'avgTs': '29.4', 'minTg': '9.5', 'avgCm5Te': '24.2', 'avgCm10Te': '23.2', 'avgCm20Te': '22.5', 'avgCm30Te': '22.0', 'avgM05Te': '22.0', 'avgM10Te': '19.5', 'avgM15Te': '18.0', 'avgM30Te': '13.6', 'avgM50Te': '13.4', 'sumLrgEv': '7.6', 'sumSmlEv': '10.9', 'n99Rn': '', 'iscs': '', 'sumFogDur': ''}, {'stnId': '108', 'stnNm': '서울', 'tm': '2022-06-02', 'avgTa': '21.5', 'minTa': '17.1', 'minTaHrmt': '0150', 'maxTa': '26.9', 'maxTaHrmt': '1324', 'mi10MaxRn': '', 'mi10MaxRnHrmt': '', 'hr1MaxRn': '', 'hr1MaxRnHrmt': '', 'sumRnDur': '', 'sumRn': '', 'maxInsWs': '7.6', 'maxInsWsWd': '200', 'maxInsWsHrmt': '1355', 'maxWs': '4.5', 'maxWsWd': '270', 'maxWsHrmt': '1443', 'avgWs': '2.7', 'hr24SumRws': '2302', 'maxWd': '250', 'avgTd': '14.8', 'minRhm': '46', 'minRhmHrmt': '1351', 'avgRhm': '67.4', 'avgPv': '16.9', 'avgPa': '997.3', 'maxPs': '1008.8', 'maxPsHrmt': '2349', 'minPs': '1005.3', 'minPsHrmt': '0038', 'avgPs': '1007.2', 'ssDur': '14.6', 'sumSsHr': '10.4', 'hr1MaxIcsrHrmt': '1300', 'hr1MaxIcsr': '3.43', 'sumGsr': '27.13', 'ddMefs': '', 'ddMefsHrmt': '', 'ddMes': '', 'ddMesHrmt': '', 'sumDpthFhsc': '', 'avgTca': '3.9', 'avgLmac': '1.9', 'avgTs': '30.6', 'minTg': '9.1', 'avgCm5Te': '24.8', 'avgCm10Te': '23.9', 'avgCm20Te': '23.1', 'avgCm30Te': '22.6', 'avgM05Te': '22.4', 'avgM10Te': '19.5', 'avgM15Te': '18.1', 'avgM30Te': '13.7', 'avgM50Te': '13.4', 'sumLrgEv': '5.4', 'sumSmlEv': '7.7', 'n99Rn': '', 'iscs': '', 'sumFogDur': ''}, {'stnId': '108', 'stnNm': '서울', 'tm': '2022-06-03', 'avgTa': '24.5', 'minTa': '18.7', 'minTaHrmt': '0023', 'maxTa': '32.6', 'maxTaHrmt': '1506', 'mi10MaxRn': '', 'mi10MaxRnHrmt': '', 'hr1MaxRn': '', 'hr1MaxRnHrmt': '', 'sumRnDur': '', 'sumRn': '', 'maxInsWs': '7.9', 'maxInsWsWd': '270', 'maxInsWsHrmt': '1627', 'maxWs': '4.6', 'maxWsWd': '250', 'maxWsHrmt': '1521', 'avgWs': '2.0', 'hr24SumRws': '1751', 'maxWd': '250', 'avgTd': '16.3', 'minRhm': '34', 'minRhmHrmt': '1348', 'avgRhm': '62.8', 'avgPv': '18.5', 'avgPa': '999.4', 'maxPs': '1011.1', 'maxPsHrmt': '2358', 'minPs': '1007.3', 'minPsHrmt': '1428', 'avgPs': '1009.2', 'ssDur': '14.6', 'sumSsHr': '10.6', 'hr1MaxIcsrHrmt': '1200', 'hr1MaxIcsr': '3.46', 'sumGsr': '27.2', 'ddMefs': '', 'ddMefsHrmt': '', 'ddMes': '', 'ddMesHrmt': '', 'sumDpthFhsc': '', 'avgTca': '4.1', 'avgLmac': '2.4', 'avgTs': '33.7', 'minTg': '16.3', 'avgCm5Te': '26.4', 'avgCm10Te': '25.1', 'avgCm20Te': '24.0', 'avgCm30Te': '23.1', 'avgM05Te': '22.8', 'avgM10Te': '19.7', 'avgM15Te': '18.2', 'avgM30Te': '13.8', 'avgM50Te': '13.4', 'sumLrgEv': '5.8', 'sumSmlEv': '8.3', 'n99Rn': '', 'iscs': '', 'sumFogDur': ''}, {'stnId': '108', 'stnNm': '서울', 'tm': '2022-06-04', 'avgTa': '25.6', 'minTa': '20.3', 'minTaHrmt': '0546', 'maxTa': '29.7', 'maxTaHrmt': '1724', 'mi10MaxRn': '', 'mi10MaxRnHrmt': '', 'hr1MaxRn': '', 'hr1MaxRnHrmt': '', 'sumRnDur': '', 'sumRn': '', 'maxInsWs': '5.0', 'maxInsWsWd': '180', 'maxInsWsHrmt': '1040', 'maxWs': '2.8', 'maxWsWd': '180', 'maxWsHrmt': '1208', 'avgWs': '1.7', 'hr24SumRws': '1460', 'maxWd': '50', 'avgTd': '16.0', 'minRhm': '44', 'minRhmHrmt': '1752', 'avgRhm': '57.0', 'avgPv': '18.3', 'avgPa': '999.4', 'maxPs': '1012.0', 'maxPsHrmt': '0408', 'minPs': '1005.7', 'minPsHrmt': '2356', 'avgPs': '1009.1', 'ssDur': '14.6', 'sumSsHr': '6.2', 'hr1MaxIcsrHrmt': '1000', 'hr1MaxIcsr': '2.7', 'sumGsr': '18.22', 'ddMefs': '', 'ddMefsHrmt': '', 'ddMes': '', 'ddMesHrmt': '', 'sumDpthFhsc': '', 'avgTca': '7.0', 'avgLmac': '2.3', 'avgTs': '30.4', 'minTg': '16.7', 'avgCm5Te': '26.2', 'avgCm10Te': '25.3', 'avgCm20Te': '24.5', 'avgCm30Te': '23.7', 'avgM05Te': '23.5', 'avgM10Te': '19.9', 'avgM15Te': '18.4', 'avgM30Te': '13.8', 'avgM50Te': '13.4', 'sumLrgEv': '4.0', 'sumSmlEv': '5.7', 'n99Rn': '0.0', 'iscs': '', 'sumFogDur': ''}, {'stnId': '108', 'stnNm': '서울', 'tm': '2022-06-05', 'avgTa': '22.7', 'minTa': '20.2', 'minTaHrmt': '2132', 'maxTa': '27.0', 'maxTaHrmt': '1142', 'mi10MaxRn': '0.0', 'mi10MaxRnHrmt': '', 'hr1MaxRn': '0.0', 'hr1MaxRnHrmt': '', 'sumRnDur': '1.58', 'sumRn': '0.0', 'maxInsWs': '9.5', 'maxInsWsWd': '110', 'maxInsWsHrmt': '1340', 'maxWs': '4.3', 'maxWsWd': '110', 'maxWsHrmt': '1346', 'avgWs': '2.3', 'hr24SumRws': '2007', 'maxWd': '70', 'avgTd': '14.3', 'minRhm': '43', 'minRhmHrmt': '1115', 'avgRhm': '59.8', 'avgPv': '16.3', 'avgPa': '992.9', 'maxPs': '1006.1', 'maxPsHrmt': '0005', 'minPs': '999.9', 'minPsHrmt': '2358', 'avgPs': '1002.6', 'ssDur': '14.7', 'sumSsHr': '0.1', 'hr1MaxIcsrHrmt': '1000', 'hr1MaxIcsr': '1.84', 'sumGsr': '8.16', 'ddMefs': '', 'ddMefsHrmt': '', 'ddMes': '', 'ddMesHrmt': '', 'sumDpthFhsc': '', 'avgTca': '9.1', 'avgLmac': '4.3', 'avgTs': '23.8', 'minTg': '18.0', 'avgCm5Te': '24.2', 'avgCm10Te': '24.1', 'avgCm20Te': '24.0', 'avgCm30Te': '23.6', 'avgM05Te': '23.6', 'avgM10Te': '20.1', 'avgM15Te': '18.5', 'avgM30Te': '13.9', 'avgM50Te': '13.4', 'sumLrgEv': '2.4', 'sumSmlEv': '3.5', 'n99Rn': '3.5', 'iscs': '{비}0740-0815. {비}1950-2050.', 'sumFogDur': ''}, {'stnId': '108', 'stnNm': '서울', 'tm': '2022-06-06', 'avgTa': '19.7', 'minTa': '16.7', 'minTaHrmt': '2323', 'maxTa': '24.5', 'maxTaHrmt': '1517', 'mi10MaxRn': '1.2', 'mi10MaxRnHrmt': '0233', 'hr1MaxRn': '1.7', 'hr1MaxRnHrmt': '0638', 'sumRnDur': '8.0', 'sumRn': '4.3', 'maxInsWs': '11.4', 'maxInsWsWd': '20', 'maxInsWsHrmt': '1459', 'maxWs': '5.7', 'maxWsWd': '50', 'maxWsHrmt': '1342', 'avgWs': '3.2', 'hr24SumRws': '2800', 'maxWd': '70', 'avgTd': '13.4', 'minRhm': '47', 'minRhmHrmt': '1632', 'avgRhm': '69.0', 'avgPv': '15.5', 'avgPa': '991.8', 'maxPs': '1006.4', 'maxPsHrmt': '2341', 'minPs': '998.9', 'minPsHrmt': '0356', 'avgPs': '1001.6', 'ssDur': '14.7', 'sumSsHr': '5.5', 'hr1MaxIcsrHrmt': '1300', 'hr1MaxIcsr': '3.52', 'sumGsr': '21.01', 'ddMefs': '', 'ddMefsHrmt': '', 'ddMes': '', 'ddMesHrmt': '', 'sumDpthFhsc': '', 'avgTca': '6.9', 'avgLmac': '5.4', 'avgTs': '23.4', 'minTg': '14.8', 'avgCm5Te': '23.3', 'avgCm10Te': '23.0', 'avgCm20Te': '22.8', 'avgCm30Te': '22.8', 'avgM05Te': '23.0', 'avgM10Te': '20.3', 'avgM15Te': '18.7', 'avgM30Te': '14.0', 'avgM50Te': '13.5', 'sumLrgEv': '4.8', 'sumSmlEv': '6.9', 'n99Rn': '0.8', 'iscs': '{비}0230-{비}{강도0}0300-{비}{강도0}0600- {비}{강도0}0900-1030.', 'sumFogDur': ''}, {'stnId': '108', 'stnNm': '서울', 'tm': '2022-06-07', 'avgTa': '20.6', 'minTa': '15.1', 'minTaHrmt': '0550', 'maxTa': '25.1', 'maxTaHrmt': '1236', 'mi10MaxRn': '0.0', 'mi10MaxRnHrmt': '', 'hr1MaxRn': '0.0', 'hr1MaxRnHrmt': '', 'sumRnDur': '0.67', 'sumRn': '0.0', 'maxInsWs': '10.0', 'maxInsWsWd': '70', 'maxInsWsHrmt': '0032', 'maxWs': '5.2', 'maxWsWd': '50', 'maxWsHrmt': '0058', 'avgWs': '2.7', 'hr24SumRws': '2371', 'maxWd': '50', 'avgTd': '10.8', 'minRhm': '39', 'minRhmHrmt': '1305', 'avgRhm': '54.5', 'avgPv': '12.9', 'avgPa': '997.3', 'maxPs': '1009.8', 'maxPsHrmt': '2400', 'minPs': '1005.8', 'minPsHrmt': '0245', 'avgPs': '1007.2', 'ssDur': '14.7', 'sumSsHr': '6.2', 'hr1MaxIcsrHrmt': '1100', 'hr1MaxIcsr': '3.34', 'sumGsr': '17.34', 'ddMefs': '', 'ddMefsHrmt': '', 'ddMes': '', 'ddMesHrmt': '', 'sumDpthFhsc': '', 'avgTca': '6.4', 'avgLmac': '5.6', 'avgTs': '24.8', 'minTg': '13.1', 'avgCm5Te': '22.5', 'avgCm10Te': '22.3', 'avgCm20Te': '22.2', 'avgCm30Te': '22.2', 'avgM05Te': '22.6', 'avgM10Te': '20.3', 'avgM15Te': '18.8', 'avgM30Te': '14.1', 'avgM50Te': '13.5', 'sumLrgEv': '4.1', 'sumSmlEv': '5.8', 'n99Rn': '', 'iscs': '{비}0330-0410.', 'sumFogDur': ''}, {'stnId': '108', 'stnNm': '서울', 'tm': '2022-06-08', 'avgTa': '21.2', 'minTa': '16.2', 'minTaHrmt': '0541', 'maxTa': '25.8', 'maxTaHrmt': '1449', 'mi10MaxRn': '', 'mi10MaxRnHrmt': '', 'hr1MaxRn': '', 'hr1MaxRnHrmt': '', 'sumRnDur': '', 'sumRn': '', 'maxInsWs': '6.7', 'maxInsWsWd': '50', 'maxInsWsHrmt': '0427', 'maxWs': '3.9', 'maxWsWd': '270', 'maxWsHrmt': '1827', 'avgWs': '2.3', 'hr24SumRws': '1986', 'maxWd': '50', 'avgTd': '13.3', 'minRhm': '48', 'minRhmHrmt': '1451', 'avgRhm': '61.6', 'avgPv': '15.4', 'avgPa': '1001.1', 'maxPs': '1012.7', 'maxPsHrmt': '2224', 'minPs': '1009.2', 'minPsHrmt': '1539', 'avgPs': '1011.0', 'ssDur': '14.7', 'sumSsHr': '5.1', 'hr1MaxIcsrHrmt': '0900', 'hr1MaxIcsr': '2.6', 'sumGsr': '16.97', 'ddMefs': '', 'ddMefsHrmt': '', 'ddMes': '', 'ddMesHrmt': '', 'sumDpthFhsc': '', 'avgTca': '6.4', 'avgLmac': '5.9', 'avgTs': '28.5', 'minTg': '14.0', 'avgCm5Te': '22.9', 'avgCm10Te': '22.5', 'avgCm20Te': '22.1', 'avgCm30Te': '22.1', 'avgM05Te': '22.3', 'avgM10Te': '20.3', 'avgM15Te': '18.9', 'avgM30Te': '14.1', 'avgM50Te': '13.5', 'sumLrgEv': '3.1', 'sumSmlEv': '4.4', 'n99Rn': '0.1', 'iscs': '', 'sumFogDur': ''}, {'stnId': '108', 'stnNm': '서울', 'tm': '2022-06-09', 'avgTa': '20.9', 'minTa': '18.5', 'minTaHrmt': '0517', 'maxTa': '24.5', 'maxTaHrmt': '1620', 'mi10MaxRn': '1.3', 'mi10MaxRnHrmt': '1259', 'hr1MaxRn': '2.5', 'hr1MaxRnHrmt': '1245', 'sumRnDur': '4.33', 'sumRn': '2.6', 'maxInsWs': '6.7', 'maxInsWsWd': '290', 'maxInsWsHrmt': '1625', 'maxWs': '3.5', 'maxWsWd': '290', 'maxWsHrmt': '1633', 'avgWs': '1.6', 'hr24SumRws': '1356', 'maxWd': '290', 'avgTd': '16.4', 'minRhm': '56', 'minRhmHrmt': '1739', 'avgRhm': '76.1', 'avgPv': '18.6', 'avgPa': '1003.0', 'maxPs': '1014.1', 'maxPsHrmt': '1001', 'minPs': '1011.5', 'minPsHrmt': '1803', 'avgPs': '1012.8', 'ssDur': '14.7', 'sumSsHr': '2.6', 'hr1MaxIcsrHrmt': '1400', 'hr1MaxIcsr': '1.81', 'sumGsr': '10.66', 'ddMefs': '', 'ddMefsHrmt': '', 'ddMes': '', 'ddMesHrmt': '', 'sumDpthFhsc': '', 'avgTca': '5.5', 'avgLmac': '3.3', 'avgTs': '22.4', 'minTg': '13.9', 'avgCm5Te': '22.2', 'avgCm10Te': '22.0', 'avgCm20Te': '21.9', 'avgCm30Te': '22.0', 'avgM05Te': '22.3', 'avgM10Te': '20.3', 'avgM15Te': '19.0', 'avgM30Te': '14.2', 'avgM50Te': '13.5', 'sumLrgEv': '2.4', 'sumSmlEv': '3.4', 'n99Rn': '2.5', 'iscs': '{비}0525-0535. {비}0650-{비}{강도0}0900-0955. {소나기}1245-1350.', 'sumFogDur': ''}, {'stnId': '108', 'stnNm': '서울', 'tm': '2022-06-10', 'avgTa': '20.9', 'minTa': '17.2', 'minTaHrmt': '0534', 'maxTa': '26.6', 'maxTaHrmt': '1128', 'mi10MaxRn': '0.7', 'mi10MaxRnHrmt': '1410', 'hr1MaxRn': '1.2', 'hr1MaxRnHrmt': '1338', 'sumRnDur': '2.67', 'sumRn': '1.2', 'maxInsWs': '8.2', 'maxInsWsWd': '290', 'maxInsWsHrmt': '1325', 'maxWs': '4.8', 'maxWsWd': '290', 'maxWsHrmt': '1332', 'avgWs': '1.9', 'hr24SumRws': '1683', 'maxWd': '20', 'avgTd': '16.2', 'minRhm': '50', 'minRhmHrmt': '1138', 'avgRhm': '75.8', 'avgPv': '18.4', 'avgPa': '1003.8', 'maxPs': '1014.7', 'maxPsHrmt': '2155', 'minPs': '1012.6', 'minPsHrmt': '1522', 'avgPs': '1013.7', 'ssDur': '14.7', 'sumSsHr': '4.8', 'hr1MaxIcsrHrmt': '1100', 'hr1MaxIcsr': '2.52', 'sumGsr': '15.38', 'ddMefs': '', 'ddMefsHrmt': '', 'ddMes': '', 'ddMesHrmt': '', 'sumDpthFhsc': '', 'avgTca': '5.6', 'avgLmac': '2.4', 'avgTs': '22.3', 'minTg': '12.4', 'avgCm5Te': '21.9', 'avgCm10Te': '21.7', 'avgCm20Te': '21.6', 'avgCm30Te': '21.6', 'avgM05Te': '21.9', 'avgM10Te': '20.2', 'avgM15Te': '19.1', 'avgM30Te': '14.3', 'avgM50Te': '13.5', 'sumLrgEv': '3.0', 'sumSmlEv': '4.3', 'n99Rn': '1.2', 'iscs': '{소나기}1330-1455. {소나기}1935-2050. ', 'sumFogDur': ''}, {'stnId': '108', 'stnNm': '서울', 'tm': '2022-06-11', 'avgTa': '24.6', 'minTa': '17.7', 'minTaHrmt': '0527', 'maxTa': '32.7', 'maxTaHrmt': '1629', 'mi10MaxRn': '', 'mi10MaxRnHrmt': '', 'hr1MaxRn': '', 'hr1MaxRnHrmt': '', 'sumRnDur': '', 'sumRn': '', 'maxInsWs': '8.1', 'maxInsWsWd': '70', 'maxInsWsHrmt': '1311', 'maxWs': '4.7', 'maxWsWd': '20', 'maxWsHrmt': '1822', 'avgWs': '2.2', 'hr24SumRws': '1872', 'maxWd': '50', 'avgTd': '15.5', 'minRhm': '33', 'minRhmHrmt': '1333', 'avgRhm': '59.6', 'avgPv': '17.6', 'avgPa': '1002.1', 'maxPs': '1014.1', 'maxPsHrmt': '0036', 'minPs': '1008.6', 'minPsHrmt': '1652', 'avgPs': '1011.9', 'ssDur': '14.7', 'sumSsHr': '10.7', 'hr1MaxIcsrHrmt': '1200', 'hr1MaxIcsr': '3.53', 'sumGsr': '26.54', 'ddMefs': '', 'ddMefsHrmt': '', 'ddMes': '', 'ddMesHrmt': '', 'sumDpthFhsc': '', 'avgTca': '3.4', 'avgLmac': '1.9', 'avgTs': '27.8', 'minTg': '13.4', 'avgCm5Te': '24.3', 'avgCm10Te': '23.2', 'avgCm20Te': '22.2', 'avgCm30Te': '21.7', 'avgM05Te': '21.8', 'avgM10Te': '20.2', 'avgM15Te': '19.1', 'avgM30Te': '14.3', 'avgM50Te': '13.6', 'sumLrgEv': '6.3', 'sumSmlEv': '8.9', 'n99Rn': '', 'iscs': '', 'sumFogDur': ''}, {'stnId': '108', 'stnNm': '서울', 'tm': '2022-06-12', 'avgTa': '24.6', 'minTa': '18.9', 'minTaHrmt': '0525', 'maxTa': '31.5', 'maxTaHrmt': '1520', 'mi10MaxRn': '', 'mi10MaxRnHrmt': '', 'hr1MaxRn': '', 'hr1MaxRnHrmt': '', 'sumRnDur': '', 'sumRn': '', 'maxInsWs': '6.8', 'maxInsWsWd': '50', 'maxInsWsHrmt': '0802', 'maxWs': '3.8', 'maxWsWd': '250', 'maxWsHrmt': '1653', 'avgWs': '2.5', 'hr24SumRws': '2130', 'maxWd': '50', 'avgTd': '15.5', 'minRhm': '36', 'minRhmHrmt': '1524', 'avgRhm': '58.9', 'avgPv': '17.7', 'avgPa': '1001.9', 'maxPs': '1013.8', 'maxPsHrmt': '0648', 'minPs': '1009.3', 'minPsHrmt': '1609', 'avgPs': '1011.6', 'ssDur': '14.7', 'sumSsHr': '9.3', 'hr1MaxIcsrHrmt': '1200', 'hr1MaxIcsr': '3.19', 'sumGsr': '24.52', 'ddMefs': '', 'ddMefsHrmt': '', 'ddMes': '', 'ddMesHrmt': '', 'sumDpthFhsc': '', 'avgTca': '5.8', 'avgLmac': '1.8', 'avgTs': '32.4', 'minTg': '15.3', 'avgCm5Te': '25.5', 'avgCm10Te': '24.6', 'avgCm20Te': '23.6', 'avgCm30Te': '22.8', 'avgM05Te': '22.5', 'avgM10Te': '20.1', 'avgM15Te': '19.1', 'avgM30Te': '14.4', 'avgM50Te': '13.6', 'sumLrgEv': '4.9', 'sumSmlEv': '7.1', 'n99Rn': '18.0', 'iscs': '{박무}2355-{박무}{강도0}2400-', 'sumFogDur': ''}, {'stnId': '108', 'stnNm': '서울', 'tm': '2022-06-13', 'avgTa': '23.6', 'minTa': '19.6', 'minTaHrmt': '0513', 'maxTa': '29.2', 'maxTaHrmt': '1234', 'mi10MaxRn': '6.7', 'mi10MaxRnHrmt': '0323', 'hr1MaxRn': '15.9', 'hr1MaxRnHrmt': '0243', 'sumRnDur': '3.83', 'sumRn': '18.0', 'maxInsWs': '8.6', 'maxInsWsWd': '70', 'maxInsWsHrmt': '2150', 'maxWs': '4.4', 'maxWsWd': '360', 'maxWsHrmt': '1552', 'avgWs': '2.6', 'hr24SumRws': '2247', 'maxWd': '50', 'avgTd': '17.1', 'minRhm': '51', 'minRhmHrmt': '1252', 'avgRhm': '68.5', 'avgPv': '19.7', 'avgPa': '999.0', 'maxPs': '1011.2', 'maxPsHrmt': '0001', 'minPs': '1006.0', 'minPsHrmt': '1420', 'avgPs': '1008.8', 'ssDur': '14.7', 'sumSsHr': '7.7', 'hr1MaxIcsrHrmt': '1100', 'hr1MaxIcsr': '3.11', 'sumGsr': '20.66', 'ddMefs': '', 'ddMefsHrmt': '', 'ddMes': '', 'ddMesHrmt': '', 'sumDpthFhsc': '', 'avgTca': '7.5', 'avgLmac': '5.3', 'avgTs': '25.0', 'minTg': '17.9', 'avgCm5Te': '25.1', 'avgCm10Te': '24.7', 'avgCm20Te': '24.0', 'avgCm30Te': '23.4', 'avgM05Te': '23.0', 'avgM10Te': '20.2', 'avgM15Te': '19.2', 'avgM30Te': '14.5', 'avgM50Te': '13.6', 'sumLrgEv': '4.9', 'sumSmlEv': '7.0', 'n99Rn': '0.0', 'iscs': '{소나기}0205-{소나기}{강도0}0300-{시정(미만)}{1km}{소나기}0323-{시정(이상)}{1km}{소나기}0338-0430. {소나기}1305-1330. {소나기}1510-1610.  -{박무}-0120. {박무}0215-{박무}{강도1}0300-0425. ', 'sumFogDur': ''}, {'stnId': '108', 'stnNm': '서울', 'tm': '2022-06-14', 'avgTa': '21.5', 'minTa': '17.7', 'minTaHrmt': '2357', 'maxTa': '27.1', 'maxTaHrmt': '1245', 'mi10MaxRn': '0.0', 'mi10MaxRnHrmt': '', 'hr1MaxRn': '0.0', 'hr1MaxRnHrmt': '', 'sumRnDur': '1.67', 'sumRn': '0.0', 'maxInsWs': '12.2', 'maxInsWsWd': '70', 'maxInsWsHrmt': '0855', 'maxWs': '6.0', 'maxWsWd': '50', 'maxWsHrmt': '1851', 'avgWs': '4.2', 'hr24SumRws': '3614', 'maxWd': '50', 'avgTd': '12.2', 'minRhm': '42', 'minRhmHrmt': '1154', 'avgRhm': '56.4', 'avgPv': '14.2', 'avgPa': '998.4', 'maxPs': '1009.8', 'maxPsHrmt': '0001', 'minPs': '1007.2', 'minPsHrmt': '1436', 'avgPs': '1008.2', 'ssDur': '14.8', 'sumSsHr': '5.7', 'hr1MaxIcsrHrmt': '1100', 'hr1MaxIcsr': '3.5', 'sumGsr': '18.58', 'ddMefs': '', 'ddMefsHrmt': '', 'ddMes': '', 'ddMesHrmt': '', 'sumDpthFhsc': '', 'avgTca': '7.8', 'avgLmac': '3.9', 'avgTs': '23.1', 'minTg': '14.6', 'avgCm5Te': '23.3', 'avgCm10Te': '23.2', 'avgCm20Te': '23.1', 'avgCm30Te': '23.0', 'avgM05Te': '23.0', 'avgM10Te': '20.4', 'avgM15Te': '19.2', 'avgM30Te': '14.6', 'avgM50Te': '13.6', 'sumLrgEv': '4.2', 'sumSmlEv': '6.0', 'n99Rn': '10.5', 'iscs': '{비}2220-{비}{강도0}2400-', 'sumFogDur': ''}, {'stnId': '108', 'stnNm': '서울', 'tm': '2022-06-15', 'avgTa': '17.5', 'minTa': '14.9', 'minTaHrmt': '0603', 'maxTa': '20.1', 'maxTaHrmt': '1921', 'mi10MaxRn': '1.6', 'mi10MaxRnHrmt': '0203', 'hr1MaxRn': '5.8', 'hr1MaxRnHrmt': '0144', 'sumRnDur': '17.58', 'sumRn': '18.5', 'maxInsWs': '7.4', 'maxInsWsWd': '50', 'maxInsWsHrmt': '0001', 'maxWs': '3.7', 'maxWsWd': '70', 'maxWsHrmt': '0621', 'avgWs': '2.3', 'hr24SumRws': '2026', 'maxWd': '50', 'avgTd': '16.2', 'minRhm': '71', 'minRhmHrmt': '0001', 'avgRhm': '92.4', 'avgPv': '18.5', 'avgPa': '996.0', 'maxPs': '1007.6', 'maxPsHrmt': '0001', 'minPs': '1004.6', 'minPsHrmt': '1742', 'avgPs': '1006.0', 'ssDur': '14.8', 'sumSsHr': '0.0', 'hr1MaxIcsrHrmt': '1500', 'hr1MaxIcsr': '0.77', 'sumGsr': '5.62', 'ddMefs': '', 'ddMefsHrmt': '', 'ddMes': '', 'ddMesHrmt': '', 'sumDpthFhsc': '', 'avgTca': '9.8', 'avgLmac': '7.6', 'avgTs': '18.7', 'minTg': '14.2', 'avgCm5Te': '20.7', 'avgCm10Te': '20.8', 'avgCm20Te': '21.3', 'avgCm30Te': '21.9', 'avgM05Te': '22.6', 'avgM10Te': '20.5', 'avgM15Te': '19.3', 'avgM30Te': '14.6', 'avgM50Te': '13.7', 'sumLrgEv': '1.0', 'sumSmlEv': '1.4', 'n99Rn': '8.7', 'iscs': '-{비}-{비}{강도1}0300-{비}{강도0}0600-{비}{강도0}0900-{비}{강도0}1200-1240. {비}1355-{비}{강도0}1500-1655. {비}2135-2330.  {박무}0155-0240. {박무}0315-0420. {박무}0515-{박무}{강도0}0600-0625. {박무}0950-1130. {박무}2145-{박무}{강도0}2400-', 'sumFogDur': ''}, {'stnId': '108', 'stnNm': '서울', 'tm': '2022-06-16', 'avgTa': '20.3', 'minTa': '17.6', 'minTaHrmt': '0619', 'maxTa': '24.8', 'maxTaHrmt': '1737', 'mi10MaxRn': '0.3', 'mi10MaxRnHrmt': '0047', 'hr1MaxRn': '0.3', 'hr1MaxRnHrmt': '0035', 'sumRnDur': '4.33', 'sumRn': '0.7', 'maxInsWs': '6.9', 'maxInsWsWd': '180', 'maxInsWsHrmt': '1405', 'maxWs': '4.4', 'maxWsWd': '200', 'maxWsHrmt': '1404', 'avgWs': '2.3', 'hr24SumRws': '1964', 'maxWd': '270', 'avgTd': '16.1', 'minRhm': '53', 'minRhmHrmt': '1720', 'avgRhm': '78.4', 'avgPv': '18.3', 'avgPa': '997.7', 'maxPs': '1008.7', 'maxPsHrmt': '2323', 'minPs': '1005.5', 'minPsHrmt': '0004', 'avgPs': '1007.6', 'ssDur': '14.8', 'sumSsHr': '3.8', 'hr1MaxIcsrHrmt': '1600', 'hr1MaxIcsr': '1.63', 'sumGsr': '13.0', 'ddMefs': '', 'ddMefsHrmt': '', 'ddMes': '', 'ddMesHrmt': '', 'sumDpthFhsc': '', 'avgTca': '5.6', 'avgLmac': '4.3', 'avgTs': '21.1', 'minTg': '13.8', 'avgCm5Te': '21.6', 'avgCm10Te': '21.3', 'avgCm20Te': '21.1', 'avgCm30Te': '21.2', 'avgM05Te': '21.7', 'avgM10Te': '20.5', 'avgM15Te': '19.4', 'avgM30Te': '14.7', 'avgM50Te': '13.7', 'sumLrgEv': '2.6', 'sumSmlEv': '3.7', 'n99Rn': '', 'iscs': '{비}0035-0230. {비}0505-{비}{강도0}0600-0625. {비}0750-0855.  -{박무}-0245.', 'sumFogDur': ''}, {'stnId': '108', 'stnNm': '서울', 'tm': '2022-06-17', 'avgTa': '22.5', 'minTa': '16.5', 'minTaHrmt': '0533', 'maxTa': '28.1', 'maxTaHrmt': '1413', 'mi10MaxRn': '', 'mi10MaxRnHrmt': '', 'hr1MaxRn': '', 'hr1MaxRnHrmt': '', 'sumRnDur': '', 'sumRn': '', 'maxInsWs': '6.6', 'maxInsWsWd': '180', 'maxInsWsHrmt': '1505', 'maxWs': '3.7', 'maxWsWd': '180', 'maxWsHrmt': '1606', 'avgWs': '1.9', 'hr24SumRws': '1630', 'maxWd': '20', 'avgTd': '17.9', 'minRhm': '56', 'minRhmHrmt': '1416', 'avgRhm': '76.4', 'avgPv': '20.6', 'avgPa': '997.9', 'maxPs': '1009.6', 'maxPsHrmt': '0934', 'minPs': '1005.6', 'minPsHrmt': '1706', 'avgPs': '1007.7', 'ssDur': '14.8', 'sumSsHr': '3.2', 'hr1MaxIcsrHrmt': '1300', 'hr1MaxIcsr': '3.41', 'sumGsr': '17.86', 'ddMefs': '', 'ddMefsHrmt': '', 'ddMes': '', 'ddMesHrmt': '', 'sumDpthFhsc': '', 'avgTca': '5.8', 'avgLmac': '5.6', 'avgTs': '23.5', 'minTg': '11.6', 'avgCm5Te': '22.9', 'avgCm10Te': '22.4', 'avgCm20Te': '21.7', 'avgCm30Te': '21.5', 'avgM05Te': '21.6', 'avgM10Te': '20.3', 'avgM15Te': '19.4', 'avgM30Te': '14.8', 'avgM50Te': '13.7', 'sumLrgEv': '3.5', 'sumSmlEv': '4.9', 'n99Rn': '', 'iscs': '', 'sumFogDur': ''}, {'stnId': '108', 'stnNm': '서울', 'tm': '2022-06-18', 'avgTa': '23.3', 'minTa': '22.0', 'minTaHrmt': '0538', 'maxTa': '25.1', 'maxTaHrmt': '1722', 'mi10MaxRn': '0.0', 'mi10MaxRnHrmt': '', 'hr1MaxRn': '0.0', 'hr1MaxRnHrmt': '', 'sumRnDur': '0.25', 'sumRn': '0.0', 'maxInsWs': '6.0', 'maxInsWsWd': '290', 'maxInsWsHrmt': '1908', 'maxWs': '4.0', 'maxWsWd': '290', 'maxWsHrmt': '1914', 'avgWs': '1.7', 'hr24SumRws': '1457', 'maxWd': '200', 'avgTd': '19.5', 'minRhm': '72', 'minRhmHrmt': '1053', 'avgRhm': '79.6', 'avgPv': '22.7', 'avgPa': '997.5', 'maxPs': '1008.9', 'maxPsHrmt': '2242', 'minPs': '1006.0', 'minPsHrmt': '1714', 'avgPs': '1007.3', 'ssDur': '14.8', 'sumSsHr': '0.0', 'hr1MaxIcsrHrmt': '1000', 'hr1MaxIcsr': '0.69', 'sumGsr': '6.07', 'ddMefs': '', 'ddMefsHrmt': '', 'ddMes': '', 'ddMesHrmt': '', 'sumDpthFhsc': '', 'avgTca': '7.6', 'avgLmac': '7.4', 'avgTs': '23.1', 'minTg': '18.6', 'avgCm5Te': '23.4', 'avgCm10Te': '23.1', 'avgCm20Te': '22.7', 'avgCm30Te': '22.4', 'avgM05Te': '22.2', 'avgM10Te': '20.2', 'avgM15Te': '19.4', 'avgM30Te': '14.8', 'avgM50Te': '13.7', 'sumLrgEv': '1.4', 'sumSmlEv': '2.0', 'n99Rn': '0.0', 'iscs': '{안개비}1410-1425. ', 'sumFogDur': ''}, {'stnId': '108', 'stnNm': '서울', 'tm': '2022-06-19', 'avgTa': '23.4', 'minTa': '22.3', 'minTaHrmt': '0303', 'maxTa': '25.1', 'maxTaHrmt': '1719', 'mi10MaxRn': '', 'mi10MaxRnHrmt': '', 'hr1MaxRn': '', 'hr1MaxRnHrmt': '', 'sumRnDur': '', 'sumRn': '', 'maxInsWs': '4.7', 'maxInsWsWd': '200', 'maxInsWsHrmt': '1432', 'maxWs': '3.0', 'maxWsWd': '180', 'maxWsHrmt': '1435', 'avgWs': '1.4', 'hr24SumRws': '1242', 'maxWd': '180', 'avgTd': '20.0', 'minRhm': '74', 'minRhmHrmt': '1714', 'avgRhm': '81.6', 'avgPv': '23.4', 'avgPa': '997.6', 'maxPs': '1008.7', 'maxPsHrmt': '0017', 'minPs': '1006.0', 'minPsHrmt': '1727', 'avgPs': '1007.4', 'ssDur': '14.8', 'sumSsHr': '0.0', 'hr1MaxIcsrHrmt': '1600', 'hr1MaxIcsr': '0.65', 'sumGsr': '5.06', 'ddMefs': '', 'ddMefsHrmt': '', 'ddMes': '', 'ddMesHrmt': '', 'sumDpthFhsc': '', 'avgTca': '8.6', 'avgLmac': '8.6', 'avgTs': '23.3', 'minTg': '19.0', 'avgCm5Te': '23.3', 'avgCm10Te': '22.9', 'avgCm20Te': '22.5', 'avgCm30Te': '22.4', 'avgM05Te': '22.3', 'avgM10Te': '20.3', 'avgM15Te': '19.4', 'avgM30Te': '14.9', 'avgM50Te': '13.7', 'sumLrgEv': '1.3', 'sumSmlEv': '1.8', 'n99Rn': '', 'iscs': '', 'sumFogDur': ''}, {'stnId': '108', 'stnNm': '서울', 'tm': '2022-06-20', 'avgTa': '25.2', 'minTa': '22.0', 'minTaHrmt': '0543', 'maxTa': '29.0', 'maxTaHrmt': '1611', 'mi10MaxRn': '', 'mi10MaxRnHrmt': '', 'hr1MaxRn': '', 'hr1MaxRnHrmt': '', 'sumRnDur': '', 'sumRn': '', 'maxInsWs': '4.4', 'maxInsWsWd': '250', 'maxInsWsHrmt': '1337', 'maxWs': '2.8', 'maxWsWd': '270', 'maxWsHrmt': '1910', 'avgWs': '1.3', 'hr24SumRws': '1136', 'maxWd': '270', 'avgTd': '20.5', 'minRhm': '58', 'minRhmHrmt': '1747', 'avgRhm': '76.6', 'avgPv': '24.2', 'avgPa': '994.8', 'maxPs': '1006.6', 'maxPsHrmt': '0001', 'minPs': '1002.4', 'minPsHrmt': '1726', 'avgPs': '1004.4', 'ssDur': '14.8', 'sumSsHr': '1.8', 'hr1MaxIcsrHrmt': '1300', 'hr1MaxIcsr': '2.26', 'sumGsr': '12.59', 'ddMefs': '', 'ddMefsHrmt': '', 'ddMes': '', 'ddMesHrmt': '', 'sumDpthFhsc': '', 'avgTca': '6.0', 'avgLmac': '6.0', 'avgTs': '26.4', 'minTg': '18.5', 'avgCm5Te': '24.3', 'avgCm10Te': '23.8', 'avgCm20Te': '23.0', 'avgCm30Te': '22.6', 'avgM05Te': '22.3', 'avgM10Te': '20.3', 'avgM15Te': '19.5', 'avgM30Te': '14.9', 'avgM50Te': '13.8', 'sumLrgEv': '2.8', 'sumSmlEv': '4.0', 'n99Rn': '', 'iscs': '', 'sumFogDur': ''}, {'stnId': '108', 'stnNm': '서울', 'tm': '2022-06-21', 'avgTa': '26.5', 'minTa': '21.2', 'minTaHrmt': '0553', 'maxTa': '32.6', 'maxTaHrmt': '1539', 'mi10MaxRn': '', 'mi10MaxRnHrmt': '', 'hr1MaxRn': '', 'hr1MaxRnHrmt': '', 'sumRnDur': '', 'sumRn': '', 'maxInsWs': '7.2', 'maxInsWsWd': '270', 'maxInsWsHrmt': '1544', 'maxWs': '4.0', 'maxWsWd': '270', 'maxWsHrmt': '1647', 'avgWs': '2.0', 'hr24SumRws': '1733', 'maxWd': '270', 'avgTd': '20.8', 'minRhm': '48', 'minRhmHrmt': '1415', 'avgRhm': '72.6', 'avgPv': '24.5', 'avgPa': '993.9', 'maxPs': '1005.5', 'maxPsHrmt': '2349', 'minPs': '1001.6', 'minPsHrmt': '1439', 'avgPs': '1003.5', 'ssDur': '14.8', 'sumSsHr': '12.6', 'hr1MaxIcsrHrmt': '1200', 'hr1MaxIcsr': '3.56', 'sumGsr': '28.94', 'ddMefs': '', 'ddMefsHrmt': '', 'ddMes': '', 'ddMesHrmt': '', 'sumDpthFhsc': '', 'avgTca': '3.1', 'avgLmac': '0.4', 'avgTs': '32.3', 'minTg': '16.3', 'avgCm5Te': '26.1', 'avgCm10Te': '25.4', 'avgCm20Te': '24.3', 'avgCm30Te': '23.4', 'avgM05Te': '22.7', 'avgM10Te': '20.4', 'avgM15Te': '19.5', 'avgM30Te': '15.0', 'avgM50Te': '13.8', 'sumLrgEv': '5.6', 'sumSmlEv': '8.0', 'n99Rn': '', 'iscs': '', 'sumFogDur': ''}, {'stnId': '108', 'stnNm': '서울', 'tm': '2022-06-22', 'avgTa': '25.9', 'minTa': '21.9', 'minTaHrmt': '0344', 'maxTa': '31.0', 'maxTaHrmt': '1542', 'mi10MaxRn': '', 'mi10MaxRnHrmt': '', 'hr1MaxRn': '', 'hr1MaxRnHrmt': '', 'sumRnDur': '', 'sumRn': '', 'maxInsWs': '6.6', 'maxInsWsWd': '250', 'maxInsWsHrmt': '1633', 'maxWs': '4.2', 'maxWsWd': '290', 'maxWsHrmt': '1655', 'avgWs': '2.1', 'hr24SumRws': '1818', 'maxWd': '270', 'avgTd': '19.9', 'minRhm': '44', 'minRhmHrmt': '1600', 'avgRhm': '71.1', 'avgPv': '23.3', 'avgPa': '997.1', 'maxPs': '1008.5', 'maxPsHrmt': '0822', 'minPs': '1005.4', 'minPsHrmt': '0001', 'avgPs': '1006.7', 'ssDur': '14.8', 'sumSsHr': '7.4', 'hr1MaxIcsrHrmt': '1100', 'hr1MaxIcsr': '3.05', 'sumGsr': '22.39', 'ddMefs': '', 'ddMefsHrmt': '', 'ddMes': '', 'ddMesHrmt': '', 'sumDpthFhsc': '', 'avgTca': '6.1', 'avgLmac': '3.1', 'avgTs': '31.5', 'minTg': '19.1', 'avgCm5Te': '26.8', 'avgCm10Te': '26.3', 'avgCm20Te': '25.4', 'avgCm30Te': '24.6', 'avgM05Te': '23.7', 'avgM10Te': '20.5', 'avgM15Te': '19.5', 'avgM30Te': '15.1', 'avgM50Te': '13.8', 'sumLrgEv': '4.5', 'sumSmlEv': '6.4', 'n99Rn': '0.8', 'iscs': '', 'sumFogDur': ''}, {'stnId': '108', 'stnNm': '서울', 'tm': '2022-06-23', 'avgTa': '24.3', 'minTa': '23.3', 'minTaHrmt': '2216', 'maxTa': '26.4', 'maxTaHrmt': '1130', 'mi10MaxRn': '8.9', 'mi10MaxRnHrmt': '1839', 'hr1MaxRn': '34.4', 'hr1MaxRnHrmt': '1754', 'sumRnDur': '13.5', 'sumRn': '103.0', 'maxInsWs': '13.1', 'maxInsWsWd': '180', 'maxInsWsHrmt': '2318', 'maxWs': '6.4', 'maxWsWd': '200', 'maxWsHrmt': '2006', 'avgWs': '2.8', 'hr24SumRws': '2385', 'maxWd': '200', 'avgTd': '22.2', 'minRhm': '74', 'minRhmHrmt': '0002', 'avgRhm': '89.1', 'avgPv': '26.9', 'avgPa': '989.5', 'maxPs': '1005.9', 'maxPsHrmt': '0001', 'minPs': '993.8', 'minPsHrmt': '2400', 'avgPs': '999.2', 'ssDur': '14.8', 'sumSsHr': '0.0', 'hr1MaxIcsrHrmt': '1000', 'hr1MaxIcsr': '0.74', 'sumGsr': '3.41', 'ddMefs': '', 'ddMefsHrmt': '', 'ddMes': '', 'ddMesHrmt': '', 'sumDpthFhsc': '', 'avgTca': '8.9', 'avgLmac': '6.5', 'avgTs': '23.3', 'minTg': '17.8', 'avgCm5Te': '25.0', 'avgCm10Te': '24.9', 'avgCm20Te': '24.8', 'avgCm30Te': '24.7', 'avgM05Te': '24.3', 'avgM10Te': '20.8', 'avgM15Te': '19.6', 'avgM30Te': '15.1', 'avgM50Te': '13.8', 'sumLrgEv': '0.8', 'sumSmlEv': '1.1', 'n99Rn': '121.3', 'iscs': '{비}0750-{비}{강도0}0900-0945. {박무}0850-{박무}{강도0}0900-1050. {비}1225-{비}{강도1}1500-{비}{강도1}1800-{시정(미만)}{1km}{비}1805-{시정(이상)}{1km}{비}1815-{시정(미만)}{1km}{비}1840-{시정(이상)}{1km}{비}1910-{시정(미만)}{1km}{비}1934-{시정(이상)}{1km}{비}1943-{비}{강도0}2100-{시정(미만)}{1km}{비}2141-{시정(이상)}{1km}{비}2158- {박무}1240-{박무}{강도1}1500-{박무}{강도2}1800-2005. {비}{강도0}2400-', 'sumFogDur': ''}, {'stnId': '108', 'stnNm': '서울', 'tm': '2022-06-24', 'avgTa': '22.6', 'minTa': '20.6', 'minTaHrmt': '0617', 'maxTa': '24.9', 'maxTaHrmt': '1805', 'mi10MaxRn': '5.5', 'mi10MaxRnHrmt': '0002', 'hr1MaxRn': '14.4', 'hr1MaxRnHrmt': '0001', 'sumRnDur': '6.83', 'sumRn': '19.1', 'maxInsWs': '9.8', 'maxInsWsWd': '200', 'maxInsWsHrmt': '0204', 'maxWs': '5.4', 'maxWsWd': '230', 'maxWsHrmt': '0210', 'avgWs': '3.5', 'hr24SumRws': '2996', 'maxWd': '200', 'avgTd': '21.0', 'minRhm': '76', 'minRhmHrmt': '1851', 'avgRhm': '90.9', 'avgPv': '24.9', 'avgPa': '988.1', 'maxPs': '1001.6', 'maxPsHrmt': '2248', 'minPs': '992.8', 'minPsHrmt': '0209', 'avgPs': '997.7', 'ssDur': '14.8', 'sumSsHr': '1.7', 'hr1MaxIcsrHrmt': '1000', 'hr1MaxIcsr': '1.44', 'sumGsr': '8.5', 'ddMefs': '', 'ddMefsHrmt': '', 'ddMes': '', 'ddMesHrmt': '', 'sumDpthFhsc': '', 'avgTca': '8.4', 'avgLmac': '8.4', 'avgTs': '23.6', 'minTg': '20.1', 'avgCm5Te': '24.2', 'avgCm10Te': '24.0', 'avgCm20Te': '23.7', 'avgCm30Te': '23.8', 'avgM05Te': '24.1', 'avgM10Te': '22.0', 'avgM15Te': '20.4', 'avgM30Te': '15.2', 'avgM50Te': '13.9', 'sumLrgEv': '1.9', 'sumSmlEv': '2.7', 'n99Rn': '0.0', 'iscs': '-{비}-{시정(미만)}{1km}{비}0001-{시정(이상)}{1km}{비}0010-{시정(미만)}{1km}{비}0052-{시정(이상)}{1km}{비}0102-{안개비}0245-{안개비}{강도0}0300-0330. {박무}0230-{박무}{강도1}0300-{박무}{강도1}0600-0745. {안개비}0505-{안개비}{강도0}0600-0740. {박무}1405-{박무}{강도0}1500-1510. {비}1410-1455. {박무}2115-{박무}{강도0}2400-', 'sumFogDur': ''}, {'stnId': '108', 'stnNm': '서울', 'tm': '2022-06-25', 'avgTa': '26.0', 'minTa': '21.5', 'minTaHrmt': '0221', 'maxTa': '30.5', 'maxTaHrmt': '1512', 'mi10MaxRn': '', 'mi10MaxRnHrmt': '', 'hr1MaxRn': '', 'hr1MaxRnHrmt': '', 'sumRnDur': '', 'sumRn': '', 'maxInsWs': '8.9', 'maxInsWsWd': '200', 'maxInsWsHrmt': '1756', 'maxWs': '5.1', 'maxWsWd': '230', 'maxWsHrmt': '1920', 'avgWs': '2.8', 'hr24SumRws': '2406', 'maxWd': '200', 'avgTd': '22.2', 'minRhm': '69', 'minRhmHrmt': '1445', 'avgRhm': '80.4', 'avgPv': '26.8', 'avgPa': '994.1', 'maxPs': '1007.0', 'maxPsHrmt': '2246', 'minPs': '1000.9', 'minPsHrmt': '0127', 'avgPs': '1003.7', 'ssDur': '14.8', 'sumSsHr': '3.0', 'hr1MaxIcsrHrmt': '1300', 'hr1MaxIcsr': '2.77', 'sumGsr': '17.55', 'ddMefs': '', 'ddMefsHrmt': '', 'ddMes': '', 'ddMesHrmt': '', 'sumDpthFhsc': '', 'avgTca': '7.5', 'avgLmac': '7.1', 'avgTs': '26.7', 'minTg': '18.9', 'avgCm5Te': '25.7', 'avgCm10Te': '25.1', 'avgCm20Te': '24.3', 'avgCm30Te': '23.9', 'avgM05Te': '23.8', 'avgM10Te': '21.9', 'avgM15Te': '20.8', 'avgM30Te': '15.5', 'avgM50Te': '13.9', 'sumLrgEv': '3.5', 'sumSmlEv': '4.9', 'n99Rn': '', 'iscs': '-{박무}-{박무}{강도0}0300-{박무}{강도0}0600-{박무}{강도0}0900-{박무}{강도0}1200-1410.', 'sumFogDur': ''}, {'stnId': '108', 'stnNm': '서울', 'tm': '2022-06-26', 'avgTa': '26.5', 'minTa': '24.8', 'minTaHrmt': '0234', 'maxTa': '28.1', 'maxTaHrmt': '1500', 'mi10MaxRn': '', 'mi10MaxRnHrmt': '', 'hr1MaxRn': '', 'hr1MaxRnHrmt': '', 'sumRnDur': '', 'sumRn': '', 'maxInsWs': '8.5', 'maxInsWsWd': '230', 'maxInsWsHrmt': '1451', 'maxWs': '5.0', 'maxWsWd': '180', 'maxWsHrmt': '1215', 'avgWs': '2.6', 'hr24SumRws': '2254', 'maxWd': '180', 'avgTd': '23.1', 'minRhm': '79', 'minRhmHrmt': '1453', 'avgRhm': '82.1', 'avgPv': '28.3', 'avgPa': '998.2', 'maxPs': '1010.8', 'maxPsHrmt': '2227', 'minPs': '1005.4', 'minPsHrmt': '0212', 'avgPs': '1007.8', 'ssDur': '14.8', 'sumSsHr': '0.0', 'hr1MaxIcsrHrmt': '1200', 'hr1MaxIcsr': '0.78', 'sumGsr': '3.0', 'ddMefs': '', 'ddMefsHrmt': '', 'ddMes': '', 'ddMesHrmt': '', 'sumDpthFhsc': '', 'avgTca': '10.0', 'avgLmac': '7.8', 'avgTs': '24.8', 'minTg': '23.0', 'avgCm5Te': '25.6', 'avgCm10Te': '25.3', 'avgCm20Te': '24.8', 'avgCm30Te': '24.6', 'avgM05Te': '24.3', 'avgM10Te': '21.8', 'avgM15Te': '20.7', 'avgM30Te': '15.6', 'avgM50Te': '13.9', 'sumLrgEv': '1.3', 'sumSmlEv': '1.8', 'n99Rn': '1.2', 'iscs': '', 'sumFogDur': ''}, {'stnId': '108', 'stnNm': '서울', 'tm': '2022-06-27', 'avgTa': '26.8', 'minTa': '25.4', 'minTaHrmt': '0454', 'maxTa': '28.1', 'maxTaHrmt': '1107', 'mi10MaxRn': '1.2', 'mi10MaxRnHrmt': '1331', 'hr1MaxRn': '1.6', 'hr1MaxRnHrmt': '1145', 'sumRnDur': '14.25', 'sumRn': '6.1', 'maxInsWs': '13.7', 'maxInsWsWd': '200', 'maxInsWsHrmt': '1716', 'maxWs': '6.0', 'maxWsWd': '200', 'maxWsHrmt': '1703', 'avgWs': '2.8', 'hr24SumRws': '2406', 'maxWd': '200', 'avgTd': '23.8', 'minRhm': '76', 'minRhmHrmt': '2331', 'avgRhm': '84.4', 'avgPv': '29.5', 'avgPa': '996.7', 'maxPs': '1010.1', 'maxPsHrmt': '0116', 'minPs': '1003.3', 'minPsHrmt': '1832', 'avgPs': '1006.4', 'ssDur': '14.8', 'sumSsHr': '0.0', 'hr1MaxIcsrHrmt': '1200', 'hr1MaxIcsr': '0.86', 'sumGsr': '4.75', 'ddMefs': '', 'ddMefsHrmt': '', 'ddMes': '', 'ddMesHrmt': '', 'sumDpthFhsc': '', 'avgTca': '10.0', 'avgLmac': '7.8', 'avgTs': '26.1', 'minTg': '23.9', 'avgCm5Te': '25.6', 'avgCm10Te': '25.2', 'avgCm20Te': '24.7', 'avgCm30Te': '24.4', 'avgM05Te': '24.2', 'avgM10Te': '21.8', 'avgM15Te': '20.7', 'avgM30Te': '15.6', 'avgM50Te': '13.9', 'sumLrgEv': '2.0', 'sumSmlEv': '2.9', 'n99Rn': '6.1', 'iscs': '{비}0025-{비}{강도0}0300-0435. {비}0620-0650. {비}0750-0845. {비}0950-1020. {비}1110-{비}{강도0}1200-{비}{강도0}1500-1720. {비}1830-1930. {비}2025-{비}{강도0}2100-2125.', 'sumFogDur': ''}, {'stnId': '108', 'stnNm': '서울', 'tm': '2022-06-28', 'avgTa': '26.9', 'minTa': '25.7', 'minTaHrmt': '2337', 'maxTa': '27.9', 'maxTaHrmt': '1001', 'mi10MaxRn': '3.1', 'mi10MaxRnHrmt': '1403', 'hr1MaxRn': '3.2', 'hr1MaxRnHrmt': '1317', 'sumRnDur': '14.08', 'sumRn': '6.3', 'maxInsWs': '20.9', 'maxInsWsWd': '180', 'maxInsWsHrmt': '1305', 'maxWs': '9.9', 'maxWsWd': '200', 'maxWsHrmt': '0549', 'avgWs': '5.8', 'hr24SumRws': '4990', 'maxWd': '200', 'avgTd': '23.4', 'minRhm': '74', 'minRhmHrmt': '1002', 'avgRhm': '81.9', 'avgPv': '28.8', 'avgPa': '992.6', 'maxPs': '1003.9', 'maxPsHrmt': '0002', 'minPs': '1001.2', 'minPsHrmt': '1551', 'avgPs': '1002.2', 'ssDur': '14.8', 'sumSsHr': '0.0', 'hr1MaxIcsrHrmt': '0800', 'hr1MaxIcsr': '0.66', 'sumGsr': '3.33', 'ddMefs': '', 'ddMefsHrmt': '', 'ddMes': '', 'ddMesHrmt': '', 'sumDpthFhsc': '', 'avgTca': '10.0', 'avgLmac': '8.5', 'avgTs': '25.1', 'minTg': '23.6', 'avgCm5Te': '25.2', 'avgCm10Te': '25.0', 'avgCm20Te': '24.5', 'avgCm30Te': '24.3', 'avgM05Te': '24.2', 'avgM10Te': '21.8', 'avgM15Te': '20.7', 'avgM30Te': '15.6', 'avgM50Te': '14.0', 'sumLrgEv': '1.5', 'sumSmlEv': '2.2', 'n99Rn': '16.5', 'iscs': '{비}0035-0050. {비}0115-0150. {비}0220-{비}{강도0}0300-0550. {비}1055-{비}{강도0}1200-1430. {비}1750-{비}{강도0}1800-{비}{강도0}2100-{비}{강도0}2400-', 'sumFogDur': ''}, {'stnId': '108', 'stnNm': '서울', 'tm': '2022-06-29', 'avgTa': '25.1', 'minTa': '24.4', 'minTaHrmt': '2134', 'maxTa': '26.1', 'maxTaHrmt': '1733', 'mi10MaxRn': '6.9', 'mi10MaxRnHrmt': '1212', 'hr1MaxRn': '10.6', 'hr1MaxRnHrmt': '1133', 'sumRnDur': '20.75', 'sumRn': '37.8', 'maxInsWs': '17.3', 'maxInsWsWd': '180', 'maxInsWsHrmt': '0359', 'maxWs': '9.0', 'maxWsWd': '200', 'maxWsHrmt': '0357', 'avgWs': '4.1', 'hr24SumRws': '3500', 'maxWd': '200', 'avgTd': '24.3', 'minRhm': '89', 'minRhmHrmt': '0001', 'avgRhm': '95.5', 'avgPv': '30.4', 'avgPa': '994.5', 'maxPs': '1007.7', 'maxPsHrmt': '2353', 'minPs': '1000.1', 'minPsHrmt': '0343', 'avgPs': '1004.2', 'ssDur': '14.7', 'sumSsHr': '0.0', 'hr1MaxIcsrHrmt': '1400', 'hr1MaxIcsr': '0.64', 'sumGsr': '2.94', 'ddMefs': '', 'ddMefsHrmt': '', 'ddMes': '', 'ddMesHrmt': '', 'sumDpthFhsc': '', 'avgTca': '10.0', 'avgLmac': '7.8', 'avgTs': '25.3', 'minTg': '23.8', 'avgCm5Te': '24.9', 'avgCm10Te': '24.6', 'avgCm20Te': '24.1', 'avgCm30Te': '24.1', 'avgM05Te': '24.1', 'avgM10Te': '21.9', 'avgM15Te': '20.7', 'avgM30Te': '15.7', 'avgM50Te': '14.0', 'sumLrgEv': '0.7', 'sumSmlEv': '1.0', 'n99Rn': '114.7', 'iscs': '-{비}-{비}{강도0}0300-{비}{강도0}0600-0750. {비}0850-{비}{강도0}0900-{비}{강도0}1200-{시정(미만)}{1km}{비}1217-{시정(이상)}{1km}{비}1226-1430. {비}1535-1650. {비}1730-{비}{강도0}1800-1850. {비}1920-{비}{강도1}2100-{비}{강도0}2400- {박무}2140-{박무}{강도0}2400-', 'sumFogDur': ''}, {'stnId': '108', 'stnNm': '서울', 'tm': '2022-06-30', 'avgTa': '22.3', 'minTa': '21.2', 'minTaHrmt': '1739', 'maxTa': '24.5', 'maxTaHrmt': '0001', 'mi10MaxRn': '10.9', 'mi10MaxRnHrmt': '1019', 'hr1MaxRn': '24.0', 'hr1MaxRnHrmt': '0953', 'sumRnDur': '22.83', 'sumRn': '176.2', 'maxInsWs': '9.4', 'maxInsWsWd': '70', 'maxInsWsHrmt': '1648', 'maxWs': '4.6', 'maxWsWd': '50', 'maxWsHrmt': '1656', 'avgWs': '2.3', 'hr24SumRws': '1999', 'maxWd': '50', 'avgTd': '22.1', 'minRhm': '97', 'minRhmHrmt': '0230', 'avgRhm': '99.3', 'avgPv': '26.6', 'avgPa': '1000.6', 'maxPs': '1013.1', 'maxPsHrmt': '2244', 'minPs': '1007.1', 'minPsHrmt': '0003', 'avgPs': '1010.4', 'ssDur': '14.7', 'sumSsHr': '0.0', 'hr1MaxIcsrHrmt': '1100', 'hr1MaxIcsr': '0.5', 'sumGsr': '2.42', 'ddMefs': '', 'ddMefsHrmt': '', 'ddMes': '', 'ddMesHrmt': '', 'sumDpthFhsc': '', 'avgTca': '10.0', 'avgLmac': '6.4', 'avgTs': '22.6', 'minTg': '21.0', 'avgCm5Te': '23.4', 'avgCm10Te': '23.2', 'avgCm20Te': '23.2', 'avgCm30Te': '23.6', 'avgM05Te': '24.3', 'avgM10Te': '22.6', 'avgM15Te': '21.8', 'avgM30Te': '16.6', 'avgM50Te': '14.0', 'sumLrgEv': '0.8', 'sumSmlEv': '1.1', 'n99Rn': '87.9', 'iscs': '-{비}-{비}{강도0}0300-{시정(미만)}{1km}{비}0315-{시정(이상)}{1km}{비}0343-{시정(미만)}{1km}{비}0443-{시정(이상)}{1km}{비}0449-{시정(미만)}{1km}{비}0542-{시정(이상)}{1km}{비}0559-{비}{강도2}0600-{시정(미만)}{1km}{비}0702-{시정(이상)}{1km}{비}0726-{비}{강도1}0900-{시정(미만)}{1km}{비}1018-{시정(미만)}{0.5km}{비}1025-{시정(이상)}{0.5km}{비}1036-{시정(이상)}{1km}{비}1038-{비}{강도0}1200-{비}{강도1}1500-{비}{강도1}1800-{비}{강도0}2100-2250. -{박무}-{박무}{강도1}0300-{박무}{강도2}0600-{박무}{강도1}0900-{박무}{강도0}1200-1350.', 'sumFogDur': ''}, {'stnId': '108', 'stnNm': '서울', 'tm': '2022-07-01', 'avgTa': '26.6', 'minTa': '21.9', 'minTaHrmt': '0001', 'maxTa': '30.9', 'maxTaHrmt': '1536', 'mi10MaxRn': '', 'mi10MaxRnHrmt': '', 'hr1MaxRn': '', 'hr1MaxRnHrmt': '', 'sumRnDur': '', 'sumRn': '', 'maxInsWs': '7.7', 'maxInsWsWd': '270', 'maxInsWsHrmt': '1636', 'maxWs': '4.8', 'maxWsWd': '230', 'maxWsHrmt': '1646', 'avgWs': '2.1', 'hr24SumRws': '1805', 'maxWd': '230', 'avgTd': '23.2', 'minRhm': '61', 'minRhmHrmt': '1547', 'avgRhm': '83.3', 'avgPv': '28.5', 'avgPa': '1004.4', 'maxPs': '1014.9', 'maxPsHrmt': '1055', 'minPs': '1012.9', 'minPsHrmt': '0001', 'avgPs': '1014.1', 'ssDur': '14.7', 'sumSsHr': '7.2', 'hr1MaxIcsrHrmt': '1200', 'hr1MaxIcsr': '2.78', 'sumGsr': '21.53', 'ddMefs': '', 'ddMefsHrmt': '', 'ddMes': '', 'ddMesHrmt': '', 'sumDpthFhsc': '', 'avgTca': '5.6', 'avgLmac': '4.1', 'avgTs': '29.0', 'minTg': '20.6', 'avgCm5Te': '25.5', 'avgCm10Te': '24.8', 'avgCm20Te': '23.8', 'avgCm30Te': '23.5', 'avgM05Te': '23.5', 'avgM10Te': '23.0', 'avgM15Te': '23.0', 'avgM30Te': '20.1', 'avgM50Te': '14.4', 'sumLrgEv': '4.4', 'sumSmlEv': '6.3', 'n99Rn': '', 'iscs': '{박무}0150-0210.', 'sumFogDur': ''}]}, 'pageNo': 1, 'numOfRows': 999, 'totalCount': 182}}}\n"
          ]
        }
      ]
    },
    {
      "cell_type": "markdown",
      "source": [
        "#### JSON 응답 결과를 DataFrame 으로 변환"
      ],
      "metadata": {
        "id": "rG5h_hfq4NZ3"
      }
    },
    {
      "cell_type": "code",
      "source": [
        "df_weather_days=pd.DataFrame(load_json['response']['body']['items']['item'])\n",
        "print(df_weather_days.shape)\n",
        "df_weather_days # 데이터가 너무 많음"
      ],
      "metadata": {
        "colab": {
          "base_uri": "https://localhost:8080/",
          "height": 1000
        },
        "id": "QGErTIIJ3-YC",
        "outputId": "10660777-6acc-4641-8b23-0c33dfef71e4"
      },
      "execution_count": null,
      "outputs": [
        {
          "output_type": "stream",
          "name": "stdout",
          "text": [
            "(182, 62)\n"
          ]
        },
        {
          "output_type": "execute_result",
          "data": {
            "text/plain": [
              "    stnId stnNm          tm avgTa  minTa minTaHrmt maxTa maxTaHrmt mi10MaxRn  \\\n",
              "0     108    서울  2022-01-01  -4.3  -10.2      0710   2.3      1544             \n",
              "1     108    서울  2022-01-02  -1.3   -5.2      2356   3.0      1551             \n",
              "2     108    서울  2022-01-03  -1.9   -8.0      0714   2.5      1542             \n",
              "3     108    서울  2022-01-04  -2.5   -5.6      2400   1.0      1445             \n",
              "4     108    서울  2022-01-05  -2.8   -7.8      0634   1.9      1518             \n",
              "..    ...   ...         ...   ...    ...       ...   ...       ...       ...   \n",
              "177   108    서울  2022-06-27  26.8   25.4      0454  28.1      1107       1.2   \n",
              "178   108    서울  2022-06-28  26.9   25.7      2337  27.9      1001       3.1   \n",
              "179   108    서울  2022-06-29  25.1   24.4      2134  26.1      1733       6.9   \n",
              "180   108    서울  2022-06-30  22.3   21.2      1739  24.5      0001      10.9   \n",
              "181   108    서울  2022-07-01  26.6   21.9      0001  30.9      1536             \n",
              "\n",
              "    mi10MaxRnHrmt  ... avgM05Te avgM10Te avgM15Te avgM30Te avgM50Te sumLrgEv  \\\n",
              "0                  ...      2.7      6.6     10.1     15.1     17.2      1.3   \n",
              "1                  ...      2.7      6.4     10.0     15.0     17.2      1.1   \n",
              "2                  ...      2.5      6.2      9.8     14.9     17.2      1.1   \n",
              "3                  ...      2.5      6.1      9.7     14.8     17.1      1.4   \n",
              "4                  ...      2.4      5.9      9.5     14.7     17.1      1.0   \n",
              "..            ...  ...      ...      ...      ...      ...      ...      ...   \n",
              "177          1331  ...     24.2     21.8     20.7     15.6     13.9      2.0   \n",
              "178          1403  ...     24.2     21.8     20.7     15.6     14.0      1.5   \n",
              "179          1212  ...     24.1     21.9     20.7     15.7     14.0      0.7   \n",
              "180          1019  ...     24.3     22.6     21.8     16.6     14.0      0.8   \n",
              "181                ...     23.5     23.0     23.0     20.1     14.4      4.4   \n",
              "\n",
              "    sumSmlEv  n99Rn                                               iscs  \\\n",
              "0        1.8    0.3                                                      \n",
              "1        1.6         {눈}0305-{눈}{강도0}0600-0715.  {박무}0610-0705. {박무...   \n",
              "2        1.6    0.0                {눈}1815-2055. {눈}2240-{눈}{강도0}2400-   \n",
              "3        2.0                                               -{눈}-0055.    \n",
              "4        1.4                                          {햇무리}0945-1535.    \n",
              "..       ...    ...                                                ...   \n",
              "177      2.9    6.1  {비}0025-{비}{강도0}0300-0435. {비}0620-0650. {비}07...   \n",
              "178      2.2   16.5  {비}0035-0050. {비}0115-0150. {비}0220-{비}{강도0}03...   \n",
              "179      1.0  114.7  -{비}-{비}{강도0}0300-{비}{강도0}0600-0750. {비}0850-{...   \n",
              "180      1.1   87.9  -{비}-{비}{강도0}0300-{시정(미만)}{1km}{비}0315-{시정(이상)...   \n",
              "181      6.3                                            {박무}0150-0210.   \n",
              "\n",
              "    sumFogDur  \n",
              "0              \n",
              "1              \n",
              "2              \n",
              "3              \n",
              "4              \n",
              "..        ...  \n",
              "177            \n",
              "178            \n",
              "179            \n",
              "180            \n",
              "181            \n",
              "\n",
              "[182 rows x 62 columns]"
            ],
            "text/html": [
              "\n",
              "  <div id=\"df-5949abee-1c71-4dcb-b4c9-076da3f7e792\">\n",
              "    <div class=\"colab-df-container\">\n",
              "      <div>\n",
              "<style scoped>\n",
              "    .dataframe tbody tr th:only-of-type {\n",
              "        vertical-align: middle;\n",
              "    }\n",
              "\n",
              "    .dataframe tbody tr th {\n",
              "        vertical-align: top;\n",
              "    }\n",
              "\n",
              "    .dataframe thead th {\n",
              "        text-align: right;\n",
              "    }\n",
              "</style>\n",
              "<table border=\"1\" class=\"dataframe\">\n",
              "  <thead>\n",
              "    <tr style=\"text-align: right;\">\n",
              "      <th></th>\n",
              "      <th>stnId</th>\n",
              "      <th>stnNm</th>\n",
              "      <th>tm</th>\n",
              "      <th>avgTa</th>\n",
              "      <th>minTa</th>\n",
              "      <th>minTaHrmt</th>\n",
              "      <th>maxTa</th>\n",
              "      <th>maxTaHrmt</th>\n",
              "      <th>mi10MaxRn</th>\n",
              "      <th>mi10MaxRnHrmt</th>\n",
              "      <th>...</th>\n",
              "      <th>avgM05Te</th>\n",
              "      <th>avgM10Te</th>\n",
              "      <th>avgM15Te</th>\n",
              "      <th>avgM30Te</th>\n",
              "      <th>avgM50Te</th>\n",
              "      <th>sumLrgEv</th>\n",
              "      <th>sumSmlEv</th>\n",
              "      <th>n99Rn</th>\n",
              "      <th>iscs</th>\n",
              "      <th>sumFogDur</th>\n",
              "    </tr>\n",
              "  </thead>\n",
              "  <tbody>\n",
              "    <tr>\n",
              "      <th>0</th>\n",
              "      <td>108</td>\n",
              "      <td>서울</td>\n",
              "      <td>2022-01-01</td>\n",
              "      <td>-4.3</td>\n",
              "      <td>-10.2</td>\n",
              "      <td>0710</td>\n",
              "      <td>2.3</td>\n",
              "      <td>1544</td>\n",
              "      <td></td>\n",
              "      <td></td>\n",
              "      <td>...</td>\n",
              "      <td>2.7</td>\n",
              "      <td>6.6</td>\n",
              "      <td>10.1</td>\n",
              "      <td>15.1</td>\n",
              "      <td>17.2</td>\n",
              "      <td>1.3</td>\n",
              "      <td>1.8</td>\n",
              "      <td>0.3</td>\n",
              "      <td></td>\n",
              "      <td></td>\n",
              "    </tr>\n",
              "    <tr>\n",
              "      <th>1</th>\n",
              "      <td>108</td>\n",
              "      <td>서울</td>\n",
              "      <td>2022-01-02</td>\n",
              "      <td>-1.3</td>\n",
              "      <td>-5.2</td>\n",
              "      <td>2356</td>\n",
              "      <td>3.0</td>\n",
              "      <td>1551</td>\n",
              "      <td></td>\n",
              "      <td></td>\n",
              "      <td>...</td>\n",
              "      <td>2.7</td>\n",
              "      <td>6.4</td>\n",
              "      <td>10.0</td>\n",
              "      <td>15.0</td>\n",
              "      <td>17.2</td>\n",
              "      <td>1.1</td>\n",
              "      <td>1.6</td>\n",
              "      <td></td>\n",
              "      <td>{눈}0305-{눈}{강도0}0600-0715.  {박무}0610-0705. {박무...</td>\n",
              "      <td></td>\n",
              "    </tr>\n",
              "    <tr>\n",
              "      <th>2</th>\n",
              "      <td>108</td>\n",
              "      <td>서울</td>\n",
              "      <td>2022-01-03</td>\n",
              "      <td>-1.9</td>\n",
              "      <td>-8.0</td>\n",
              "      <td>0714</td>\n",
              "      <td>2.5</td>\n",
              "      <td>1542</td>\n",
              "      <td></td>\n",
              "      <td></td>\n",
              "      <td>...</td>\n",
              "      <td>2.5</td>\n",
              "      <td>6.2</td>\n",
              "      <td>9.8</td>\n",
              "      <td>14.9</td>\n",
              "      <td>17.2</td>\n",
              "      <td>1.1</td>\n",
              "      <td>1.6</td>\n",
              "      <td>0.0</td>\n",
              "      <td>{눈}1815-2055. {눈}2240-{눈}{강도0}2400-</td>\n",
              "      <td></td>\n",
              "    </tr>\n",
              "    <tr>\n",
              "      <th>3</th>\n",
              "      <td>108</td>\n",
              "      <td>서울</td>\n",
              "      <td>2022-01-04</td>\n",
              "      <td>-2.5</td>\n",
              "      <td>-5.6</td>\n",
              "      <td>2400</td>\n",
              "      <td>1.0</td>\n",
              "      <td>1445</td>\n",
              "      <td></td>\n",
              "      <td></td>\n",
              "      <td>...</td>\n",
              "      <td>2.5</td>\n",
              "      <td>6.1</td>\n",
              "      <td>9.7</td>\n",
              "      <td>14.8</td>\n",
              "      <td>17.1</td>\n",
              "      <td>1.4</td>\n",
              "      <td>2.0</td>\n",
              "      <td></td>\n",
              "      <td>-{눈}-0055.</td>\n",
              "      <td></td>\n",
              "    </tr>\n",
              "    <tr>\n",
              "      <th>4</th>\n",
              "      <td>108</td>\n",
              "      <td>서울</td>\n",
              "      <td>2022-01-05</td>\n",
              "      <td>-2.8</td>\n",
              "      <td>-7.8</td>\n",
              "      <td>0634</td>\n",
              "      <td>1.9</td>\n",
              "      <td>1518</td>\n",
              "      <td></td>\n",
              "      <td></td>\n",
              "      <td>...</td>\n",
              "      <td>2.4</td>\n",
              "      <td>5.9</td>\n",
              "      <td>9.5</td>\n",
              "      <td>14.7</td>\n",
              "      <td>17.1</td>\n",
              "      <td>1.0</td>\n",
              "      <td>1.4</td>\n",
              "      <td></td>\n",
              "      <td>{햇무리}0945-1535.</td>\n",
              "      <td></td>\n",
              "    </tr>\n",
              "    <tr>\n",
              "      <th>...</th>\n",
              "      <td>...</td>\n",
              "      <td>...</td>\n",
              "      <td>...</td>\n",
              "      <td>...</td>\n",
              "      <td>...</td>\n",
              "      <td>...</td>\n",
              "      <td>...</td>\n",
              "      <td>...</td>\n",
              "      <td>...</td>\n",
              "      <td>...</td>\n",
              "      <td>...</td>\n",
              "      <td>...</td>\n",
              "      <td>...</td>\n",
              "      <td>...</td>\n",
              "      <td>...</td>\n",
              "      <td>...</td>\n",
              "      <td>...</td>\n",
              "      <td>...</td>\n",
              "      <td>...</td>\n",
              "      <td>...</td>\n",
              "      <td>...</td>\n",
              "    </tr>\n",
              "    <tr>\n",
              "      <th>177</th>\n",
              "      <td>108</td>\n",
              "      <td>서울</td>\n",
              "      <td>2022-06-27</td>\n",
              "      <td>26.8</td>\n",
              "      <td>25.4</td>\n",
              "      <td>0454</td>\n",
              "      <td>28.1</td>\n",
              "      <td>1107</td>\n",
              "      <td>1.2</td>\n",
              "      <td>1331</td>\n",
              "      <td>...</td>\n",
              "      <td>24.2</td>\n",
              "      <td>21.8</td>\n",
              "      <td>20.7</td>\n",
              "      <td>15.6</td>\n",
              "      <td>13.9</td>\n",
              "      <td>2.0</td>\n",
              "      <td>2.9</td>\n",
              "      <td>6.1</td>\n",
              "      <td>{비}0025-{비}{강도0}0300-0435. {비}0620-0650. {비}07...</td>\n",
              "      <td></td>\n",
              "    </tr>\n",
              "    <tr>\n",
              "      <th>178</th>\n",
              "      <td>108</td>\n",
              "      <td>서울</td>\n",
              "      <td>2022-06-28</td>\n",
              "      <td>26.9</td>\n",
              "      <td>25.7</td>\n",
              "      <td>2337</td>\n",
              "      <td>27.9</td>\n",
              "      <td>1001</td>\n",
              "      <td>3.1</td>\n",
              "      <td>1403</td>\n",
              "      <td>...</td>\n",
              "      <td>24.2</td>\n",
              "      <td>21.8</td>\n",
              "      <td>20.7</td>\n",
              "      <td>15.6</td>\n",
              "      <td>14.0</td>\n",
              "      <td>1.5</td>\n",
              "      <td>2.2</td>\n",
              "      <td>16.5</td>\n",
              "      <td>{비}0035-0050. {비}0115-0150. {비}0220-{비}{강도0}03...</td>\n",
              "      <td></td>\n",
              "    </tr>\n",
              "    <tr>\n",
              "      <th>179</th>\n",
              "      <td>108</td>\n",
              "      <td>서울</td>\n",
              "      <td>2022-06-29</td>\n",
              "      <td>25.1</td>\n",
              "      <td>24.4</td>\n",
              "      <td>2134</td>\n",
              "      <td>26.1</td>\n",
              "      <td>1733</td>\n",
              "      <td>6.9</td>\n",
              "      <td>1212</td>\n",
              "      <td>...</td>\n",
              "      <td>24.1</td>\n",
              "      <td>21.9</td>\n",
              "      <td>20.7</td>\n",
              "      <td>15.7</td>\n",
              "      <td>14.0</td>\n",
              "      <td>0.7</td>\n",
              "      <td>1.0</td>\n",
              "      <td>114.7</td>\n",
              "      <td>-{비}-{비}{강도0}0300-{비}{강도0}0600-0750. {비}0850-{...</td>\n",
              "      <td></td>\n",
              "    </tr>\n",
              "    <tr>\n",
              "      <th>180</th>\n",
              "      <td>108</td>\n",
              "      <td>서울</td>\n",
              "      <td>2022-06-30</td>\n",
              "      <td>22.3</td>\n",
              "      <td>21.2</td>\n",
              "      <td>1739</td>\n",
              "      <td>24.5</td>\n",
              "      <td>0001</td>\n",
              "      <td>10.9</td>\n",
              "      <td>1019</td>\n",
              "      <td>...</td>\n",
              "      <td>24.3</td>\n",
              "      <td>22.6</td>\n",
              "      <td>21.8</td>\n",
              "      <td>16.6</td>\n",
              "      <td>14.0</td>\n",
              "      <td>0.8</td>\n",
              "      <td>1.1</td>\n",
              "      <td>87.9</td>\n",
              "      <td>-{비}-{비}{강도0}0300-{시정(미만)}{1km}{비}0315-{시정(이상)...</td>\n",
              "      <td></td>\n",
              "    </tr>\n",
              "    <tr>\n",
              "      <th>181</th>\n",
              "      <td>108</td>\n",
              "      <td>서울</td>\n",
              "      <td>2022-07-01</td>\n",
              "      <td>26.6</td>\n",
              "      <td>21.9</td>\n",
              "      <td>0001</td>\n",
              "      <td>30.9</td>\n",
              "      <td>1536</td>\n",
              "      <td></td>\n",
              "      <td></td>\n",
              "      <td>...</td>\n",
              "      <td>23.5</td>\n",
              "      <td>23.0</td>\n",
              "      <td>23.0</td>\n",
              "      <td>20.1</td>\n",
              "      <td>14.4</td>\n",
              "      <td>4.4</td>\n",
              "      <td>6.3</td>\n",
              "      <td></td>\n",
              "      <td>{박무}0150-0210.</td>\n",
              "      <td></td>\n",
              "    </tr>\n",
              "  </tbody>\n",
              "</table>\n",
              "<p>182 rows × 62 columns</p>\n",
              "</div>\n",
              "      <button class=\"colab-df-convert\" onclick=\"convertToInteractive('df-5949abee-1c71-4dcb-b4c9-076da3f7e792')\"\n",
              "              title=\"Convert this dataframe to an interactive table.\"\n",
              "              style=\"display:none;\">\n",
              "        \n",
              "  <svg xmlns=\"http://www.w3.org/2000/svg\" height=\"24px\"viewBox=\"0 0 24 24\"\n",
              "       width=\"24px\">\n",
              "    <path d=\"M0 0h24v24H0V0z\" fill=\"none\"/>\n",
              "    <path d=\"M18.56 5.44l.94 2.06.94-2.06 2.06-.94-2.06-.94-.94-2.06-.94 2.06-2.06.94zm-11 1L8.5 8.5l.94-2.06 2.06-.94-2.06-.94L8.5 2.5l-.94 2.06-2.06.94zm10 10l.94 2.06.94-2.06 2.06-.94-2.06-.94-.94-2.06-.94 2.06-2.06.94z\"/><path d=\"M17.41 7.96l-1.37-1.37c-.4-.4-.92-.59-1.43-.59-.52 0-1.04.2-1.43.59L10.3 9.45l-7.72 7.72c-.78.78-.78 2.05 0 2.83L4 21.41c.39.39.9.59 1.41.59.51 0 1.02-.2 1.41-.59l7.78-7.78 2.81-2.81c.8-.78.8-2.07 0-2.86zM5.41 20L4 18.59l7.72-7.72 1.47 1.35L5.41 20z\"/>\n",
              "  </svg>\n",
              "      </button>\n",
              "      \n",
              "  <style>\n",
              "    .colab-df-container {\n",
              "      display:flex;\n",
              "      flex-wrap:wrap;\n",
              "      gap: 12px;\n",
              "    }\n",
              "\n",
              "    .colab-df-convert {\n",
              "      background-color: #E8F0FE;\n",
              "      border: none;\n",
              "      border-radius: 50%;\n",
              "      cursor: pointer;\n",
              "      display: none;\n",
              "      fill: #1967D2;\n",
              "      height: 32px;\n",
              "      padding: 0 0 0 0;\n",
              "      width: 32px;\n",
              "    }\n",
              "\n",
              "    .colab-df-convert:hover {\n",
              "      background-color: #E2EBFA;\n",
              "      box-shadow: 0px 1px 2px rgba(60, 64, 67, 0.3), 0px 1px 3px 1px rgba(60, 64, 67, 0.15);\n",
              "      fill: #174EA6;\n",
              "    }\n",
              "\n",
              "    [theme=dark] .colab-df-convert {\n",
              "      background-color: #3B4455;\n",
              "      fill: #D2E3FC;\n",
              "    }\n",
              "\n",
              "    [theme=dark] .colab-df-convert:hover {\n",
              "      background-color: #434B5C;\n",
              "      box-shadow: 0px 1px 3px 1px rgba(0, 0, 0, 0.15);\n",
              "      filter: drop-shadow(0px 1px 2px rgba(0, 0, 0, 0.3));\n",
              "      fill: #FFFFFF;\n",
              "    }\n",
              "  </style>\n",
              "\n",
              "      <script>\n",
              "        const buttonEl =\n",
              "          document.querySelector('#df-5949abee-1c71-4dcb-b4c9-076da3f7e792 button.colab-df-convert');\n",
              "        buttonEl.style.display =\n",
              "          google.colab.kernel.accessAllowed ? 'block' : 'none';\n",
              "\n",
              "        async function convertToInteractive(key) {\n",
              "          const element = document.querySelector('#df-5949abee-1c71-4dcb-b4c9-076da3f7e792');\n",
              "          const dataTable =\n",
              "            await google.colab.kernel.invokeFunction('convertToInteractive',\n",
              "                                                     [key], {});\n",
              "          if (!dataTable) return;\n",
              "\n",
              "          const docLinkHtml = 'Like what you see? Visit the ' +\n",
              "            '<a target=\"_blank\" href=https://colab.research.google.com/notebooks/data_table.ipynb>data table notebook</a>'\n",
              "            + ' to learn more about interactive tables.';\n",
              "          element.innerHTML = '';\n",
              "          dataTable['output_type'] = 'display_data';\n",
              "          await google.colab.output.renderOutput(dataTable, element);\n",
              "          const docLink = document.createElement('div');\n",
              "          docLink.innerHTML = docLinkHtml;\n",
              "          element.appendChild(docLink);\n",
              "        }\n",
              "      </script>\n",
              "    </div>\n",
              "  </div>\n",
              "  "
            ]
          },
          "metadata": {},
          "execution_count": 23
        }
      ]
    },
    {
      "cell_type": "markdown",
      "source": [
        "#### 관측 날짜와 평균 온도만 슬라이싱"
      ],
      "metadata": {
        "id": "GRHY4Abh4grI"
      }
    },
    {
      "cell_type": "code",
      "source": [
        "df_avgTa=pd.DataFrame(df_weather_days[['tm','avgTa']],copy=True)\n",
        "df_avgTa"
      ],
      "metadata": {
        "colab": {
          "base_uri": "https://localhost:8080/",
          "height": 424
        },
        "id": "5Qvd0GhP4j38",
        "outputId": "668f671d-3c0e-4495-fce7-6ce968e6acf4"
      },
      "execution_count": null,
      "outputs": [
        {
          "output_type": "execute_result",
          "data": {
            "text/plain": [
              "             tm avgTa\n",
              "0    2022-01-01  -4.3\n",
              "1    2022-01-02  -1.3\n",
              "2    2022-01-03  -1.9\n",
              "3    2022-01-04  -2.5\n",
              "4    2022-01-05  -2.8\n",
              "..          ...   ...\n",
              "177  2022-06-27  26.8\n",
              "178  2022-06-28  26.9\n",
              "179  2022-06-29  25.1\n",
              "180  2022-06-30  22.3\n",
              "181  2022-07-01  26.6\n",
              "\n",
              "[182 rows x 2 columns]"
            ],
            "text/html": [
              "\n",
              "  <div id=\"df-39484553-7672-4d4e-b135-8bcabe93b90b\">\n",
              "    <div class=\"colab-df-container\">\n",
              "      <div>\n",
              "<style scoped>\n",
              "    .dataframe tbody tr th:only-of-type {\n",
              "        vertical-align: middle;\n",
              "    }\n",
              "\n",
              "    .dataframe tbody tr th {\n",
              "        vertical-align: top;\n",
              "    }\n",
              "\n",
              "    .dataframe thead th {\n",
              "        text-align: right;\n",
              "    }\n",
              "</style>\n",
              "<table border=\"1\" class=\"dataframe\">\n",
              "  <thead>\n",
              "    <tr style=\"text-align: right;\">\n",
              "      <th></th>\n",
              "      <th>tm</th>\n",
              "      <th>avgTa</th>\n",
              "    </tr>\n",
              "  </thead>\n",
              "  <tbody>\n",
              "    <tr>\n",
              "      <th>0</th>\n",
              "      <td>2022-01-01</td>\n",
              "      <td>-4.3</td>\n",
              "    </tr>\n",
              "    <tr>\n",
              "      <th>1</th>\n",
              "      <td>2022-01-02</td>\n",
              "      <td>-1.3</td>\n",
              "    </tr>\n",
              "    <tr>\n",
              "      <th>2</th>\n",
              "      <td>2022-01-03</td>\n",
              "      <td>-1.9</td>\n",
              "    </tr>\n",
              "    <tr>\n",
              "      <th>3</th>\n",
              "      <td>2022-01-04</td>\n",
              "      <td>-2.5</td>\n",
              "    </tr>\n",
              "    <tr>\n",
              "      <th>4</th>\n",
              "      <td>2022-01-05</td>\n",
              "      <td>-2.8</td>\n",
              "    </tr>\n",
              "    <tr>\n",
              "      <th>...</th>\n",
              "      <td>...</td>\n",
              "      <td>...</td>\n",
              "    </tr>\n",
              "    <tr>\n",
              "      <th>177</th>\n",
              "      <td>2022-06-27</td>\n",
              "      <td>26.8</td>\n",
              "    </tr>\n",
              "    <tr>\n",
              "      <th>178</th>\n",
              "      <td>2022-06-28</td>\n",
              "      <td>26.9</td>\n",
              "    </tr>\n",
              "    <tr>\n",
              "      <th>179</th>\n",
              "      <td>2022-06-29</td>\n",
              "      <td>25.1</td>\n",
              "    </tr>\n",
              "    <tr>\n",
              "      <th>180</th>\n",
              "      <td>2022-06-30</td>\n",
              "      <td>22.3</td>\n",
              "    </tr>\n",
              "    <tr>\n",
              "      <th>181</th>\n",
              "      <td>2022-07-01</td>\n",
              "      <td>26.6</td>\n",
              "    </tr>\n",
              "  </tbody>\n",
              "</table>\n",
              "<p>182 rows × 2 columns</p>\n",
              "</div>\n",
              "      <button class=\"colab-df-convert\" onclick=\"convertToInteractive('df-39484553-7672-4d4e-b135-8bcabe93b90b')\"\n",
              "              title=\"Convert this dataframe to an interactive table.\"\n",
              "              style=\"display:none;\">\n",
              "        \n",
              "  <svg xmlns=\"http://www.w3.org/2000/svg\" height=\"24px\"viewBox=\"0 0 24 24\"\n",
              "       width=\"24px\">\n",
              "    <path d=\"M0 0h24v24H0V0z\" fill=\"none\"/>\n",
              "    <path d=\"M18.56 5.44l.94 2.06.94-2.06 2.06-.94-2.06-.94-.94-2.06-.94 2.06-2.06.94zm-11 1L8.5 8.5l.94-2.06 2.06-.94-2.06-.94L8.5 2.5l-.94 2.06-2.06.94zm10 10l.94 2.06.94-2.06 2.06-.94-2.06-.94-.94-2.06-.94 2.06-2.06.94z\"/><path d=\"M17.41 7.96l-1.37-1.37c-.4-.4-.92-.59-1.43-.59-.52 0-1.04.2-1.43.59L10.3 9.45l-7.72 7.72c-.78.78-.78 2.05 0 2.83L4 21.41c.39.39.9.59 1.41.59.51 0 1.02-.2 1.41-.59l7.78-7.78 2.81-2.81c.8-.78.8-2.07 0-2.86zM5.41 20L4 18.59l7.72-7.72 1.47 1.35L5.41 20z\"/>\n",
              "  </svg>\n",
              "      </button>\n",
              "      \n",
              "  <style>\n",
              "    .colab-df-container {\n",
              "      display:flex;\n",
              "      flex-wrap:wrap;\n",
              "      gap: 12px;\n",
              "    }\n",
              "\n",
              "    .colab-df-convert {\n",
              "      background-color: #E8F0FE;\n",
              "      border: none;\n",
              "      border-radius: 50%;\n",
              "      cursor: pointer;\n",
              "      display: none;\n",
              "      fill: #1967D2;\n",
              "      height: 32px;\n",
              "      padding: 0 0 0 0;\n",
              "      width: 32px;\n",
              "    }\n",
              "\n",
              "    .colab-df-convert:hover {\n",
              "      background-color: #E2EBFA;\n",
              "      box-shadow: 0px 1px 2px rgba(60, 64, 67, 0.3), 0px 1px 3px 1px rgba(60, 64, 67, 0.15);\n",
              "      fill: #174EA6;\n",
              "    }\n",
              "\n",
              "    [theme=dark] .colab-df-convert {\n",
              "      background-color: #3B4455;\n",
              "      fill: #D2E3FC;\n",
              "    }\n",
              "\n",
              "    [theme=dark] .colab-df-convert:hover {\n",
              "      background-color: #434B5C;\n",
              "      box-shadow: 0px 1px 3px 1px rgba(0, 0, 0, 0.15);\n",
              "      filter: drop-shadow(0px 1px 2px rgba(0, 0, 0, 0.3));\n",
              "      fill: #FFFFFF;\n",
              "    }\n",
              "  </style>\n",
              "\n",
              "      <script>\n",
              "        const buttonEl =\n",
              "          document.querySelector('#df-39484553-7672-4d4e-b135-8bcabe93b90b button.colab-df-convert');\n",
              "        buttonEl.style.display =\n",
              "          google.colab.kernel.accessAllowed ? 'block' : 'none';\n",
              "\n",
              "        async function convertToInteractive(key) {\n",
              "          const element = document.querySelector('#df-39484553-7672-4d4e-b135-8bcabe93b90b');\n",
              "          const dataTable =\n",
              "            await google.colab.kernel.invokeFunction('convertToInteractive',\n",
              "                                                     [key], {});\n",
              "          if (!dataTable) return;\n",
              "\n",
              "          const docLinkHtml = 'Like what you see? Visit the ' +\n",
              "            '<a target=\"_blank\" href=https://colab.research.google.com/notebooks/data_table.ipynb>data table notebook</a>'\n",
              "            + ' to learn more about interactive tables.';\n",
              "          element.innerHTML = '';\n",
              "          dataTable['output_type'] = 'display_data';\n",
              "          await google.colab.output.renderOutput(dataTable, element);\n",
              "          const docLink = document.createElement('div');\n",
              "          docLink.innerHTML = docLinkHtml;\n",
              "          element.appendChild(docLink);\n",
              "        }\n",
              "      </script>\n",
              "    </div>\n",
              "  </div>\n",
              "  "
            ]
          },
          "metadata": {},
          "execution_count": 24
        }
      ]
    },
    {
      "cell_type": "markdown",
      "source": [
        "#### 날짜 정보인 열 tm을 index 정보로 변경"
      ],
      "metadata": {
        "id": "3fF6M3bo5Wp5"
      }
    },
    {
      "cell_type": "code",
      "source": [
        "df_avgTa.set_index('tm',inplace=True) # im을 index로 사용\n",
        "df_avgTa"
      ],
      "metadata": {
        "colab": {
          "base_uri": "https://localhost:8080/",
          "height": 455
        },
        "id": "uaFvwo735XT8",
        "outputId": "321e98a1-b70f-4ad0-a57b-a28016fbcb38"
      },
      "execution_count": null,
      "outputs": [
        {
          "output_type": "execute_result",
          "data": {
            "text/plain": [
              "           avgTa\n",
              "tm              \n",
              "2022-01-01  -4.3\n",
              "2022-01-02  -1.3\n",
              "2022-01-03  -1.9\n",
              "2022-01-04  -2.5\n",
              "2022-01-05  -2.8\n",
              "...          ...\n",
              "2022-06-27  26.8\n",
              "2022-06-28  26.9\n",
              "2022-06-29  25.1\n",
              "2022-06-30  22.3\n",
              "2022-07-01  26.6\n",
              "\n",
              "[182 rows x 1 columns]"
            ],
            "text/html": [
              "\n",
              "  <div id=\"df-f7570025-c88f-447e-8586-5f1d521448da\">\n",
              "    <div class=\"colab-df-container\">\n",
              "      <div>\n",
              "<style scoped>\n",
              "    .dataframe tbody tr th:only-of-type {\n",
              "        vertical-align: middle;\n",
              "    }\n",
              "\n",
              "    .dataframe tbody tr th {\n",
              "        vertical-align: top;\n",
              "    }\n",
              "\n",
              "    .dataframe thead th {\n",
              "        text-align: right;\n",
              "    }\n",
              "</style>\n",
              "<table border=\"1\" class=\"dataframe\">\n",
              "  <thead>\n",
              "    <tr style=\"text-align: right;\">\n",
              "      <th></th>\n",
              "      <th>avgTa</th>\n",
              "    </tr>\n",
              "    <tr>\n",
              "      <th>tm</th>\n",
              "      <th></th>\n",
              "    </tr>\n",
              "  </thead>\n",
              "  <tbody>\n",
              "    <tr>\n",
              "      <th>2022-01-01</th>\n",
              "      <td>-4.3</td>\n",
              "    </tr>\n",
              "    <tr>\n",
              "      <th>2022-01-02</th>\n",
              "      <td>-1.3</td>\n",
              "    </tr>\n",
              "    <tr>\n",
              "      <th>2022-01-03</th>\n",
              "      <td>-1.9</td>\n",
              "    </tr>\n",
              "    <tr>\n",
              "      <th>2022-01-04</th>\n",
              "      <td>-2.5</td>\n",
              "    </tr>\n",
              "    <tr>\n",
              "      <th>2022-01-05</th>\n",
              "      <td>-2.8</td>\n",
              "    </tr>\n",
              "    <tr>\n",
              "      <th>...</th>\n",
              "      <td>...</td>\n",
              "    </tr>\n",
              "    <tr>\n",
              "      <th>2022-06-27</th>\n",
              "      <td>26.8</td>\n",
              "    </tr>\n",
              "    <tr>\n",
              "      <th>2022-06-28</th>\n",
              "      <td>26.9</td>\n",
              "    </tr>\n",
              "    <tr>\n",
              "      <th>2022-06-29</th>\n",
              "      <td>25.1</td>\n",
              "    </tr>\n",
              "    <tr>\n",
              "      <th>2022-06-30</th>\n",
              "      <td>22.3</td>\n",
              "    </tr>\n",
              "    <tr>\n",
              "      <th>2022-07-01</th>\n",
              "      <td>26.6</td>\n",
              "    </tr>\n",
              "  </tbody>\n",
              "</table>\n",
              "<p>182 rows × 1 columns</p>\n",
              "</div>\n",
              "      <button class=\"colab-df-convert\" onclick=\"convertToInteractive('df-f7570025-c88f-447e-8586-5f1d521448da')\"\n",
              "              title=\"Convert this dataframe to an interactive table.\"\n",
              "              style=\"display:none;\">\n",
              "        \n",
              "  <svg xmlns=\"http://www.w3.org/2000/svg\" height=\"24px\"viewBox=\"0 0 24 24\"\n",
              "       width=\"24px\">\n",
              "    <path d=\"M0 0h24v24H0V0z\" fill=\"none\"/>\n",
              "    <path d=\"M18.56 5.44l.94 2.06.94-2.06 2.06-.94-2.06-.94-.94-2.06-.94 2.06-2.06.94zm-11 1L8.5 8.5l.94-2.06 2.06-.94-2.06-.94L8.5 2.5l-.94 2.06-2.06.94zm10 10l.94 2.06.94-2.06 2.06-.94-2.06-.94-.94-2.06-.94 2.06-2.06.94z\"/><path d=\"M17.41 7.96l-1.37-1.37c-.4-.4-.92-.59-1.43-.59-.52 0-1.04.2-1.43.59L10.3 9.45l-7.72 7.72c-.78.78-.78 2.05 0 2.83L4 21.41c.39.39.9.59 1.41.59.51 0 1.02-.2 1.41-.59l7.78-7.78 2.81-2.81c.8-.78.8-2.07 0-2.86zM5.41 20L4 18.59l7.72-7.72 1.47 1.35L5.41 20z\"/>\n",
              "  </svg>\n",
              "      </button>\n",
              "      \n",
              "  <style>\n",
              "    .colab-df-container {\n",
              "      display:flex;\n",
              "      flex-wrap:wrap;\n",
              "      gap: 12px;\n",
              "    }\n",
              "\n",
              "    .colab-df-convert {\n",
              "      background-color: #E8F0FE;\n",
              "      border: none;\n",
              "      border-radius: 50%;\n",
              "      cursor: pointer;\n",
              "      display: none;\n",
              "      fill: #1967D2;\n",
              "      height: 32px;\n",
              "      padding: 0 0 0 0;\n",
              "      width: 32px;\n",
              "    }\n",
              "\n",
              "    .colab-df-convert:hover {\n",
              "      background-color: #E2EBFA;\n",
              "      box-shadow: 0px 1px 2px rgba(60, 64, 67, 0.3), 0px 1px 3px 1px rgba(60, 64, 67, 0.15);\n",
              "      fill: #174EA6;\n",
              "    }\n",
              "\n",
              "    [theme=dark] .colab-df-convert {\n",
              "      background-color: #3B4455;\n",
              "      fill: #D2E3FC;\n",
              "    }\n",
              "\n",
              "    [theme=dark] .colab-df-convert:hover {\n",
              "      background-color: #434B5C;\n",
              "      box-shadow: 0px 1px 3px 1px rgba(0, 0, 0, 0.15);\n",
              "      filter: drop-shadow(0px 1px 2px rgba(0, 0, 0, 0.3));\n",
              "      fill: #FFFFFF;\n",
              "    }\n",
              "  </style>\n",
              "\n",
              "      <script>\n",
              "        const buttonEl =\n",
              "          document.querySelector('#df-f7570025-c88f-447e-8586-5f1d521448da button.colab-df-convert');\n",
              "        buttonEl.style.display =\n",
              "          google.colab.kernel.accessAllowed ? 'block' : 'none';\n",
              "\n",
              "        async function convertToInteractive(key) {\n",
              "          const element = document.querySelector('#df-f7570025-c88f-447e-8586-5f1d521448da');\n",
              "          const dataTable =\n",
              "            await google.colab.kernel.invokeFunction('convertToInteractive',\n",
              "                                                     [key], {});\n",
              "          if (!dataTable) return;\n",
              "\n",
              "          const docLinkHtml = 'Like what you see? Visit the ' +\n",
              "            '<a target=\"_blank\" href=https://colab.research.google.com/notebooks/data_table.ipynb>data table notebook</a>'\n",
              "            + ' to learn more about interactive tables.';\n",
              "          element.innerHTML = '';\n",
              "          dataTable['output_type'] = 'display_data';\n",
              "          await google.colab.output.renderOutput(dataTable, element);\n",
              "          const docLink = document.createElement('div');\n",
              "          docLink.innerHTML = docLinkHtml;\n",
              "          element.appendChild(docLink);\n",
              "        }\n",
              "      </script>\n",
              "    </div>\n",
              "  </div>\n",
              "  "
            ]
          },
          "metadata": {},
          "execution_count": 25
        }
      ]
    },
    {
      "cell_type": "markdown",
      "source": [
        "#### 평균 온도 열의 자료형 변환"
      ],
      "metadata": {
        "id": "BtTCUQp15OS4"
      }
    },
    {
      "cell_type": "code",
      "source": [
        "df_avgTa['avgTa'].dtype # avgTa 자료형: object -> 문자열 취급"
      ],
      "metadata": {
        "colab": {
          "base_uri": "https://localhost:8080/"
        },
        "id": "GGIWjOjn5Nlb",
        "outputId": "85cef42b-7ed8-422d-9526-d428bddd7b28"
      },
      "execution_count": null,
      "outputs": [
        {
          "output_type": "execute_result",
          "data": {
            "text/plain": [
              "dtype('O')"
            ]
          },
          "metadata": {},
          "execution_count": 26
        }
      ]
    },
    {
      "cell_type": "markdown",
      "source": [
        "- 그래프로 그릴 때 문자형은 불편하므로, 자료형을 실수형으로 변환\n",
        "- 변환 전, 결측치가 있는지 확인"
      ],
      "metadata": {
        "id": "vUFJJsaN7M4F"
      }
    },
    {
      "cell_type": "code",
      "source": [
        "df_avgTa['avgTa'].isna().sum() # sum을 했을 때 0이 나와야 결측치가 없는 것."
      ],
      "metadata": {
        "colab": {
          "base_uri": "https://localhost:8080/"
        },
        "id": "w-gZf6Z45vxv",
        "outputId": "593326d4-7725-4d7a-80aa-fb49424486a1"
      },
      "execution_count": null,
      "outputs": [
        {
          "output_type": "execute_result",
          "data": {
            "text/plain": [
              "0"
            ]
          },
          "metadata": {},
          "execution_count": 27
        }
      ]
    },
    {
      "cell_type": "code",
      "source": [
        "df_avgTa['avgTa']=df_avgTa['avgTa'].astype('float64') # float64로 데이터 형 변환.\n",
        "df_avgTa"
      ],
      "metadata": {
        "colab": {
          "base_uri": "https://localhost:8080/",
          "height": 455
        },
        "id": "MoOI2PDx62Yp",
        "outputId": "348cdd09-d4be-4e52-fe45-bc92b77c1fbe"
      },
      "execution_count": null,
      "outputs": [
        {
          "output_type": "execute_result",
          "data": {
            "text/plain": [
              "            avgTa\n",
              "tm               \n",
              "2022-01-01   -4.3\n",
              "2022-01-02   -1.3\n",
              "2022-01-03   -1.9\n",
              "2022-01-04   -2.5\n",
              "2022-01-05   -2.8\n",
              "...           ...\n",
              "2022-06-27   26.8\n",
              "2022-06-28   26.9\n",
              "2022-06-29   25.1\n",
              "2022-06-30   22.3\n",
              "2022-07-01   26.6\n",
              "\n",
              "[182 rows x 1 columns]"
            ],
            "text/html": [
              "\n",
              "  <div id=\"df-82f1ed96-e291-4639-991d-9f17fd7c14a2\">\n",
              "    <div class=\"colab-df-container\">\n",
              "      <div>\n",
              "<style scoped>\n",
              "    .dataframe tbody tr th:only-of-type {\n",
              "        vertical-align: middle;\n",
              "    }\n",
              "\n",
              "    .dataframe tbody tr th {\n",
              "        vertical-align: top;\n",
              "    }\n",
              "\n",
              "    .dataframe thead th {\n",
              "        text-align: right;\n",
              "    }\n",
              "</style>\n",
              "<table border=\"1\" class=\"dataframe\">\n",
              "  <thead>\n",
              "    <tr style=\"text-align: right;\">\n",
              "      <th></th>\n",
              "      <th>avgTa</th>\n",
              "    </tr>\n",
              "    <tr>\n",
              "      <th>tm</th>\n",
              "      <th></th>\n",
              "    </tr>\n",
              "  </thead>\n",
              "  <tbody>\n",
              "    <tr>\n",
              "      <th>2022-01-01</th>\n",
              "      <td>-4.3</td>\n",
              "    </tr>\n",
              "    <tr>\n",
              "      <th>2022-01-02</th>\n",
              "      <td>-1.3</td>\n",
              "    </tr>\n",
              "    <tr>\n",
              "      <th>2022-01-03</th>\n",
              "      <td>-1.9</td>\n",
              "    </tr>\n",
              "    <tr>\n",
              "      <th>2022-01-04</th>\n",
              "      <td>-2.5</td>\n",
              "    </tr>\n",
              "    <tr>\n",
              "      <th>2022-01-05</th>\n",
              "      <td>-2.8</td>\n",
              "    </tr>\n",
              "    <tr>\n",
              "      <th>...</th>\n",
              "      <td>...</td>\n",
              "    </tr>\n",
              "    <tr>\n",
              "      <th>2022-06-27</th>\n",
              "      <td>26.8</td>\n",
              "    </tr>\n",
              "    <tr>\n",
              "      <th>2022-06-28</th>\n",
              "      <td>26.9</td>\n",
              "    </tr>\n",
              "    <tr>\n",
              "      <th>2022-06-29</th>\n",
              "      <td>25.1</td>\n",
              "    </tr>\n",
              "    <tr>\n",
              "      <th>2022-06-30</th>\n",
              "      <td>22.3</td>\n",
              "    </tr>\n",
              "    <tr>\n",
              "      <th>2022-07-01</th>\n",
              "      <td>26.6</td>\n",
              "    </tr>\n",
              "  </tbody>\n",
              "</table>\n",
              "<p>182 rows × 1 columns</p>\n",
              "</div>\n",
              "      <button class=\"colab-df-convert\" onclick=\"convertToInteractive('df-82f1ed96-e291-4639-991d-9f17fd7c14a2')\"\n",
              "              title=\"Convert this dataframe to an interactive table.\"\n",
              "              style=\"display:none;\">\n",
              "        \n",
              "  <svg xmlns=\"http://www.w3.org/2000/svg\" height=\"24px\"viewBox=\"0 0 24 24\"\n",
              "       width=\"24px\">\n",
              "    <path d=\"M0 0h24v24H0V0z\" fill=\"none\"/>\n",
              "    <path d=\"M18.56 5.44l.94 2.06.94-2.06 2.06-.94-2.06-.94-.94-2.06-.94 2.06-2.06.94zm-11 1L8.5 8.5l.94-2.06 2.06-.94-2.06-.94L8.5 2.5l-.94 2.06-2.06.94zm10 10l.94 2.06.94-2.06 2.06-.94-2.06-.94-.94-2.06-.94 2.06-2.06.94z\"/><path d=\"M17.41 7.96l-1.37-1.37c-.4-.4-.92-.59-1.43-.59-.52 0-1.04.2-1.43.59L10.3 9.45l-7.72 7.72c-.78.78-.78 2.05 0 2.83L4 21.41c.39.39.9.59 1.41.59.51 0 1.02-.2 1.41-.59l7.78-7.78 2.81-2.81c.8-.78.8-2.07 0-2.86zM5.41 20L4 18.59l7.72-7.72 1.47 1.35L5.41 20z\"/>\n",
              "  </svg>\n",
              "      </button>\n",
              "      \n",
              "  <style>\n",
              "    .colab-df-container {\n",
              "      display:flex;\n",
              "      flex-wrap:wrap;\n",
              "      gap: 12px;\n",
              "    }\n",
              "\n",
              "    .colab-df-convert {\n",
              "      background-color: #E8F0FE;\n",
              "      border: none;\n",
              "      border-radius: 50%;\n",
              "      cursor: pointer;\n",
              "      display: none;\n",
              "      fill: #1967D2;\n",
              "      height: 32px;\n",
              "      padding: 0 0 0 0;\n",
              "      width: 32px;\n",
              "    }\n",
              "\n",
              "    .colab-df-convert:hover {\n",
              "      background-color: #E2EBFA;\n",
              "      box-shadow: 0px 1px 2px rgba(60, 64, 67, 0.3), 0px 1px 3px 1px rgba(60, 64, 67, 0.15);\n",
              "      fill: #174EA6;\n",
              "    }\n",
              "\n",
              "    [theme=dark] .colab-df-convert {\n",
              "      background-color: #3B4455;\n",
              "      fill: #D2E3FC;\n",
              "    }\n",
              "\n",
              "    [theme=dark] .colab-df-convert:hover {\n",
              "      background-color: #434B5C;\n",
              "      box-shadow: 0px 1px 3px 1px rgba(0, 0, 0, 0.15);\n",
              "      filter: drop-shadow(0px 1px 2px rgba(0, 0, 0, 0.3));\n",
              "      fill: #FFFFFF;\n",
              "    }\n",
              "  </style>\n",
              "\n",
              "      <script>\n",
              "        const buttonEl =\n",
              "          document.querySelector('#df-82f1ed96-e291-4639-991d-9f17fd7c14a2 button.colab-df-convert');\n",
              "        buttonEl.style.display =\n",
              "          google.colab.kernel.accessAllowed ? 'block' : 'none';\n",
              "\n",
              "        async function convertToInteractive(key) {\n",
              "          const element = document.querySelector('#df-82f1ed96-e291-4639-991d-9f17fd7c14a2');\n",
              "          const dataTable =\n",
              "            await google.colab.kernel.invokeFunction('convertToInteractive',\n",
              "                                                     [key], {});\n",
              "          if (!dataTable) return;\n",
              "\n",
              "          const docLinkHtml = 'Like what you see? Visit the ' +\n",
              "            '<a target=\"_blank\" href=https://colab.research.google.com/notebooks/data_table.ipynb>data table notebook</a>'\n",
              "            + ' to learn more about interactive tables.';\n",
              "          element.innerHTML = '';\n",
              "          dataTable['output_type'] = 'display_data';\n",
              "          await google.colab.output.renderOutput(dataTable, element);\n",
              "          const docLink = document.createElement('div');\n",
              "          docLink.innerHTML = docLinkHtml;\n",
              "          element.appendChild(docLink);\n",
              "        }\n",
              "      </script>\n",
              "    </div>\n",
              "  </div>\n",
              "  "
            ]
          },
          "metadata": {},
          "execution_count": 29
        }
      ]
    },
    {
      "cell_type": "markdown",
      "source": [
        "- avgTa의 최솟값/최댓값 확인"
      ],
      "metadata": {
        "id": "Qx4_ZnfO7J3p"
      }
    },
    {
      "cell_type": "code",
      "source": [
        "df_avgTa['avgTa'].min()"
      ],
      "metadata": {
        "colab": {
          "base_uri": "https://localhost:8080/"
        },
        "id": "payn1Ist649_",
        "outputId": "960a89b3-a1c9-4a06-992a-678019efc300"
      },
      "execution_count": null,
      "outputs": [
        {
          "output_type": "execute_result",
          "data": {
            "text/plain": [
              "-7.7"
            ]
          },
          "metadata": {},
          "execution_count": 30
        }
      ]
    },
    {
      "cell_type": "code",
      "source": [
        "df_avgTa['avgTa'].max()"
      ],
      "metadata": {
        "colab": {
          "base_uri": "https://localhost:8080/"
        },
        "id": "olKxjbOk7JDC",
        "outputId": "dac41a28-ed91-4695-e996-2c780027b9b6"
      },
      "execution_count": null,
      "outputs": [
        {
          "output_type": "execute_result",
          "data": {
            "text/plain": [
              "26.9"
            ]
          },
          "metadata": {},
          "execution_count": 31
        }
      ]
    },
    {
      "cell_type": "markdown",
      "source": [
        "#### 그래프로 변환\n",
        "- x축은 index 정보인 날짜로, 0 부터 999 까지의 30 개 단위로 출력\n",
        "- y축은 평균 온도로, 앞서 계산한 최댓값 최솟값을 참고하여 적절한 값을 설정하고 5개 단위로 출력"
      ],
      "metadata": {
        "id": "dk-Wxb2_7YoA"
      }
    },
    {
      "cell_type": "code",
      "source": [
        "fig,ax=plt.subplots(figsize=(25,8))\n",
        "\n",
        "ax.set_xticks(np.arange(0,999,30)) \n",
        "ax.set_yticks(range(-20,40,5))\n",
        "ax.plot(df_avgTa)\n",
        "\n",
        "plt.show()"
      ],
      "metadata": {
        "colab": {
          "base_uri": "https://localhost:8080/",
          "height": 274
        },
        "id": "lGQJF_VY7Z3F",
        "outputId": "c55274fc-94ce-4e98-f414-1f60c1b91437"
      },
      "execution_count": null,
      "outputs": [
        {
          "output_type": "display_data",
          "data": {
            "text/plain": [
              "<Figure size 1800x576 with 1 Axes>"
            ],
            "image/png": "[encoded data removed]"
          },
          "metadata": {
            "needs_background": "light"
          }
        }
      ]
    },
    {
      "cell_type": "markdown",
      "source": [
        "#### +) 2020년 1월 1일부터 2022년 7월 1일까지"
      ],
      "metadata": {
        "id": "ypO_2ZUb78i5"
      }
    },
    {
      "cell_type": "code",
      "source": [
        "url='http://apis.data.go.kr/1360000/AsosDalyInfoService/getWthrDataList'\n",
        "\n",
        "service_key='m9WQLzXhO4cNd5rhrm3XZgGm0i7my0MtUZb1DXGfo77OSmGUE9iuNmJMOVakM080eC4opIn1MU6shML3dQL0zQ=='\n",
        "\n",
        "payload={'serviceKey':service_key,'numOfRows':'999',\n",
        "         'pageNo':'1','dataType':'JSON',\n",
        "         'dataCd':'ASOS','dateCd':'DAY',\n",
        "         'startDt':'20200101','endDt':'20220701',\n",
        "         'stnIds':'108'}\n",
        "\n",
        "reqs=requests.get(url,params=payload)\n",
        "\n",
        "load_json=json.loads(reqs.text)\n",
        "print(len(reqs.content))"
      ],
      "metadata": {
        "colab": {
          "base_uri": "https://localhost:8080/"
        },
        "id": "53zBbuo27iR-",
        "outputId": "0302f485-ac07-41d5-9a24-8f12f6ec50ca"
      },
      "execution_count": null,
      "outputs": [
        {
          "output_type": "stream",
          "name": "stdout",
          "text": [
            "1016209\n"
          ]
        }
      ]
    },
    {
      "cell_type": "code",
      "source": [
        "df_weather_days=pd.DataFrame(load_json['response']['body']['items']['item'])\n",
        "df_weather_days.shape"
      ],
      "metadata": {
        "colab": {
          "base_uri": "https://localhost:8080/"
        },
        "id": "n2Iz9CxH8E0C",
        "outputId": "e8d6618b-f7c4-4a18-b5f0-da3bad82e888"
      },
      "execution_count": null,
      "outputs": [
        {
          "output_type": "execute_result",
          "data": {
            "text/plain": [
              "(913, 62)"
            ]
          },
          "metadata": {},
          "execution_count": 35
        }
      ]
    },
    {
      "cell_type": "code",
      "source": [
        "df_avgTa=pd.DataFrame(df_weather_days[['tm','avgTa']],copy=True)\n",
        "df_avgTa"
      ],
      "metadata": {
        "colab": {
          "base_uri": "https://localhost:8080/",
          "height": 424
        },
        "id": "3vsjkHlH8PYN",
        "outputId": "806723ae-f6b7-4d92-e892-5e6a9832499c"
      },
      "execution_count": null,
      "outputs": [
        {
          "output_type": "execute_result",
          "data": {
            "text/plain": [
              "             tm avgTa\n",
              "0    2020-01-01  -2.2\n",
              "1    2020-01-02   1.0\n",
              "2    2020-01-03  -0.1\n",
              "3    2020-01-04   1.2\n",
              "4    2020-01-05   1.3\n",
              "..          ...   ...\n",
              "908  2022-06-27  26.8\n",
              "909  2022-06-28  26.9\n",
              "910  2022-06-29  25.1\n",
              "911  2022-06-30  22.3\n",
              "912  2022-07-01  26.6\n",
              "\n",
              "[913 rows x 2 columns]"
            ],
            "text/html": [
              "\n",
              "  <div id=\"df-98867f18-3847-49fe-b8c1-fd776f421d37\">\n",
              "    <div class=\"colab-df-container\">\n",
              "      <div>\n",
              "<style scoped>\n",
              "    .dataframe tbody tr th:only-of-type {\n",
              "        vertical-align: middle;\n",
              "    }\n",
              "\n",
              "    .dataframe tbody tr th {\n",
              "        vertical-align: top;\n",
              "    }\n",
              "\n",
              "    .dataframe thead th {\n",
              "        text-align: right;\n",
              "    }\n",
              "</style>\n",
              "<table border=\"1\" class=\"dataframe\">\n",
              "  <thead>\n",
              "    <tr style=\"text-align: right;\">\n",
              "      <th></th>\n",
              "      <th>tm</th>\n",
              "      <th>avgTa</th>\n",
              "    </tr>\n",
              "  </thead>\n",
              "  <tbody>\n",
              "    <tr>\n",
              "      <th>0</th>\n",
              "      <td>2020-01-01</td>\n",
              "      <td>-2.2</td>\n",
              "    </tr>\n",
              "    <tr>\n",
              "      <th>1</th>\n",
              "      <td>2020-01-02</td>\n",
              "      <td>1.0</td>\n",
              "    </tr>\n",
              "    <tr>\n",
              "      <th>2</th>\n",
              "      <td>2020-01-03</td>\n",
              "      <td>-0.1</td>\n",
              "    </tr>\n",
              "    <tr>\n",
              "      <th>3</th>\n",
              "      <td>2020-01-04</td>\n",
              "      <td>1.2</td>\n",
              "    </tr>\n",
              "    <tr>\n",
              "      <th>4</th>\n",
              "      <td>2020-01-05</td>\n",
              "      <td>1.3</td>\n",
              "    </tr>\n",
              "    <tr>\n",
              "      <th>...</th>\n",
              "      <td>...</td>\n",
              "      <td>...</td>\n",
              "    </tr>\n",
              "    <tr>\n",
              "      <th>908</th>\n",
              "      <td>2022-06-27</td>\n",
              "      <td>26.8</td>\n",
              "    </tr>\n",
              "    <tr>\n",
              "      <th>909</th>\n",
              "      <td>2022-06-28</td>\n",
              "      <td>26.9</td>\n",
              "    </tr>\n",
              "    <tr>\n",
              "      <th>910</th>\n",
              "      <td>2022-06-29</td>\n",
              "      <td>25.1</td>\n",
              "    </tr>\n",
              "    <tr>\n",
              "      <th>911</th>\n",
              "      <td>2022-06-30</td>\n",
              "      <td>22.3</td>\n",
              "    </tr>\n",
              "    <tr>\n",
              "      <th>912</th>\n",
              "      <td>2022-07-01</td>\n",
              "      <td>26.6</td>\n",
              "    </tr>\n",
              "  </tbody>\n",
              "</table>\n",
              "<p>913 rows × 2 columns</p>\n",
              "</div>\n",
              "      <button class=\"colab-df-convert\" onclick=\"convertToInteractive('df-98867f18-3847-49fe-b8c1-fd776f421d37')\"\n",
              "              title=\"Convert this dataframe to an interactive table.\"\n",
              "              style=\"display:none;\">\n",
              "        \n",
              "  <svg xmlns=\"http://www.w3.org/2000/svg\" height=\"24px\"viewBox=\"0 0 24 24\"\n",
              "       width=\"24px\">\n",
              "    <path d=\"M0 0h24v24H0V0z\" fill=\"none\"/>\n",
              "    <path d=\"M18.56 5.44l.94 2.06.94-2.06 2.06-.94-2.06-.94-.94-2.06-.94 2.06-2.06.94zm-11 1L8.5 8.5l.94-2.06 2.06-.94-2.06-.94L8.5 2.5l-.94 2.06-2.06.94zm10 10l.94 2.06.94-2.06 2.06-.94-2.06-.94-.94-2.06-.94 2.06-2.06.94z\"/><path d=\"M17.41 7.96l-1.37-1.37c-.4-.4-.92-.59-1.43-.59-.52 0-1.04.2-1.43.59L10.3 9.45l-7.72 7.72c-.78.78-.78 2.05 0 2.83L4 21.41c.39.39.9.59 1.41.59.51 0 1.02-.2 1.41-.59l7.78-7.78 2.81-2.81c.8-.78.8-2.07 0-2.86zM5.41 20L4 18.59l7.72-7.72 1.47 1.35L5.41 20z\"/>\n",
              "  </svg>\n",
              "      </button>\n",
              "      \n",
              "  <style>\n",
              "    .colab-df-container {\n",
              "      display:flex;\n",
              "      flex-wrap:wrap;\n",
              "      gap: 12px;\n",
              "    }\n",
              "\n",
              "    .colab-df-convert {\n",
              "      background-color: #E8F0FE;\n",
              "      border: none;\n",
              "      border-radius: 50%;\n",
              "      cursor: pointer;\n",
              "      display: none;\n",
              "      fill: #1967D2;\n",
              "      height: 32px;\n",
              "      padding: 0 0 0 0;\n",
              "      width: 32px;\n",
              "    }\n",
              "\n",
              "    .colab-df-convert:hover {\n",
              "      background-color: #E2EBFA;\n",
              "      box-shadow: 0px 1px 2px rgba(60, 64, 67, 0.3), 0px 1px 3px 1px rgba(60, 64, 67, 0.15);\n",
              "      fill: #174EA6;\n",
              "    }\n",
              "\n",
              "    [theme=dark] .colab-df-convert {\n",
              "      background-color: #3B4455;\n",
              "      fill: #D2E3FC;\n",
              "    }\n",
              "\n",
              "    [theme=dark] .colab-df-convert:hover {\n",
              "      background-color: #434B5C;\n",
              "      box-shadow: 0px 1px 3px 1px rgba(0, 0, 0, 0.15);\n",
              "      filter: drop-shadow(0px 1px 2px rgba(0, 0, 0, 0.3));\n",
              "      fill: #FFFFFF;\n",
              "    }\n",
              "  </style>\n",
              "\n",
              "      <script>\n",
              "        const buttonEl =\n",
              "          document.querySelector('#df-98867f18-3847-49fe-b8c1-fd776f421d37 button.colab-df-convert');\n",
              "        buttonEl.style.display =\n",
              "          google.colab.kernel.accessAllowed ? 'block' : 'none';\n",
              "\n",
              "        async function convertToInteractive(key) {\n",
              "          const element = document.querySelector('#df-98867f18-3847-49fe-b8c1-fd776f421d37');\n",
              "          const dataTable =\n",
              "            await google.colab.kernel.invokeFunction('convertToInteractive',\n",
              "                                                     [key], {});\n",
              "          if (!dataTable) return;\n",
              "\n",
              "          const docLinkHtml = 'Like what you see? Visit the ' +\n",
              "            '<a target=\"_blank\" href=https://colab.research.google.com/notebooks/data_table.ipynb>data table notebook</a>'\n",
              "            + ' to learn more about interactive tables.';\n",
              "          element.innerHTML = '';\n",
              "          dataTable['output_type'] = 'display_data';\n",
              "          await google.colab.output.renderOutput(dataTable, element);\n",
              "          const docLink = document.createElement('div');\n",
              "          docLink.innerHTML = docLinkHtml;\n",
              "          element.appendChild(docLink);\n",
              "        }\n",
              "      </script>\n",
              "    </div>\n",
              "  </div>\n",
              "  "
            ]
          },
          "metadata": {},
          "execution_count": 36
        }
      ]
    },
    {
      "cell_type": "code",
      "source": [
        "df_avgTa.set_index('tm',inplace=True) # im을 index로 사용\n",
        "df_avgTa"
      ],
      "metadata": {
        "colab": {
          "base_uri": "https://localhost:8080/",
          "height": 455
        },
        "id": "dNO6CsNn8PS_",
        "outputId": "b10332bb-a7ef-4a8d-8315-5f545986b02b"
      },
      "execution_count": null,
      "outputs": [
        {
          "output_type": "execute_result",
          "data": {
            "text/plain": [
              "           avgTa\n",
              "tm              \n",
              "2020-01-01  -2.2\n",
              "2020-01-02   1.0\n",
              "2020-01-03  -0.1\n",
              "2020-01-04   1.2\n",
              "2020-01-05   1.3\n",
              "...          ...\n",
              "2022-06-27  26.8\n",
              "2022-06-28  26.9\n",
              "2022-06-29  25.1\n",
              "2022-06-30  22.3\n",
              "2022-07-01  26.6\n",
              "\n",
              "[913 rows x 1 columns]"
            ],
            "text/html": [
              "\n",
              "  <div id=\"df-7465068d-da4c-4cf3-b490-8af8ec44c1a5\">\n",
              "    <div class=\"colab-df-container\">\n",
              "      <div>\n",
              "<style scoped>\n",
              "    .dataframe tbody tr th:only-of-type {\n",
              "        vertical-align: middle;\n",
              "    }\n",
              "\n",
              "    .dataframe tbody tr th {\n",
              "        vertical-align: top;\n",
              "    }\n",
              "\n",
              "    .dataframe thead th {\n",
              "        text-align: right;\n",
              "    }\n",
              "</style>\n",
              "<table border=\"1\" class=\"dataframe\">\n",
              "  <thead>\n",
              "    <tr style=\"text-align: right;\">\n",
              "      <th></th>\n",
              "      <th>avgTa</th>\n",
              "    </tr>\n",
              "    <tr>\n",
              "      <th>tm</th>\n",
              "      <th></th>\n",
              "    </tr>\n",
              "  </thead>\n",
              "  <tbody>\n",
              "    <tr>\n",
              "      <th>2020-01-01</th>\n",
              "      <td>-2.2</td>\n",
              "    </tr>\n",
              "    <tr>\n",
              "      <th>2020-01-02</th>\n",
              "      <td>1.0</td>\n",
              "    </tr>\n",
              "    <tr>\n",
              "      <th>2020-01-03</th>\n",
              "      <td>-0.1</td>\n",
              "    </tr>\n",
              "    <tr>\n",
              "      <th>2020-01-04</th>\n",
              "      <td>1.2</td>\n",
              "    </tr>\n",
              "    <tr>\n",
              "      <th>2020-01-05</th>\n",
              "      <td>1.3</td>\n",
              "    </tr>\n",
              "    <tr>\n",
              "      <th>...</th>\n",
              "      <td>...</td>\n",
              "    </tr>\n",
              "    <tr>\n",
              "      <th>2022-06-27</th>\n",
              "      <td>26.8</td>\n",
              "    </tr>\n",
              "    <tr>\n",
              "      <th>2022-06-28</th>\n",
              "      <td>26.9</td>\n",
              "    </tr>\n",
              "    <tr>\n",
              "      <th>2022-06-29</th>\n",
              "      <td>25.1</td>\n",
              "    </tr>\n",
              "    <tr>\n",
              "      <th>2022-06-30</th>\n",
              "      <td>22.3</td>\n",
              "    </tr>\n",
              "    <tr>\n",
              "      <th>2022-07-01</th>\n",
              "      <td>26.6</td>\n",
              "    </tr>\n",
              "  </tbody>\n",
              "</table>\n",
              "<p>913 rows × 1 columns</p>\n",
              "</div>\n",
              "      <button class=\"colab-df-convert\" onclick=\"convertToInteractive('df-7465068d-da4c-4cf3-b490-8af8ec44c1a5')\"\n",
              "              title=\"Convert this dataframe to an interactive table.\"\n",
              "              style=\"display:none;\">\n",
              "        \n",
              "  <svg xmlns=\"http://www.w3.org/2000/svg\" height=\"24px\"viewBox=\"0 0 24 24\"\n",
              "       width=\"24px\">\n",
              "    <path d=\"M0 0h24v24H0V0z\" fill=\"none\"/>\n",
              "    <path d=\"M18.56 5.44l.94 2.06.94-2.06 2.06-.94-2.06-.94-.94-2.06-.94 2.06-2.06.94zm-11 1L8.5 8.5l.94-2.06 2.06-.94-2.06-.94L8.5 2.5l-.94 2.06-2.06.94zm10 10l.94 2.06.94-2.06 2.06-.94-2.06-.94-.94-2.06-.94 2.06-2.06.94z\"/><path d=\"M17.41 7.96l-1.37-1.37c-.4-.4-.92-.59-1.43-.59-.52 0-1.04.2-1.43.59L10.3 9.45l-7.72 7.72c-.78.78-.78 2.05 0 2.83L4 21.41c.39.39.9.59 1.41.59.51 0 1.02-.2 1.41-.59l7.78-7.78 2.81-2.81c.8-.78.8-2.07 0-2.86zM5.41 20L4 18.59l7.72-7.72 1.47 1.35L5.41 20z\"/>\n",
              "  </svg>\n",
              "      </button>\n",
              "      \n",
              "  <style>\n",
              "    .colab-df-container {\n",
              "      display:flex;\n",
              "      flex-wrap:wrap;\n",
              "      gap: 12px;\n",
              "    }\n",
              "\n",
              "    .colab-df-convert {\n",
              "      background-color: #E8F0FE;\n",
              "      border: none;\n",
              "      border-radius: 50%;\n",
              "      cursor: pointer;\n",
              "      display: none;\n",
              "      fill: #1967D2;\n",
              "      height: 32px;\n",
              "      padding: 0 0 0 0;\n",
              "      width: 32px;\n",
              "    }\n",
              "\n",
              "    .colab-df-convert:hover {\n",
              "      background-color: #E2EBFA;\n",
              "      box-shadow: 0px 1px 2px rgba(60, 64, 67, 0.3), 0px 1px 3px 1px rgba(60, 64, 67, 0.15);\n",
              "      fill: #174EA6;\n",
              "    }\n",
              "\n",
              "    [theme=dark] .colab-df-convert {\n",
              "      background-color: #3B4455;\n",
              "      fill: #D2E3FC;\n",
              "    }\n",
              "\n",
              "    [theme=dark] .colab-df-convert:hover {\n",
              "      background-color: #434B5C;\n",
              "      box-shadow: 0px 1px 3px 1px rgba(0, 0, 0, 0.15);\n",
              "      filter: drop-shadow(0px 1px 2px rgba(0, 0, 0, 0.3));\n",
              "      fill: #FFFFFF;\n",
              "    }\n",
              "  </style>\n",
              "\n",
              "      <script>\n",
              "        const buttonEl =\n",
              "          document.querySelector('#df-7465068d-da4c-4cf3-b490-8af8ec44c1a5 button.colab-df-convert');\n",
              "        buttonEl.style.display =\n",
              "          google.colab.kernel.accessAllowed ? 'block' : 'none';\n",
              "\n",
              "        async function convertToInteractive(key) {\n",
              "          const element = document.querySelector('#df-7465068d-da4c-4cf3-b490-8af8ec44c1a5');\n",
              "          const dataTable =\n",
              "            await google.colab.kernel.invokeFunction('convertToInteractive',\n",
              "                                                     [key], {});\n",
              "          if (!dataTable) return;\n",
              "\n",
              "          const docLinkHtml = 'Like what you see? Visit the ' +\n",
              "            '<a target=\"_blank\" href=https://colab.research.google.com/notebooks/data_table.ipynb>data table notebook</a>'\n",
              "            + ' to learn more about interactive tables.';\n",
              "          element.innerHTML = '';\n",
              "          dataTable['output_type'] = 'display_data';\n",
              "          await google.colab.output.renderOutput(dataTable, element);\n",
              "          const docLink = document.createElement('div');\n",
              "          docLink.innerHTML = docLinkHtml;\n",
              "          element.appendChild(docLink);\n",
              "        }\n",
              "      </script>\n",
              "    </div>\n",
              "  </div>\n",
              "  "
            ]
          },
          "metadata": {},
          "execution_count": 37
        }
      ]
    },
    {
      "cell_type": "code",
      "source": [
        "df_avgTa['avgTa'].dtype # avgTa 자료형: object -> 문자열 취급"
      ],
      "metadata": {
        "colab": {
          "base_uri": "https://localhost:8080/"
        },
        "id": "hpMThctq8WWw",
        "outputId": "87c89c49-5ae5-456f-d01e-1ceacc2a739c"
      },
      "execution_count": null,
      "outputs": [
        {
          "output_type": "execute_result",
          "data": {
            "text/plain": [
              "dtype('O')"
            ]
          },
          "metadata": {},
          "execution_count": 38
        }
      ]
    },
    {
      "cell_type": "code",
      "source": [
        "df_avgTa['avgTa']=df_avgTa['avgTa'].astype('float64') # float64로 데이터 형 변환.\n",
        "df_avgTa"
      ],
      "metadata": {
        "colab": {
          "base_uri": "https://localhost:8080/",
          "height": 455
        },
        "id": "wbIpXj_P8WsM",
        "outputId": "80a29b50-ade8-4a39-e0a8-a888c58e28c2"
      },
      "execution_count": null,
      "outputs": [
        {
          "output_type": "execute_result",
          "data": {
            "text/plain": [
              "            avgTa\n",
              "tm               \n",
              "2020-01-01   -2.2\n",
              "2020-01-02    1.0\n",
              "2020-01-03   -0.1\n",
              "2020-01-04    1.2\n",
              "2020-01-05    1.3\n",
              "...           ...\n",
              "2022-06-27   26.8\n",
              "2022-06-28   26.9\n",
              "2022-06-29   25.1\n",
              "2022-06-30   22.3\n",
              "2022-07-01   26.6\n",
              "\n",
              "[913 rows x 1 columns]"
            ],
            "text/html": [
              "\n",
              "  <div id=\"df-e325bfdc-412a-408a-baba-8cfbc5280dbf\">\n",
              "    <div class=\"colab-df-container\">\n",
              "      <div>\n",
              "<style scoped>\n",
              "    .dataframe tbody tr th:only-of-type {\n",
              "        vertical-align: middle;\n",
              "    }\n",
              "\n",
              "    .dataframe tbody tr th {\n",
              "        vertical-align: top;\n",
              "    }\n",
              "\n",
              "    .dataframe thead th {\n",
              "        text-align: right;\n",
              "    }\n",
              "</style>\n",
              "<table border=\"1\" class=\"dataframe\">\n",
              "  <thead>\n",
              "    <tr style=\"text-align: right;\">\n",
              "      <th></th>\n",
              "      <th>avgTa</th>\n",
              "    </tr>\n",
              "    <tr>\n",
              "      <th>tm</th>\n",
              "      <th></th>\n",
              "    </tr>\n",
              "  </thead>\n",
              "  <tbody>\n",
              "    <tr>\n",
              "      <th>2020-01-01</th>\n",
              "      <td>-2.2</td>\n",
              "    </tr>\n",
              "    <tr>\n",
              "      <th>2020-01-02</th>\n",
              "      <td>1.0</td>\n",
              "    </tr>\n",
              "    <tr>\n",
              "      <th>2020-01-03</th>\n",
              "      <td>-0.1</td>\n",
              "    </tr>\n",
              "    <tr>\n",
              "      <th>2020-01-04</th>\n",
              "      <td>1.2</td>\n",
              "    </tr>\n",
              "    <tr>\n",
              "      <th>2020-01-05</th>\n",
              "      <td>1.3</td>\n",
              "    </tr>\n",
              "    <tr>\n",
              "      <th>...</th>\n",
              "      <td>...</td>\n",
              "    </tr>\n",
              "    <tr>\n",
              "      <th>2022-06-27</th>\n",
              "      <td>26.8</td>\n",
              "    </tr>\n",
              "    <tr>\n",
              "      <th>2022-06-28</th>\n",
              "      <td>26.9</td>\n",
              "    </tr>\n",
              "    <tr>\n",
              "      <th>2022-06-29</th>\n",
              "      <td>25.1</td>\n",
              "    </tr>\n",
              "    <tr>\n",
              "      <th>2022-06-30</th>\n",
              "      <td>22.3</td>\n",
              "    </tr>\n",
              "    <tr>\n",
              "      <th>2022-07-01</th>\n",
              "      <td>26.6</td>\n",
              "    </tr>\n",
              "  </tbody>\n",
              "</table>\n",
              "<p>913 rows × 1 columns</p>\n",
              "</div>\n",
              "      <button class=\"colab-df-convert\" onclick=\"convertToInteractive('df-e325bfdc-412a-408a-baba-8cfbc5280dbf')\"\n",
              "              title=\"Convert this dataframe to an interactive table.\"\n",
              "              style=\"display:none;\">\n",
              "        \n",
              "  <svg xmlns=\"http://www.w3.org/2000/svg\" height=\"24px\"viewBox=\"0 0 24 24\"\n",
              "       width=\"24px\">\n",
              "    <path d=\"M0 0h24v24H0V0z\" fill=\"none\"/>\n",
              "    <path d=\"M18.56 5.44l.94 2.06.94-2.06 2.06-.94-2.06-.94-.94-2.06-.94 2.06-2.06.94zm-11 1L8.5 8.5l.94-2.06 2.06-.94-2.06-.94L8.5 2.5l-.94 2.06-2.06.94zm10 10l.94 2.06.94-2.06 2.06-.94-2.06-.94-.94-2.06-.94 2.06-2.06.94z\"/><path d=\"M17.41 7.96l-1.37-1.37c-.4-.4-.92-.59-1.43-.59-.52 0-1.04.2-1.43.59L10.3 9.45l-7.72 7.72c-.78.78-.78 2.05 0 2.83L4 21.41c.39.39.9.59 1.41.59.51 0 1.02-.2 1.41-.59l7.78-7.78 2.81-2.81c.8-.78.8-2.07 0-2.86zM5.41 20L4 18.59l7.72-7.72 1.47 1.35L5.41 20z\"/>\n",
              "  </svg>\n",
              "      </button>\n",
              "      \n",
              "  <style>\n",
              "    .colab-df-container {\n",
              "      display:flex;\n",
              "      flex-wrap:wrap;\n",
              "      gap: 12px;\n",
              "    }\n",
              "\n",
              "    .colab-df-convert {\n",
              "      background-color: #E8F0FE;\n",
              "      border: none;\n",
              "      border-radius: 50%;\n",
              "      cursor: pointer;\n",
              "      display: none;\n",
              "      fill: #1967D2;\n",
              "      height: 32px;\n",
              "      padding: 0 0 0 0;\n",
              "      width: 32px;\n",
              "    }\n",
              "\n",
              "    .colab-df-convert:hover {\n",
              "      background-color: #E2EBFA;\n",
              "      box-shadow: 0px 1px 2px rgba(60, 64, 67, 0.3), 0px 1px 3px 1px rgba(60, 64, 67, 0.15);\n",
              "      fill: #174EA6;\n",
              "    }\n",
              "\n",
              "    [theme=dark] .colab-df-convert {\n",
              "      background-color: #3B4455;\n",
              "      fill: #D2E3FC;\n",
              "    }\n",
              "\n",
              "    [theme=dark] .colab-df-convert:hover {\n",
              "      background-color: #434B5C;\n",
              "      box-shadow: 0px 1px 3px 1px rgba(0, 0, 0, 0.15);\n",
              "      filter: drop-shadow(0px 1px 2px rgba(0, 0, 0, 0.3));\n",
              "      fill: #FFFFFF;\n",
              "    }\n",
              "  </style>\n",
              "\n",
              "      <script>\n",
              "        const buttonEl =\n",
              "          document.querySelector('#df-e325bfdc-412a-408a-baba-8cfbc5280dbf button.colab-df-convert');\n",
              "        buttonEl.style.display =\n",
              "          google.colab.kernel.accessAllowed ? 'block' : 'none';\n",
              "\n",
              "        async function convertToInteractive(key) {\n",
              "          const element = document.querySelector('#df-e325bfdc-412a-408a-baba-8cfbc5280dbf');\n",
              "          const dataTable =\n",
              "            await google.colab.kernel.invokeFunction('convertToInteractive',\n",
              "                                                     [key], {});\n",
              "          if (!dataTable) return;\n",
              "\n",
              "          const docLinkHtml = 'Like what you see? Visit the ' +\n",
              "            '<a target=\"_blank\" href=https://colab.research.google.com/notebooks/data_table.ipynb>data table notebook</a>'\n",
              "            + ' to learn more about interactive tables.';\n",
              "          element.innerHTML = '';\n",
              "          dataTable['output_type'] = 'display_data';\n",
              "          await google.colab.output.renderOutput(dataTable, element);\n",
              "          const docLink = document.createElement('div');\n",
              "          docLink.innerHTML = docLinkHtml;\n",
              "          element.appendChild(docLink);\n",
              "        }\n",
              "      </script>\n",
              "    </div>\n",
              "  </div>\n",
              "  "
            ]
          },
          "metadata": {},
          "execution_count": 39
        }
      ]
    },
    {
      "cell_type": "code",
      "source": [
        "df_avgTa['avgTa'].min()"
      ],
      "metadata": {
        "colab": {
          "base_uri": "https://localhost:8080/"
        },
        "id": "-d9FiKfi8ZXW",
        "outputId": "878849a3-4112-4b38-8e54-01ed92b8224a"
      },
      "execution_count": null,
      "outputs": [
        {
          "output_type": "execute_result",
          "data": {
            "text/plain": [
              "-14.9"
            ]
          },
          "metadata": {},
          "execution_count": 40
        }
      ]
    },
    {
      "cell_type": "code",
      "source": [
        "df_avgTa['avgTa'].max()"
      ],
      "metadata": {
        "colab": {
          "base_uri": "https://localhost:8080/"
        },
        "id": "M7wJyrNF8W7v",
        "outputId": "ac04955f-d4a3-45e7-b974-95260dbe6d85"
      },
      "execution_count": null,
      "outputs": [
        {
          "output_type": "execute_result",
          "data": {
            "text/plain": [
              "31.7"
            ]
          },
          "metadata": {},
          "execution_count": 41
        }
      ]
    },
    {
      "cell_type": "code",
      "source": [
        "fig,ax=plt.subplots(figsize=(25,8))\n",
        "\n",
        "ax.set_xticks(np.arange(0,999,30)) \n",
        "ax.set_yticks(range(-20,40,5))\n",
        "ax.plot(df_avgTa)\n",
        "\n",
        "plt.show()"
      ],
      "metadata": {
        "colab": {
          "base_uri": "https://localhost:8080/",
          "height": 273
        },
        "id": "xx8aSOAO8c9l",
        "outputId": "b6697b72-d685-4943-f803-753657217ba2"
      },
      "execution_count": null,
      "outputs": [
        {
          "output_type": "display_data",
          "data": {
            "text/plain": [
              "<Figure size 1800x576 with 1 Axes>"
            ],
            "image/png": "[encoded data removed]"
          },
          "metadata": {
            "needs_background": "light"
          }
        }
      ]
    },
    {
      "cell_type": "markdown",
      "source": [
        "## 이동 평균"
      ],
      "metadata": {
        "id": "iGeNs47R8ykm"
      }
    },
    {
      "cell_type": "markdown",
      "source": [
        "#### 데이터 변환 방법\n",
        "- 평활화\n",
        "- 집계\n",
        "- 일반화\n",
        "- 정규화\n",
        "- 범주화"
      ],
      "metadata": {
        "id": "9rQ0YjwM80y0"
      }
    },
    {
      "cell_type": "markdown",
      "source": [
        "#### 평활화\n",
        "- 데이터로부터 발생할 수 있는 잡음을 제거하기 위해, 추세에 맞지 않은 이상값들을 제거\n",
        "- 이동 평균은 평활화의 한 기법"
      ],
      "metadata": {
        "id": "DS0BUxSn86ZP"
      }
    },
    {
      "cell_type": "markdown",
      "source": [
        "#### 시계열 데이터는 다음과 같은 특성이 있다고 가정\n",
        "- 추세(Trend): 데이터가 장기적으로 증가하거나 감소\n",
        "- 계절(Seasonality): 데이터가 특정 주기로 증가하거나 감소\n",
        "- 주기(Cycle): 계절성보다 더 긴 주기로 증가하거나 감소"
      ],
      "metadata": {
        "id": "S4RL9nlG9Brl"
      }
    },
    {
      "cell_type": "markdown",
      "source": [
        "#### 메소드 rolling\n",
        "- 변동이 잦은 데이터에서 추세/계절/주기를 갖는 기초적인 방법\n",
        "- 동일한 크기의 window를 열 기준으로 연속적으로 슬라이싱\n",
        "- 슬라이싱한 데이터는 평균으로 계산하여, 새로운 Dataframe을 생성"
      ],
      "metadata": {
        "id": "X5V_cFAW9MYV"
      }
    },
    {
      "cell_type": "code",
      "source": [
        "fig,ax=plt.subplots(figsize=(25,8))\n",
        "\n",
        "df_avgTa['avgTa'].rolling(10).mean().plot(ax=ax) # window=10, 10개의 데이터를 평균화 시켜서 계산\n",
        "plt.show()"
      ],
      "metadata": {
        "colab": {
          "base_uri": "https://localhost:8080/",
          "height": 281
        },
        "id": "lDx4Vr4Z9M3T",
        "outputId": "389955be-7025-44fa-c0ff-af829abf088b"
      },
      "execution_count": null,
      "outputs": [
        {
          "output_type": "display_data",
          "data": {
            "text/plain": [
              "<Figure size 1800x576 with 1 Axes>"
            ],
            "image/png": "[encoded data removed]"
          },
          "metadata": {
            "needs_background": "light"
          }
        }
      ]
    }
  ]
}