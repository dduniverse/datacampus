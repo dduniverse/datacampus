{
  "nbformat": 4,
  "nbformat_minor": 0,
  "metadata": {
    "colab": {
      "provenance": [],
      "authorship_tag": "ABX9TyMvC3H5hY0evvcTrvEWZ39X",
      "include_colab_link": true
    },
    "kernelspec": {
      "name": "python3",
      "display_name": "Python 3"
    },
    "language_info": {
      "name": "python"
    }
  },
  "cells": [
    {
      "cell_type": "markdown",
      "metadata": {
        "id": "view-in-github",
        "colab_type": "text"
      },
      "source": [
        "<a href=\"https://colab.research.google.com/github/dduniverse/datacampus/blob/main/DA/Numpy.ipynb\" target=\"_parent\"><img src=\"https://colab.research.google.com/assets/colab-badge.svg\" alt=\"Open In Colab\"/></a>"
      ]
    },
    {
      "cell_type": "code",
      "execution_count": null,
      "metadata": {
        "colab": {
          "base_uri": "https://localhost:8080/"
        },
        "id": "Egdt55qvRul1",
        "outputId": "96b24700-60f2-4b67-a40c-5b3298e35477"
      },
      "outputs": [
        {
          "output_type": "stream",
          "name": "stdout",
          "text": [
            "Hello World\n"
          ]
        }
      ],
      "source": [
        "print('Hello World')"
      ]
    },
    {
      "cell_type": "code",
      "source": [
        "from google.colab import drive\n",
        "drive.mount('/content/drive')"
      ],
      "metadata": {
        "colab": {
          "base_uri": "https://localhost:8080/"
        },
        "id": "jFefU-i-Rypp",
        "outputId": "1dbf72d5-eb2f-4449-9241-d82f0cd79dff"
      },
      "execution_count": null,
      "outputs": [
        {
          "output_type": "stream",
          "name": "stdout",
          "text": [
            "Mounted at /content/drive\n"
          ]
        }
      ]
    },
    {
      "cell_type": "code",
      "source": [],
      "metadata": {
        "id": "Oby8Tke2SJmg"
      },
      "execution_count": null,
      "outputs": []
    },
    {
      "cell_type": "code",
      "source": [
        "import numpy as np"
      ],
      "metadata": {
        "id": "8ep04IDNT-av"
      },
      "execution_count": null,
      "outputs": []
    },
    {
      "cell_type": "code",
      "source": [
        "np_arr=np.arange(1000000)\n",
        "list_arr=list(range(1000000))"
      ],
      "metadata": {
        "id": "1Q8eSnAuWQlQ"
      },
      "execution_count": null,
      "outputs": []
    },
    {
      "cell_type": "code",
      "source": [
        "%time for _ in range(10):my_arr=np_arr*2\n",
        "%time for _ in range(10):my_arr=[x*2 for x in list_arr]"
      ],
      "metadata": {
        "colab": {
          "base_uri": "https://localhost:8080/"
        },
        "id": "IXj-zogVWWKw",
        "outputId": "5b99cf82-5752-42f5-c5e4-0055579aecb1"
      },
      "execution_count": null,
      "outputs": [
        {
          "output_type": "stream",
          "name": "stdout",
          "text": [
            "CPU times: user 17.1 ms, sys: 5.17 ms, total: 22.3 ms\n",
            "Wall time: 26.3 ms\n",
            "CPU times: user 828 ms, sys: 191 ms, total: 1.02 s\n",
            "Wall time: 1.02 s\n"
          ]
        }
      ]
    },
    {
      "cell_type": "code",
      "source": [
        "print(type(np.array(1)))\n",
        "print(type(np.array(0.1)))\n",
        "print(type(np.array('str')))\n",
        "print(type(np.array(True)))\n",
        "print(type(np.array(['list'])))\n",
        "print(type(np.array(('typle'))))\n",
        "print(type(np.array(({'key':'value'}))))"
      ],
      "metadata": {
        "id": "bfiBTgDgWfjo",
        "colab": {
          "base_uri": "https://localhost:8080/"
        },
        "outputId": "432b3221-5301-4503-a720-bd8d9c2eda45"
      },
      "execution_count": null,
      "outputs": [
        {
          "output_type": "stream",
          "name": "stdout",
          "text": [
            "<class 'numpy.ndarray'>\n",
            "<class 'numpy.ndarray'>\n",
            "<class 'numpy.ndarray'>\n",
            "<class 'numpy.ndarray'>\n",
            "<class 'numpy.ndarray'>\n",
            "<class 'numpy.ndarray'>\n",
            "<class 'numpy.ndarray'>\n"
          ]
        }
      ]
    },
    {
      "cell_type": "code",
      "source": [
        "rand_data=np.random.randn(2,3)\n",
        "print(rand_data)\n",
        "print(rand_data*10)\n",
        "print(rand_data+rand_data)"
      ],
      "metadata": {
        "colab": {
          "base_uri": "https://localhost:8080/"
        },
        "id": "YchwVbNnY6dx",
        "outputId": "0045c20a-e36a-463d-aa40-e1d2a10eb8f5"
      },
      "execution_count": null,
      "outputs": [
        {
          "output_type": "stream",
          "name": "stdout",
          "text": [
            "[[ 1.11963689 -1.61769491  0.96656838]\n",
            " [-1.34691874 -0.90713539  0.04624092]]\n",
            "[[ 11.19636889 -16.17694906   9.66568377]\n",
            " [-13.46918741  -9.07135395   0.46240916]]\n",
            "[[ 2.23927378 -3.23538981  1.93313675]\n",
            " [-2.69383748 -1.81427079  0.09248183]]\n"
          ]
        }
      ]
    },
    {
      "cell_type": "code",
      "source": [
        "print(type(rand_data))\n",
        "print(rand_data.shape)\n",
        "print(rand_data.ndim)\n",
        "print(rand_data.dtype)"
      ],
      "metadata": {
        "colab": {
          "base_uri": "https://localhost:8080/"
        },
        "id": "aL1U12h5ZKLj",
        "outputId": "b926ad39-a638-45c6-cae0-43e0e1ab1eb2"
      },
      "execution_count": null,
      "outputs": [
        {
          "output_type": "stream",
          "name": "stdout",
          "text": [
            "<class 'numpy.ndarray'>\n",
            "(2, 3)\n",
            "2\n",
            "float64\n"
          ]
        }
      ]
    },
    {
      "cell_type": "code",
      "source": [
        "list_arr=[[1,2,3],[4,5,6]]\n",
        "print(list_arr)\n",
        "print(type(list_arr))\n",
        "\n",
        "np_arr=np.array([[1,2,3],[4,5,6]])\n",
        "print(np_arr)\n",
        "print(type(np_arr))\n",
        "\n",
        "print(np_arr.ndim)\n",
        "print(np_arr.shape)\n",
        "print(np_arr.shape[0])\n",
        "print(np_arr.shape[1])\n",
        "print(np_arr.dtype)"
      ],
      "metadata": {
        "colab": {
          "base_uri": "https://localhost:8080/"
        },
        "id": "O1oZNCUKZZi1",
        "outputId": "0b043514-1f8b-4caa-9012-f48cd0b90537"
      },
      "execution_count": null,
      "outputs": [
        {
          "output_type": "stream",
          "name": "stdout",
          "text": [
            "[[1, 2, 3], [4, 5, 6]]\n",
            "<class 'list'>\n",
            "[[1 2 3]\n",
            " [4 5 6]]\n",
            "<class 'numpy.ndarray'>\n",
            "2\n",
            "(2, 3)\n",
            "2\n",
            "3\n",
            "int64\n"
          ]
        }
      ]
    },
    {
      "cell_type": "code",
      "source": [
        "list_arr=[[1.0,2.0,3.0],[4,5,6]]\n",
        "np_arr=np.array(list_arr)\n",
        "print(np_arr.dtype) # 실수형, 정수형이 같이있으면 list의 dype은실수형"
      ],
      "metadata": {
        "colab": {
          "base_uri": "https://localhost:8080/"
        },
        "id": "RJeGxqwPZ4ps",
        "outputId": "2d6514c9-6c75-499b-8f92-444ee54214bd"
      },
      "execution_count": null,
      "outputs": [
        {
          "output_type": "stream",
          "name": "stdout",
          "text": [
            "float64\n"
          ]
        }
      ]
    },
    {
      "cell_type": "code",
      "source": [
        "my_data=np.array([1,2,3])\n",
        "print(my_data, my_data.shape)\n",
        "\n",
        "my_data=np.arange(3,0,-1)\n",
        "print(my_data, my_data.shape)\n",
        "\n",
        "my_data=np.ones(3)\n",
        "print(my_data, my_data.shape)\n",
        "\n",
        "my_data=np.ones_like([5,4,3,2,1,0])\n",
        "print(my_data, my_data.shape)"
      ],
      "metadata": {
        "colab": {
          "base_uri": "https://localhost:8080/"
        },
        "id": "ziAs6jtbaI4G",
        "outputId": "7435b884-3248-4a2d-9508-91be70c9d50a"
      },
      "execution_count": null,
      "outputs": [
        {
          "output_type": "stream",
          "name": "stdout",
          "text": [
            "[1 2 3] (3,)\n",
            "[3 2 1] (3,)\n",
            "[1. 1. 1.] (3,)\n",
            "[1 1 1 1 1 1] (6,)\n"
          ]
        }
      ]
    },
    {
      "cell_type": "code",
      "source": [
        "my_data=np.zeros(3)\n",
        "print(my_data,my_data.shape)\n",
        "\n",
        "my_data=np.zeros_like([5,4,3,2,1,0])\n",
        "print(my_data, my_data.shape)\n",
        "\n",
        "my_data=np.full((4,2,4),True)\n",
        "print(my_data, my_data.shape, my_data.dtype)\n",
        "\n",
        "my_data=np.full_like(list_arr, True) # list_arr이 float type이었기 때문에 True는 1로 채워짐\n",
        "print(my_data, my_data.shape, my_data.dtype)"
      ],
      "metadata": {
        "colab": {
          "base_uri": "https://localhost:8080/"
        },
        "id": "MbsgcO-fbblB",
        "outputId": "275816bf-b937-44f5-e993-06cf50b79140"
      },
      "execution_count": null,
      "outputs": [
        {
          "output_type": "stream",
          "name": "stdout",
          "text": [
            "[0. 0. 0.] (3,)\n",
            "[0 0 0 0 0 0] (6,)\n",
            "[[[ True  True  True  True]\n",
            "  [ True  True  True  True]]\n",
            "\n",
            " [[ True  True  True  True]\n",
            "  [ True  True  True  True]]\n",
            "\n",
            " [[ True  True  True  True]\n",
            "  [ True  True  True  True]]\n",
            "\n",
            " [[ True  True  True  True]\n",
            "  [ True  True  True  True]]] (4, 2, 4) bool\n",
            "[[1. 1. 1.]\n",
            " [1. 1. 1.]] (2, 3) float64\n"
          ]
        }
      ]
    },
    {
      "cell_type": "code",
      "source": [
        "int_arr=np.array([1,2,3,4,5])\n",
        "print(int_arr,int_arr.dtype)\n",
        "\n",
        "float_arr=int_arr.astype(np.float64)\n",
        "print(float_arr,float_arr.dtype)\n",
        "\n",
        "string_arr=np.array(['+1.25','-9.7','43'],dtype=np.string_)\n",
        "print(string_arr,string_arr.dtype)\n",
        "\n",
        "string_to_float_arr=string_arr.astype(float)\n",
        "print(string_to_float_arr,string_to_float_arr.dtype)"
      ],
      "metadata": {
        "colab": {
          "base_uri": "https://localhost:8080/"
        },
        "id": "NoHkXGOMeDoZ",
        "outputId": "ca861c63-a4d4-4dc4-a4ed-635141fc25a8"
      },
      "execution_count": null,
      "outputs": [
        {
          "output_type": "stream",
          "name": "stdout",
          "text": [
            "[1 2 3 4 5] int64\n",
            "[1. 2. 3. 4. 5.] float64\n",
            "[b'+1.25' b'-9.7' b'43'] |S5\n",
            "[ 1.25 -9.7  43.  ] float64\n"
          ]
        }
      ]
    },
    {
      "cell_type": "code",
      "source": [
        "full_data=np.full((4,5),2)\n",
        "print(full_data)\n",
        "\n",
        "print(full_data+full_data)\n",
        "print(full_data-full_data)\n",
        "print(full_data*full_data)"
      ],
      "metadata": {
        "colab": {
          "base_uri": "https://localhost:8080/"
        },
        "id": "4usdl-HVjXOa",
        "outputId": "476f6990-66f3-4890-b979-8867a0a14da5"
      },
      "execution_count": null,
      "outputs": [
        {
          "output_type": "stream",
          "name": "stdout",
          "text": [
            "[[2 2 2 2 2]\n",
            " [2 2 2 2 2]\n",
            " [2 2 2 2 2]\n",
            " [2 2 2 2 2]]\n",
            "[[4 4 4 4 4]\n",
            " [4 4 4 4 4]\n",
            " [4 4 4 4 4]\n",
            " [4 4 4 4 4]]\n",
            "[[0 0 0 0 0]\n",
            " [0 0 0 0 0]\n",
            " [0 0 0 0 0]\n",
            " [0 0 0 0 0]]\n",
            "[[4 4 4 4 4]\n",
            " [4 4 4 4 4]\n",
            " [4 4 4 4 4]\n",
            " [4 4 4 4 4]]\n"
          ]
        }
      ]
    },
    {
      "cell_type": "code",
      "source": [
        "print(full_data*1.5)\n",
        "print(full_data/2)"
      ],
      "metadata": {
        "colab": {
          "base_uri": "https://localhost:8080/"
        },
        "id": "kiUIFmtSkdsF",
        "outputId": "c6246b9c-9f5a-409d-f94a-a4e927852b25"
      },
      "execution_count": null,
      "outputs": [
        {
          "output_type": "stream",
          "name": "stdout",
          "text": [
            "[[3. 3. 3. 3. 3.]\n",
            " [3. 3. 3. 3. 3.]\n",
            " [3. 3. 3. 3. 3.]\n",
            " [3. 3. 3. 3. 3.]]\n",
            "[[1. 1. 1. 1. 1.]\n",
            " [1. 1. 1. 1. 1.]\n",
            " [1. 1. 1. 1. 1.]\n",
            " [1. 1. 1. 1. 1.]]\n"
          ]
        }
      ]
    },
    {
      "cell_type": "code",
      "source": [
        "np_arr=np.array([[1,3,5],[2,4,6]])\n",
        "np_arr2=np.array([[-2,3,-2],[4,8,-12]])\n",
        "\n",
        "print(np_arr < np_arr2) # 각 자리의 값끼리 T/F 비교\n",
        "print(np_arr > np_arr2)\n",
        "print(np_arr <= np.array([[4],[4]]))"
      ],
      "metadata": {
        "colab": {
          "base_uri": "https://localhost:8080/"
        },
        "id": "6VIOYcZlkgZH",
        "outputId": "99e0c203-089c-458b-dc1b-ecbfb505efa8"
      },
      "execution_count": null,
      "outputs": [
        {
          "output_type": "stream",
          "name": "stdout",
          "text": [
            "[[False False False]\n",
            " [ True  True False]]\n",
            "[[ True False  True]\n",
            " [False False  True]]\n",
            "[[ True  True False]\n",
            " [ True  True False]]\n"
          ]
        }
      ]
    },
    {
      "cell_type": "code",
      "source": [
        "arange_data=np.arange(10)\n",
        "list_data=list(range(10))\n",
        "print(arange_data)\n",
        "print(list_data)\n",
        "\n",
        "print(arange_data[3])\n",
        "print(list_data[3])\n",
        "print(arange_data[2:7]) # 슬라이싱\n",
        "print(list_data[2:7])"
      ],
      "metadata": {
        "colab": {
          "base_uri": "https://localhost:8080/"
        },
        "id": "ujU9qD3dlVYT",
        "outputId": "52daa6a1-7999-4bde-d62d-36be1575a852"
      },
      "execution_count": null,
      "outputs": [
        {
          "output_type": "stream",
          "name": "stdout",
          "text": [
            "[0 1 2 3 4 5 6 7 8 9]\n",
            "[0, 1, 2, 3, 4, 5, 6, 7, 8, 9]\n",
            "3\n",
            "3\n",
            "[2 3 4 5 6]\n",
            "[2, 3, 4, 5, 6]\n"
          ]
        }
      ]
    },
    {
      "cell_type": "code",
      "source": [
        "arange_array=np.array([np.arange(0,4),\n",
        "                       np.arange(4,8),\n",
        "                       np.arange(8,12),\n",
        "                       np.arange(12,16)])\n",
        "print(arange_array)\n",
        "\n",
        "# 0행 1열\n",
        "print(arange_array[0][1])\n",
        "print(arange_array[0,1])\n",
        "\n",
        "# 0행 전체\n",
        "print(arange_array[0])\n",
        "print(arange_array[0][:])\n",
        "print(arange_array[0, ])"
      ],
      "metadata": {
        "colab": {
          "base_uri": "https://localhost:8080/"
        },
        "id": "tbxWbuX1mP-f",
        "outputId": "7d4d0f33-021c-4ece-b5d0-5796e18bd3f0"
      },
      "execution_count": null,
      "outputs": [
        {
          "output_type": "stream",
          "name": "stdout",
          "text": [
            "[[ 0  1  2  3]\n",
            " [ 4  5  6  7]\n",
            " [ 8  9 10 11]\n",
            " [12 13 14 15]]\n",
            "1\n",
            "1\n",
            "[0 1 2 3]\n",
            "[0 1 2 3]\n",
            "[0 1 2 3]\n"
          ]
        }
      ]
    },
    {
      "cell_type": "code",
      "source": [
        "print(arange_array[:3,1:])\n",
        "print(arange_array[:,3])\n",
        "print(arange_array[:,3:4])\n",
        "print(arange_array[1,:3])"
      ],
      "metadata": {
        "colab": {
          "base_uri": "https://localhost:8080/"
        },
        "id": "UVYIhNJ7nLer",
        "outputId": "f517bebc-d2de-410f-a2d4-96ebb6987a15"
      },
      "execution_count": null,
      "outputs": [
        {
          "output_type": "stream",
          "name": "stdout",
          "text": [
            "[[ 1  2  3]\n",
            " [ 5  6  7]\n",
            " [ 9 10 11]]\n",
            "[ 3  7 11 15]\n",
            "[[ 3]\n",
            " [ 7]\n",
            " [11]\n",
            " [15]]\n",
            "[4 5 6]\n"
          ]
        }
      ]
    },
    {
      "cell_type": "code",
      "source": [
        "for x in range(2,7):\n",
        "  list_data[x]=-1\n",
        "print(list_data, type(list_data))\n",
        "\n",
        "# ndarray 객체는 for문 없이 값 변경 가능\n",
        "arange_data[2:7]=-1\n",
        "print(arange_data, arange_data.dtype)\n",
        "\n",
        "arange_array[1,:2]=-1\n",
        "print(arange_array)"
      ],
      "metadata": {
        "colab": {
          "base_uri": "https://localhost:8080/"
        },
        "id": "Xu56yIGNnsva",
        "outputId": "8974c61d-d692-4af0-8df7-08c59f4bd9b2"
      },
      "execution_count": null,
      "outputs": [
        {
          "output_type": "stream",
          "name": "stdout",
          "text": [
            "[0, 1, -1, -1, -1, -1, -1, 7, 8, 9] <class 'list'>\n",
            "[ 0  1 -1 -1 -1 -1 -1  7  8  9] int64\n",
            "[[ 0  1  2  3]\n",
            " [-1 -1  6  7]\n",
            " [ 8  9 10 11]\n",
            " [12 13 14 15]]\n"
          ]
        }
      ]
    },
    {
      "cell_type": "code",
      "source": [
        "arange_data=np.arange(10)\n",
        "list_data=list(range(10))\n",
        "\n",
        "arange2_data=arange_data[3:6]\n",
        "print(arange2_data)\n",
        "list2_data=list_data[3:6]\n",
        "print(list2_data)\n",
        "\n",
        "arange2_data[1]=9\n",
        "list2_data[1]=9\n",
        "\n",
        "print(arange_data)\n",
        "print(list_data)\n",
        "print(arange2_data)\n",
        "print(list2_data)"
      ],
      "metadata": {
        "colab": {
          "base_uri": "https://localhost:8080/"
        },
        "id": "zXnKw5-2oklz",
        "outputId": "b34925c4-d95b-4ce8-e005-b09cfc293b9e"
      },
      "execution_count": null,
      "outputs": [
        {
          "output_type": "stream",
          "name": "stdout",
          "text": [
            "[3 4 5]\n",
            "[3, 4, 5]\n",
            "[0 1 2 3 9 5 6 7 8 9]\n",
            "[0, 1, 2, 3, 4, 5, 6, 7, 8, 9]\n",
            "[3 9 5]\n",
            "[3, 9, 5]\n"
          ]
        }
      ]
    },
    {
      "cell_type": "code",
      "source": [
        "n_data=np.array([0.25,0.5,0.75,1.0,1.25])\n",
        "m_data=[n_data,n_data,n_data]\n",
        "print(m_data)\n",
        "\n",
        "n_data[0]=-1\n",
        "print(m_data) # n값을 바꿨기 때문에 m에도 영향."
      ],
      "metadata": {
        "colab": {
          "base_uri": "https://localhost:8080/"
        },
        "id": "jCZVt8LGpP3Z",
        "outputId": "b37d2166-8b20-41ec-f0c2-63fd8deed297"
      },
      "execution_count": null,
      "outputs": [
        {
          "output_type": "stream",
          "name": "stdout",
          "text": [
            "[array([0.25, 0.5 , 0.75, 1.  , 1.25]), array([0.25, 0.5 , 0.75, 1.  , 1.25]), array([0.25, 0.5 , 0.75, 1.  , 1.25])]\n",
            "[array([-1.  ,  0.5 ,  0.75,  1.  ,  1.25]), array([-1.  ,  0.5 ,  0.75,  1.  ,  1.25]), array([-1.  ,  0.5 ,  0.75,  1.  ,  1.25])]\n"
          ]
        }
      ]
    },
    {
      "cell_type": "code",
      "source": [],
      "metadata": {
        "id": "pRdMk6TyqoC0"
      },
      "execution_count": null,
      "outputs": []
    },
    {
      "cell_type": "code",
      "source": [
        "one_data=np.ones(15).reshape(3,5)\n",
        "arange_data=np.arange(15).reshape(one_data.shape)\n",
        "print(arange_data.shape)\n",
        "\n",
        "print(np.reshape(arange_data,(5,3)))\n",
        "print(arange_data.reshape((5,3)))\n",
        "print(arange_data.shape)"
      ],
      "metadata": {
        "colab": {
          "base_uri": "https://localhost:8080/"
        },
        "id": "OEW4zKxpDAEb",
        "outputId": "c6644784-c24e-4fbf-e024-34bf1583b3e3"
      },
      "execution_count": null,
      "outputs": [
        {
          "output_type": "stream",
          "name": "stdout",
          "text": [
            "(3, 5)\n",
            "[[ 0  1  2]\n",
            " [ 3  4  5]\n",
            " [ 6  7  8]\n",
            " [ 9 10 11]\n",
            " [12 13 14]]\n",
            "[[ 0  1  2]\n",
            " [ 3  4  5]\n",
            " [ 6  7  8]\n",
            " [ 9 10 11]\n",
            " [12 13 14]]\n",
            "(3, 5)\n"
          ]
        }
      ]
    },
    {
      "cell_type": "code",
      "source": [
        "arange_data=arange_data.reshape((5,3))\n",
        "print(arange_data)\n",
        "print(arange_data.shape)"
      ],
      "metadata": {
        "colab": {
          "base_uri": "https://localhost:8080/"
        },
        "id": "vhA7iuteELg4",
        "outputId": "515b8369-b5db-4c9b-ba08-219e3ce55a09"
      },
      "execution_count": null,
      "outputs": [
        {
          "output_type": "stream",
          "name": "stdout",
          "text": [
            "[[ 0  1  2]\n",
            " [ 3  4  5]\n",
            " [ 6  7  8]\n",
            " [ 9 10 11]\n",
            " [12 13 14]]\n",
            "(5, 3)\n"
          ]
        }
      ]
    },
    {
      "cell_type": "code",
      "source": [
        "arange_data=np.arange(24).reshape((2,4,-1))\n",
        "print(arange_data.shape)\n",
        "\n",
        "arange_Data=np.arange(24).reshape((2,-1,3))\n",
        "print(arange_Data.shape)"
      ],
      "metadata": {
        "colab": {
          "base_uri": "https://localhost:8080/"
        },
        "id": "pE84pxZ0E1Ww",
        "outputId": "f2cca94a-e8f5-4a78-d3bb-5901c10f3a02"
      },
      "execution_count": null,
      "outputs": [
        {
          "output_type": "stream",
          "name": "stdout",
          "text": [
            "(2, 4, 3)\n",
            "(2, 4, 3)\n"
          ]
        }
      ]
    },
    {
      "cell_type": "code",
      "source": [
        "arange_data=np.arange(15).reshape(3,5)\n",
        "print(arange_Data,arange_data.shape)\n",
        "\n",
        "arange_data2=np.ravel(arange_data)\n",
        "print(arange_data2,arange_data2.shape)\n",
        "\n",
        "arange_data2[0]=-1\n",
        "print(arange_data,arange_data.shape)\n",
        "print(arange_data2,arange_data2.shape)"
      ],
      "metadata": {
        "colab": {
          "base_uri": "https://localhost:8080/"
        },
        "id": "k6DbKTRNFB8l",
        "outputId": "a041c8aa-4d82-44fc-e6b0-2b7dff7d4b49"
      },
      "execution_count": null,
      "outputs": [
        {
          "output_type": "stream",
          "name": "stdout",
          "text": [
            "[[[ 0  1  2]\n",
            "  [ 3  4  5]\n",
            "  [ 6  7  8]\n",
            "  [ 9 10 11]]\n",
            "\n",
            " [[12 13 14]\n",
            "  [15 16 17]\n",
            "  [18 19 20]\n",
            "  [21 22 23]]] (3, 5)\n",
            "[ 0  1  2  3  4  5  6  7  8  9 10 11 12 13 14] (15,)\n",
            "[[-1  1  2  3  4]\n",
            " [ 5  6  7  8  9]\n",
            " [10 11 12 13 14]] (3, 5)\n",
            "[-1  1  2  3  4  5  6  7  8  9 10 11 12 13 14] (15,)\n"
          ]
        }
      ]
    },
    {
      "cell_type": "code",
      "source": [],
      "metadata": {
        "id": "Yehtn-c9GN1n"
      },
      "execution_count": null,
      "outputs": []
    },
    {
      "cell_type": "code",
      "source": [
        "data1=np.arange(0,15).reshape(3,5)\n",
        "data2=np.arange(15,30).reshape(3,5)\n",
        "print(data1)\n",
        "print(data2)\n",
        "\n",
        "print(np.concatenate([data1,data2],0))\n",
        "print(np.vstack((data1,data2)))"
      ],
      "metadata": {
        "colab": {
          "base_uri": "https://localhost:8080/"
        },
        "id": "rlz_ZTIgGSti",
        "outputId": "fce3a1dd-e8b4-409d-dd1a-befea365e256"
      },
      "execution_count": null,
      "outputs": [
        {
          "output_type": "stream",
          "name": "stdout",
          "text": [
            "[[ 0  1  2  3  4]\n",
            " [ 5  6  7  8  9]\n",
            " [10 11 12 13 14]]\n",
            "[[15 16 17 18 19]\n",
            " [20 21 22 23 24]\n",
            " [25 26 27 28 29]]\n",
            "[[ 0  1  2  3  4]\n",
            " [ 5  6  7  8  9]\n",
            " [10 11 12 13 14]\n",
            " [15 16 17 18 19]\n",
            " [20 21 22 23 24]\n",
            " [25 26 27 28 29]]\n",
            "[[ 0  1  2  3  4]\n",
            " [ 5  6  7  8  9]\n",
            " [10 11 12 13 14]\n",
            " [15 16 17 18 19]\n",
            " [20 21 22 23 24]\n",
            " [25 26 27 28 29]]\n"
          ]
        }
      ]
    },
    {
      "cell_type": "code",
      "source": [
        "print(np.concatenate([data1,data2],1))\n",
        "print(np.hstack((data1,data2)))"
      ],
      "metadata": {
        "colab": {
          "base_uri": "https://localhost:8080/"
        },
        "id": "R5zgNi69Ggrp",
        "outputId": "4f654e4e-a9c7-4ce9-811e-7f6ec65270a3"
      },
      "execution_count": null,
      "outputs": [
        {
          "output_type": "stream",
          "name": "stdout",
          "text": [
            "[[ 0  1  2  3  4 15 16 17 18 19]\n",
            " [ 5  6  7  8  9 20 21 22 23 24]\n",
            " [10 11 12 13 14 25 26 27 28 29]]\n",
            "[[ 0  1  2  3  4 15 16 17 18 19]\n",
            " [ 5  6  7  8  9 20 21 22 23 24]\n",
            " [10 11 12 13 14 25 26 27 28 29]]\n"
          ]
        }
      ]
    },
    {
      "cell_type": "code",
      "source": [
        "arange_data=np.arange(30).reshape(6,5)\n",
        "\n",
        "print(arange_data)\n",
        "print(np.split(arange_data,3))\n",
        "print(np.split(arange_data,[2,3]))\n",
        "print(np.split(arange_data,[2,5]))"
      ],
      "metadata": {
        "colab": {
          "base_uri": "https://localhost:8080/"
        },
        "id": "SEWT17suHBOo",
        "outputId": "ed49a182-0a66-48fc-d4da-18c66bd3cf60"
      },
      "execution_count": null,
      "outputs": [
        {
          "output_type": "stream",
          "name": "stdout",
          "text": [
            "[[ 0  1  2  3  4]\n",
            " [ 5  6  7  8  9]\n",
            " [10 11 12 13 14]\n",
            " [15 16 17 18 19]\n",
            " [20 21 22 23 24]\n",
            " [25 26 27 28 29]]\n",
            "[array([[0, 1, 2, 3, 4],\n",
            "       [5, 6, 7, 8, 9]]), array([[10, 11, 12, 13, 14],\n",
            "       [15, 16, 17, 18, 19]]), array([[20, 21, 22, 23, 24],\n",
            "       [25, 26, 27, 28, 29]])]\n",
            "[array([[0, 1, 2, 3, 4],\n",
            "       [5, 6, 7, 8, 9]]), array([[10, 11, 12, 13, 14]]), array([[15, 16, 17, 18, 19],\n",
            "       [20, 21, 22, 23, 24],\n",
            "       [25, 26, 27, 28, 29]])]\n",
            "[array([[0, 1, 2, 3, 4],\n",
            "       [5, 6, 7, 8, 9]]), array([[10, 11, 12, 13, 14],\n",
            "       [15, 16, 17, 18, 19],\n",
            "       [20, 21, 22, 23, 24]]), array([[25, 26, 27, 28, 29]])]\n"
          ]
        }
      ]
    },
    {
      "cell_type": "code",
      "source": [
        "print(np.vsplit(arange_data,3))\n",
        "print(np.vsplit(arange_data,[2,3]))\n",
        "print(np.vsplit(arange_data,[2,5]))"
      ],
      "metadata": {
        "colab": {
          "base_uri": "https://localhost:8080/"
        },
        "id": "Walpk0PrHdn-",
        "outputId": "89a39bc3-7f28-4c07-ee14-d272cd85b833"
      },
      "execution_count": null,
      "outputs": [
        {
          "output_type": "stream",
          "name": "stdout",
          "text": [
            "[array([[0, 1, 2, 3, 4],\n",
            "       [5, 6, 7, 8, 9]]), array([[10, 11, 12, 13, 14],\n",
            "       [15, 16, 17, 18, 19]]), array([[20, 21, 22, 23, 24],\n",
            "       [25, 26, 27, 28, 29]])]\n",
            "[array([[0, 1, 2, 3, 4],\n",
            "       [5, 6, 7, 8, 9]]), array([[10, 11, 12, 13, 14]]), array([[15, 16, 17, 18, 19],\n",
            "       [20, 21, 22, 23, 24],\n",
            "       [25, 26, 27, 28, 29]])]\n",
            "[array([[0, 1, 2, 3, 4],\n",
            "       [5, 6, 7, 8, 9]]), array([[10, 11, 12, 13, 14],\n",
            "       [15, 16, 17, 18, 19],\n",
            "       [20, 21, 22, 23, 24]]), array([[25, 26, 27, 28, 29]])]\n"
          ]
        }
      ]
    },
    {
      "cell_type": "code",
      "source": [
        "print(np.split(arange_data,5,1))\n",
        "print(np.hsplit(arange_data,5))\n",
        "print(np.hsplit(arange_data,[1,2])) \n",
        "print(np.hsplit(arange_data,[1,3]))"
      ],
      "metadata": {
        "colab": {
          "base_uri": "https://localhost:8080/"
        },
        "id": "TaGu_IXeJCeW",
        "outputId": "9906d5b9-9a3d-4d9d-fc3c-02acadc71dc0"
      },
      "execution_count": null,
      "outputs": [
        {
          "output_type": "stream",
          "name": "stdout",
          "text": [
            "[array([[ 0],\n",
            "       [ 5],\n",
            "       [10],\n",
            "       [15],\n",
            "       [20],\n",
            "       [25]]), array([[ 1],\n",
            "       [ 6],\n",
            "       [11],\n",
            "       [16],\n",
            "       [21],\n",
            "       [26]]), array([[ 2],\n",
            "       [ 7],\n",
            "       [12],\n",
            "       [17],\n",
            "       [22],\n",
            "       [27]]), array([[ 3],\n",
            "       [ 8],\n",
            "       [13],\n",
            "       [18],\n",
            "       [23],\n",
            "       [28]]), array([[ 4],\n",
            "       [ 9],\n",
            "       [14],\n",
            "       [19],\n",
            "       [24],\n",
            "       [29]])]\n",
            "[array([[ 0],\n",
            "       [ 5],\n",
            "       [10],\n",
            "       [15],\n",
            "       [20],\n",
            "       [25]]), array([[ 1],\n",
            "       [ 6],\n",
            "       [11],\n",
            "       [16],\n",
            "       [21],\n",
            "       [26]]), array([[ 2],\n",
            "       [ 7],\n",
            "       [12],\n",
            "       [17],\n",
            "       [22],\n",
            "       [27]]), array([[ 3],\n",
            "       [ 8],\n",
            "       [13],\n",
            "       [18],\n",
            "       [23],\n",
            "       [28]]), array([[ 4],\n",
            "       [ 9],\n",
            "       [14],\n",
            "       [19],\n",
            "       [24],\n",
            "       [29]])]\n",
            "[array([[ 0],\n",
            "       [ 5],\n",
            "       [10],\n",
            "       [15],\n",
            "       [20],\n",
            "       [25]]), array([[ 1],\n",
            "       [ 6],\n",
            "       [11],\n",
            "       [16],\n",
            "       [21],\n",
            "       [26]]), array([[ 2,  3,  4],\n",
            "       [ 7,  8,  9],\n",
            "       [12, 13, 14],\n",
            "       [17, 18, 19],\n",
            "       [22, 23, 24],\n",
            "       [27, 28, 29]])]\n",
            "[array([[ 0],\n",
            "       [ 5],\n",
            "       [10],\n",
            "       [15],\n",
            "       [20],\n",
            "       [25]]), array([[ 1,  2],\n",
            "       [ 6,  7],\n",
            "       [11, 12],\n",
            "       [16, 17],\n",
            "       [21, 22],\n",
            "       [26, 27]]), array([[ 3,  4],\n",
            "       [ 8,  9],\n",
            "       [13, 14],\n",
            "       [18, 19],\n",
            "       [23, 24],\n",
            "       [28, 29]])]\n"
          ]
        }
      ]
    },
    {
      "cell_type": "code",
      "source": [
        "arange_data=np.arange(5)\n",
        "print(arange_data)\n",
        "\n",
        "print(np.repeat(arange_data,5))\n",
        "print(np.repeat(arange_data,[1,1,3,2,1]))\n",
        "print(np.repeat(arange_data,[0,0,3,0,0]))"
      ],
      "metadata": {
        "colab": {
          "base_uri": "https://localhost:8080/"
        },
        "id": "SplarI4sJLFK",
        "outputId": "6507ce11-8a75-4673-c2ae-e2bb78b2c32d"
      },
      "execution_count": null,
      "outputs": [
        {
          "output_type": "stream",
          "name": "stdout",
          "text": [
            "[0 1 2 3 4]\n",
            "[0 0 0 0 0 1 1 1 1 1 2 2 2 2 2 3 3 3 3 3 4 4 4 4 4]\n",
            "[0 1 2 2 2 3 3 4]\n",
            "[2 2 2]\n"
          ]
        }
      ]
    },
    {
      "cell_type": "code",
      "source": [
        "print(np.tile(arange_data,2))\n",
        "print(np.tile(arange_data,(1,3)))\n",
        "print(np.tile(arange_data,(3,1)))"
      ],
      "metadata": {
        "colab": {
          "base_uri": "https://localhost:8080/"
        },
        "id": "ZlG66mGsJayv",
        "outputId": "283d2d07-d494-48a0-a9a6-62782ae275c0"
      },
      "execution_count": null,
      "outputs": [
        {
          "output_type": "stream",
          "name": "stdout",
          "text": [
            "[0 1 2 3 4 0 1 2 3 4]\n",
            "[[0 1 2 3 4 0 1 2 3 4 0 1 2 3 4]]\n",
            "[[0 1 2 3 4]\n",
            " [0 1 2 3 4]\n",
            " [0 1 2 3 4]]\n"
          ]
        }
      ]
    },
    {
      "cell_type": "code",
      "source": [
        "arange_data=np.arange(15).reshape((3,5))\n",
        "print(np.repeat(arange_data,2))\n",
        "\n",
        "print(np.repeat(arange_data,2,0))\n",
        "print(np.repeat(arange_data,2,1))\n",
        "\n",
        "print(np.tile(arange_data,2))\n",
        "print(np.tile(arange_data,(1,3)))\n",
        "print(np.tile(arange_data,(3,2)))"
      ],
      "metadata": {
        "colab": {
          "base_uri": "https://localhost:8080/"
        },
        "id": "zji3Qcv_J34X",
        "outputId": "b0b408d3-bb0d-42c0-9e91-bab5253b30d7"
      },
      "execution_count": null,
      "outputs": [
        {
          "output_type": "stream",
          "name": "stdout",
          "text": [
            "[ 0  0  1  1  2  2  3  3  4  4  5  5  6  6  7  7  8  8  9  9 10 10 11 11\n",
            " 12 12 13 13 14 14]\n",
            "[[ 0  1  2  3  4]\n",
            " [ 0  1  2  3  4]\n",
            " [ 5  6  7  8  9]\n",
            " [ 5  6  7  8  9]\n",
            " [10 11 12 13 14]\n",
            " [10 11 12 13 14]]\n",
            "[[ 0  0  1  1  2  2  3  3  4  4]\n",
            " [ 5  5  6  6  7  7  8  8  9  9]\n",
            " [10 10 11 11 12 12 13 13 14 14]]\n",
            "[[ 0  1  2  3  4  0  1  2  3  4]\n",
            " [ 5  6  7  8  9  5  6  7  8  9]\n",
            " [10 11 12 13 14 10 11 12 13 14]]\n",
            "[[ 0  1  2  3  4  0  1  2  3  4  0  1  2  3  4]\n",
            " [ 5  6  7  8  9  5  6  7  8  9  5  6  7  8  9]\n",
            " [10 11 12 13 14 10 11 12 13 14 10 11 12 13 14]]\n",
            "[[ 0  1  2  3  4  0  1  2  3  4]\n",
            " [ 5  6  7  8  9  5  6  7  8  9]\n",
            " [10 11 12 13 14 10 11 12 13 14]\n",
            " [ 0  1  2  3  4  0  1  2  3  4]\n",
            " [ 5  6  7  8  9  5  6  7  8  9]\n",
            " [10 11 12 13 14 10 11 12 13 14]\n",
            " [ 0  1  2  3  4  0  1  2  3  4]\n",
            " [ 5  6  7  8  9  5  6  7  8  9]\n",
            " [10 11 12 13 14 10 11 12 13 14]]\n"
          ]
        }
      ]
    },
    {
      "cell_type": "code",
      "source": [
        "import numpy as np\n",
        "np.set_printoptions(linewidth=np.inf)"
      ],
      "metadata": {
        "id": "onUdH5QhKuDZ"
      },
      "execution_count": null,
      "outputs": []
    },
    {
      "cell_type": "code",
      "source": [
        "name_arr=np.array(['지빈','명환','연지','하람','연지','진호','월하','연지'])\n",
        "data_arr=np.random.randn(8,4)\n",
        "\n",
        "print(name_arr)\n",
        "print(data_arr)"
      ],
      "metadata": {
        "colab": {
          "base_uri": "https://localhost:8080/"
        },
        "id": "iuJqzoPLL8zh",
        "outputId": "7d5a15fd-93de-4358-c22f-6dddc7b04db0"
      },
      "execution_count": null,
      "outputs": [
        {
          "output_type": "stream",
          "name": "stdout",
          "text": [
            "['지빈' '명환' '연지' '하람' '연지' '진호' '월하' '연지']\n",
            "[[ 0.75229036 -0.26157674 -0.7814826  -0.45571869]\n",
            " [ 0.67749077  0.96345637 -0.20702737 -0.69558193]\n",
            " [-0.96969908  1.20454212 -1.84246183 -0.49357026]\n",
            " [-0.48283978 -0.40299504 -0.22471646  0.22464804]\n",
            " [-1.75014949 -1.07556926 -1.2953752   0.87099096]\n",
            " [-0.02656501 -0.40507887  1.15102918  0.22599836]\n",
            " [-1.77609659 -2.6726835  -0.72991243  0.72313416]\n",
            " [ 1.28646811 -0.78850375  1.07971214  0.74627977]]\n"
          ]
        }
      ]
    },
    {
      "cell_type": "code",
      "source": [
        "print(name_arr=='연지')"
      ],
      "metadata": {
        "colab": {
          "base_uri": "https://localhost:8080/"
        },
        "id": "ykJqZVaZMhUX",
        "outputId": "0d47b428-dd32-4cc3-b4a4-720fa35f2964"
      },
      "execution_count": null,
      "outputs": [
        {
          "output_type": "stream",
          "name": "stdout",
          "text": [
            "[False False  True False  True False False  True]\n"
          ]
        }
      ]
    },
    {
      "cell_type": "code",
      "source": [
        "print(data_arr[name_arr=='연지']) # 연지인 행 출력"
      ],
      "metadata": {
        "colab": {
          "base_uri": "https://localhost:8080/"
        },
        "id": "oPhOZC6xMkff",
        "outputId": "42b27ebd-df05-4515-fec6-9ffaa362a5fc"
      },
      "execution_count": null,
      "outputs": [
        {
          "output_type": "stream",
          "name": "stdout",
          "text": [
            "[[-0.96969908  1.20454212 -1.84246183 -0.49357026]\n",
            " [-1.75014949 -1.07556926 -1.2953752   0.87099096]\n",
            " [ 1.28646811 -0.78850375  1.07971214  0.74627977]]\n"
          ]
        }
      ]
    },
    {
      "cell_type": "code",
      "source": [
        "print(data_arr[name_arr=='연지',2:]) # 연지인 행의 2열부터 출력\n",
        "print(data_arr[name_arr=='연지',3])\n",
        "print(data_arr[name_arr=='연지',3:4])"
      ],
      "metadata": {
        "colab": {
          "base_uri": "https://localhost:8080/"
        },
        "id": "LbTBj6MTMnA6",
        "outputId": "19670dbe-153e-48da-8fb7-5d622278d4f3"
      },
      "execution_count": null,
      "outputs": [
        {
          "output_type": "stream",
          "name": "stdout",
          "text": [
            "[[-1.84246183 -0.49357026]\n",
            " [-1.2953752   0.87099096]\n",
            " [ 1.07971214  0.74627977]]\n",
            "[-0.49357026  0.87099096  0.74627977]\n",
            "[[-0.49357026]\n",
            " [ 0.87099096]\n",
            " [ 0.74627977]]\n"
          ]
        }
      ]
    },
    {
      "cell_type": "code",
      "source": [
        "or_opp=(name_arr=='지빈')|(name_arr=='월하')\n",
        "print(or_opp)\n",
        "print(data_arr[or_opp])"
      ],
      "metadata": {
        "colab": {
          "base_uri": "https://localhost:8080/"
        },
        "id": "H1QLxxLEMtiV",
        "outputId": "d26097b6-d6d3-453c-ef48-e22c08c72579"
      },
      "execution_count": null,
      "outputs": [
        {
          "output_type": "stream",
          "name": "stdout",
          "text": [
            "[ True False False False False False  True False]\n",
            "[[ 0.75229036 -0.26157674 -0.7814826  -0.45571869]\n",
            " [-1.77609659 -2.6726835  -0.72991243  0.72313416]]\n"
          ]
        }
      ]
    },
    {
      "cell_type": "code",
      "source": [
        "not_opp=~(name_arr=='하람')\n",
        "print(not_opp)\n",
        "print(data_arr[not_opp])"
      ],
      "metadata": {
        "colab": {
          "base_uri": "https://localhost:8080/"
        },
        "id": "Q6kCgOSNNfic",
        "outputId": "108bd21c-34ea-4b4f-d595-80533d644535"
      },
      "execution_count": null,
      "outputs": [
        {
          "output_type": "stream",
          "name": "stdout",
          "text": [
            "[ True  True  True False  True  True  True  True]\n",
            "[[ 0.75229036 -0.26157674 -0.7814826  -0.45571869]\n",
            " [ 0.67749077  0.96345637 -0.20702737 -0.69558193]\n",
            " [-0.96969908  1.20454212 -1.84246183 -0.49357026]\n",
            " [-1.75014949 -1.07556926 -1.2953752   0.87099096]\n",
            " [-0.02656501 -0.40507887  1.15102918  0.22599836]\n",
            " [-1.77609659 -2.6726835  -0.72991243  0.72313416]\n",
            " [ 1.28646811 -0.78850375  1.07971214  0.74627977]]\n"
          ]
        }
      ]
    },
    {
      "cell_type": "code",
      "source": [
        "data_arr[name_arr=='명환']=7\n",
        "print(data_arr)"
      ],
      "metadata": {
        "colab": {
          "base_uri": "https://localhost:8080/"
        },
        "id": "T164LWXENmNg",
        "outputId": "fe1820d8-0833-4fcc-d956-6594606a589c"
      },
      "execution_count": null,
      "outputs": [
        {
          "output_type": "stream",
          "name": "stdout",
          "text": [
            "[[ 0.75229036 -0.26157674 -0.7814826  -0.45571869]\n",
            " [ 7.          7.          7.          7.        ]\n",
            " [-0.96969908  1.20454212 -1.84246183 -0.49357026]\n",
            " [-0.48283978 -0.40299504 -0.22471646  0.22464804]\n",
            " [-1.75014949 -1.07556926 -1.2953752   0.87099096]\n",
            " [-0.02656501 -0.40507887  1.15102918  0.22599836]\n",
            " [-1.77609659 -2.6726835  -0.72991243  0.72313416]\n",
            " [ 1.28646811 -0.78850375  1.07971214  0.74627977]]\n"
          ]
        }
      ]
    },
    {
      "cell_type": "code",
      "source": [
        "data_arr[data_arr<0]=0\n",
        "print(data_arr)"
      ],
      "metadata": {
        "colab": {
          "base_uri": "https://localhost:8080/"
        },
        "id": "4p57YqsKNqii",
        "outputId": "7eea11e0-e2b3-48b3-a287-e4a5cdaa2c8a"
      },
      "execution_count": null,
      "outputs": [
        {
          "output_type": "stream",
          "name": "stdout",
          "text": [
            "[[0.75229036 0.         0.         0.        ]\n",
            " [7.         7.         7.         7.        ]\n",
            " [0.         1.20454212 0.         0.        ]\n",
            " [0.         0.         0.         0.22464804]\n",
            " [0.         0.         0.         0.87099096]\n",
            " [0.         0.         1.15102918 0.22599836]\n",
            " [0.         0.         0.         0.72313416]\n",
            " [1.28646811 0.         1.07971214 0.74627977]]\n"
          ]
        }
      ]
    },
    {
      "cell_type": "code",
      "source": [
        "arange_data=np.arange(15).reshape((3,5))\n",
        "print(arange_data)\n",
        "print(arange_data.T)\n",
        "print(np.transpose(arange_data))"
      ],
      "metadata": {
        "colab": {
          "base_uri": "https://localhost:8080/"
        },
        "id": "GHzSCEJQNu-1",
        "outputId": "edc9608e-02da-44ed-f339-ce4bd1fe6034"
      },
      "execution_count": null,
      "outputs": [
        {
          "output_type": "stream",
          "name": "stdout",
          "text": [
            "[[ 0  1  2  3  4]\n",
            " [ 5  6  7  8  9]\n",
            " [10 11 12 13 14]]\n",
            "[[ 0  5 10]\n",
            " [ 1  6 11]\n",
            " [ 2  7 12]\n",
            " [ 3  8 13]\n",
            " [ 4  9 14]]\n",
            "[[ 0  5 10]\n",
            " [ 1  6 11]\n",
            " [ 2  7 12]\n",
            " [ 3  8 13]\n",
            " [ 4  9 14]]\n"
          ]
        }
      ]
    },
    {
      "cell_type": "code",
      "source": [],
      "metadata": {
        "id": "9q0zamZaOO7W"
      },
      "execution_count": null,
      "outputs": []
    },
    {
      "cell_type": "code",
      "source": [
        "rand_data=np.random.randn(10)\n",
        "print(rand_data)"
      ],
      "metadata": {
        "colab": {
          "base_uri": "https://localhost:8080/"
        },
        "id": "qh4cR0HMIxsM",
        "outputId": "b2aca693-e351-4ef3-c87d-5c20eea5a175"
      },
      "execution_count": null,
      "outputs": [
        {
          "output_type": "stream",
          "name": "stdout",
          "text": [
            "[ 0.3000644  -0.56063202  0.47705357 -0.01482756 -1.44212077  1.04479472\n",
            "  1.04186652 -0.29851434  1.45892479  0.65975401]\n"
          ]
        }
      ]
    },
    {
      "cell_type": "code",
      "source": [
        "result=[True if i>0 else False for i in rand_data] # if문이 참이면 True, 거짓이면 False\n",
        "print(result)\n",
        "print(type(result))"
      ],
      "metadata": {
        "colab": {
          "base_uri": "https://localhost:8080/"
        },
        "id": "h0G5xie9J7kN",
        "outputId": "09702686-a18e-40e6-9589-cb124df9fde1"
      },
      "execution_count": null,
      "outputs": [
        {
          "output_type": "stream",
          "name": "stdout",
          "text": [
            "[True, False, True, False, False, True, True, False, True, True]\n",
            "<class 'list'>\n"
          ]
        }
      ]
    },
    {
      "cell_type": "code",
      "source": [
        "result=np.where(rand_data>0,True,False)\n",
        "print(result)\n",
        "print(type(result),result.dtype)"
      ],
      "metadata": {
        "colab": {
          "base_uri": "https://localhost:8080/"
        },
        "id": "ksVIv90-KCEC",
        "outputId": "2dcf3e43-a6e0-492c-df7b-67b001d601df"
      },
      "execution_count": null,
      "outputs": [
        {
          "output_type": "stream",
          "name": "stdout",
          "text": [
            "[ True False  True False False  True  True False  True  True]\n",
            "<class 'numpy.ndarray'> bool\n"
          ]
        }
      ]
    },
    {
      "cell_type": "code",
      "source": [
        "result=np.where(rand_data>0,True,rand_data)\n",
        "print(result)\n",
        "print(type(result),result.dtype)"
      ],
      "metadata": {
        "colab": {
          "base_uri": "https://localhost:8080/"
        },
        "id": "2jZ6rOWTKoWB",
        "outputId": "4f4aa483-659d-4ea5-9c81-a3953d7c1856"
      },
      "execution_count": null,
      "outputs": [
        {
          "output_type": "stream",
          "name": "stdout",
          "text": [
            "[ 1.         -0.56063202  1.         -0.01482756 -1.44212077  1.\n",
            "  1.         -0.29851434  1.          1.        ]\n",
            "<class 'numpy.ndarray'> float64\n"
          ]
        }
      ]
    },
    {
      "cell_type": "code",
      "source": [
        "rand_data=np.random.normal(0,1,1000)\n",
        "print(rand_data)\n",
        "print(np.sum(rand_data))\n",
        "print(np.std(rand_data))\n",
        "print(np.var(rand_data))"
      ],
      "metadata": {
        "colab": {
          "base_uri": "https://localhost:8080/"
        },
        "id": "9pqPJsNcKyxn",
        "outputId": "7453b0b3-b656-414d-f261-9499c88636a5"
      },
      "execution_count": null,
      "outputs": [
        {
          "output_type": "stream",
          "name": "stdout",
          "text": [
            "[ 4.10078761e-02 -9.96797035e-01 -6.75764130e-01 -8.94933781e-02\n",
            " -1.37998944e+00  4.97166282e-01  3.94563168e-01  4.18678300e-01\n",
            " -2.98785159e-01 -5.30281382e-01 -4.40547618e-01  1.08685391e+00\n",
            "  1.32676740e+00  7.89958777e-01 -1.14357996e-01 -4.44704494e-01\n",
            "  6.99114355e-01 -1.11182947e+00 -9.65776635e-01  3.88301606e-01\n",
            " -1.07464006e-01 -8.14175936e-01  1.96682480e-01 -1.12917523e+00\n",
            "  9.09535289e-01 -5.32092667e-01 -4.09606372e-01 -1.26814656e-01\n",
            "  1.91816252e+00 -1.90967001e+00  4.71757030e-01 -7.64192770e-01\n",
            "  1.69260368e-01  2.28233643e-01  1.60806384e-01  2.71247394e-01\n",
            "  1.33122401e+00  6.72816605e-01 -8.40507123e-01 -3.78559956e-01\n",
            " -1.05272844e+00 -9.19761579e-01  9.98696712e-01 -1.56106423e+00\n",
            "  3.89016638e-01  3.92320027e-01 -1.12314298e+00  7.98655828e-01\n",
            " -2.73662516e-02 -1.13829375e+00  1.72283056e-01 -6.23183460e-01\n",
            "  1.46726118e+00 -7.83272626e-01 -2.47543246e-01 -1.07634709e+00\n",
            "  1.24486144e+00 -8.25974375e-01 -1.16678264e+00  1.30297646e+00\n",
            "  1.17905694e+00  7.03936651e-01 -1.74120919e+00 -3.17791281e-02\n",
            "  1.31361340e+00  1.39688496e+00  9.57344369e-01  1.31855858e+00\n",
            " -1.42581049e-01  1.24665326e+00  7.30877758e-01 -6.08342392e-01\n",
            "  1.56281022e+00  7.21924185e-01  2.27266274e-01  2.85164212e-01\n",
            " -1.16630252e+00  1.29082369e+00 -5.04135006e-02  4.24353568e-01\n",
            "  1.07410728e+00  4.85542696e-01  2.71495823e+00  9.24604862e-02\n",
            "  3.13621963e-01  2.78186459e+00 -8.10831897e-01  8.28003138e-01\n",
            "  1.16914115e+00  4.84835000e-02 -3.26216308e-01 -5.83198941e-01\n",
            "  1.22564524e+00 -7.14930021e-01 -1.13686218e+00 -6.91562165e-01\n",
            "  7.85227024e-01 -1.37875373e+00 -9.21366553e-02  1.74777699e+00\n",
            "  7.24622274e-01  1.27110792e+00 -4.18366853e-01  8.77396445e-01\n",
            " -3.22641154e-01 -2.71883659e+00  4.38784741e-01  1.30661022e+00\n",
            "  1.61733304e-01  1.30771053e-01  2.62415480e-01 -6.76712454e-01\n",
            "  4.50405273e-01 -9.39036412e-01 -3.66158772e-01 -1.42477808e-01\n",
            " -2.72439344e+00  1.29404249e-01 -9.90404886e-01 -3.93746379e-01\n",
            "  3.98525474e-01  6.09820705e-01  1.14893786e-01  8.13745933e-01\n",
            " -8.22162741e-01 -1.45679368e+00  1.29944421e-01 -1.32291015e-01\n",
            "  4.44457401e-01 -2.66332775e-01 -3.86338365e-01  1.58314373e+00\n",
            " -1.19654715e-01 -1.05611861e+00  6.09864638e-01 -1.85987544e-01\n",
            " -1.04288702e+00 -1.30065464e+00  1.08997617e+00  1.12688479e-01\n",
            "  6.22866258e-01  8.84963777e-01  1.11229886e+00  3.18999100e+00\n",
            "  1.69512020e-01  1.44483686e+00  6.67367352e-01 -3.87008783e-02\n",
            " -3.97725486e-02 -5.52523272e-01  1.50643149e+00 -5.37975195e-01\n",
            " -1.24918034e+00  1.58822357e-01  4.95145525e-01 -4.33608694e-01\n",
            " -4.84585064e-01 -1.00171410e+00 -3.92051278e-01  1.19336884e+00\n",
            " -3.08871768e-01  2.90248994e-01 -2.55818204e-01 -1.25353321e+00\n",
            "  5.46884475e-01 -7.23902352e-02  7.93638032e-01 -6.68224712e-01\n",
            " -8.57015760e-01  7.45515851e-01  1.75550586e+00  6.67210465e-01\n",
            "  8.23167008e-01  1.13549467e+00 -8.94018054e-03  1.75911350e+00\n",
            "  1.11851978e+00  8.51112561e-01  8.80324101e-01 -1.32107982e-01\n",
            "  1.19531457e+00 -2.18121678e+00 -7.43002530e-01 -7.67896124e-01\n",
            " -4.77422432e-02  1.55433883e+00 -8.71269242e-02  9.59597258e-01\n",
            " -2.06833520e+00  1.00298644e+00  4.07974669e-01 -1.70355746e+00\n",
            " -1.17415033e-01  1.73705880e+00  4.43645391e-01  1.12665914e-01\n",
            " -1.65755693e+00 -4.83282299e-01 -1.74787306e-01  8.57676252e-01\n",
            "  5.53340716e-01  2.10677524e-01  1.17211791e-01 -3.80023690e-01\n",
            " -1.40931217e+00 -6.37599824e-01 -8.11843300e-02 -6.86495519e-01\n",
            " -4.38775772e-01  1.19916586e-02  1.07583254e+00 -7.81042588e-01\n",
            " -7.25306375e-01 -1.94712260e-02 -4.39783919e-01 -1.27803918e+00\n",
            " -1.38017653e-01  3.53512993e+00  1.27650751e+00  1.17450206e-01\n",
            " -8.88264289e-01 -4.12267920e-01 -3.17628166e-01  4.91599853e-02\n",
            "  1.92104707e+00 -2.29777266e+00 -1.38713101e-01  9.97363315e-01\n",
            " -1.25668095e+00  1.34268892e-01 -2.36466073e-01  2.65574056e-01\n",
            " -1.62177503e+00 -1.32558125e-01  9.61579414e-01 -5.77346367e-01\n",
            "  6.96776950e-01 -1.95028756e+00 -1.71285283e-01 -6.15706505e-01\n",
            " -4.82543126e-01 -1.43341115e+00 -1.40873317e-01  3.12812731e-01\n",
            " -4.85992687e-01  1.63021006e+00 -7.98470455e-01 -5.44135396e-01\n",
            " -5.85977738e-01  3.27814297e-03 -5.92828824e-01  4.77834152e-01\n",
            " -2.37903237e-01  2.84651720e-01  3.71237741e-01 -3.31146606e-01\n",
            "  9.48124952e-01 -4.38979167e-01 -3.22935871e-01  2.39427665e-01\n",
            " -1.11060790e+00  1.22237319e+00 -2.10827147e-01  3.80446114e-01\n",
            "  1.45089494e-01  2.59743543e-01 -6.65716611e-01  1.09552853e+00\n",
            " -1.43664486e+00 -2.38771721e-01 -4.92338108e-01 -1.81697658e+00\n",
            " -1.10977737e+00 -1.52743136e-01 -7.33705359e-01  1.25162638e-01\n",
            " -5.85976886e-01  1.06161568e+00 -1.10155087e+00  2.13613384e+00\n",
            "  6.61978066e-01 -6.08389258e-01 -1.51038961e+00 -6.07790203e-01\n",
            "  2.22053454e+00 -9.44726209e-01 -3.24278374e-01  3.32719670e-02\n",
            "  8.18885671e-01 -1.15233962e-01 -1.32856347e+00 -5.22423017e-01\n",
            "  2.50848421e-01 -1.74730853e+00 -6.40049115e-01  1.62975103e+00\n",
            " -1.05264880e+00  6.60636671e-01  1.13166401e+00  1.12993152e-01\n",
            " -1.09437780e+00 -6.47302475e-01 -1.03834926e+00 -1.03518477e-03\n",
            " -2.48708762e+00  1.84146814e-01 -2.17566363e-01  1.00482604e+00\n",
            " -3.48927123e-01  5.88566408e-01 -1.41934062e+00  1.38176284e-01\n",
            " -1.79555625e+00 -1.86809524e-01  4.74258796e-02  1.38392231e-01\n",
            " -7.82012712e-01 -4.95828889e-01 -7.33778675e-01  1.55327619e-01\n",
            " -1.75054823e-01 -3.15076747e-01  1.85456466e-01 -9.84408456e-01\n",
            "  1.33348873e+00  9.80290708e-02 -1.95634492e-01  4.58354577e-01\n",
            "  1.83254894e-02  4.38341495e-01  6.84925280e-01  1.64602937e+00\n",
            " -7.52174174e-01  1.05270353e+00 -1.36611903e+00 -2.04762620e+00\n",
            " -4.62871810e-01  5.05352960e-01  2.44139029e-01  7.99859650e-01\n",
            " -6.48313268e-01  7.52269975e-01 -4.30161654e-01  1.16123755e+00\n",
            " -1.72840690e+00  7.82999094e-03  3.35523688e-01  3.03427625e-01\n",
            " -1.02246681e+00 -1.73198442e+00  4.74781799e-01 -3.65454996e-01\n",
            "  5.38981510e-01 -1.32275436e-01 -2.15346846e-01  9.90461180e-01\n",
            " -3.99349432e-01  1.34637840e+00  7.51081050e-01  4.69357445e-01\n",
            "  9.32243716e-01 -3.04248773e-01  5.98440247e-01 -4.49107076e-01\n",
            "  6.31911237e-01  1.25861887e+00  2.29728023e+00  1.64713008e+00\n",
            "  6.30459977e-01 -3.29886644e-01 -3.81877452e-01  5.35394770e-01\n",
            " -1.13931066e+00  2.04206701e-01 -2.20661284e-01  1.72081210e+00\n",
            "  9.60328980e-01  1.20504412e+00  1.68459975e-02  9.46814828e-01\n",
            "  1.62100921e+00 -9.47652904e-01 -1.22556380e-01 -1.29167818e+00\n",
            " -1.24467570e+00 -6.48232563e-01 -7.91201867e-01  1.06833678e+00\n",
            "  1.05948919e+00  9.22194483e-01  4.00934412e-01  6.96962185e-01\n",
            "  1.39024859e+00  6.80508487e-01 -9.52918684e-01  3.21172304e-01\n",
            " -7.29370321e-01 -1.30912188e+00 -8.61169610e-02 -1.93725910e+00\n",
            "  5.54772867e-01  8.88766514e-01 -1.42473486e+00 -1.34800468e+00\n",
            "  8.25239657e-01 -7.19020535e-01  1.22806494e+00 -4.97378818e-02\n",
            "  1.41011226e+00 -3.27842944e-01 -5.14193754e-02 -1.58943986e+00\n",
            "  7.08826480e-01  2.59607457e-01 -3.02071704e-01  1.10833373e+00\n",
            "  8.28753634e-01  1.15938998e+00  1.13103019e+00 -7.15115673e-01\n",
            "  1.66276649e+00  3.93335657e-01  1.04429262e-01  8.41599725e-02\n",
            "  9.13538487e-01 -8.20487360e-01 -3.34755818e-01  7.51994557e-01\n",
            "  8.12166135e-01 -9.27385448e-01  8.43574104e-01 -1.07393499e+00\n",
            " -1.88213055e-01 -1.62828109e-01  1.38832005e+00  2.99481572e-02\n",
            " -3.63962613e-01 -9.70716331e-01 -1.43316502e+00 -2.48578092e-01\n",
            "  3.43680925e-02  6.83869368e-01 -1.26317617e+00 -9.06954100e-01\n",
            " -5.85979866e-01  4.60810927e-01 -1.36974086e-01 -2.37857024e+00\n",
            " -5.57837077e-01 -1.07500165e+00 -3.51134317e-01 -8.59791113e-01\n",
            " -4.42082753e-01  9.28549216e-02  7.26610357e-01  8.28610544e-01\n",
            " -1.10845655e+00  9.09662625e-02  3.02755340e-01 -6.26244164e-01\n",
            "  7.44567948e-01  8.80563679e-02  3.24540796e-01  8.92231540e-01\n",
            "  1.77669451e-01 -1.77829129e+00 -4.64856493e-01  6.45638644e-01\n",
            " -1.46002825e+00  1.22120537e+00 -3.49713206e-01 -6.85795146e-01\n",
            " -4.31189013e-01  4.46114225e-01 -3.32829934e-01  2.79693426e+00\n",
            " -1.21348377e+00 -5.24327364e-01 -1.08326611e+00 -1.13185507e+00\n",
            " -1.49700285e+00 -3.50742317e-01  3.82547519e-01 -2.09335376e+00\n",
            "  6.65956137e-01 -1.60068201e-01  5.11989114e-02  1.12007254e+00\n",
            "  1.24801512e+00 -9.62274011e-01 -7.77062406e-01 -1.35892172e+00\n",
            "  1.05713119e+00  1.96991630e+00 -4.73220831e-01 -9.59295091e-01\n",
            "  6.26450595e-01 -5.08839177e-01 -4.53593218e-01  1.22161434e+00\n",
            "  5.34972035e-01  6.82569151e-02 -6.75422896e-02  9.84996802e-01\n",
            " -4.89541603e-01  8.71975138e-01  2.12569259e+00  7.38210316e-02\n",
            " -3.55608200e-01 -1.29616765e+00 -2.45551623e-01 -5.09640683e-01\n",
            " -1.18431609e+00 -3.96184603e-01 -1.18998529e+00 -4.85689810e-01\n",
            " -2.48683013e+00  2.21055871e+00  1.55625368e-01  4.98475336e-02\n",
            " -1.95491660e-01  1.31138562e+00  4.28275729e-02 -1.13364299e+00\n",
            "  1.34521209e+00 -1.81535601e-01 -6.45679718e-01  1.83383188e+00\n",
            " -9.23802795e-01  6.03078099e-01  1.81258277e-01  1.15304606e+00\n",
            " -3.52187199e-01 -8.93998264e-02  1.50368461e+00 -1.73591506e+00\n",
            "  6.86037267e-01  1.00287596e+00 -9.02350027e-01 -2.32747455e+00\n",
            " -2.58985544e-01 -9.34295214e-01 -1.95934305e-01 -1.25634922e+00\n",
            " -7.82860033e-02 -2.55156761e-01  1.56636203e-01 -1.90705239e+00\n",
            "  9.42261649e-01  1.73419391e+00  6.51703784e-01  4.00706330e-01\n",
            " -2.57910251e-01 -1.83788196e+00 -7.25157661e-01 -1.96716112e+00\n",
            "  1.45175010e+00 -6.07236558e-01 -4.57615437e-01 -1.24975515e+00\n",
            "  1.18099386e+00 -1.60845659e+00 -3.38655494e-01 -1.33426191e+00\n",
            " -8.19997459e-01 -1.73760227e+00 -1.67637532e+00  5.27634333e-01\n",
            " -2.09066445e+00  8.32945469e-01 -8.46103547e-01  4.90661874e-01\n",
            " -2.44776302e-01 -8.21236917e-01 -1.23716247e+00 -6.41675944e-01\n",
            " -2.32530605e+00  1.69926563e+00  1.02457118e+00 -4.90308985e-01\n",
            " -1.74983891e+00  4.76019439e-01 -1.19227006e-01  1.42360759e-01\n",
            " -4.14675138e-01 -2.45219577e+00  1.47862129e+00  2.32380070e-01\n",
            "  7.59172779e-01  6.20472836e-01 -6.33068230e-01  2.59176907e-01\n",
            " -1.40936066e-01 -2.80869985e-01  9.02136556e-01 -5.78919273e-01\n",
            " -6.70423579e-01  1.43615563e+00 -2.61666950e-01 -4.20141140e-01\n",
            " -2.76904451e-01  6.00112510e-01 -1.41332298e+00  5.31331863e-01\n",
            " -1.96344327e+00  1.13195636e-01 -1.62801534e+00  7.68745077e-02\n",
            "  1.32618628e+00  4.98255485e-01 -1.22488379e+00  1.89925128e+00\n",
            " -3.67183495e-01  5.95117212e-01 -4.69298141e-01  9.37444906e-01\n",
            " -1.57454712e+00  1.12208197e-01  4.26957037e-01  1.52641759e-01\n",
            "  1.03316673e+00 -1.23090701e+00  7.67201698e-01  1.36419789e-01\n",
            "  3.75617229e-01  1.54143016e+00  1.73657924e-01 -1.36891387e+00\n",
            "  1.59532691e-01 -2.78706810e-01  2.82817292e+00 -2.60778627e-01\n",
            "  9.46053215e-01 -1.15561138e+00 -9.42394265e-01  1.71536027e+00\n",
            "  5.56896356e-01  4.68562976e-01  1.25837481e+00 -6.58308012e-01\n",
            " -8.19573925e-02  3.40859599e-01  9.51664724e-01  1.06799951e-01\n",
            "  1.56485494e+00  4.60754253e-01  2.70512946e-01 -1.21523779e+00\n",
            " -1.02796295e+00 -5.91121618e-01  1.59104178e+00 -1.71022003e+00\n",
            " -1.81535403e+00  1.25896102e+00 -1.70355837e+00 -6.51258263e-01\n",
            " -1.50472205e+00  7.65319683e-01  4.23554195e-01 -1.27632901e+00\n",
            "  4.84486147e-01 -8.54991977e-01  4.10259242e-01  2.83108180e-01\n",
            " -2.02105721e+00 -7.48753075e-01  3.80900304e-01  1.19212065e+00\n",
            "  3.01587268e-01  8.40195984e-01  1.20972216e+00 -1.38929529e+00\n",
            " -4.75318181e-01 -7.00782367e-01 -1.81164920e+00 -1.08541865e+00\n",
            " -2.18553727e+00  1.10429701e-01  7.38607154e-01  9.40147050e-01\n",
            " -2.00977430e-01  2.10137778e-01  9.07911616e-01 -1.99979236e-01\n",
            "  6.45835445e-01 -2.23983894e+00  8.86690825e-01 -4.56472178e-02\n",
            "  8.27767918e-01  1.17855300e+00  2.91549432e-01 -1.77308996e-01\n",
            " -4.98283358e-01  1.98014614e-01  1.96993512e+00  1.83026894e+00\n",
            " -1.71224126e+00 -8.00021594e-01  6.27958389e-01 -4.37572380e-01\n",
            " -9.33076062e-01 -5.98986728e-01 -2.31625077e-01 -8.68867871e-01\n",
            " -2.98036180e-01 -9.07214809e-01  4.10324225e-01  7.38366918e-01\n",
            " -9.63026780e-01 -7.25214508e-01 -8.30874466e-02 -6.89177158e-01\n",
            " -2.52664436e+00 -1.33978120e+00 -1.11347111e+00  1.34910626e+00\n",
            " -1.91214174e+00  5.19474289e-01  4.69635700e-02  1.17168423e+00\n",
            "  3.97548276e-01 -2.22779047e+00  4.24934670e-01  1.05596779e+00\n",
            "  7.67377081e-01  8.99879759e-01  1.25072587e+00  1.11321564e-01\n",
            " -9.64430663e-01 -2.06671495e+00  7.12257812e-01 -7.72043528e-01\n",
            "  2.01115461e+00 -9.10264101e-01 -4.05937088e-01 -2.39794679e+00\n",
            "  1.19301328e+00 -1.76648510e-02 -6.45621607e-01  4.93392151e-01\n",
            "  1.19843753e+00 -1.59827941e+00 -1.62396358e-01 -3.97332793e-01\n",
            " -1.36663788e+00 -4.09707750e-01 -1.08339682e+00 -7.95100848e-01\n",
            "  3.74723739e-01  2.90596569e-02 -1.24470174e-03  1.46973760e+00\n",
            " -5.12409170e-01 -3.18476882e-01  1.26652320e-02  1.44838142e+00\n",
            "  2.11769273e+00  4.80974872e-01 -1.77463010e+00  6.93848976e-01\n",
            " -6.73505204e-01  1.08360898e+00 -6.86380499e-01  3.06641716e-01\n",
            " -9.86736344e-01 -2.45809883e-01 -5.78990985e-01  2.61319545e+00\n",
            " -4.55367401e-01 -2.42220462e-01  3.17195139e-01  1.37021844e+00\n",
            "  1.01991714e+00 -9.57742450e-01  5.70995162e-01 -1.44180886e+00\n",
            " -6.30180405e-01 -2.75283923e-01 -3.90840254e-02  2.21861547e-01\n",
            "  5.81428755e-01  7.13469811e-01  2.49682294e-01  1.70766209e+00\n",
            "  2.06186282e+00 -2.09279466e+00 -6.36048630e-01 -3.96266370e-01\n",
            " -1.37181850e+00 -4.32693436e-01 -1.99921467e-01 -7.55904107e-01\n",
            " -3.89527600e-01 -5.22378825e-01 -7.34559333e-01 -1.01949239e+00\n",
            "  1.53881213e+00  2.12983647e-01  4.07569083e-01  9.62495802e-01\n",
            " -7.26000353e-01 -1.07333784e+00 -1.25889902e+00  4.92798051e-01\n",
            "  1.61782882e+00 -4.05874628e-01 -9.41639180e-01 -1.67825772e+00\n",
            "  3.61013957e-01 -4.62166060e-01  1.25436379e-01 -1.16692155e+00\n",
            "  1.89360294e+00 -4.20802423e-01 -1.22825281e+00  1.08715856e+00\n",
            "  2.96137951e-01 -8.06998015e-02 -1.53700063e+00 -1.19715837e+00\n",
            "  1.88927414e-01 -5.47751904e-01  3.12298555e-01  3.95819795e-02\n",
            "  1.43636183e+00  1.74994474e+00  1.10427655e+00  7.02836906e-01\n",
            " -4.70413654e-01  4.89683302e-01  1.77070662e+00  4.44006764e-01\n",
            " -1.81359892e-01  1.20168831e+00  8.51530515e-01 -3.41547042e-02\n",
            "  4.26313224e-01 -5.16303928e-01 -1.15639060e+00 -3.97205297e-01\n",
            "  6.57873155e-01 -1.02166208e+00 -7.95004493e-01  2.09007130e-01\n",
            "  6.14770578e-01  1.31054431e-02  1.46149436e+00 -2.11693306e+00\n",
            "  2.02000603e+00 -5.57335730e-01  4.86918611e-01 -1.77040528e-01\n",
            " -1.23803248e+00  8.21211344e-01  9.14867212e-01  9.22845279e-01\n",
            "  1.25358619e+00 -1.62077423e+00 -1.04823335e+00 -1.57067297e-01\n",
            " -2.27258461e+00 -3.52725058e-01 -2.35221924e+00 -2.92225563e-01\n",
            " -1.67072014e+00 -1.20827407e+00 -1.71269251e-01  6.37880990e-01\n",
            "  1.79434916e-01 -2.64781455e-01  1.61799730e-01  4.74156432e-01\n",
            " -2.33999515e-01  7.89027265e-01 -5.43854017e-01 -8.49816154e-01\n",
            " -1.21324703e+00 -5.00962914e-01  6.25928870e-01  1.40292196e-01\n",
            " -7.41042801e-01  4.02637935e-01 -6.46319327e-01 -1.85602931e-01\n",
            " -3.50452549e-01  2.17089213e-01  4.36629416e-01  5.41258096e-01\n",
            "  3.18359223e-01 -3.98180469e-01  8.99629774e-01  6.53543265e-01\n",
            " -1.18403766e+00  3.11670063e-01 -9.52107356e-01 -1.15544568e+00\n",
            "  1.51472499e+00 -4.65700583e-01 -9.68835471e-01 -2.09891450e+00\n",
            "  1.21615780e+00 -5.04808455e-02  2.56148496e-01 -3.08991131e-01\n",
            " -9.02827491e-01 -3.18680644e-01 -5.83670412e-01  1.50034008e+00\n",
            "  2.53439259e-01  1.16607916e+00  4.50962309e-01  8.24574787e-01\n",
            " -2.45784996e-01  2.96298975e-02 -1.75765508e+00  2.93670779e+00\n",
            "  3.41443431e-01 -7.43962764e-01 -4.32140509e-01 -6.11106276e-01\n",
            "  1.77979638e+00 -7.41152165e-01 -1.54589913e+00  1.44157020e+00\n",
            " -2.40153507e-02  2.24149288e-01  1.64950549e-01  7.80209533e-02\n",
            " -6.30955002e-01 -5.94927449e-01  6.41906056e-01 -1.45573199e+00\n",
            " -1.63221395e-01 -2.55719295e-02  1.69495314e+00  1.24783151e-01\n",
            "  3.68932943e-01  1.66850692e+00 -5.06620493e-01 -2.47277245e-01\n",
            "  2.00600946e-01  3.48245888e-01  7.63904012e-01  6.31979564e-01\n",
            " -1.92060422e-01 -1.20004573e-01 -4.38049309e-01  1.38826624e+00\n",
            " -2.47756225e-01 -1.69630615e+00  1.13350405e+00  1.54376951e+00\n",
            "  8.57940479e-01 -1.93266734e+00  1.50870989e+00 -5.03849924e-02\n",
            "  4.56777297e-01  8.70298195e-01  5.54828886e-01 -1.02178752e+00\n",
            " -7.76795130e-01  1.29023821e+00 -5.75352269e-01 -1.39380304e+00\n",
            "  5.55681222e-02 -3.17708205e-01  2.80648509e-01  4.27684007e-01\n",
            " -1.20081503e+00  3.97418950e-01 -1.34318419e+00 -1.14038474e+00\n",
            "  1.14800619e+00 -3.24241067e-01  8.14522456e-01  1.73909684e+00\n",
            " -8.95693409e-01 -2.42523699e+00  1.77364414e+00 -3.12927711e-01\n",
            " -7.12406788e-01 -2.13197368e-01 -1.05658864e-01  1.43227617e+00\n",
            "  4.48171006e-01  2.00033714e+00 -5.97162936e-01 -1.69598212e-01\n",
            " -9.74173591e-01 -9.40419295e-01  7.01059800e-01 -2.59016125e-01\n",
            " -2.16938606e+00  1.09957495e+00  3.58775221e-01 -2.26191831e-01\n",
            " -1.62066823e+00  3.18119487e-01  1.01894162e+00 -3.31642892e-01]\n",
            "-33.5048663603194\n",
            "1.001348347924818\n",
            "1.0026985138917623\n"
          ]
        }
      ]
    },
    {
      "cell_type": "code",
      "source": [
        "rand_data=np.random.randn(2,5)\n",
        "print(rand_data)\n",
        "print(np.sum(rand_data))\n",
        "print(np.sum(rand_data,0))\n",
        "print(np.sum(rand_data,1))\n",
        "\n",
        "print(rand_data.mean())\n",
        "print(rand_data.mean(0))\n",
        "print(rand_data.mean(1))"
      ],
      "metadata": {
        "colab": {
          "base_uri": "https://localhost:8080/"
        },
        "id": "1EtUqCc5LjtY",
        "outputId": "631b6965-5436-49ba-d840-0958bc2c8181"
      },
      "execution_count": null,
      "outputs": [
        {
          "output_type": "stream",
          "name": "stdout",
          "text": [
            "[[ 0.31130546 -1.57785394 -0.84023428 -0.49422392  0.14503907]\n",
            " [ 0.27178226  1.39522887  2.07473395 -0.06777551  0.60822239]]\n",
            "1.8262243463251844\n",
            "[ 0.58308772 -0.18262507  1.23449967 -0.56199943  0.75326146]\n",
            "[-2.45596763  4.28219197]\n",
            "0.18262243463251843\n",
            "[ 0.29154386 -0.09131254  0.61724983 -0.28099971  0.37663073]\n",
            "[-0.49119353  0.85643839]\n"
          ]
        }
      ]
    },
    {
      "cell_type": "code",
      "source": [
        "rand_data=np.random.normal(0,1,10)\n",
        "print(rand_data)\n",
        "print(np.sort(rand_data))\n"
      ],
      "metadata": {
        "colab": {
          "base_uri": "https://localhost:8080/"
        },
        "id": "WKbXJyOuMD0V",
        "outputId": "29e13445-b9e2-4f22-85e7-63780e7e1a5d"
      },
      "execution_count": null,
      "outputs": [
        {
          "output_type": "stream",
          "name": "stdout",
          "text": [
            "[ 0.43030701 -1.86171309  0.20982491  0.6905061  -1.44061797 -0.53505396\n",
            " -0.76861422  0.45942456  0.55656039 -0.30287139]\n",
            "[-1.86171309 -1.44061797 -0.76861422 -0.53505396 -0.30287139  0.20982491\n",
            "  0.43030701  0.45942456  0.55656039  0.6905061 ]\n"
          ]
        }
      ]
    },
    {
      "cell_type": "code",
      "source": [
        "rand_data=np.random.randn(3,5)\n",
        "print(rand_data)\n",
        "print(np.sort(rand_data))\n",
        "print(np.sort(rand_data,-1))\n",
        "print(np.sort(rand_data,None))"
      ],
      "metadata": {
        "colab": {
          "base_uri": "https://localhost:8080/"
        },
        "id": "V3Eq00rpMft9",
        "outputId": "555182a3-c45d-4b02-ec59-40166fa863f9"
      },
      "execution_count": null,
      "outputs": [
        {
          "output_type": "stream",
          "name": "stdout",
          "text": [
            "[[-0.32013265 -3.88539096 -1.50336644  0.18821631 -0.04250198]\n",
            " [ 1.38641998 -2.36255006 -0.29362619  0.52806034 -0.17248482]\n",
            " [ 0.12020512  0.85360505 -1.65433239  1.99979381 -1.24043983]]\n",
            "[[-3.88539096 -1.50336644 -0.32013265 -0.04250198  0.18821631]\n",
            " [-2.36255006 -0.29362619 -0.17248482  0.52806034  1.38641998]\n",
            " [-1.65433239 -1.24043983  0.12020512  0.85360505  1.99979381]]\n",
            "[[-3.88539096 -1.50336644 -0.32013265 -0.04250198  0.18821631]\n",
            " [-2.36255006 -0.29362619 -0.17248482  0.52806034  1.38641998]\n",
            " [-1.65433239 -1.24043983  0.12020512  0.85360505  1.99979381]]\n",
            "[-3.88539096 -2.36255006 -1.65433239 -1.50336644 -1.24043983 -0.32013265\n",
            " -0.29362619 -0.17248482 -0.04250198  0.12020512  0.18821631  0.52806034\n",
            "  0.85360505  1.38641998  1.99979381]\n"
          ]
        }
      ]
    },
    {
      "cell_type": "code",
      "source": [
        "print(np.sort(rand_data)) # 원본에 반영 안됨\n",
        "print(rand_data)\n",
        "print(rand_data.sort()) # 원본에 반영됨\n",
        "print(rand_data)"
      ],
      "metadata": {
        "colab": {
          "base_uri": "https://localhost:8080/"
        },
        "id": "y0MxKWxAMpkF",
        "outputId": "3d524a88-3b4c-499c-a86c-1c52a19214d2"
      },
      "execution_count": null,
      "outputs": [
        {
          "output_type": "stream",
          "name": "stdout",
          "text": [
            "[[-3.88539096 -1.50336644 -0.32013265 -0.04250198  0.18821631]\n",
            " [-2.36255006 -0.29362619 -0.17248482  0.52806034  1.38641998]\n",
            " [-1.65433239 -1.24043983  0.12020512  0.85360505  1.99979381]]\n",
            "[[-0.32013265 -3.88539096 -1.50336644  0.18821631 -0.04250198]\n",
            " [ 1.38641998 -2.36255006 -0.29362619  0.52806034 -0.17248482]\n",
            " [ 0.12020512  0.85360505 -1.65433239  1.99979381 -1.24043983]]\n",
            "None\n",
            "[[-3.88539096 -1.50336644 -0.32013265 -0.04250198  0.18821631]\n",
            " [-2.36255006 -0.29362619 -0.17248482  0.52806034  1.38641998]\n",
            " [-1.65433239 -1.24043983  0.12020512  0.85360505  1.99979381]]\n"
          ]
        }
      ]
    },
    {
      "cell_type": "code",
      "source": [
        "print(np.argsort([8,2,9,4,2,5,2,1])) # 오름차순 순서를 알려줌"
      ],
      "metadata": {
        "colab": {
          "base_uri": "https://localhost:8080/"
        },
        "id": "uikJf1ZXN41Z",
        "outputId": "8f19a215-406e-41a6-a926-53df0499a6ac"
      },
      "execution_count": null,
      "outputs": [
        {
          "output_type": "stream",
          "name": "stdout",
          "text": [
            "[7 1 4 6 3 5 0 2]\n"
          ]
        }
      ]
    },
    {
      "cell_type": "code",
      "source": [
        "rand_data=np.random.randint(2,9,20)\n",
        "print(rand_data)\n",
        "\n",
        "print(np.unique(rand_data))\n",
        "\n",
        "print(np.unique(rand_data,return_counts=True)) # return_counts가 True이면 해당 고유값이 몇 번 발생했는지 반환됨"
      ],
      "metadata": {
        "colab": {
          "base_uri": "https://localhost:8080/"
        },
        "id": "WmSpHLM_OGiX",
        "outputId": "11a56949-5b62-449c-99c8-b4094148b233"
      },
      "execution_count": null,
      "outputs": [
        {
          "output_type": "stream",
          "name": "stdout",
          "text": [
            "[3 5 5 7 7 5 6 6 4 4 6 2 5 2 8 6 6 3 3 7]\n",
            "[2 3 4 5 6 7 8]\n",
            "(array([2, 3, 4, 5, 6, 7, 8]), array([2, 3, 2, 4, 5, 3, 1]))\n"
          ]
        }
      ]
    },
    {
      "cell_type": "code",
      "source": [
        "rand_data=np.random.randint(2,9,5)\n",
        "print(rand_data)\n",
        "print(np.in1d(rand_data,[2,3])) # rand_data에 [2,3]이 있는지에 대한 T/F 반환"
      ],
      "metadata": {
        "colab": {
          "base_uri": "https://localhost:8080/"
        },
        "id": "zlYByQ0COX4B",
        "outputId": "2507ca44-855f-4bf4-a8fc-be6ab60579ca"
      },
      "execution_count": null,
      "outputs": [
        {
          "output_type": "stream",
          "name": "stdout",
          "text": [
            "[3 5 3 3 2]\n",
            "[ True False  True  True  True]\n"
          ]
        }
      ]
    },
    {
      "cell_type": "code",
      "source": [
        "rand_data=np.random.randint(2,9,(2,5))\n",
        "print(rand_data)\n",
        "\n",
        "print(np.intersect1d(rand_data[0],rand_data[1]))\n",
        "print(np.union1d(rand_data[0],rand_data[1]))\n",
        "print(np.setdiff1d(rand_data[0],rand_data[1]))\n",
        "print(np.setdiff1d(rand_data[1],rand_data[0]))"
      ],
      "metadata": {
        "colab": {
          "base_uri": "https://localhost:8080/"
        },
        "id": "56zuxiulOtFh",
        "outputId": "239b4e62-944c-402b-cfa0-4e3c03388b9c"
      },
      "execution_count": null,
      "outputs": [
        {
          "output_type": "stream",
          "name": "stdout",
          "text": [
            "[[3 3 3 5 3]\n",
            " [8 6 6 6 7]]\n",
            "[]\n",
            "[3 5 6 7 8]\n",
            "[3 5]\n",
            "[6 7 8]\n"
          ]
        }
      ]
    },
    {
      "cell_type": "code",
      "source": [
        "arange_data=np.arange(1,10)\n",
        "print(arange_data)"
      ],
      "metadata": {
        "colab": {
          "base_uri": "https://localhost:8080/"
        },
        "id": "t6sy53hnQQTh",
        "outputId": "824c45e5-032a-40ba-c418-62ea3c49e01d"
      },
      "execution_count": null,
      "outputs": [
        {
          "output_type": "stream",
          "name": "stdout",
          "text": [
            "[1 2 3 4 5 6 7 8 9]\n"
          ]
        }
      ]
    },
    {
      "cell_type": "code",
      "source": [
        "result=np.where(arange_data>0,True,False).sum()\n",
        "print(result)"
      ],
      "metadata": {
        "colab": {
          "base_uri": "https://localhost:8080/"
        },
        "id": "-JpGIxEvQTda",
        "outputId": "af8db54d-3aae-47cb-8cd8-8745d5bb7197"
      },
      "execution_count": null,
      "outputs": [
        {
          "output_type": "stream",
          "name": "stdout",
          "text": [
            "9\n"
          ]
        }
      ]
    },
    {
      "cell_type": "code",
      "source": [],
      "metadata": {
        "id": "LVo9ob_FQX2a"
      },
      "execution_count": null,
      "outputs": []
    }
  ]
}