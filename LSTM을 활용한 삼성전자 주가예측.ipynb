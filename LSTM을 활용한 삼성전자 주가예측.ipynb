{
 "cells": [
  {
   "cell_type": "markdown",
   "id": "9815ece1",
   "metadata": {},
   "source": [
    "## LSTM을 활용한 주가 예측 모델"
   ]
  },
  {
   "cell_type": "markdown",
   "id": "c4b45ac9",
   "metadata": {},
   "source": [
    "### FinanceDataReader 설치"
   ]
  },
  {
   "cell_type": "code",
   "execution_count": 1,
   "id": "de70d855",
   "metadata": {},
   "outputs": [
    {
     "name": "stdout",
     "output_type": "stream",
     "text": [
      "Collecting finance-datareader\n",
      "  Downloading finance_datareader-0.9.34-py3-none-any.whl (17 kB)\n",
      "Requirement already satisfied: tqdm in c:\\users\\user\\anaconda3\\envs\\ml\\lib\\site-packages (from finance-datareader) (4.64.0)\n",
      "Collecting lxml\n",
      "  Downloading lxml-4.9.1-cp39-cp39-win_amd64.whl (3.6 MB)\n",
      "Requirement already satisfied: pandas>=0.19.2 in c:\\users\\user\\anaconda3\\envs\\ml\\lib\\site-packages (from finance-datareader) (1.4.3)\n",
      "Collecting requests-file\n",
      "  Downloading requests_file-1.5.1-py2.py3-none-any.whl (3.7 kB)\n",
      "Requirement already satisfied: requests>=2.3.0 in c:\\users\\user\\anaconda3\\envs\\ml\\lib\\site-packages (from finance-datareader) (2.28.0)\n",
      "Requirement already satisfied: numpy>=1.18.5 in c:\\users\\user\\anaconda3\\envs\\ml\\lib\\site-packages (from pandas>=0.19.2->finance-datareader) (1.22.3)\n",
      "Requirement already satisfied: pytz>=2020.1 in c:\\users\\user\\anaconda3\\envs\\ml\\lib\\site-packages (from pandas>=0.19.2->finance-datareader) (2022.1)\n",
      "Requirement already satisfied: python-dateutil>=2.8.1 in c:\\users\\user\\anaconda3\\envs\\ml\\lib\\site-packages (from pandas>=0.19.2->finance-datareader) (2.8.2)\n",
      "Requirement already satisfied: six>=1.5 in c:\\users\\user\\anaconda3\\envs\\ml\\lib\\site-packages (from python-dateutil>=2.8.1->pandas>=0.19.2->finance-datareader) (1.16.0)\n",
      "Requirement already satisfied: idna<4,>=2.5 in c:\\users\\user\\anaconda3\\envs\\ml\\lib\\site-packages (from requests>=2.3.0->finance-datareader) (3.3)\n",
      "Requirement already satisfied: charset-normalizer~=2.0.0 in c:\\users\\user\\anaconda3\\envs\\ml\\lib\\site-packages (from requests>=2.3.0->finance-datareader) (2.0.4)\n",
      "Requirement already satisfied: urllib3<1.27,>=1.21.1 in c:\\users\\user\\anaconda3\\envs\\ml\\lib\\site-packages (from requests>=2.3.0->finance-datareader) (1.26.9)\n",
      "Requirement already satisfied: certifi>=2017.4.17 in c:\\users\\user\\anaconda3\\envs\\ml\\lib\\site-packages (from requests>=2.3.0->finance-datareader) (2022.6.15)\n",
      "Requirement already satisfied: colorama in c:\\users\\user\\anaconda3\\envs\\ml\\lib\\site-packages (from tqdm->finance-datareader) (0.4.5)\n",
      "Installing collected packages: requests-file, lxml, finance-datareader\n",
      "Successfully installed finance-datareader-0.9.34 lxml-4.9.1 requests-file-1.5.1\n"
     ]
    }
   ],
   "source": [
    "!pip install finance-datareader"
   ]
  },
  {
   "cell_type": "markdown",
   "id": "ff32cc38",
   "metadata": {},
   "source": [
    "### 모듈 import"
   ]
  },
  {
   "cell_type": "code",
   "execution_count": 2,
   "id": "6053f23c",
   "metadata": {},
   "outputs": [],
   "source": [
    "import FinanceDataReader as fdr"
   ]
  },
  {
   "cell_type": "code",
   "execution_count": 12,
   "id": "640c8c23",
   "metadata": {},
   "outputs": [],
   "source": [
    "import pandas as pd\n",
    "import numpy as np\n",
    "import matplotlib.pyplot as plt\n",
    "import seaborn as sns\n",
    "import warnings\n",
    "import os\n",
    "\n",
    "%matplotlib inline\n",
    "warnings.filterwarnings('ignore')\n",
    "\n",
    "plt.rcParams['font.family'] = 'NanumGothic' # 한글 폰트 설정"
   ]
  },
  {
   "cell_type": "markdown",
   "id": "fa5ed01a",
   "metadata": {},
   "source": [
    "### 삼성전자(005930) 주가 데이터를 DataFrame으로 받아오기"
   ]
  },
  {
   "cell_type": "markdown",
   "id": "85c2dc56",
   "metadata": {},
   "source": [
    "- `Open`:   시가\n",
    "- `High`:   고가\n",
    "- `Low`:    저가\n",
    "- `Close`:  종가\n",
    "- `Volume`: 거래량\n",
    "- `Change`: 대비"
   ]
  },
  {
   "cell_type": "code",
   "execution_count": 3,
   "id": "f54b7f43",
   "metadata": {},
   "outputs": [],
   "source": [
    "STOCK_CODE='005930' # 삼성전자 주식코드"
   ]
  },
  {
   "cell_type": "code",
   "execution_count": 4,
   "id": "2dc4eab2",
   "metadata": {},
   "outputs": [],
   "source": [
    "stock=fdr.DataReader(STOCK_CODE)"
   ]
  },
  {
   "cell_type": "code",
   "execution_count": 5,
   "id": "9c320e71",
   "metadata": {},
   "outputs": [
    {
     "data": {
      "text/html": [
       "<div>\n",
       "<style scoped>\n",
       "    .dataframe tbody tr th:only-of-type {\n",
       "        vertical-align: middle;\n",
       "    }\n",
       "\n",
       "    .dataframe tbody tr th {\n",
       "        vertical-align: top;\n",
       "    }\n",
       "\n",
       "    .dataframe thead th {\n",
       "        text-align: right;\n",
       "    }\n",
       "</style>\n",
       "<table border=\"1\" class=\"dataframe\">\n",
       "  <thead>\n",
       "    <tr style=\"text-align: right;\">\n",
       "      <th></th>\n",
       "      <th>Open</th>\n",
       "      <th>High</th>\n",
       "      <th>Low</th>\n",
       "      <th>Close</th>\n",
       "      <th>Volume</th>\n",
       "      <th>Change</th>\n",
       "    </tr>\n",
       "    <tr>\n",
       "      <th>Date</th>\n",
       "      <th></th>\n",
       "      <th></th>\n",
       "      <th></th>\n",
       "      <th></th>\n",
       "      <th></th>\n",
       "      <th></th>\n",
       "    </tr>\n",
       "  </thead>\n",
       "  <tbody>\n",
       "    <tr>\n",
       "      <th>1998-05-16</th>\n",
       "      <td>1191</td>\n",
       "      <td>1210</td>\n",
       "      <td>1191</td>\n",
       "      <td>1201</td>\n",
       "      <td>124980</td>\n",
       "      <td>NaN</td>\n",
       "    </tr>\n",
       "    <tr>\n",
       "      <th>1998-05-18</th>\n",
       "      <td>1206</td>\n",
       "      <td>1226</td>\n",
       "      <td>1165</td>\n",
       "      <td>1177</td>\n",
       "      <td>255210</td>\n",
       "      <td>-0.019983</td>\n",
       "    </tr>\n",
       "    <tr>\n",
       "      <th>1998-05-19</th>\n",
       "      <td>1163</td>\n",
       "      <td>1171</td>\n",
       "      <td>1118</td>\n",
       "      <td>1138</td>\n",
       "      <td>434310</td>\n",
       "      <td>-0.033135</td>\n",
       "    </tr>\n",
       "    <tr>\n",
       "      <th>1998-05-20</th>\n",
       "      <td>1145</td>\n",
       "      <td>1161</td>\n",
       "      <td>1126</td>\n",
       "      <td>1130</td>\n",
       "      <td>352676</td>\n",
       "      <td>-0.007030</td>\n",
       "    </tr>\n",
       "    <tr>\n",
       "      <th>1998-05-21</th>\n",
       "      <td>1130</td>\n",
       "      <td>1139</td>\n",
       "      <td>1061</td>\n",
       "      <td>1061</td>\n",
       "      <td>605730</td>\n",
       "      <td>-0.061062</td>\n",
       "    </tr>\n",
       "  </tbody>\n",
       "</table>\n",
       "</div>"
      ],
      "text/plain": [
       "            Open  High   Low  Close  Volume    Change\n",
       "Date                                                 \n",
       "1998-05-16  1191  1210  1191   1201  124980       NaN\n",
       "1998-05-18  1206  1226  1165   1177  255210 -0.019983\n",
       "1998-05-19  1163  1171  1118   1138  434310 -0.033135\n",
       "1998-05-20  1145  1161  1126   1130  352676 -0.007030\n",
       "1998-05-21  1130  1139  1061   1061  605730 -0.061062"
      ]
     },
     "execution_count": 5,
     "metadata": {},
     "output_type": "execute_result"
    }
   ],
   "source": [
    "stock.head()"
   ]
  },
  {
   "cell_type": "code",
   "execution_count": 7,
   "id": "5b4b9319",
   "metadata": {},
   "outputs": [
    {
     "data": {
      "text/html": [
       "<div>\n",
       "<style scoped>\n",
       "    .dataframe tbody tr th:only-of-type {\n",
       "        vertical-align: middle;\n",
       "    }\n",
       "\n",
       "    .dataframe tbody tr th {\n",
       "        vertical-align: top;\n",
       "    }\n",
       "\n",
       "    .dataframe thead th {\n",
       "        text-align: right;\n",
       "    }\n",
       "</style>\n",
       "<table border=\"1\" class=\"dataframe\">\n",
       "  <thead>\n",
       "    <tr style=\"text-align: right;\">\n",
       "      <th></th>\n",
       "      <th>Open</th>\n",
       "      <th>High</th>\n",
       "      <th>Low</th>\n",
       "      <th>Close</th>\n",
       "      <th>Volume</th>\n",
       "      <th>Change</th>\n",
       "    </tr>\n",
       "    <tr>\n",
       "      <th>Date</th>\n",
       "      <th></th>\n",
       "      <th></th>\n",
       "      <th></th>\n",
       "      <th></th>\n",
       "      <th></th>\n",
       "      <th></th>\n",
       "    </tr>\n",
       "  </thead>\n",
       "  <tbody>\n",
       "    <tr>\n",
       "      <th>2022-07-15</th>\n",
       "      <td>58400</td>\n",
       "      <td>60000</td>\n",
       "      <td>58100</td>\n",
       "      <td>60000</td>\n",
       "      <td>18685583</td>\n",
       "      <td>0.043478</td>\n",
       "    </tr>\n",
       "    <tr>\n",
       "      <th>2022-07-18</th>\n",
       "      <td>60600</td>\n",
       "      <td>62000</td>\n",
       "      <td>60500</td>\n",
       "      <td>61900</td>\n",
       "      <td>20832517</td>\n",
       "      <td>0.031667</td>\n",
       "    </tr>\n",
       "    <tr>\n",
       "      <th>2022-07-19</th>\n",
       "      <td>61400</td>\n",
       "      <td>61500</td>\n",
       "      <td>60200</td>\n",
       "      <td>60900</td>\n",
       "      <td>15248261</td>\n",
       "      <td>-0.016155</td>\n",
       "    </tr>\n",
       "    <tr>\n",
       "      <th>2022-07-20</th>\n",
       "      <td>61800</td>\n",
       "      <td>62100</td>\n",
       "      <td>60500</td>\n",
       "      <td>60500</td>\n",
       "      <td>16782238</td>\n",
       "      <td>-0.006568</td>\n",
       "    </tr>\n",
       "    <tr>\n",
       "      <th>2022-07-21</th>\n",
       "      <td>61100</td>\n",
       "      <td>61800</td>\n",
       "      <td>60700</td>\n",
       "      <td>61800</td>\n",
       "      <td>10560324</td>\n",
       "      <td>0.021488</td>\n",
       "    </tr>\n",
       "  </tbody>\n",
       "</table>\n",
       "</div>"
      ],
      "text/plain": [
       "             Open   High    Low  Close    Volume    Change\n",
       "Date                                                      \n",
       "2022-07-15  58400  60000  58100  60000  18685583  0.043478\n",
       "2022-07-18  60600  62000  60500  61900  20832517  0.031667\n",
       "2022-07-19  61400  61500  60200  60900  15248261 -0.016155\n",
       "2022-07-20  61800  62100  60500  60500  16782238 -0.006568\n",
       "2022-07-21  61100  61800  60700  61800  10560324  0.021488"
      ]
     },
     "execution_count": 7,
     "metadata": {},
     "output_type": "execute_result"
    }
   ],
   "source": [
    "stock.tail()"
   ]
  },
  {
   "cell_type": "code",
   "execution_count": 8,
   "id": "77b3d8eb",
   "metadata": {},
   "outputs": [
    {
     "data": {
      "text/plain": [
       "DatetimeIndex(['1998-05-16', '1998-05-18', '1998-05-19', '1998-05-20',\n",
       "               '1998-05-21', '1998-05-22', '1998-05-23', '1998-05-25',\n",
       "               '1998-05-26', '1998-05-27',\n",
       "               ...\n",
       "               '2022-07-08', '2022-07-11', '2022-07-12', '2022-07-13',\n",
       "               '2022-07-14', '2022-07-15', '2022-07-18', '2022-07-19',\n",
       "               '2022-07-20', '2022-07-21'],\n",
       "              dtype='datetime64[ns]', name='Date', length=6000, freq=None)"
      ]
     },
     "execution_count": 8,
     "metadata": {},
     "output_type": "execute_result"
    }
   ],
   "source": [
    "stock.index"
   ]
  },
  {
   "cell_type": "code",
   "execution_count": 14,
   "id": "cdb87491",
   "metadata": {},
   "outputs": [
    {
     "data": {
      "text/plain": [
       "6000"
      ]
     },
     "execution_count": 14,
     "metadata": {},
     "output_type": "execute_result"
    }
   ],
   "source": [
    "len(stock.index)"
   ]
  },
  {
   "cell_type": "markdown",
   "id": "2047abb0",
   "metadata": {},
   "source": [
    "index가 `DatetimeIndex`로 지정되어 있다.\n",
    "\n",
    "`DatetimeIndex`를 연,월,일로 쪼개면 **월별, 연도별 피벗데이터**를 만들 때 유용하게 활용할 수 있다."
   ]
  },
  {
   "cell_type": "code",
   "execution_count": 9,
   "id": "a908a155",
   "metadata": {},
   "outputs": [],
   "source": [
    "stock['Year']=stock.index.year # 연\n",
    "stock['Month']=stock.index.month # 월\n",
    "stock['Day']=stock.index.day # 일"
   ]
  },
  {
   "cell_type": "code",
   "execution_count": 10,
   "id": "ce21ec01",
   "metadata": {},
   "outputs": [
    {
     "data": {
      "text/html": [
       "<div>\n",
       "<style scoped>\n",
       "    .dataframe tbody tr th:only-of-type {\n",
       "        vertical-align: middle;\n",
       "    }\n",
       "\n",
       "    .dataframe tbody tr th {\n",
       "        vertical-align: top;\n",
       "    }\n",
       "\n",
       "    .dataframe thead th {\n",
       "        text-align: right;\n",
       "    }\n",
       "</style>\n",
       "<table border=\"1\" class=\"dataframe\">\n",
       "  <thead>\n",
       "    <tr style=\"text-align: right;\">\n",
       "      <th></th>\n",
       "      <th>Open</th>\n",
       "      <th>High</th>\n",
       "      <th>Low</th>\n",
       "      <th>Close</th>\n",
       "      <th>Volume</th>\n",
       "      <th>Change</th>\n",
       "      <th>Year</th>\n",
       "      <th>Month</th>\n",
       "      <th>Day</th>\n",
       "    </tr>\n",
       "    <tr>\n",
       "      <th>Date</th>\n",
       "      <th></th>\n",
       "      <th></th>\n",
       "      <th></th>\n",
       "      <th></th>\n",
       "      <th></th>\n",
       "      <th></th>\n",
       "      <th></th>\n",
       "      <th></th>\n",
       "      <th></th>\n",
       "    </tr>\n",
       "  </thead>\n",
       "  <tbody>\n",
       "    <tr>\n",
       "      <th>1998-05-16</th>\n",
       "      <td>1191</td>\n",
       "      <td>1210</td>\n",
       "      <td>1191</td>\n",
       "      <td>1201</td>\n",
       "      <td>124980</td>\n",
       "      <td>NaN</td>\n",
       "      <td>1998</td>\n",
       "      <td>5</td>\n",
       "      <td>16</td>\n",
       "    </tr>\n",
       "    <tr>\n",
       "      <th>1998-05-18</th>\n",
       "      <td>1206</td>\n",
       "      <td>1226</td>\n",
       "      <td>1165</td>\n",
       "      <td>1177</td>\n",
       "      <td>255210</td>\n",
       "      <td>-0.019983</td>\n",
       "      <td>1998</td>\n",
       "      <td>5</td>\n",
       "      <td>18</td>\n",
       "    </tr>\n",
       "    <tr>\n",
       "      <th>1998-05-19</th>\n",
       "      <td>1163</td>\n",
       "      <td>1171</td>\n",
       "      <td>1118</td>\n",
       "      <td>1138</td>\n",
       "      <td>434310</td>\n",
       "      <td>-0.033135</td>\n",
       "      <td>1998</td>\n",
       "      <td>5</td>\n",
       "      <td>19</td>\n",
       "    </tr>\n",
       "    <tr>\n",
       "      <th>1998-05-20</th>\n",
       "      <td>1145</td>\n",
       "      <td>1161</td>\n",
       "      <td>1126</td>\n",
       "      <td>1130</td>\n",
       "      <td>352676</td>\n",
       "      <td>-0.007030</td>\n",
       "      <td>1998</td>\n",
       "      <td>5</td>\n",
       "      <td>20</td>\n",
       "    </tr>\n",
       "    <tr>\n",
       "      <th>1998-05-21</th>\n",
       "      <td>1130</td>\n",
       "      <td>1139</td>\n",
       "      <td>1061</td>\n",
       "      <td>1061</td>\n",
       "      <td>605730</td>\n",
       "      <td>-0.061062</td>\n",
       "      <td>1998</td>\n",
       "      <td>5</td>\n",
       "      <td>21</td>\n",
       "    </tr>\n",
       "  </tbody>\n",
       "</table>\n",
       "</div>"
      ],
      "text/plain": [
       "            Open  High   Low  Close  Volume    Change  Year  Month  Day\n",
       "Date                                                                   \n",
       "1998-05-16  1191  1210  1191   1201  124980       NaN  1998      5   16\n",
       "1998-05-18  1206  1226  1165   1177  255210 -0.019983  1998      5   18\n",
       "1998-05-19  1163  1171  1118   1138  434310 -0.033135  1998      5   19\n",
       "1998-05-20  1145  1161  1126   1130  352676 -0.007030  1998      5   20\n",
       "1998-05-21  1130  1139  1061   1061  605730 -0.061062  1998      5   21"
      ]
     },
     "execution_count": 10,
     "metadata": {},
     "output_type": "execute_result"
    }
   ],
   "source": [
    "stock.head()"
   ]
  },
  {
   "cell_type": "markdown",
   "id": "0a0cfdda",
   "metadata": {},
   "source": [
    "### 시각화"
   ]
  },
  {
   "cell_type": "markdown",
   "id": "5072c3c2",
   "metadata": {},
   "source": [
    "#### close열에 대한 그래프 그리기"
   ]
  },
  {
   "cell_type": "code",
   "execution_count": 13,
   "id": "f82076d2",
   "metadata": {},
   "outputs": [
    {
     "data": {
      "text/plain": [
       "Text(0, 0.5, 'price')"
      ]
     },
     "execution_count": 13,
     "metadata": {},
     "output_type": "execute_result"
    },
    {
     "data": {
      "image/png": "[encoded data removed]",
      "text/plain": [
       "<Figure size 1152x648 with 1 Axes>"
      ]
     },
     "metadata": {
      "needs_background": "light"
     },
     "output_type": "display_data"
    }
   ],
   "source": [
    "plt.figure(figsize=(16,9))\n",
    "sns.lineplot(y=stock['Close'],x=stock.index) # y:종가, x:index(날짜)\n",
    "plt.xlabel('time')\n",
    "plt.ylabel('price')"
   ]
  },
  {
   "cell_type": "code",
   "execution_count": 16,
   "id": "d4419e2a",
   "metadata": {},
   "outputs": [
    {
     "data": {
      "image/png": "[encoded data removed]",
      "text/plain": [
       "<Figure size 1152x648 with 4 Axes>"
      ]
     },
     "metadata": {
      "needs_background": "light"
     },
     "output_type": "display_data"
    }
   ],
   "source": [
    "time_steps=[['1990','2000'], # 1990년부터 2000년\n",
    "            ['2000','2010'], # 2000년부터 2010년\n",
    "            ['2010','2015'], # 2010년부터 2015년\n",
    "            ['2015','2020']] # 2015년부터 2020년\n",
    "\n",
    "fig, axes=plt.subplots(2,2) # 2행 2열\n",
    "fig.set_size_inches(16,9)\n",
    "for i in range(4):\n",
    "    ax=axes[i//2,i%2] # i=0,axes[0,0] / i=1,axes[0,1] / i=2,axes[1,0] / i=3,axes[1,1]\n",
    "    df=stock.loc[(stock.index > time_steps[i][0]) & (stock.index < time_steps[i][1])] # time_steps에서 한 개씩 불러와서 ex) 1990보다 크고 2000보다 작은 stock의 index를 가져옴\n",
    "    sns.lineplot(y=df['Close'],x=df.index,ax=ax) # y=종가, x=index(날짜), ax=그래프가 그려질 위치\n",
    "    ax.set_title(f'{time_steps[i][0]}~{time_steps[i][1]}') # 제목\n",
    "    ax.set_xlabel('time') # x축 이름\n",
    "    ax.set_ylabel('price') # y축 이름\n",
    "\n",
    "plt.tight_layout() # subplot들이 겹치지 않도록 최소한의 여백을 만들어줌\n",
    "plt.show()"
   ]
  },
  {
   "cell_type": "markdown",
   "id": "cb03255b",
   "metadata": {},
   "source": [
    "### 데이터 전처리"
   ]
  },
  {
   "cell_type": "markdown",
   "id": "b7c238d7",
   "metadata": {},
   "source": [
    "Open,High,Low,Close,Volume열에 대한 스케일링"
   ]
  },
  {
   "cell_type": "code",
   "execution_count": 19,
   "id": "4837c135",
   "metadata": {},
   "outputs": [
    {
     "data": {
      "text/plain": [
       "array([[0.01318937, 0.0125    , 0.01330726, 0.0062305 , 0.00138396],\n",
       "       [0.01335548, 0.01266529, 0.01301676, 0.0059649 , 0.00282605],\n",
       "       [0.01287929, 0.01209711, 0.01249162, 0.0055333 , 0.00480931],\n",
       "       ...,\n",
       "       [0.6799557 , 0.63533058, 0.6726257 , 0.66689538, 0.1688507 ],\n",
       "       [0.68438538, 0.64152893, 0.67597765, 0.66246874, 0.1858371 ],\n",
       "       [0.67663344, 0.63842975, 0.67821229, 0.67685532, 0.11693911]])"
      ]
     },
     "execution_count": 19,
     "metadata": {},
     "output_type": "execute_result"
    }
   ],
   "source": [
    "from sklearn.preprocessing import MinMaxScaler\n",
    "\n",
    "scaler=MinMaxScaler()\n",
    "scale_cols=['Open','High','Low','Close','Volume'] # 스케일 적용할 column\n",
    "scaled=scaler.fit_transform(stock[scale_cols]) # 스케일 적용\n",
    "scaled"
   ]
  },
  {
   "cell_type": "markdown",
   "id": "b14e4c24",
   "metadata": {},
   "source": [
    "스케일이 완료된 column으로 새로운 데이터프레임 생성하기\n",
    "\n",
    "6,000개의 행, 5개의 열로 이루어진 데이터셋"
   ]
  },
  {
   "cell_type": "code",
   "execution_count": 20,
   "id": "99dfeda7",
   "metadata": {},
   "outputs": [
    {
     "data": {
      "text/html": [
       "<div>\n",
       "<style scoped>\n",
       "    .dataframe tbody tr th:only-of-type {\n",
       "        vertical-align: middle;\n",
       "    }\n",
       "\n",
       "    .dataframe tbody tr th {\n",
       "        vertical-align: top;\n",
       "    }\n",
       "\n",
       "    .dataframe thead th {\n",
       "        text-align: right;\n",
       "    }\n",
       "</style>\n",
       "<table border=\"1\" class=\"dataframe\">\n",
       "  <thead>\n",
       "    <tr style=\"text-align: right;\">\n",
       "      <th></th>\n",
       "      <th>Open</th>\n",
       "      <th>High</th>\n",
       "      <th>Low</th>\n",
       "      <th>Close</th>\n",
       "      <th>Volume</th>\n",
       "    </tr>\n",
       "  </thead>\n",
       "  <tbody>\n",
       "    <tr>\n",
       "      <th>0</th>\n",
       "      <td>0.013189</td>\n",
       "      <td>0.012500</td>\n",
       "      <td>0.013307</td>\n",
       "      <td>0.006230</td>\n",
       "      <td>0.001384</td>\n",
       "    </tr>\n",
       "    <tr>\n",
       "      <th>1</th>\n",
       "      <td>0.013355</td>\n",
       "      <td>0.012665</td>\n",
       "      <td>0.013017</td>\n",
       "      <td>0.005965</td>\n",
       "      <td>0.002826</td>\n",
       "    </tr>\n",
       "    <tr>\n",
       "      <th>2</th>\n",
       "      <td>0.012879</td>\n",
       "      <td>0.012097</td>\n",
       "      <td>0.012492</td>\n",
       "      <td>0.005533</td>\n",
       "      <td>0.004809</td>\n",
       "    </tr>\n",
       "    <tr>\n",
       "      <th>3</th>\n",
       "      <td>0.012680</td>\n",
       "      <td>0.011994</td>\n",
       "      <td>0.012581</td>\n",
       "      <td>0.005445</td>\n",
       "      <td>0.003905</td>\n",
       "    </tr>\n",
       "    <tr>\n",
       "      <th>4</th>\n",
       "      <td>0.012514</td>\n",
       "      <td>0.011767</td>\n",
       "      <td>0.011855</td>\n",
       "      <td>0.004681</td>\n",
       "      <td>0.006708</td>\n",
       "    </tr>\n",
       "    <tr>\n",
       "      <th>...</th>\n",
       "      <td>...</td>\n",
       "      <td>...</td>\n",
       "      <td>...</td>\n",
       "      <td>...</td>\n",
       "      <td>...</td>\n",
       "    </tr>\n",
       "    <tr>\n",
       "      <th>5995</th>\n",
       "      <td>0.646733</td>\n",
       "      <td>0.619835</td>\n",
       "      <td>0.649162</td>\n",
       "      <td>0.656935</td>\n",
       "      <td>0.206914</td>\n",
       "    </tr>\n",
       "    <tr>\n",
       "      <th>5996</th>\n",
       "      <td>0.671096</td>\n",
       "      <td>0.640496</td>\n",
       "      <td>0.675978</td>\n",
       "      <td>0.677962</td>\n",
       "      <td>0.230688</td>\n",
       "    </tr>\n",
       "    <tr>\n",
       "      <th>5997</th>\n",
       "      <td>0.679956</td>\n",
       "      <td>0.635331</td>\n",
       "      <td>0.672626</td>\n",
       "      <td>0.666895</td>\n",
       "      <td>0.168851</td>\n",
       "    </tr>\n",
       "    <tr>\n",
       "      <th>5998</th>\n",
       "      <td>0.684385</td>\n",
       "      <td>0.641529</td>\n",
       "      <td>0.675978</td>\n",
       "      <td>0.662469</td>\n",
       "      <td>0.185837</td>\n",
       "    </tr>\n",
       "    <tr>\n",
       "      <th>5999</th>\n",
       "      <td>0.676633</td>\n",
       "      <td>0.638430</td>\n",
       "      <td>0.678212</td>\n",
       "      <td>0.676855</td>\n",
       "      <td>0.116939</td>\n",
       "    </tr>\n",
       "  </tbody>\n",
       "</table>\n",
       "<p>6000 rows × 5 columns</p>\n",
       "</div>"
      ],
      "text/plain": [
       "          Open      High       Low     Close    Volume\n",
       "0     0.013189  0.012500  0.013307  0.006230  0.001384\n",
       "1     0.013355  0.012665  0.013017  0.005965  0.002826\n",
       "2     0.012879  0.012097  0.012492  0.005533  0.004809\n",
       "3     0.012680  0.011994  0.012581  0.005445  0.003905\n",
       "4     0.012514  0.011767  0.011855  0.004681  0.006708\n",
       "...        ...       ...       ...       ...       ...\n",
       "5995  0.646733  0.619835  0.649162  0.656935  0.206914\n",
       "5996  0.671096  0.640496  0.675978  0.677962  0.230688\n",
       "5997  0.679956  0.635331  0.672626  0.666895  0.168851\n",
       "5998  0.684385  0.641529  0.675978  0.662469  0.185837\n",
       "5999  0.676633  0.638430  0.678212  0.676855  0.116939\n",
       "\n",
       "[6000 rows x 5 columns]"
      ]
     },
     "execution_count": 20,
     "metadata": {},
     "output_type": "execute_result"
    }
   ],
   "source": [
    "df=pd.DataFrame(scaled,columns=scale_cols)\n",
    "df"
   ]
  },
  {
   "cell_type": "markdown",
   "id": "0eeab2ea",
   "metadata": {},
   "source": [
    "### train/test 분할"
   ]
  },
  {
   "cell_type": "code",
   "execution_count": 21,
   "id": "1b54c866",
   "metadata": {},
   "outputs": [],
   "source": [
    "from sklearn.model_selection import train_test_split"
   ]
  },
  {
   "cell_type": "markdown",
   "id": "f887509c",
   "metadata": {},
   "source": [
    "- x: Close 열(axis=1)을 drop한 데이터프레임\n",
    "- y: Close 열\n",
    "- train:test 데이터비율 8:2"
   ]
  },
  {
   "cell_type": "code",
   "execution_count": 22,
   "id": "d12ba0fa",
   "metadata": {},
   "outputs": [],
   "source": [
    "x_train,x_test,y_train,y_test=train_test_split(df.drop('Close',1),df['Close'],test_size=0.2,random_state=0,shuffle=False)"
   ]
  },
  {
   "cell_type": "code",
   "execution_count": 23,
   "id": "2e5b38bd",
   "metadata": {},
   "outputs": [
    {
     "data": {
      "text/plain": [
       "((4800, 4), (4800,))"
      ]
     },
     "execution_count": 23,
     "metadata": {},
     "output_type": "execute_result"
    }
   ],
   "source": [
    "x_train.shape,y_train.shape"
   ]
  },
  {
   "cell_type": "code",
   "execution_count": 24,
   "id": "41078205",
   "metadata": {},
   "outputs": [
    {
     "data": {
      "text/plain": [
       "((1200, 4), (1200,))"
      ]
     },
     "execution_count": 24,
     "metadata": {},
     "output_type": "execute_result"
    }
   ],
   "source": [
    "x_test.shape,y_test.shape"
   ]
  },
  {
   "cell_type": "code",
   "execution_count": 25,
   "id": "ad6e2893",
   "metadata": {},
   "outputs": [
    {
     "data": {
      "text/html": [
       "<div>\n",
       "<style scoped>\n",
       "    .dataframe tbody tr th:only-of-type {\n",
       "        vertical-align: middle;\n",
       "    }\n",
       "\n",
       "    .dataframe tbody tr th {\n",
       "        vertical-align: top;\n",
       "    }\n",
       "\n",
       "    .dataframe thead th {\n",
       "        text-align: right;\n",
       "    }\n",
       "</style>\n",
       "<table border=\"1\" class=\"dataframe\">\n",
       "  <thead>\n",
       "    <tr style=\"text-align: right;\">\n",
       "      <th></th>\n",
       "      <th>Open</th>\n",
       "      <th>High</th>\n",
       "      <th>Low</th>\n",
       "      <th>Volume</th>\n",
       "    </tr>\n",
       "  </thead>\n",
       "  <tbody>\n",
       "    <tr>\n",
       "      <th>0</th>\n",
       "      <td>0.013189</td>\n",
       "      <td>0.012500</td>\n",
       "      <td>0.013307</td>\n",
       "      <td>0.001384</td>\n",
       "    </tr>\n",
       "    <tr>\n",
       "      <th>1</th>\n",
       "      <td>0.013355</td>\n",
       "      <td>0.012665</td>\n",
       "      <td>0.013017</td>\n",
       "      <td>0.002826</td>\n",
       "    </tr>\n",
       "    <tr>\n",
       "      <th>2</th>\n",
       "      <td>0.012879</td>\n",
       "      <td>0.012097</td>\n",
       "      <td>0.012492</td>\n",
       "      <td>0.004809</td>\n",
       "    </tr>\n",
       "    <tr>\n",
       "      <th>3</th>\n",
       "      <td>0.012680</td>\n",
       "      <td>0.011994</td>\n",
       "      <td>0.012581</td>\n",
       "      <td>0.003905</td>\n",
       "    </tr>\n",
       "    <tr>\n",
       "      <th>4</th>\n",
       "      <td>0.012514</td>\n",
       "      <td>0.011767</td>\n",
       "      <td>0.011855</td>\n",
       "      <td>0.006708</td>\n",
       "    </tr>\n",
       "    <tr>\n",
       "      <th>...</th>\n",
       "      <td>...</td>\n",
       "      <td>...</td>\n",
       "      <td>...</td>\n",
       "      <td>...</td>\n",
       "    </tr>\n",
       "    <tr>\n",
       "      <th>4795</th>\n",
       "      <td>0.530233</td>\n",
       "      <td>0.494628</td>\n",
       "      <td>0.522011</td>\n",
       "      <td>0.002490</td>\n",
       "    </tr>\n",
       "    <tr>\n",
       "      <th>4796</th>\n",
       "      <td>0.520709</td>\n",
       "      <td>0.488017</td>\n",
       "      <td>0.513520</td>\n",
       "      <td>0.002206</td>\n",
       "    </tr>\n",
       "    <tr>\n",
       "      <th>4797</th>\n",
       "      <td>0.505426</td>\n",
       "      <td>0.476033</td>\n",
       "      <td>0.504581</td>\n",
       "      <td>0.002796</td>\n",
       "    </tr>\n",
       "    <tr>\n",
       "      <th>4798</th>\n",
       "      <td>0.513621</td>\n",
       "      <td>0.479339</td>\n",
       "      <td>0.513520</td>\n",
       "      <td>0.001664</td>\n",
       "    </tr>\n",
       "    <tr>\n",
       "      <th>4799</th>\n",
       "      <td>0.511849</td>\n",
       "      <td>0.481818</td>\n",
       "      <td>0.513966</td>\n",
       "      <td>0.002439</td>\n",
       "    </tr>\n",
       "  </tbody>\n",
       "</table>\n",
       "<p>4800 rows × 4 columns</p>\n",
       "</div>"
      ],
      "text/plain": [
       "          Open      High       Low    Volume\n",
       "0     0.013189  0.012500  0.013307  0.001384\n",
       "1     0.013355  0.012665  0.013017  0.002826\n",
       "2     0.012879  0.012097  0.012492  0.004809\n",
       "3     0.012680  0.011994  0.012581  0.003905\n",
       "4     0.012514  0.011767  0.011855  0.006708\n",
       "...        ...       ...       ...       ...\n",
       "4795  0.530233  0.494628  0.522011  0.002490\n",
       "4796  0.520709  0.488017  0.513520  0.002206\n",
       "4797  0.505426  0.476033  0.504581  0.002796\n",
       "4798  0.513621  0.479339  0.513520  0.001664\n",
       "4799  0.511849  0.481818  0.513966  0.002439\n",
       "\n",
       "[4800 rows x 4 columns]"
      ]
     },
     "execution_count": 25,
     "metadata": {},
     "output_type": "execute_result"
    }
   ],
   "source": [
    "x_train"
   ]
  },
  {
   "cell_type": "code",
   "execution_count": 27,
   "id": "177b0aa7",
   "metadata": {},
   "outputs": [
    {
     "data": {
      "text/plain": [
       "0       0.006230\n",
       "1       0.005965\n",
       "2       0.005533\n",
       "3       0.005445\n",
       "4       0.004681\n",
       "          ...   \n",
       "4795    0.513291\n",
       "4796    0.503110\n",
       "4797    0.502888\n",
       "4798    0.504216\n",
       "4799    0.505544\n",
       "Name: Close, Length: 4800, dtype: float64"
      ]
     },
     "execution_count": 27,
     "metadata": {},
     "output_type": "execute_result"
    }
   ],
   "source": [
    "y_train"
   ]
  },
  {
   "cell_type": "code",
   "execution_count": 26,
   "id": "7f3caf5d",
   "metadata": {},
   "outputs": [
    {
     "name": "stdout",
     "output_type": "stream",
     "text": [
      "<class 'pandas.core.frame.DataFrame'>\n",
      "<class 'pandas.core.series.Series'>\n"
     ]
    }
   ],
   "source": [
    "print(type(x_train)) # 데이터 프레임\n",
    "print(type(y_train)) # 시리즈"
   ]
  },
  {
   "cell_type": "markdown",
   "id": "4f611bbf",
   "metadata": {},
   "source": [
    "## TensorFlow Dataset을 활용한 시퀀스 데이터셋 구성"
   ]
  },
  {
   "cell_type": "code",
   "execution_count": 29,
   "id": "37e741f3",
   "metadata": {},
   "outputs": [],
   "source": [
    "import tensorflow as tf"
   ]
  },
  {
   "cell_type": "markdown",
   "id": "bad9f4c7",
   "metadata": {},
   "source": [
    "windowed_data 함수 정의"
   ]
  },
  {
   "cell_type": "code",
   "execution_count": 34,
   "id": "7081effb",
   "metadata": {},
   "outputs": [],
   "source": [
    "def windowed_dataset(series,window_size,batch_size,shuffle):\n",
    "    series=tf.expand_dims(series, axis=1) # 열방향으로 1차원 확장\n",
    "    ds=tf.data.Dataset.from_tensor_slices(series)\n",
    "    ds=ds.window(window_size+1, shift=1, drop_remainder=True)\n",
    "    # WINDOW_SIZE=20이므로 +1 21개씩 그룹짓고, 한칸씩 이동, 21개 구성안되면 버리기\n",
    "    ds=ds.flat_map(lambda w:w.batch(window_size+1))\n",
    "    # ds 데이터프레임에서 window_size+1개만큼 꺼내온다\n",
    "    if shuffle:\n",
    "        ds=ds.shuffle(1000) # 1000개 섞기\n",
    "    ds=ds.map(lambda w : (w[:-1],w[-1])) # 마지막거빼고 그 앞까지(~20개),마지막(21번)\n",
    "    return ds.batch(batch_size).prefetch(1)"
   ]
  },
  {
   "cell_type": "markdown",
   "id": "24443a69",
   "metadata": {},
   "source": [
    "하이퍼파라미터 정의"
   ]
  },
  {
   "cell_type": "code",
   "execution_count": 35,
   "id": "00242844",
   "metadata": {},
   "outputs": [],
   "source": [
    "WINDOW_SIZE=20\n",
    "BATCH_SIZE=32"
   ]
  },
  {
   "cell_type": "code",
   "execution_count": 37,
   "id": "060be63b",
   "metadata": {},
   "outputs": [],
   "source": [
    "train_data=windowed_dataset(y_train,WINDOW_SIZE,BATCH_SIZE,True) # 훈련데이터\n",
    "test_data=windowed_dataset(y_test,WINDOW_SIZE,BATCH_SIZE,False) # 검증데이터"
   ]
  },
  {
   "cell_type": "code",
   "execution_count": 39,
   "id": "dca478fc",
   "metadata": {},
   "outputs": [
    {
     "name": "stdout",
     "output_type": "stream",
     "text": [
      "데이터셋(X) 구성(batch_size,window_size,feature갯수): (32, 20, 1)\n",
      "데이터셋(Y) 구성(batch_size,window_size,feature갯수): (32, 1)\n"
     ]
    }
   ],
   "source": [
    "for data in train_data.take(1): # 1개를 가져옴\n",
    "    print(f'데이터셋(X) 구성(batch_size,window_size,feature갯수): {data[0].shape}')\n",
    "    print(f'데이터셋(Y) 구성(batch_size,window_size,feature갯수): {data[1].shape}')"
   ]
  },
  {
   "cell_type": "markdown",
   "id": "d3f61843",
   "metadata": {},
   "source": [
    "## 모델"
   ]
  },
  {
   "cell_type": "code",
   "execution_count": 40,
   "id": "dff1e789",
   "metadata": {},
   "outputs": [],
   "source": [
    "from tensorflow.keras.models import Sequential\n",
    "from tensorflow.keras.layers import Dense, LSTM, Conv1D, Lambda\n",
    "from tensorflow.keras.losses import Huber\n",
    "from tensorflow.keras.optimizers import Adam\n",
    "from tensorflow.keras.callbacks import EarlyStopping, ModelCheckpoint\n",
    "\n",
    "\n",
    "model = Sequential([\n",
    "    # 1차원 feature map 생성\n",
    "    Conv1D(filters=32, kernel_size=5,\n",
    "           padding=\"causal\",\n",
    "           activation=\"relu\",\n",
    "           input_shape=[WINDOW_SIZE, 1]),\n",
    "    # LSTM\n",
    "    LSTM(16, activation='tanh'),\n",
    "    Dense(16, activation=\"relu\"),\n",
    "    Dense(1),\n",
    "])"
   ]
  },
  {
   "cell_type": "code",
   "execution_count": 41,
   "id": "0c92e614",
   "metadata": {},
   "outputs": [],
   "source": [
    "# Sequence 학습에 비교적 좋은 퍼포먼스를 내는 Huber()를 사용합니다.\n",
    "loss = Huber()\n",
    "optimizer = Adam(0.0005)\n",
    "model.compile(loss=Huber(), optimizer=optimizer, metrics=['mse'])"
   ]
  },
  {
   "cell_type": "code",
   "execution_count": 42,
   "id": "2b5c7033",
   "metadata": {},
   "outputs": [],
   "source": [
    "# earlystopping은 10번 epoch통안 val_loss 개선이 없다면 학습을 멈춥니다.\n",
    "earlystopping = EarlyStopping(monitor='val_loss', patience=10)\n",
    "# val_loss 기준 체크포인터도 생성합니다.\n",
    "filename = os.path.join('tmp', 'ckeckpointer.ckpt') # 파일이름\n",
    "checkpoint = ModelCheckpoint(filename, \n",
    "                             save_weights_only=True, \n",
    "                             save_best_only=True, \n",
    "                             monitor='val_loss', \n",
    "                             verbose=1)"
   ]
  },
  {
   "cell_type": "code",
   "execution_count": 43,
   "id": "8905073d",
   "metadata": {},
   "outputs": [
    {
     "name": "stdout",
     "output_type": "stream",
     "text": [
      "Epoch 1/50\n",
      "    149/Unknown - 9s 19ms/step - loss: 7.0052e-05 - mse: 1.4010e-04\n",
      "Epoch 1: val_loss improved from inf to 0.00064, saving model to tmp\\ckeckpointer.ckpt\n",
      "150/150 [==============================] - 15s 60ms/step - loss: 6.9922e-05 - mse: 1.3984e-04 - val_loss: 6.4246e-04 - val_mse: 0.0013\n",
      "Epoch 2/50\n",
      "148/150 [============================>.] - ETA: 0s - loss: 2.6752e-05 - mse: 5.3505e-05\n",
      "Epoch 2: val_loss did not improve from 0.00064\n",
      "150/150 [==============================] - 3s 21ms/step - loss: 2.6897e-05 - mse: 5.3794e-05 - val_loss: 7.9681e-04 - val_mse: 0.0016\n",
      "Epoch 3/50\n",
      "150/150 [==============================] - ETA: 0s - loss: 2.3508e-05 - mse: 4.7016e-05\n",
      "Epoch 3: val_loss improved from 0.00064 to 0.00029, saving model to tmp\\ckeckpointer.ckpt\n",
      "150/150 [==============================] - 3s 21ms/step - loss: 2.3508e-05 - mse: 4.7016e-05 - val_loss: 2.8813e-04 - val_mse: 5.7626e-04\n",
      "Epoch 4/50\n",
      "150/150 [==============================] - ETA: 0s - loss: 2.2829e-05 - mse: 4.5658e-05\n",
      "Epoch 4: val_loss did not improve from 0.00029\n",
      "150/150 [==============================] - 3s 21ms/step - loss: 2.2829e-05 - mse: 4.5658e-05 - val_loss: 6.9115e-04 - val_mse: 0.0014\n",
      "Epoch 5/50\n",
      "148/150 [============================>.] - ETA: 0s - loss: 2.1136e-05 - mse: 4.2272e-05\n",
      "Epoch 5: val_loss did not improve from 0.00029\n",
      "150/150 [==============================] - 4s 22ms/step - loss: 2.1363e-05 - mse: 4.2726e-05 - val_loss: 4.9333e-04 - val_mse: 9.8667e-04\n",
      "Epoch 6/50\n",
      "148/150 [============================>.] - ETA: 0s - loss: 2.2317e-05 - mse: 4.4634e-05\n",
      "Epoch 6: val_loss did not improve from 0.00029\n",
      "150/150 [==============================] - 3s 21ms/step - loss: 2.2918e-05 - mse: 4.5836e-05 - val_loss: 3.7045e-04 - val_mse: 7.4089e-04\n",
      "Epoch 7/50\n",
      "150/150 [==============================] - ETA: 0s - loss: 2.1619e-05 - mse: 4.3238e-05\n",
      "Epoch 7: val_loss improved from 0.00029 to 0.00023, saving model to tmp\\ckeckpointer.ckpt\n",
      "150/150 [==============================] - 3s 22ms/step - loss: 2.1619e-05 - mse: 4.3238e-05 - val_loss: 2.3185e-04 - val_mse: 4.6370e-04\n",
      "Epoch 8/50\n",
      "149/150 [============================>.] - ETA: 0s - loss: 2.0524e-05 - mse: 4.1048e-05\n",
      "Epoch 8: val_loss did not improve from 0.00023\n",
      "150/150 [==============================] - 3s 21ms/step - loss: 2.0516e-05 - mse: 4.1033e-05 - val_loss: 4.8726e-04 - val_mse: 9.7452e-04\n",
      "Epoch 9/50\n",
      "150/150 [==============================] - ETA: 0s - loss: 1.9778e-05 - mse: 3.9556e-05\n",
      "Epoch 9: val_loss did not improve from 0.00023\n",
      "150/150 [==============================] - 3s 21ms/step - loss: 1.9778e-05 - mse: 3.9556e-05 - val_loss: 5.3707e-04 - val_mse: 0.0011\n",
      "Epoch 10/50\n",
      "148/150 [============================>.] - ETA: 0s - loss: 1.8959e-05 - mse: 3.7919e-05\n",
      "Epoch 10: val_loss did not improve from 0.00023\n",
      "150/150 [==============================] - 3s 21ms/step - loss: 1.9012e-05 - mse: 3.8024e-05 - val_loss: 4.7824e-04 - val_mse: 9.5649e-04\n",
      "Epoch 11/50\n",
      "148/150 [============================>.] - ETA: 0s - loss: 1.7400e-05 - mse: 3.4800e-05\n",
      "Epoch 11: val_loss did not improve from 0.00023\n",
      "150/150 [==============================] - 3s 17ms/step - loss: 1.7501e-05 - mse: 3.5002e-05 - val_loss: 5.8062e-04 - val_mse: 0.0012\n",
      "Epoch 12/50\n",
      "148/150 [============================>.] - ETA: 0s - loss: 1.8827e-05 - mse: 3.7653e-05\n",
      "Epoch 12: val_loss did not improve from 0.00023\n",
      "150/150 [==============================] - 3s 17ms/step - loss: 1.9079e-05 - mse: 3.8158e-05 - val_loss: 4.0851e-04 - val_mse: 8.1702e-04\n",
      "Epoch 13/50\n",
      "149/150 [============================>.] - ETA: 0s - loss: 1.8873e-05 - mse: 3.7745e-05\n",
      "Epoch 13: val_loss did not improve from 0.00023\n",
      "150/150 [==============================] - 3s 20ms/step - loss: 1.8894e-05 - mse: 3.7788e-05 - val_loss: 3.1241e-04 - val_mse: 6.2483e-04\n",
      "Epoch 14/50\n",
      "148/150 [============================>.] - ETA: 0s - loss: 1.7139e-05 - mse: 3.4279e-05\n",
      "Epoch 14: val_loss did not improve from 0.00023\n",
      "150/150 [==============================] - 3s 20ms/step - loss: 1.7346e-05 - mse: 3.4691e-05 - val_loss: 6.8887e-04 - val_mse: 0.0014\n",
      "Epoch 15/50\n",
      "149/150 [============================>.] - ETA: 0s - loss: 1.6119e-05 - mse: 3.2238e-05\n",
      "Epoch 15: val_loss did not improve from 0.00023\n",
      "150/150 [==============================] - 3s 21ms/step - loss: 1.6177e-05 - mse: 3.2354e-05 - val_loss: 5.7029e-04 - val_mse: 0.0011\n",
      "Epoch 16/50\n",
      "150/150 [==============================] - ETA: 0s - loss: 1.5459e-05 - mse: 3.0919e-05\n",
      "Epoch 16: val_loss did not improve from 0.00023\n",
      "150/150 [==============================] - 3s 20ms/step - loss: 1.5459e-05 - mse: 3.0919e-05 - val_loss: 4.5461e-04 - val_mse: 9.0921e-04\n",
      "Epoch 17/50\n",
      "148/150 [============================>.] - ETA: 0s - loss: 1.5020e-05 - mse: 3.0040e-05\n",
      "Epoch 17: val_loss did not improve from 0.00023\n",
      "150/150 [==============================] - 3s 20ms/step - loss: 1.5146e-05 - mse: 3.0292e-05 - val_loss: 7.6070e-04 - val_mse: 0.0015\n"
     ]
    }
   ],
   "source": [
    "history = model.fit(train_data, # 훈련\n",
    "                    validation_data=(test_data), # 검증 \n",
    "                    epochs=50, \n",
    "                    callbacks=[checkpoint, earlystopping])"
   ]
  },
  {
   "cell_type": "markdown",
   "id": "5d44b4c4",
   "metadata": {},
   "source": [
    "저장한 ModelCheckpoint를 로드"
   ]
  },
  {
   "cell_type": "code",
   "execution_count": 44,
   "id": "c96ed0dd",
   "metadata": {},
   "outputs": [
    {
     "data": {
      "text/plain": [
       "<tensorflow.python.training.tracking.util.CheckpointLoadStatus at 0x235a0075370>"
      ]
     },
     "execution_count": 44,
     "metadata": {},
     "output_type": "execute_result"
    }
   ],
   "source": [
    "model.load_weights(filename)"
   ]
  },
  {
   "cell_type": "markdown",
   "id": "e413cf3b",
   "metadata": {},
   "source": [
    "test_data를 활용하여 예측"
   ]
  },
  {
   "cell_type": "code",
   "execution_count": 45,
   "id": "54e44075",
   "metadata": {},
   "outputs": [
    {
     "name": "stdout",
     "output_type": "stream",
     "text": [
      "37/37 [==============================] - 2s 9ms/step\n"
     ]
    }
   ],
   "source": [
    "pred = model.predict(test_data)"
   ]
  },
  {
   "cell_type": "code",
   "execution_count": 46,
   "id": "68f11714",
   "metadata": {},
   "outputs": [
    {
     "data": {
      "text/plain": [
       "(1180, 1)"
      ]
     },
     "execution_count": 46,
     "metadata": {},
     "output_type": "execute_result"
    }
   ],
   "source": [
    "pred.shape"
   ]
  },
  {
   "cell_type": "code",
   "execution_count": null,
   "id": "fa3b5bf0",
   "metadata": {},
   "outputs": [],
   "source": []
  }
 ],
 "metadata": {
  "kernelspec": {
   "display_name": "Python 3 (ipykernel)",
   "language": "python",
   "name": "python3"
  },
  "language_info": {
   "codemirror_mode": {
    "name": "ipython",
    "version": 3
   },
   "file_extension": ".py",
   "mimetype": "text/x-python",
   "name": "python",
   "nbconvert_exporter": "python",
   "pygments_lexer": "ipython3",
   "version": "3.9.12"
  }
 },
 "nbformat": 4,
 "nbformat_minor": 5
}
