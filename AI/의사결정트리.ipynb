{
 "cells": [
  {
   "cell_type": "markdown",
   "id": "f20730e3",
   "metadata": {},
   "source": [
    "# Chapter12 의사결정트리"
   ]
  },
  {
   "cell_type": "markdown",
   "id": "99f2cb93",
   "metadata": {},
   "source": [
    "## 01 의사결정트리의 이해"
   ]
  },
  {
   "cell_type": "markdown",
   "id": "788799f3",
   "metadata": {},
   "source": [
    "### 의사결정트리의 개념\n",
    "#### 의사결정트리(decision tree): 어떤 규칙을 하나의 트리(tree)형태로 표현한 후 이를 바탕으로 분류나 회귀 문제를 해결하는 것이다.\n",
    "- 규칙은 if-else 문으로 표현이 가능\n",
    "- 트리는 일종의 경로를 표현하는 것\n",
    "- 트리 구조의 마지막 노드에는 분류 문제에서 클래스, 회귀 문제에서는 예측치가 들어감\n",
    "\n",
    "\n",
    "- 딥러닝 기반을 제외한 전통적인 통계 기반의 머신러닝 모델 중 그 효과와 실용성이 가장 좋은 모델 중 하나\n",
    "    - 테이블형 데이터에 있어 설명력과 성능의 측면에서 딥러닝 모델들과 대등하게 경쟁\n",
    "    - 앙상블(ensemble)모델이나 부스팅(boosting) 같은 새로운 기법들이 모델들의 성능을 대폭 향상시키고 있다."
   ]
  },
  {
   "cell_type": "markdown",
   "id": "c330a185",
   "metadata": {},
   "source": [
    "#### 엔트로피(entropy): 어떤 목적 달성을 위한 경우의 수를 정량적으로 표현하는 수치\n",
    "- 낮은 엔트로피 = 경우의 수가 적다 = 낮은 불확실성\n",
    "- 높은 엔트로피 = 경우의 수가 많다 = 높은 불확실성"
   ]
  },
  {
   "cell_type": "code",
   "execution_count": null,
   "id": "d7f2a67e",
   "metadata": {},
   "outputs": [],
   "source": []
  },
  {
   "cell_type": "code",
   "execution_count": null,
   "id": "14530f36",
   "metadata": {},
   "outputs": [],
   "source": []
  },
  {
   "cell_type": "code",
   "execution_count": null,
   "id": "8e89ef90",
   "metadata": {},
   "outputs": [],
   "source": []
  },
  {
   "cell_type": "markdown",
   "id": "782ff1cb",
   "metadata": {},
   "source": [
    "## 04 의사결정트리 알고리즘의 다양한 변형"
   ]
  },
  {
   "cell_type": "code",
   "execution_count": 1,
   "id": "d84c0656",
   "metadata": {},
   "outputs": [],
   "source": [
    "import pandas as pd\n",
    "import numpy as np"
   ]
  },
  {
   "cell_type": "code",
   "execution_count": 2,
   "id": "54ef9309",
   "metadata": {},
   "outputs": [
    {
     "data": {
      "text/html": [
       "<div>\n",
       "<style scoped>\n",
       "    .dataframe tbody tr th:only-of-type {\n",
       "        vertical-align: middle;\n",
       "    }\n",
       "\n",
       "    .dataframe tbody tr th {\n",
       "        vertical-align: top;\n",
       "    }\n",
       "\n",
       "    .dataframe thead th {\n",
       "        text-align: right;\n",
       "    }\n",
       "</style>\n",
       "<table border=\"1\" class=\"dataframe\">\n",
       "  <thead>\n",
       "    <tr style=\"text-align: right;\">\n",
       "      <th></th>\n",
       "      <th>STREAM</th>\n",
       "      <th>SLOPE</th>\n",
       "      <th>ELEVATION</th>\n",
       "      <th>VEGETATION</th>\n",
       "    </tr>\n",
       "  </thead>\n",
       "  <tbody>\n",
       "    <tr>\n",
       "      <th>0</th>\n",
       "      <td>False</td>\n",
       "      <td>steep</td>\n",
       "      <td>3900</td>\n",
       "      <td>chapparal</td>\n",
       "    </tr>\n",
       "    <tr>\n",
       "      <th>1</th>\n",
       "      <td>True</td>\n",
       "      <td>moderate</td>\n",
       "      <td>300</td>\n",
       "      <td>riparian</td>\n",
       "    </tr>\n",
       "    <tr>\n",
       "      <th>2</th>\n",
       "      <td>True</td>\n",
       "      <td>steep</td>\n",
       "      <td>1500</td>\n",
       "      <td>riparian</td>\n",
       "    </tr>\n",
       "    <tr>\n",
       "      <th>3</th>\n",
       "      <td>False</td>\n",
       "      <td>steep</td>\n",
       "      <td>1200</td>\n",
       "      <td>chapparal</td>\n",
       "    </tr>\n",
       "    <tr>\n",
       "      <th>4</th>\n",
       "      <td>False</td>\n",
       "      <td>flat</td>\n",
       "      <td>4450</td>\n",
       "      <td>conifer</td>\n",
       "    </tr>\n",
       "    <tr>\n",
       "      <th>5</th>\n",
       "      <td>True</td>\n",
       "      <td>steep</td>\n",
       "      <td>5000</td>\n",
       "      <td>conifer</td>\n",
       "    </tr>\n",
       "    <tr>\n",
       "      <th>6</th>\n",
       "      <td>True</td>\n",
       "      <td>steep</td>\n",
       "      <td>3000</td>\n",
       "      <td>chapparal</td>\n",
       "    </tr>\n",
       "  </tbody>\n",
       "</table>\n",
       "</div>"
      ],
      "text/plain": [
       "   STREAM     SLOPE  ELEVATION VEGETATION\n",
       "0   False     steep       3900  chapparal\n",
       "1    True  moderate        300   riparian\n",
       "2    True     steep       1500   riparian\n",
       "3   False     steep       1200  chapparal\n",
       "4   False      flat       4450    conifer\n",
       "5    True     steep       5000    conifer\n",
       "6    True     steep       3000  chapparal"
      ]
     },
     "execution_count": 2,
     "metadata": {},
     "output_type": "execute_result"
    }
   ],
   "source": [
    "pd_data=pd.read_csv('c:/users/user/ch12/vegeterianl_dataset.csv',delimiter=r'\\s+')\n",
    "pd_data.drop('ID',axis=1)"
   ]
  },
  {
   "cell_type": "markdown",
   "id": "b7ece7ba",
   "metadata": {},
   "source": [
    "ELEVATION 속성의 데이터를 정렬시킨다"
   ]
  },
  {
   "cell_type": "markdown",
   "id": "2bceaaad",
   "metadata": {},
   "source": [
    "VEGETATION이 300,1200,1500,3900에서 각각 y 데이터의 라벨이 달라졌음을 알 수 있다."
   ]
  },
  {
   "cell_type": "code",
   "execution_count": 3,
   "id": "03a7bd2d",
   "metadata": {},
   "outputs": [
    {
     "data": {
      "text/html": [
       "<div>\n",
       "<style scoped>\n",
       "    .dataframe tbody tr th:only-of-type {\n",
       "        vertical-align: middle;\n",
       "    }\n",
       "\n",
       "    .dataframe tbody tr th {\n",
       "        vertical-align: top;\n",
       "    }\n",
       "\n",
       "    .dataframe thead th {\n",
       "        text-align: right;\n",
       "    }\n",
       "</style>\n",
       "<table border=\"1\" class=\"dataframe\">\n",
       "  <thead>\n",
       "    <tr style=\"text-align: right;\">\n",
       "      <th></th>\n",
       "      <th>ID</th>\n",
       "      <th>STREAM</th>\n",
       "      <th>SLOPE</th>\n",
       "      <th>ELEVATION</th>\n",
       "      <th>VEGETATION</th>\n",
       "    </tr>\n",
       "  </thead>\n",
       "  <tbody>\n",
       "    <tr>\n",
       "      <th>1</th>\n",
       "      <td>2</td>\n",
       "      <td>True</td>\n",
       "      <td>moderate</td>\n",
       "      <td>300</td>\n",
       "      <td>riparian</td>\n",
       "    </tr>\n",
       "    <tr>\n",
       "      <th>3</th>\n",
       "      <td>4</td>\n",
       "      <td>False</td>\n",
       "      <td>steep</td>\n",
       "      <td>1200</td>\n",
       "      <td>chapparal</td>\n",
       "    </tr>\n",
       "    <tr>\n",
       "      <th>2</th>\n",
       "      <td>3</td>\n",
       "      <td>True</td>\n",
       "      <td>steep</td>\n",
       "      <td>1500</td>\n",
       "      <td>riparian</td>\n",
       "    </tr>\n",
       "    <tr>\n",
       "      <th>6</th>\n",
       "      <td>7</td>\n",
       "      <td>True</td>\n",
       "      <td>steep</td>\n",
       "      <td>3000</td>\n",
       "      <td>chapparal</td>\n",
       "    </tr>\n",
       "    <tr>\n",
       "      <th>0</th>\n",
       "      <td>1</td>\n",
       "      <td>False</td>\n",
       "      <td>steep</td>\n",
       "      <td>3900</td>\n",
       "      <td>chapparal</td>\n",
       "    </tr>\n",
       "    <tr>\n",
       "      <th>4</th>\n",
       "      <td>5</td>\n",
       "      <td>False</td>\n",
       "      <td>flat</td>\n",
       "      <td>4450</td>\n",
       "      <td>conifer</td>\n",
       "    </tr>\n",
       "    <tr>\n",
       "      <th>5</th>\n",
       "      <td>6</td>\n",
       "      <td>True</td>\n",
       "      <td>steep</td>\n",
       "      <td>5000</td>\n",
       "      <td>conifer</td>\n",
       "    </tr>\n",
       "  </tbody>\n",
       "</table>\n",
       "</div>"
      ],
      "text/plain": [
       "   ID  STREAM     SLOPE  ELEVATION VEGETATION\n",
       "1   2    True  moderate        300   riparian\n",
       "3   4   False     steep       1200  chapparal\n",
       "2   3    True     steep       1500   riparian\n",
       "6   7    True     steep       3000  chapparal\n",
       "0   1   False     steep       3900  chapparal\n",
       "4   5   False      flat       4450    conifer\n",
       "5   6    True     steep       5000    conifer"
      ]
     },
     "execution_count": 3,
     "metadata": {},
     "output_type": "execute_result"
    }
   ],
   "source": [
    "pd_data.sort_values('ELEVATION')"
   ]
  },
  {
   "cell_type": "markdown",
   "id": "2e645758",
   "metadata": {},
   "source": [
    "## 05 의사결정트리의 구현"
   ]
  },
  {
   "cell_type": "code",
   "execution_count": 4,
   "id": "88fde289",
   "metadata": {},
   "outputs": [],
   "source": [
    "pd_data=pd.read_csv('http://raw.githubusercontent.com/AugustLONG/ML01/master/01decisiontree/AllElectronics.csv')\n",
    "pd_data=pd_data.drop('RID',axis=1)"
   ]
  },
  {
   "cell_type": "code",
   "execution_count": 5,
   "id": "2cc43ceb",
   "metadata": {},
   "outputs": [],
   "source": [
    "def get_info(df):\n",
    "    buy=df.loc[df['class_buys_computer']=='yes']\n",
    "    not_buy=df.loc[df['class_buys_computer']=='no']\n",
    "    x=np.array([len(buy)/len(df),len(not_buy)/len(df)])\n",
    "    y=np.log2(x[x!=0])\n",
    "    \n",
    "    info_all= -sum(x[x!=0]*y)\n",
    "    return info_all"
   ]
  },
  {
   "cell_type": "code",
   "execution_count": 6,
   "id": "9d906224",
   "metadata": {},
   "outputs": [
    {
     "data": {
      "text/plain": [
       "0.9402859586706311"
      ]
     },
     "execution_count": 6,
     "metadata": {},
     "output_type": "execute_result"
    }
   ],
   "source": [
    "get_info(pd_data)"
   ]
  },
  {
   "cell_type": "code",
   "execution_count": 7,
   "id": "2ea67d8b",
   "metadata": {},
   "outputs": [],
   "source": [
    "youth=pd_data.loc[pd_data['age']=='youth']\n",
    "senior=pd_data.loc[pd_data['age']=='senior']\n",
    "middle_aged=pd_data.loc[pd_data['age']=='middle_aged']"
   ]
  },
  {
   "cell_type": "code",
   "execution_count": 8,
   "id": "34a6de5c",
   "metadata": {},
   "outputs": [
    {
     "name": "stdout",
     "output_type": "stream",
     "text": [
      "0.9709505944546686\n"
     ]
    }
   ],
   "source": [
    "print(get_info(youth))"
   ]
  },
  {
   "cell_type": "code",
   "execution_count": 9,
   "id": "22ff555b",
   "metadata": {},
   "outputs": [
    {
     "name": "stdout",
     "output_type": "stream",
     "text": [
      "0.9709505944546686\n"
     ]
    }
   ],
   "source": [
    "print(get_info(senior))"
   ]
  },
  {
   "cell_type": "code",
   "execution_count": 10,
   "id": "38c15b73",
   "metadata": {},
   "outputs": [
    {
     "name": "stdout",
     "output_type": "stream",
     "text": [
      "-0.0\n"
     ]
    }
   ],
   "source": [
    "print(get_info(middle_aged))"
   ]
  },
  {
   "cell_type": "code",
   "execution_count": 11,
   "id": "fb863cb4",
   "metadata": {},
   "outputs": [],
   "source": [
    "def get_attribute_info(df,attribute_name):\n",
    "    attribute_values=pd_data[attribute_name].unique()\n",
    "    get_infos=[]\n",
    "    for value in attribute_values:\n",
    "        split_df=pd_data.loc[pd_data[attribute_name]==value]\n",
    "        \n",
    "        get_infos.append((len(split_df)/len(df))*get_info(split_df))\n",
    "        \n",
    "    return sum(get_infos)"
   ]
  },
  {
   "cell_type": "code",
   "execution_count": 12,
   "id": "5657115e",
   "metadata": {},
   "outputs": [
    {
     "data": {
      "text/plain": [
       "0.6935361388961918"
      ]
     },
     "execution_count": 12,
     "metadata": {},
     "output_type": "execute_result"
    }
   ],
   "source": [
    "get_attribute_info(pd_data,\"age\")"
   ]
  },
  {
   "cell_type": "code",
   "execution_count": 13,
   "id": "3b364720",
   "metadata": {},
   "outputs": [],
   "source": [
    "# 전체 대비 각 속성별 정보 이득"
   ]
  },
  {
   "cell_type": "code",
   "execution_count": 14,
   "id": "3bf70e72",
   "metadata": {},
   "outputs": [
    {
     "data": {
      "text/plain": [
       "0.24674981977443933"
      ]
     },
     "execution_count": 14,
     "metadata": {},
     "output_type": "execute_result"
    }
   ],
   "source": [
    "get_info(pd_data)-get_attribute_info(pd_data,'age')"
   ]
  },
  {
   "cell_type": "code",
   "execution_count": 15,
   "id": "a940cf68",
   "metadata": {},
   "outputs": [
    {
     "data": {
      "text/plain": [
       "0.02922256565895487"
      ]
     },
     "execution_count": 15,
     "metadata": {},
     "output_type": "execute_result"
    }
   ],
   "source": [
    "get_info(pd_data)-get_attribute_info(pd_data,'income')"
   ]
  },
  {
   "cell_type": "code",
   "execution_count": 16,
   "id": "feb24b50",
   "metadata": {},
   "outputs": [
    {
     "data": {
      "text/plain": [
       "0.15183550136234159"
      ]
     },
     "execution_count": 16,
     "metadata": {},
     "output_type": "execute_result"
    }
   ],
   "source": [
    "get_info(pd_data)-get_attribute_info(pd_data,'student')"
   ]
  },
  {
   "cell_type": "code",
   "execution_count": 17,
   "id": "e75fc36a",
   "metadata": {},
   "outputs": [
    {
     "data": {
      "text/plain": [
       "0.04812703040826949"
      ]
     },
     "execution_count": 17,
     "metadata": {},
     "output_type": "execute_result"
    }
   ],
   "source": [
    "get_info(pd_data)-get_attribute_info(pd_data,'credit_rating')"
   ]
  },
  {
   "cell_type": "code",
   "execution_count": 18,
   "id": "6a4a2d86",
   "metadata": {},
   "outputs": [],
   "source": [
    "# age의 정보 이득이 가장 크므로 해당 값을 기준으로 의사결정트리의 가지(branch)를 생성한다."
   ]
  },
  {
   "cell_type": "code",
   "execution_count": 19,
   "id": "b8a6e7e5",
   "metadata": {},
   "outputs": [
    {
     "data": {
      "text/plain": [
       "-1.580026905978025"
      ]
     },
     "execution_count": 19,
     "metadata": {},
     "output_type": "execute_result"
    }
   ],
   "source": [
    "youth=pd_data.loc[pd_data['age']=='youth']\n",
    "get_info(youth)-get_attribute_info(youth,'income')"
   ]
  },
  {
   "cell_type": "code",
   "execution_count": 20,
   "id": "4bd0f1a8",
   "metadata": {},
   "outputs": [
    {
     "data": {
      "text/plain": [
       "-1.2367106860085422"
      ]
     },
     "execution_count": 20,
     "metadata": {},
     "output_type": "execute_result"
    }
   ],
   "source": [
    "get_info(youth)-get_attribute_info(youth,'student')"
   ]
  },
  {
   "cell_type": "code",
   "execution_count": 21,
   "id": "35189cab",
   "metadata": {},
   "outputs": [
    {
     "data": {
      "text/plain": [
       "-1.527094404679944"
      ]
     },
     "execution_count": 21,
     "metadata": {},
     "output_type": "execute_result"
    }
   ],
   "source": [
    "get_info(youth)-get_attribute_info(youth,'credit_rating')"
   ]
  },
  {
   "cell_type": "code",
   "execution_count": null,
   "id": "e9c876bd",
   "metadata": {},
   "outputs": [],
   "source": []
  },
  {
   "cell_type": "code",
   "execution_count": null,
   "id": "6e376f5d",
   "metadata": {},
   "outputs": [],
   "source": []
  },
  {
   "cell_type": "markdown",
   "id": "df67c8db",
   "metadata": {},
   "source": [
    "##### 타이타닉 데이터"
   ]
  },
  {
   "cell_type": "markdown",
   "id": "636d8ddc",
   "metadata": {},
   "source": [
    "train_df와 test_df를 통합하여 all_df에 저장"
   ]
  },
  {
   "cell_type": "code",
   "execution_count": 22,
   "id": "54298007",
   "metadata": {},
   "outputs": [
    {
     "name": "stderr",
     "output_type": "stream",
     "text": [
      "C:\\Users\\user\\AppData\\Local\\Temp\\ipykernel_11608\\1531828946.py:9: FutureWarning: The frame.append method is deprecated and will be removed from pandas in a future version. Use pandas.concat instead.\n",
      "  all_df=train_df.append(test_df).set_index('PassengerId') # PassengerId를 index로 사용\n"
     ]
    }
   ],
   "source": [
    "import pandas as pd\n",
    "\n",
    "train_df=pd.read_csv('c:/users/user/ch12/train.csv')\n",
    "test_df=pd.read_csv('c:/users/user/ch12/test.csv')\n",
    "\n",
    "train_id=train_df['PassengerId'].values\n",
    "test_id=test_df['PassengerId'].values\n",
    "\n",
    "all_df=train_df.append(test_df).set_index('PassengerId') # PassengerId를 index로 사용"
   ]
  },
  {
   "cell_type": "code",
   "execution_count": 23,
   "id": "20ea8efc",
   "metadata": {},
   "outputs": [
    {
     "data": {
      "text/html": [
       "<div>\n",
       "<style scoped>\n",
       "    .dataframe tbody tr th:only-of-type {\n",
       "        vertical-align: middle;\n",
       "    }\n",
       "\n",
       "    .dataframe tbody tr th {\n",
       "        vertical-align: top;\n",
       "    }\n",
       "\n",
       "    .dataframe thead th {\n",
       "        text-align: right;\n",
       "    }\n",
       "</style>\n",
       "<table border=\"1\" class=\"dataframe\">\n",
       "  <thead>\n",
       "    <tr style=\"text-align: right;\">\n",
       "      <th></th>\n",
       "      <th>Survived</th>\n",
       "      <th>Pclass</th>\n",
       "      <th>Name</th>\n",
       "      <th>Sex</th>\n",
       "      <th>Age</th>\n",
       "      <th>SibSp</th>\n",
       "      <th>Parch</th>\n",
       "      <th>Ticket</th>\n",
       "      <th>Fare</th>\n",
       "      <th>Cabin</th>\n",
       "      <th>Embarked</th>\n",
       "    </tr>\n",
       "    <tr>\n",
       "      <th>PassengerId</th>\n",
       "      <th></th>\n",
       "      <th></th>\n",
       "      <th></th>\n",
       "      <th></th>\n",
       "      <th></th>\n",
       "      <th></th>\n",
       "      <th></th>\n",
       "      <th></th>\n",
       "      <th></th>\n",
       "      <th></th>\n",
       "      <th></th>\n",
       "    </tr>\n",
       "  </thead>\n",
       "  <tbody>\n",
       "    <tr>\n",
       "      <th>1</th>\n",
       "      <td>0.0</td>\n",
       "      <td>3</td>\n",
       "      <td>Braund, Mr. Owen Harris</td>\n",
       "      <td>male</td>\n",
       "      <td>22.0</td>\n",
       "      <td>1</td>\n",
       "      <td>0</td>\n",
       "      <td>A/5 21171</td>\n",
       "      <td>7.2500</td>\n",
       "      <td>NaN</td>\n",
       "      <td>S</td>\n",
       "    </tr>\n",
       "    <tr>\n",
       "      <th>2</th>\n",
       "      <td>1.0</td>\n",
       "      <td>1</td>\n",
       "      <td>Cumings, Mrs. John Bradley (Florence Briggs Th...</td>\n",
       "      <td>female</td>\n",
       "      <td>38.0</td>\n",
       "      <td>1</td>\n",
       "      <td>0</td>\n",
       "      <td>PC 17599</td>\n",
       "      <td>71.2833</td>\n",
       "      <td>C85</td>\n",
       "      <td>C</td>\n",
       "    </tr>\n",
       "    <tr>\n",
       "      <th>3</th>\n",
       "      <td>1.0</td>\n",
       "      <td>3</td>\n",
       "      <td>Heikkinen, Miss. Laina</td>\n",
       "      <td>female</td>\n",
       "      <td>26.0</td>\n",
       "      <td>0</td>\n",
       "      <td>0</td>\n",
       "      <td>STON/O2. 3101282</td>\n",
       "      <td>7.9250</td>\n",
       "      <td>NaN</td>\n",
       "      <td>S</td>\n",
       "    </tr>\n",
       "    <tr>\n",
       "      <th>4</th>\n",
       "      <td>1.0</td>\n",
       "      <td>1</td>\n",
       "      <td>Futrelle, Mrs. Jacques Heath (Lily May Peel)</td>\n",
       "      <td>female</td>\n",
       "      <td>35.0</td>\n",
       "      <td>1</td>\n",
       "      <td>0</td>\n",
       "      <td>113803</td>\n",
       "      <td>53.1000</td>\n",
       "      <td>C123</td>\n",
       "      <td>S</td>\n",
       "    </tr>\n",
       "    <tr>\n",
       "      <th>5</th>\n",
       "      <td>0.0</td>\n",
       "      <td>3</td>\n",
       "      <td>Allen, Mr. William Henry</td>\n",
       "      <td>male</td>\n",
       "      <td>35.0</td>\n",
       "      <td>0</td>\n",
       "      <td>0</td>\n",
       "      <td>373450</td>\n",
       "      <td>8.0500</td>\n",
       "      <td>NaN</td>\n",
       "      <td>S</td>\n",
       "    </tr>\n",
       "    <tr>\n",
       "      <th>...</th>\n",
       "      <td>...</td>\n",
       "      <td>...</td>\n",
       "      <td>...</td>\n",
       "      <td>...</td>\n",
       "      <td>...</td>\n",
       "      <td>...</td>\n",
       "      <td>...</td>\n",
       "      <td>...</td>\n",
       "      <td>...</td>\n",
       "      <td>...</td>\n",
       "      <td>...</td>\n",
       "    </tr>\n",
       "    <tr>\n",
       "      <th>1305</th>\n",
       "      <td>NaN</td>\n",
       "      <td>3</td>\n",
       "      <td>Spector, Mr. Woolf</td>\n",
       "      <td>male</td>\n",
       "      <td>NaN</td>\n",
       "      <td>0</td>\n",
       "      <td>0</td>\n",
       "      <td>A.5. 3236</td>\n",
       "      <td>8.0500</td>\n",
       "      <td>NaN</td>\n",
       "      <td>S</td>\n",
       "    </tr>\n",
       "    <tr>\n",
       "      <th>1306</th>\n",
       "      <td>NaN</td>\n",
       "      <td>1</td>\n",
       "      <td>Oliva y Ocana, Dona. Fermina</td>\n",
       "      <td>female</td>\n",
       "      <td>39.0</td>\n",
       "      <td>0</td>\n",
       "      <td>0</td>\n",
       "      <td>PC 17758</td>\n",
       "      <td>108.9000</td>\n",
       "      <td>C105</td>\n",
       "      <td>C</td>\n",
       "    </tr>\n",
       "    <tr>\n",
       "      <th>1307</th>\n",
       "      <td>NaN</td>\n",
       "      <td>3</td>\n",
       "      <td>Saether, Mr. Simon Sivertsen</td>\n",
       "      <td>male</td>\n",
       "      <td>38.5</td>\n",
       "      <td>0</td>\n",
       "      <td>0</td>\n",
       "      <td>SOTON/O.Q. 3101262</td>\n",
       "      <td>7.2500</td>\n",
       "      <td>NaN</td>\n",
       "      <td>S</td>\n",
       "    </tr>\n",
       "    <tr>\n",
       "      <th>1308</th>\n",
       "      <td>NaN</td>\n",
       "      <td>3</td>\n",
       "      <td>Ware, Mr. Frederick</td>\n",
       "      <td>male</td>\n",
       "      <td>NaN</td>\n",
       "      <td>0</td>\n",
       "      <td>0</td>\n",
       "      <td>359309</td>\n",
       "      <td>8.0500</td>\n",
       "      <td>NaN</td>\n",
       "      <td>S</td>\n",
       "    </tr>\n",
       "    <tr>\n",
       "      <th>1309</th>\n",
       "      <td>NaN</td>\n",
       "      <td>3</td>\n",
       "      <td>Peter, Master. Michael J</td>\n",
       "      <td>male</td>\n",
       "      <td>NaN</td>\n",
       "      <td>1</td>\n",
       "      <td>1</td>\n",
       "      <td>2668</td>\n",
       "      <td>22.3583</td>\n",
       "      <td>NaN</td>\n",
       "      <td>C</td>\n",
       "    </tr>\n",
       "  </tbody>\n",
       "</table>\n",
       "<p>1309 rows × 11 columns</p>\n",
       "</div>"
      ],
      "text/plain": [
       "             Survived  Pclass  \\\n",
       "PassengerId                     \n",
       "1                 0.0       3   \n",
       "2                 1.0       1   \n",
       "3                 1.0       3   \n",
       "4                 1.0       1   \n",
       "5                 0.0       3   \n",
       "...               ...     ...   \n",
       "1305              NaN       3   \n",
       "1306              NaN       1   \n",
       "1307              NaN       3   \n",
       "1308              NaN       3   \n",
       "1309              NaN       3   \n",
       "\n",
       "                                                          Name     Sex   Age  \\\n",
       "PassengerId                                                                    \n",
       "1                                      Braund, Mr. Owen Harris    male  22.0   \n",
       "2            Cumings, Mrs. John Bradley (Florence Briggs Th...  female  38.0   \n",
       "3                                       Heikkinen, Miss. Laina  female  26.0   \n",
       "4                 Futrelle, Mrs. Jacques Heath (Lily May Peel)  female  35.0   \n",
       "5                                     Allen, Mr. William Henry    male  35.0   \n",
       "...                                                        ...     ...   ...   \n",
       "1305                                        Spector, Mr. Woolf    male   NaN   \n",
       "1306                              Oliva y Ocana, Dona. Fermina  female  39.0   \n",
       "1307                              Saether, Mr. Simon Sivertsen    male  38.5   \n",
       "1308                                       Ware, Mr. Frederick    male   NaN   \n",
       "1309                                  Peter, Master. Michael J    male   NaN   \n",
       "\n",
       "             SibSp  Parch              Ticket      Fare Cabin Embarked  \n",
       "PassengerId                                                             \n",
       "1                1      0           A/5 21171    7.2500   NaN        S  \n",
       "2                1      0            PC 17599   71.2833   C85        C  \n",
       "3                0      0    STON/O2. 3101282    7.9250   NaN        S  \n",
       "4                1      0              113803   53.1000  C123        S  \n",
       "5                0      0              373450    8.0500   NaN        S  \n",
       "...            ...    ...                 ...       ...   ...      ...  \n",
       "1305             0      0           A.5. 3236    8.0500   NaN        S  \n",
       "1306             0      0            PC 17758  108.9000  C105        C  \n",
       "1307             0      0  SOTON/O.Q. 3101262    7.2500   NaN        S  \n",
       "1308             0      0              359309    8.0500   NaN        S  \n",
       "1309             1      1                2668   22.3583   NaN        C  \n",
       "\n",
       "[1309 rows x 11 columns]"
      ]
     },
     "execution_count": 23,
     "metadata": {},
     "output_type": "execute_result"
    }
   ],
   "source": [
    "all_df"
   ]
  },
  {
   "cell_type": "markdown",
   "id": "d36d29e6",
   "metadata": {},
   "source": [
    "Sex가 male이면 0으로, female이면 1로 바꾸고\n",
    "\n",
    "Pclass와 Age로 그룹핑 한 Age의 평균값으로 Age의 결측치를 채운다."
   ]
  },
  {
   "cell_type": "code",
   "execution_count": 24,
   "id": "197fb78c",
   "metadata": {},
   "outputs": [],
   "source": [
    "all_df['Sex']=all_df['Sex'].replace({'male':0,'female':1})\n",
    "\n",
    "all_df['Age'].fillna(all_df.groupby('Pclass')['Age'].transform('mean'),inplace=True)"
   ]
  },
  {
   "cell_type": "markdown",
   "id": "30c00b99",
   "metadata": {},
   "source": [
    "Cabin에 존재하는 값이 문자열이면 split으로 나눠서 개수를 cabin_count에 표시"
   ]
  },
  {
   "cell_type": "code",
   "execution_count": 25,
   "id": "311c5103",
   "metadata": {},
   "outputs": [],
   "source": [
    "all_df['cabin_count']=all_df['Cabin'].map(\n",
    "    lambda x:len(x.split()) if type(x)==str else 0)"
   ]
  },
  {
   "cell_type": "markdown",
   "id": "6eb5dcd7",
   "metadata": {},
   "source": [
    "이름을 기준으로 사회적 지위 정보를 social_status열에 저장"
   ]
  },
  {
   "cell_type": "code",
   "execution_count": 26,
   "id": "67f60f46",
   "metadata": {},
   "outputs": [],
   "source": [
    "def transform_status(x):\n",
    "    if 'Mrs' in x or 'Ms' in x:\n",
    "        return 'Mrs'\n",
    "    elif 'Mr' in x:\n",
    "        return 'Mr'\n",
    "    elif 'Miss' in x:\n",
    "        return 'Miss'\n",
    "    elif 'Master' in x:\n",
    "        return 'Master'\n",
    "    elif 'Dr' in x:\n",
    "        return 'Dr'\n",
    "    elif 'Rev' in x:\n",
    "        return 'Rev'\n",
    "    elif 'Col' in x:\n",
    "        return 'Col'\n",
    "    else:\n",
    "        return '0'\n",
    "    \n",
    "all_df['social_status']=all_df['Name'].map(lambda x:transform_status(x))"
   ]
  },
  {
   "cell_type": "code",
   "execution_count": 27,
   "id": "a6f383dd",
   "metadata": {},
   "outputs": [
    {
     "data": {
      "text/plain": [
       "Mr        758\n",
       "Miss      258\n",
       "Mrs       203\n",
       "Master     61\n",
       "0           9\n",
       "Rev         8\n",
       "Dr          8\n",
       "Col         4\n",
       "Name: social_status, dtype: int64"
      ]
     },
     "execution_count": 27,
     "metadata": {},
     "output_type": "execute_result"
    }
   ],
   "source": [
    "all_df['social_status'].value_counts()"
   ]
  },
  {
   "cell_type": "markdown",
   "id": "6ffad7c4",
   "metadata": {},
   "source": [
    "Embarked열의 결측치 확인"
   ]
  },
  {
   "cell_type": "code",
   "execution_count": 28,
   "id": "edc11948",
   "metadata": {},
   "outputs": [
    {
     "data": {
      "text/html": [
       "<div>\n",
       "<style scoped>\n",
       "    .dataframe tbody tr th:only-of-type {\n",
       "        vertical-align: middle;\n",
       "    }\n",
       "\n",
       "    .dataframe tbody tr th {\n",
       "        vertical-align: top;\n",
       "    }\n",
       "\n",
       "    .dataframe thead th {\n",
       "        text-align: right;\n",
       "    }\n",
       "</style>\n",
       "<table border=\"1\" class=\"dataframe\">\n",
       "  <thead>\n",
       "    <tr style=\"text-align: right;\">\n",
       "      <th></th>\n",
       "      <th>Survived</th>\n",
       "      <th>Pclass</th>\n",
       "      <th>Name</th>\n",
       "      <th>Sex</th>\n",
       "      <th>Age</th>\n",
       "      <th>SibSp</th>\n",
       "      <th>Parch</th>\n",
       "      <th>Ticket</th>\n",
       "      <th>Fare</th>\n",
       "      <th>Cabin</th>\n",
       "      <th>Embarked</th>\n",
       "      <th>cabin_count</th>\n",
       "      <th>social_status</th>\n",
       "    </tr>\n",
       "    <tr>\n",
       "      <th>PassengerId</th>\n",
       "      <th></th>\n",
       "      <th></th>\n",
       "      <th></th>\n",
       "      <th></th>\n",
       "      <th></th>\n",
       "      <th></th>\n",
       "      <th></th>\n",
       "      <th></th>\n",
       "      <th></th>\n",
       "      <th></th>\n",
       "      <th></th>\n",
       "      <th></th>\n",
       "      <th></th>\n",
       "    </tr>\n",
       "  </thead>\n",
       "  <tbody>\n",
       "    <tr>\n",
       "      <th>62</th>\n",
       "      <td>1.0</td>\n",
       "      <td>1</td>\n",
       "      <td>Icard, Miss. Amelie</td>\n",
       "      <td>1</td>\n",
       "      <td>38.0</td>\n",
       "      <td>0</td>\n",
       "      <td>0</td>\n",
       "      <td>113572</td>\n",
       "      <td>80.0</td>\n",
       "      <td>B28</td>\n",
       "      <td>NaN</td>\n",
       "      <td>1</td>\n",
       "      <td>Miss</td>\n",
       "    </tr>\n",
       "    <tr>\n",
       "      <th>830</th>\n",
       "      <td>1.0</td>\n",
       "      <td>1</td>\n",
       "      <td>Stone, Mrs. George Nelson (Martha Evelyn)</td>\n",
       "      <td>1</td>\n",
       "      <td>62.0</td>\n",
       "      <td>0</td>\n",
       "      <td>0</td>\n",
       "      <td>113572</td>\n",
       "      <td>80.0</td>\n",
       "      <td>B28</td>\n",
       "      <td>NaN</td>\n",
       "      <td>1</td>\n",
       "      <td>Mrs</td>\n",
       "    </tr>\n",
       "  </tbody>\n",
       "</table>\n",
       "</div>"
      ],
      "text/plain": [
       "             Survived  Pclass                                       Name  Sex  \\\n",
       "PassengerId                                                                     \n",
       "62                1.0       1                        Icard, Miss. Amelie    1   \n",
       "830               1.0       1  Stone, Mrs. George Nelson (Martha Evelyn)    1   \n",
       "\n",
       "              Age  SibSp  Parch  Ticket  Fare Cabin Embarked  cabin_count  \\\n",
       "PassengerId                                                                 \n",
       "62           38.0      0      0  113572  80.0   B28      NaN            1   \n",
       "830          62.0      0      0  113572  80.0   B28      NaN            1   \n",
       "\n",
       "            social_status  \n",
       "PassengerId                \n",
       "62                   Miss  \n",
       "830                   Mrs  "
      ]
     },
     "execution_count": 28,
     "metadata": {},
     "output_type": "execute_result"
    }
   ],
   "source": [
    "all_df[all_df['Embarked'].isnull()]"
   ]
  },
  {
   "cell_type": "markdown",
   "id": "3ba79891",
   "metadata": {},
   "source": [
    "all_df에서 결측치인 62행과 830행 제거\n",
    "\n",
    "train_id에서도 62번과 830번 제거(index는 0부터 시작이므로 61번, 829번을 삭제)"
   ]
  },
  {
   "cell_type": "code",
   "execution_count": 29,
   "id": "69eb35c6",
   "metadata": {},
   "outputs": [],
   "source": [
    "all_df=all_df.drop([62,830])\n",
    "train_id=np.delete(train_id, [62-1,830-1])"
   ]
  },
  {
   "cell_type": "markdown",
   "id": "66e470ca",
   "metadata": {},
   "source": [
    "Fare열의 결측치 찾기"
   ]
  },
  {
   "cell_type": "code",
   "execution_count": 30,
   "id": "5b602931",
   "metadata": {},
   "outputs": [
    {
     "data": {
      "text/html": [
       "<div>\n",
       "<style scoped>\n",
       "    .dataframe tbody tr th:only-of-type {\n",
       "        vertical-align: middle;\n",
       "    }\n",
       "\n",
       "    .dataframe tbody tr th {\n",
       "        vertical-align: top;\n",
       "    }\n",
       "\n",
       "    .dataframe thead th {\n",
       "        text-align: right;\n",
       "    }\n",
       "</style>\n",
       "<table border=\"1\" class=\"dataframe\">\n",
       "  <thead>\n",
       "    <tr style=\"text-align: right;\">\n",
       "      <th></th>\n",
       "      <th>Survived</th>\n",
       "      <th>Pclass</th>\n",
       "      <th>Name</th>\n",
       "      <th>Sex</th>\n",
       "      <th>Age</th>\n",
       "      <th>SibSp</th>\n",
       "      <th>Parch</th>\n",
       "      <th>Ticket</th>\n",
       "      <th>Fare</th>\n",
       "      <th>Cabin</th>\n",
       "      <th>Embarked</th>\n",
       "      <th>cabin_count</th>\n",
       "      <th>social_status</th>\n",
       "    </tr>\n",
       "    <tr>\n",
       "      <th>PassengerId</th>\n",
       "      <th></th>\n",
       "      <th></th>\n",
       "      <th></th>\n",
       "      <th></th>\n",
       "      <th></th>\n",
       "      <th></th>\n",
       "      <th></th>\n",
       "      <th></th>\n",
       "      <th></th>\n",
       "      <th></th>\n",
       "      <th></th>\n",
       "      <th></th>\n",
       "      <th></th>\n",
       "    </tr>\n",
       "  </thead>\n",
       "  <tbody>\n",
       "    <tr>\n",
       "      <th>1044</th>\n",
       "      <td>NaN</td>\n",
       "      <td>3</td>\n",
       "      <td>Storey, Mr. Thomas</td>\n",
       "      <td>0</td>\n",
       "      <td>60.5</td>\n",
       "      <td>0</td>\n",
       "      <td>0</td>\n",
       "      <td>3701</td>\n",
       "      <td>NaN</td>\n",
       "      <td>NaN</td>\n",
       "      <td>S</td>\n",
       "      <td>0</td>\n",
       "      <td>Mr</td>\n",
       "    </tr>\n",
       "  </tbody>\n",
       "</table>\n",
       "</div>"
      ],
      "text/plain": [
       "             Survived  Pclass                Name  Sex   Age  SibSp  Parch  \\\n",
       "PassengerId                                                                  \n",
       "1044              NaN       3  Storey, Mr. Thomas    0  60.5      0      0   \n",
       "\n",
       "            Ticket  Fare Cabin Embarked  cabin_count social_status  \n",
       "PassengerId                                                         \n",
       "1044          3701   NaN   NaN        S            0            Mr  "
      ]
     },
     "execution_count": 30,
     "metadata": {},
     "output_type": "execute_result"
    }
   ],
   "source": [
    "all_df[all_df['Fare'].isnull()]"
   ]
  },
  {
   "cell_type": "markdown",
   "id": "74e9ac04",
   "metadata": {},
   "source": [
    "Pclass와 Sex로 그룹핑 후 Fare의 평균값 계산"
   ]
  },
  {
   "cell_type": "code",
   "execution_count": 31,
   "id": "0d6dc453",
   "metadata": {},
   "outputs": [
    {
     "data": {
      "text/plain": [
       "Pclass  Sex\n",
       "1       0       69.888385\n",
       "        1      109.826644\n",
       "2       0       19.904946\n",
       "        1       23.234827\n",
       "3       0       12.415462\n",
       "        1       15.324250\n",
       "Name: Fare, dtype: float64"
      ]
     },
     "execution_count": 31,
     "metadata": {},
     "output_type": "execute_result"
    }
   ],
   "source": [
    "all_df.groupby(['Pclass','Sex'])['Fare'].mean()"
   ]
  },
  {
   "cell_type": "markdown",
   "id": "fe2c83bb",
   "metadata": {},
   "source": [
    "Fare의 결측치가 Pclass=3, Sex=0이므로 <- 이 그룹의 평균값인 12.415462로 결측치를 채운다."
   ]
  },
  {
   "cell_type": "code",
   "execution_count": 32,
   "id": "4e5ee077",
   "metadata": {},
   "outputs": [],
   "source": [
    "all_df.loc[all_df['Fare'].isnull(),'Fare']=12.415462"
   ]
  },
  {
   "cell_type": "markdown",
   "id": "c0c628a8",
   "metadata": {},
   "source": [
    "cabin이 문자열형태이면 첫번째 글자를 cabin_type에, 그렇지 않으면 99로 채운다"
   ]
  },
  {
   "cell_type": "code",
   "execution_count": 33,
   "id": "86719f67",
   "metadata": {},
   "outputs": [],
   "source": [
    "all_df['cabin_type']=all_df['Cabin'].map(lambda x:x[0] if type(x)==str else '99')"
   ]
  },
  {
   "cell_type": "markdown",
   "id": "00ba9800",
   "metadata": {},
   "source": [
    "필요 없는 Cabin, Name, Ticket열 삭제"
   ]
  },
  {
   "cell_type": "code",
   "execution_count": 34,
   "id": "e5366a25",
   "metadata": {},
   "outputs": [],
   "source": [
    "del all_df['Cabin']\n",
    "del all_df['Name']\n",
    "del all_df['Ticket']"
   ]
  },
  {
   "cell_type": "markdown",
   "id": "ea2923be",
   "metadata": {},
   "source": [
    "Y값인 Survived의 값을 y에 저장하고, all_df에서 Survived열 삭제"
   ]
  },
  {
   "cell_type": "code",
   "execution_count": 35,
   "id": "7d077900",
   "metadata": {},
   "outputs": [],
   "source": [
    "y=all_df.loc[train_id,'Survived'].values\n",
    "del all_df['Survived']"
   ]
  },
  {
   "cell_type": "markdown",
   "id": "215f3f9d",
   "metadata": {},
   "source": [
    "all_df를 원핫인코딩을 진행하고, 그 값을 X에 저장"
   ]
  },
  {
   "cell_type": "code",
   "execution_count": 36,
   "id": "4dacb1a5",
   "metadata": {},
   "outputs": [],
   "source": [
    "X_df=pd.get_dummies(all_df)\n",
    "X=X_df.values"
   ]
  },
  {
   "cell_type": "markdown",
   "id": "e6ba073c",
   "metadata": {},
   "source": [
    "MinMaxScaler를 사용하여 전체 데이터의 스케일을 0-1사이로 변경"
   ]
  },
  {
   "cell_type": "code",
   "execution_count": 37,
   "id": "1740b2fc",
   "metadata": {},
   "outputs": [],
   "source": [
    "from sklearn.preprocessing import MinMaxScaler\n",
    "minmax_scaler=MinMaxScaler()\n",
    "\n",
    "minmax_scaler.fit(X)\n",
    "X=minmax_scaler.transform(X)"
   ]
  },
  {
   "cell_type": "markdown",
   "id": "80aac4e0",
   "metadata": {},
   "source": [
    "- train_id 개수만큼 X_train에\n",
    "- 나머지는 X_test에"
   ]
  },
  {
   "cell_type": "code",
   "execution_count": 38,
   "id": "2fd8085d",
   "metadata": {},
   "outputs": [],
   "source": [
    "X_train=X[:len(train_id)]\n",
    "X_test=X[len(train_id):]"
   ]
  },
  {
   "cell_type": "markdown",
   "id": "d936fc31",
   "metadata": {},
   "source": [
    "##### 의사결정트리 구현 및 정확도 그래프 그리기\n",
    "- min_samples_leaf: 마지막 노드의 최소 데이터의 개수"
   ]
  },
  {
   "cell_type": "markdown",
   "id": "3d0d6d91",
   "metadata": {},
   "source": [
    "- min_samples_leaf의 개수를 조정하여 가치치기 실시\n",
    "- cross_val_score를 사용하여 5번의 crossvalidation 프로세스를 거쳐 test데이터셋의 5번의 평균 정확성 계산"
   ]
  },
  {
   "cell_type": "code",
   "execution_count": 39,
   "id": "a9360903",
   "metadata": {},
   "outputs": [
    {
     "data": {
      "text/plain": [
       "<AxesSubplot:>"
      ]
     },
     "execution_count": 39,
     "metadata": {},
     "output_type": "execute_result"
    },
    {
     "data": {
      "image/png": "[encoded data removed]",
      "text/plain": [
       "<Figure size 432x288 with 1 Axes>"
      ]
     },
     "metadata": {
      "needs_background": "light"
     },
     "output_type": "display_data"
    }
   ],
   "source": [
    "from sklearn.tree import DecisionTreeClassifier\n",
    "from sklearn.model_selection import cross_val_score\n",
    "from sklearn.metrics import accuracy_score\n",
    "test_accuracy = [] # 예측정확도\n",
    "train_accuracy = [] # 훈련정확도\n",
    "for idx in range(3, 20):\n",
    "    df=DecisionTreeClassifier(min_samples_leaf=idx) # 의사결정트리 객체\n",
    "    acc=cross_val_score(df,X_train, y, scoring=\"accuracy\", cv=5).mean()\n",
    "    train_accuracy.append(accuracy_score(df.fit(X_train,y).predict(X_train),y))\n",
    "    test_accuracy.append(acc)\n",
    "\n",
    "result = pd.DataFrame(train_accuracy,index=range(3,20),columns=[\"train\"]) # train정확도\n",
    "result[\"test\"] = test_accuracy # test정확도\n",
    "result.plot() # 그래프로 나타내기"
   ]
  },
  {
   "cell_type": "markdown",
   "id": "f6f835fd",
   "metadata": {},
   "source": [
    "test 데이터셋의 정확성은 11에서 가장 높았다가 계속 떨어지는 것을 확인할 수 있다.\n",
    "\n",
    "의사결정트리의 경우 마지막 노트의 데이터 개수가 적으면 적을수록 과대적합이 발생한다."
   ]
  },
  {
   "cell_type": "markdown",
   "id": "c1a98924",
   "metadata": {},
   "source": [
    "##### Pipeline을 사용하여 두 개 이상의 알고리즘과 다양한 하이퍼 매개변수 실험을 수행하는 코드\n",
    "- algorithmes: 사용할 알고리즘 정의\n",
    "- params: 사용할 하이퍼 매개변수 정의"
   ]
  },
  {
   "cell_type": "code",
   "execution_count": 40,
   "id": "5b3c006b",
   "metadata": {},
   "outputs": [],
   "source": [
    "from sklearn.pipeline import Pipeline\n",
    "from sklearn.pipeline import make_pipeline\n",
    "from sklearn.linear_model import LogisticRegression\n",
    "\n",
    "algorithmes = [LogisticRegression(), DecisionTreeClassifier()]\n",
    "\n",
    "c_params = [0.1,  5.0, 7.0, 10.0, 15.0, 20.0, 100.0]\n",
    "\n",
    "\n",
    "params = []\n",
    "params.append([{\n",
    "    \"solver\" : [\"saga\"],\n",
    "    \"penalty\" : [\"l1\"],\n",
    "    \"C\" : c_params\n",
    "    },{\n",
    "    \"solver\" : ['liblinear'],\n",
    "    \"penalty\" : [\"l2\"],\n",
    "    \"C\" : c_params\n",
    "    }\n",
    "    ])\n",
    "params.append({\n",
    "    \"criterion\" : [\"gini\", \"entropy\"],\n",
    "    \"max_depth\" : [10,8,7,6,5,4,3,2],\n",
    "    \"min_samples_leaf\": [1,2,3,4,5,6,7,8,9]})"
   ]
  },
  {
   "cell_type": "markdown",
   "id": "5ff4840d",
   "metadata": {},
   "source": [
    "GridSearchCV를 사용하여 로지스틱 회귀와 의사결정트리 알고리즘을 학습할 수 있도록 코드 작성\n",
    "\n",
    "결과를 estimator_results에 저장"
   ]
  },
  {
   "cell_type": "code",
   "execution_count": 41,
   "id": "23020625",
   "metadata": {},
   "outputs": [
    {
     "name": "stdout",
     "output_type": "stream",
     "text": [
      "Fitting 5 folds for each of 14 candidates, totalling 70 fits\n",
      "Fitting 5 folds for each of 144 candidates, totalling 720 fits\n"
     ]
    }
   ],
   "source": [
    "from sklearn.model_selection import GridSearchCV\n",
    "from sklearn.metrics import classification_report, accuracy_score\n",
    "\n",
    "scoring = ['accuracy']\n",
    "estimator_results = []\n",
    "for i, (estimator, params) in enumerate(zip(algorithmes,params)):\n",
    "    gs_estimator = GridSearchCV(\n",
    "            refit=\"accuracy\", estimator=estimator,param_grid=params, \n",
    "            scoring=scoring, cv=5, verbose=1, n_jobs=4) # 모델 생성\n",
    "\n",
    "    gs_estimator.fit(X_train, y) # 훈련\n",
    "    estimator_results.append(gs_estimator) # 결과 저장"
   ]
  },
  {
   "cell_type": "code",
   "execution_count": 42,
   "id": "89ee1220",
   "metadata": {},
   "outputs": [
    {
     "data": {
      "text/plain": [
       "0.8268075922046594"
      ]
     },
     "execution_count": 42,
     "metadata": {},
     "output_type": "execute_result"
    }
   ],
   "source": [
    "estimator_results[0].best_score_ # [0]: LogisticRegression"
   ]
  },
  {
   "cell_type": "code",
   "execution_count": 43,
   "id": "053aaf55",
   "metadata": {},
   "outputs": [
    {
     "data": {
      "text/plain": [
       "0.8346918047356059"
      ]
     },
     "execution_count": 43,
     "metadata": {},
     "output_type": "execute_result"
    }
   ],
   "source": [
    "estimator_results[1].best_score_ # [1]: DecisionTreeClassifier"
   ]
  },
  {
   "cell_type": "markdown",
   "id": "64f889a6",
   "metadata": {},
   "source": [
    "##### 모델 정보와 하이퍼 매개변수를 한 번에 정리하기 위한 코드"
   ]
  },
  {
   "cell_type": "code",
   "execution_count": 44,
   "id": "a7b6042b",
   "metadata": {},
   "outputs": [],
   "source": [
    "import pandas as pd\n",
    "from pandas import DataFrame\n",
    "from collections import defaultdict\n",
    "\n",
    "result_df_dict = {}\n",
    "\n",
    "result_attributes = [\"model\", \"accuracy\", \"penalty\", \"solver\", \"C\", \"criterion\", \"max_depth\", \"min_samples_leaf\"]\n",
    "result_dict = defaultdict(list)\n",
    "\n",
    "algorithm_name= [\"LogisticRegression\", \"DecisionTreeClassifier\"]\n",
    "\n",
    "for i, estimators in enumerate(estimator_results):\n",
    "    number_of_estimators = len(estimators.cv_results_[\"mean_fit_time\"])\n",
    "\n",
    "    for idx_estimator in range(number_of_estimators):\n",
    "        result_dict[\"model\"].append(algorithm_name[i])\n",
    "        result_dict[\"accuracy\"].append(\n",
    "            estimators.cv_results_[\"mean_test_accuracy\"][idx_estimator])\n",
    "            \n",
    "    for param_value in estimators.cv_results_[\"params\"]:\n",
    "        for k,v in param_value.items():\n",
    "            result_dict[k].append(v)\n",
    "    for attr_name in result_attributes:\n",
    "        if len(result_dict[attr_name]) < len(result_dict[\"accuracy\"]):\n",
    "            result_dict[attr_name].extend([None for i in range(number_of_estimators)])"
   ]
  },
  {
   "cell_type": "code",
   "execution_count": 45,
   "id": "338bacb5",
   "metadata": {},
   "outputs": [
    {
     "data": {
      "text/html": [
       "<div>\n",
       "<style scoped>\n",
       "    .dataframe tbody tr th:only-of-type {\n",
       "        vertical-align: middle;\n",
       "    }\n",
       "\n",
       "    .dataframe tbody tr th {\n",
       "        vertical-align: top;\n",
       "    }\n",
       "\n",
       "    .dataframe thead th {\n",
       "        text-align: right;\n",
       "    }\n",
       "</style>\n",
       "<table border=\"1\" class=\"dataframe\">\n",
       "  <thead>\n",
       "    <tr style=\"text-align: right;\">\n",
       "      <th></th>\n",
       "      <th>model</th>\n",
       "      <th>accuracy</th>\n",
       "      <th>penalty</th>\n",
       "      <th>solver</th>\n",
       "      <th>C</th>\n",
       "      <th>criterion</th>\n",
       "      <th>max_depth</th>\n",
       "      <th>min_samples_leaf</th>\n",
       "    </tr>\n",
       "  </thead>\n",
       "  <tbody>\n",
       "    <tr>\n",
       "      <th>135</th>\n",
       "      <td>DecisionTreeClassifier</td>\n",
       "      <td>0.834692</td>\n",
       "      <td>None</td>\n",
       "      <td>None</td>\n",
       "      <td>NaN</td>\n",
       "      <td>entropy</td>\n",
       "      <td>4.0</td>\n",
       "      <td>5.0</td>\n",
       "    </tr>\n",
       "    <tr>\n",
       "      <th>136</th>\n",
       "      <td>DecisionTreeClassifier</td>\n",
       "      <td>0.834692</td>\n",
       "      <td>None</td>\n",
       "      <td>None</td>\n",
       "      <td>NaN</td>\n",
       "      <td>entropy</td>\n",
       "      <td>4.0</td>\n",
       "      <td>6.0</td>\n",
       "    </tr>\n",
       "    <tr>\n",
       "      <th>139</th>\n",
       "      <td>DecisionTreeClassifier</td>\n",
       "      <td>0.834679</td>\n",
       "      <td>None</td>\n",
       "      <td>None</td>\n",
       "      <td>NaN</td>\n",
       "      <td>entropy</td>\n",
       "      <td>4.0</td>\n",
       "      <td>9.0</td>\n",
       "    </tr>\n",
       "    <tr>\n",
       "      <th>137</th>\n",
       "      <td>DecisionTreeClassifier</td>\n",
       "      <td>0.833556</td>\n",
       "      <td>None</td>\n",
       "      <td>None</td>\n",
       "      <td>NaN</td>\n",
       "      <td>entropy</td>\n",
       "      <td>4.0</td>\n",
       "      <td>7.0</td>\n",
       "    </tr>\n",
       "    <tr>\n",
       "      <th>138</th>\n",
       "      <td>DecisionTreeClassifier</td>\n",
       "      <td>0.833556</td>\n",
       "      <td>None</td>\n",
       "      <td>None</td>\n",
       "      <td>NaN</td>\n",
       "      <td>entropy</td>\n",
       "      <td>4.0</td>\n",
       "      <td>8.0</td>\n",
       "    </tr>\n",
       "    <tr>\n",
       "      <th>102</th>\n",
       "      <td>DecisionTreeClassifier</td>\n",
       "      <td>0.833543</td>\n",
       "      <td>None</td>\n",
       "      <td>None</td>\n",
       "      <td>NaN</td>\n",
       "      <td>entropy</td>\n",
       "      <td>8.0</td>\n",
       "      <td>8.0</td>\n",
       "    </tr>\n",
       "    <tr>\n",
       "      <th>133</th>\n",
       "      <td>DecisionTreeClassifier</td>\n",
       "      <td>0.832445</td>\n",
       "      <td>None</td>\n",
       "      <td>None</td>\n",
       "      <td>NaN</td>\n",
       "      <td>entropy</td>\n",
       "      <td>4.0</td>\n",
       "      <td>3.0</td>\n",
       "    </tr>\n",
       "    <tr>\n",
       "      <th>132</th>\n",
       "      <td>DecisionTreeClassifier</td>\n",
       "      <td>0.832445</td>\n",
       "      <td>None</td>\n",
       "      <td>None</td>\n",
       "      <td>NaN</td>\n",
       "      <td>entropy</td>\n",
       "      <td>4.0</td>\n",
       "      <td>2.0</td>\n",
       "    </tr>\n",
       "    <tr>\n",
       "      <th>131</th>\n",
       "      <td>DecisionTreeClassifier</td>\n",
       "      <td>0.831321</td>\n",
       "      <td>None</td>\n",
       "      <td>None</td>\n",
       "      <td>NaN</td>\n",
       "      <td>entropy</td>\n",
       "      <td>4.0</td>\n",
       "      <td>1.0</td>\n",
       "    </tr>\n",
       "    <tr>\n",
       "      <th>66</th>\n",
       "      <td>DecisionTreeClassifier</td>\n",
       "      <td>0.830172</td>\n",
       "      <td>None</td>\n",
       "      <td>None</td>\n",
       "      <td>NaN</td>\n",
       "      <td>gini</td>\n",
       "      <td>4.0</td>\n",
       "      <td>8.0</td>\n",
       "    </tr>\n",
       "  </tbody>\n",
       "</table>\n",
       "</div>"
      ],
      "text/plain": [
       "                      model  accuracy penalty solver   C criterion  max_depth  \\\n",
       "135  DecisionTreeClassifier  0.834692    None   None NaN   entropy        4.0   \n",
       "136  DecisionTreeClassifier  0.834692    None   None NaN   entropy        4.0   \n",
       "139  DecisionTreeClassifier  0.834679    None   None NaN   entropy        4.0   \n",
       "137  DecisionTreeClassifier  0.833556    None   None NaN   entropy        4.0   \n",
       "138  DecisionTreeClassifier  0.833556    None   None NaN   entropy        4.0   \n",
       "102  DecisionTreeClassifier  0.833543    None   None NaN   entropy        8.0   \n",
       "133  DecisionTreeClassifier  0.832445    None   None NaN   entropy        4.0   \n",
       "132  DecisionTreeClassifier  0.832445    None   None NaN   entropy        4.0   \n",
       "131  DecisionTreeClassifier  0.831321    None   None NaN   entropy        4.0   \n",
       "66   DecisionTreeClassifier  0.830172    None   None NaN      gini        4.0   \n",
       "\n",
       "     min_samples_leaf  \n",
       "135               5.0  \n",
       "136               6.0  \n",
       "139               9.0  \n",
       "137               7.0  \n",
       "138               8.0  \n",
       "102               8.0  \n",
       "133               3.0  \n",
       "132               2.0  \n",
       "131               1.0  \n",
       "66                8.0  "
      ]
     },
     "execution_count": 45,
     "metadata": {},
     "output_type": "execute_result"
    }
   ],
   "source": [
    "result_df = DataFrame(result_dict, columns=result_attributes)\n",
    "result_df.sort_values(\"accuracy\",ascending=False).head(n=10)"
   ]
  },
  {
   "cell_type": "markdown",
   "id": "5686db0d",
   "metadata": {},
   "source": [
    "- feature_importances_: 중요한 변수가 무엇인지 확인"
   ]
  },
  {
   "cell_type": "code",
   "execution_count": 46,
   "id": "ab846904",
   "metadata": {},
   "outputs": [
    {
     "data": {
      "text/plain": [
       "array([0.13273669, 0.06209254, 0.09444317, 0.        , 0.        ,\n",
       "       0.18738059, 0.01339862, 0.        , 0.        , 0.        ,\n",
       "       0.        , 0.        , 0.        , 0.        , 0.        ,\n",
       "       0.5099484 , 0.        , 0.        , 0.        , 0.        ,\n",
       "       0.        , 0.        , 0.        , 0.        , 0.        ,\n",
       "       0.        , 0.        ])"
      ]
     },
     "execution_count": 46,
     "metadata": {},
     "output_type": "execute_result"
    }
   ],
   "source": [
    "estimator_results[1].best_estimator_.feature_importances_ # 의사결정트리 중요도"
   ]
  },
  {
   "cell_type": "code",
   "execution_count": 47,
   "id": "8bf9332c",
   "metadata": {},
   "outputs": [
    {
     "data": {
      "text/plain": [
       "Index(['Pclass', 'Sex', 'Age', 'SibSp', 'Parch', 'Fare', 'cabin_count',\n",
       "       'Embarked_C', 'Embarked_Q', 'Embarked_S', 'social_status_0',\n",
       "       'social_status_Col', 'social_status_Dr', 'social_status_Master',\n",
       "       'social_status_Miss', 'social_status_Mr', 'social_status_Mrs',\n",
       "       'social_status_Rev', 'cabin_type_99', 'cabin_type_A', 'cabin_type_B',\n",
       "       'cabin_type_C', 'cabin_type_D', 'cabin_type_E', 'cabin_type_F',\n",
       "       'cabin_type_G', 'cabin_type_T'],\n",
       "      dtype='object')"
      ]
     },
     "execution_count": 47,
     "metadata": {},
     "output_type": "execute_result"
    }
   ],
   "source": [
    "X_df.columns"
   ]
  },
  {
   "cell_type": "code",
   "execution_count": 48,
   "id": "0d411bc2",
   "metadata": {},
   "outputs": [
    {
     "data": {
      "text/plain": [
       "array([15,  5,  0,  2,  1,  6, 12,  3,  4,  7,  8,  9, 10, 11, 26, 25, 14,\n",
       "       16, 17, 18, 19, 20, 21, 22, 23, 24, 13], dtype=int64)"
      ]
     },
     "execution_count": 48,
     "metadata": {},
     "output_type": "execute_result"
    }
   ],
   "source": [
    "coef = estimator_results[1].best_estimator_.feature_importances_\n",
    "coef.argsort()[::-1] # 넘파이배열 정렬, 뒤에서부터"
   ]
  },
  {
   "cell_type": "code",
   "execution_count": 49,
   "id": "cc0711fa",
   "metadata": {},
   "outputs": [
    {
     "data": {
      "text/plain": [
       "Index(['social_status_Mr', 'Fare', 'Pclass', 'Age', 'Sex'], dtype='object')"
      ]
     },
     "execution_count": 49,
     "metadata": {},
     "output_type": "execute_result"
    }
   ],
   "source": [
    "X_df.columns[coef.argsort()[::-1]][:5] # 앞에서부터 5개의 속성 출력"
   ]
  },
  {
   "cell_type": "markdown",
   "id": "ada302f2",
   "metadata": {},
   "source": [
    "##### 의사결정트리 시각화"
   ]
  },
  {
   "cell_type": "code",
   "execution_count": 50,
   "id": "e262be70",
   "metadata": {},
   "outputs": [
    {
     "name": "stdout",
     "output_type": "stream",
     "text": [
      "Requirement already satisfied: pydotplus in c:\\users\\user\\anaconda3\\envs\\ml\\lib\\site-packages (2.0.2)\n",
      "Requirement already satisfied: pyparsing>=2.0.1 in c:\\users\\user\\anaconda3\\envs\\ml\\lib\\site-packages (from pydotplus) (3.0.4)\n"
     ]
    }
   ],
   "source": [
    "!pip install pydotplus"
   ]
  },
  {
   "cell_type": "code",
   "execution_count": 51,
   "id": "35a8a98f",
   "metadata": {},
   "outputs": [],
   "source": [
    "import os\n",
    "os.environ['PATH']+=os.pathsep + 'c:\\Program Files\\Graphviz/bin/'"
   ]
  },
  {
   "cell_type": "markdown",
   "id": "e75b3bf8",
   "metadata": {},
   "source": [
    "titanic.png 파일에 의사결정트리 이미지 저장 및 화면에 출력"
   ]
  },
  {
   "cell_type": "code",
   "execution_count": 52,
   "id": "65d198f2",
   "metadata": {},
   "outputs": [
    {
     "data": {
      "image/png": "[encoded data removed]",
      "text/plain": [
       "<IPython.core.display.Image object>"
      ]
     },
     "execution_count": 52,
     "metadata": {},
     "output_type": "execute_result"
    }
   ],
   "source": [
    "import pydotplus\n",
    "from six import StringIO\n",
    "from sklearn import tree\n",
    "\n",
    "best_tree=estimator_results[1].best_estimator_\n",
    "column_names=X_df.columns\n",
    "\n",
    "dot_data=StringIO()\n",
    "tree.export_graphviz(best_tree,out_file=dot_data,feature_names=column_names)\n",
    "\n",
    "graph=pydotplus.pydotplus.graph_from_dot_data(dot_data.getvalue())\n",
    "graph.write_png('titanic.png')\n",
    "\n",
    "from IPython.core.display import Image\n",
    "Image(filename='titanic.png')"
   ]
  },
  {
   "cell_type": "code",
   "execution_count": null,
   "id": "20da8186",
   "metadata": {},
   "outputs": [],
   "source": []
  }
 ],
 "metadata": {
  "kernelspec": {
   "display_name": "Python 3 (ipykernel)",
   "language": "python",
   "name": "python3"
  },
  "language_info": {
   "codemirror_mode": {
    "name": "ipython",
    "version": 3
   },
   "file_extension": ".py",
   "mimetype": "text/x-python",
   "name": "python",
   "nbconvert_exporter": "python",
   "pygments_lexer": "ipython3",
   "version": "3.9.12"
  }
 },
 "nbformat": 4,
 "nbformat_minor": 5
}
