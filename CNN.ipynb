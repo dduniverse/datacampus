{
 "cells": [
  {
   "cell_type": "markdown",
   "id": "359031c3",
   "metadata": {},
   "source": [
    "## 텐서플로 import"
   ]
  },
  {
   "cell_type": "code",
   "execution_count": 10,
   "id": "fe01e444",
   "metadata": {},
   "outputs": [
    {
     "name": "stdout",
     "output_type": "stream",
     "text": [
      "Collecting tensorflow-gpu"
     ]
    },
    {
     "name": "stderr",
     "output_type": "stream",
     "text": [
      "ERROR: Exception:\n",
      "Traceback (most recent call last):\n",
      "  File \"C:\\Users\\user\\anaconda3\\envs\\ml\\lib\\site-packages\\pip\\_vendor\\urllib3\\response.py\", line 438, in _error_catcher\n",
      "    yield\n",
      "  File \"C:\\Users\\user\\anaconda3\\envs\\ml\\lib\\site-packages\\pip\\_vendor\\urllib3\\response.py\", line 519, in read\n",
      "    data = self._fp.read(amt) if not fp_closed else b\"\"\n",
      "  File \"C:\\Users\\user\\anaconda3\\envs\\ml\\lib\\site-packages\\pip\\_vendor\\cachecontrol\\filewrapper.py\", line 62, in read\n",
      "    data = self.__fp.read(amt)\n",
      "  File \"C:\\Users\\user\\anaconda3\\envs\\ml\\lib\\http\\client.py\", line 463, in read\n",
      "    n = self.readinto(b)\n",
      "  File \"C:\\Users\\user\\anaconda3\\envs\\ml\\lib\\http\\client.py\", line 507, in readinto\n",
      "    n = self.fp.readinto(b)\n",
      "  File \"C:\\Users\\user\\anaconda3\\envs\\ml\\lib\\socket.py\", line 704, in readinto\n",
      "    return self._sock.recv_into(b)\n",
      "  File \"C:\\Users\\user\\anaconda3\\envs\\ml\\lib\\ssl.py\", line 1241, in recv_into\n",
      "    return self.read(nbytes, buffer)\n",
      "  File \"C:\\Users\\user\\anaconda3\\envs\\ml\\lib\\ssl.py\", line 1099, in read\n",
      "    return self._sslobj.read(len, buffer)\n",
      "socket.timeout: The read operation timed out\n",
      "\n",
      "During handling of the above exception, another exception occurred:\n",
      "\n",
      "Traceback (most recent call last):\n",
      "  File \"C:\\Users\\user\\anaconda3\\envs\\ml\\lib\\site-packages\\pip\\_internal\\cli\\base_command.py\", line 173, in _main\n",
      "    status = self.run(options, args)\n",
      "  File \"C:\\Users\\user\\anaconda3\\envs\\ml\\lib\\site-packages\\pip\\_internal\\cli\\req_command.py\", line 203, in wrapper\n",
      "    return func(self, options, args)\n",
      "  File \"C:\\Users\\user\\anaconda3\\envs\\ml\\lib\\site-packages\\pip\\_internal\\commands\\install.py\", line 315, in run\n",
      "    requirement_set = resolver.resolve(\n",
      "  File \"C:\\Users\\user\\anaconda3\\envs\\ml\\lib\\site-packages\\pip\\_internal\\resolution\\resolvelib\\resolver.py\", line 94, in resolve\n",
      "    result = self._result = resolver.resolve(\n",
      "  File \"C:\\Users\\user\\anaconda3\\envs\\ml\\lib\\site-packages\\pip\\_vendor\\resolvelib\\resolvers.py\", line 472, in resolve\n",
      "    state = resolution.resolve(requirements, max_rounds=max_rounds)\n",
      "  File \"C:\\Users\\user\\anaconda3\\envs\\ml\\lib\\site-packages\\pip\\_vendor\\resolvelib\\resolvers.py\", line 341, in resolve\n",
      "    self._add_to_criteria(self.state.criteria, r, parent=None)\n",
      "  File \"C:\\Users\\user\\anaconda3\\envs\\ml\\lib\\site-packages\\pip\\_vendor\\resolvelib\\resolvers.py\", line 172, in _add_to_criteria\n",
      "    if not criterion.candidates:\n",
      "  File \"C:\\Users\\user\\anaconda3\\envs\\ml\\lib\\site-packages\\pip\\_vendor\\resolvelib\\structs.py\", line 151, in __bool__\n",
      "    return bool(self._sequence)\n",
      "  File \"C:\\Users\\user\\anaconda3\\envs\\ml\\lib\\site-packages\\pip\\_internal\\resolution\\resolvelib\\found_candidates.py\", line 140, in __bool__\n",
      "    return any(self)\n",
      "  File \"C:\\Users\\user\\anaconda3\\envs\\ml\\lib\\site-packages\\pip\\_internal\\resolution\\resolvelib\\found_candidates.py\", line 128, in <genexpr>\n",
      "    return (c for c in iterator if id(c) not in self._incompatible_ids)\n",
      "  File \"C:\\Users\\user\\anaconda3\\envs\\ml\\lib\\site-packages\\pip\\_internal\\resolution\\resolvelib\\found_candidates.py\", line 32, in _iter_built\n",
      "    candidate = func()\n",
      "  File \"C:\\Users\\user\\anaconda3\\envs\\ml\\lib\\site-packages\\pip\\_internal\\resolution\\resolvelib\\factory.py\", line 204, in _make_candidate_from_link\n",
      "    self._link_candidate_cache[link] = LinkCandidate(\n",
      "  File \"C:\\Users\\user\\anaconda3\\envs\\ml\\lib\\site-packages\\pip\\_internal\\resolution\\resolvelib\\candidates.py\", line 295, in __init__\n",
      "    super().__init__(\n",
      "  File \"C:\\Users\\user\\anaconda3\\envs\\ml\\lib\\site-packages\\pip\\_internal\\resolution\\resolvelib\\candidates.py\", line 156, in __init__\n",
      "    self.dist = self._prepare()\n",
      "  File \"C:\\Users\\user\\anaconda3\\envs\\ml\\lib\\site-packages\\pip\\_internal\\resolution\\resolvelib\\candidates.py\", line 227, in _prepare\n",
      "    dist = self._prepare_distribution()\n",
      "  File \"C:\\Users\\user\\anaconda3\\envs\\ml\\lib\\site-packages\\pip\\_internal\\resolution\\resolvelib\\candidates.py\", line 305, in _prepare_distribution\n",
      "    return self._factory.preparer.prepare_linked_requirement(\n",
      "  File \"C:\\Users\\user\\anaconda3\\envs\\ml\\lib\\site-packages\\pip\\_internal\\operations\\prepare.py\", line 508, in prepare_linked_requirement\n",
      "    return self._prepare_linked_requirement(req, parallel_builds)\n",
      "  File \"C:\\Users\\user\\anaconda3\\envs\\ml\\lib\\site-packages\\pip\\_internal\\operations\\prepare.py\", line 550, in _prepare_linked_requirement\n",
      "    local_file = unpack_url(\n",
      "  File \"C:\\Users\\user\\anaconda3\\envs\\ml\\lib\\site-packages\\pip\\_internal\\operations\\prepare.py\", line 239, in unpack_url\n",
      "    file = get_http_url(\n",
      "  File \"C:\\Users\\user\\anaconda3\\envs\\ml\\lib\\site-packages\\pip\\_internal\\operations\\prepare.py\", line 102, in get_http_url\n",
      "    from_path, content_type = download(link, temp_dir.path)\n",
      "  File \"C:\\Users\\user\\anaconda3\\envs\\ml\\lib\\site-packages\\pip\\_internal\\network\\download.py\", line 145, in __call__\n",
      "    for chunk in chunks:\n",
      "  File \"C:\\Users\\user\\anaconda3\\envs\\ml\\lib\\site-packages\\pip\\_internal\\cli\\progress_bars.py\", line 144, in iter\n",
      "    for x in it:\n",
      "  File \"C:\\Users\\user\\anaconda3\\envs\\ml\\lib\\site-packages\\pip\\_internal\\network\\utils.py\", line 63, in response_chunks\n",
      "    for chunk in response.raw.stream(\n",
      "  File \"C:\\Users\\user\\anaconda3\\envs\\ml\\lib\\site-packages\\pip\\_vendor\\urllib3\\response.py\", line 576, in stream\n",
      "    data = self.read(amt=amt, decode_content=decode_content)\n",
      "  File \"C:\\Users\\user\\anaconda3\\envs\\ml\\lib\\site-packages\\pip\\_vendor\\urllib3\\response.py\", line 541, in read\n",
      "    raise IncompleteRead(self._fp_bytes_read, self.length_remaining)\n",
      "  File \"C:\\Users\\user\\anaconda3\\envs\\ml\\lib\\contextlib.py\", line 137, in __exit__\n",
      "    self.gen.throw(typ, value, traceback)\n",
      "  File \"C:\\Users\\user\\anaconda3\\envs\\ml\\lib\\site-packages\\pip\\_vendor\\urllib3\\response.py\", line 443, in _error_catcher\n",
      "    raise ReadTimeoutError(self._pool, None, \"Read timed out.\")\n",
      "pip._vendor.urllib3.exceptions.ReadTimeoutError: HTTPSConnectionPool(host='files.pythonhosted.org', port=443): Read timed out.\n"
     ]
    },
    {
     "name": "stdout",
     "output_type": "stream",
     "text": [
      "\n",
      "  Downloading tensorflow_gpu-2.9.1-cp39-cp39-win_amd64.whl (444.0 MB)\n"
     ]
    }
   ],
   "source": [
    "!pip install tensorflow-gpu"
   ]
  },
  {
   "cell_type": "code",
   "execution_count": 11,
   "id": "ccba4c85",
   "metadata": {},
   "outputs": [],
   "source": [
    "import tensorflow as tf\n",
    "\n",
    "from tensorflow.keras import datasets, layers, models"
   ]
  },
  {
   "cell_type": "markdown",
   "id": "aaccda9d",
   "metadata": {},
   "source": [
    "## MNIST 데이터셋 다운로드 하고 준비하기"
   ]
  },
  {
   "cell_type": "code",
   "execution_count": 13,
   "id": "c7e982b2",
   "metadata": {},
   "outputs": [
    {
     "name": "stdout",
     "output_type": "stream",
     "text": [
      "Downloading data from https://storage.googleapis.com/tensorflow/tf-keras-datasets/mnist.npz\n",
      "11490434/11490434 [==============================] - 5s 0us/step\n"
     ]
    }
   ],
   "source": [
    "(train_images, train_labels), (test_images, test_labels) = datasets.mnist.load_data() # 데이터 셋 받아오기\n",
    "\n",
    "train_images = train_images.reshape((60000, 28, 28, 1)) # 60000개, 28x28, 1은 채널\n",
    "test_images = test_images.reshape((10000, 28, 28, 1))\n",
    "\n",
    "train_images, test_images = train_images / 255.0, test_images / 255.0 # 흑백이미지는 0~255사이의 값을 가지기 때문에 train_images, test_images가 0~1 사이의 값을 갖도록 정규화"
   ]
  },
  {
   "cell_type": "markdown",
   "id": "d7043ac5",
   "metadata": {},
   "source": [
    "## 합성곱 층 만들기"
   ]
  },
  {
   "cell_type": "markdown",
   "id": "7372c68f",
   "metadata": {},
   "source": [
    "#### Conv2D와 MaxPooling2D 층을 쌓는 일반적인 패턴으로 합성곱 층을 정의\n",
    "- 첫 번째 층의 매개변수 input_shape으로 (28,28,1) 전달\n",
    "- (이미지 높이, 이미지 너비, 컬러채널)\n",
    "- 흑백 이미지 -> 컬러 채널=1 / 컬러 이미지 -> 컬러채널=3 (R,G,B)"
   ]
  },
  {
   "cell_type": "code",
   "execution_count": 18,
   "id": "8787e766",
   "metadata": {},
   "outputs": [],
   "source": [
    "model=models.Sequential()\n",
    "model.add(layers.Conv2D(32,(3, 3),activation='relu',input_shape=(28, 28, 1))) # 필터개수,(필터크기)=32개,3x3크기\n",
    "model.add(layers.MaxPooling2D((2,2))) # pool size=2x2 -> MaxPooling:최댓값, strides를 지정하지 않으면 pooling 필터의 크기와 같아짐 -> 2칸씩 이동\n",
    "model.add(layers.Conv2D(64,(3,3),activation='relu'))\n",
    "model.add(layers.MaxPooling2D((2,2)))\n",
    "model.add(layers.Conv2D(64,(3,3),activation='relu'))"
   ]
  },
  {
   "cell_type": "markdown",
   "id": "48fff1ce",
   "metadata": {},
   "source": [
    "#### 모델의 구조"
   ]
  },
  {
   "cell_type": "markdown",
   "id": "2c563823",
   "metadata": {},
   "source": [
    "- Conv2D와 MaxPooling2D 층의 출력(Output Shape)은 (높이, 너비, 채널) 크기의 3차원 텐서\n",
    "- 네트워크가 깊어질 수록 Output Shape이 점점 줄어드는 것을 볼 수 있음"
   ]
  },
  {
   "cell_type": "code",
   "execution_count": 19,
   "id": "03f8027f",
   "metadata": {},
   "outputs": [
    {
     "name": "stdout",
     "output_type": "stream",
     "text": [
      "Model: \"sequential_3\"\n",
      "_________________________________________________________________\n",
      " Layer (type)                Output Shape              Param #   \n",
      "=================================================================\n",
      " conv2d_5 (Conv2D)           (None, 26, 26, 32)        320       \n",
      "                                                                 \n",
      " max_pooling2d_4 (MaxPooling  (None, 13, 13, 32)       0         \n",
      " 2D)                                                             \n",
      "                                                                 \n",
      " conv2d_6 (Conv2D)           (None, 11, 11, 64)        18496     \n",
      "                                                                 \n",
      " max_pooling2d_5 (MaxPooling  (None, 5, 5, 64)         0         \n",
      " 2D)                                                             \n",
      "                                                                 \n",
      " conv2d_7 (Conv2D)           (None, 3, 3, 64)          36928     \n",
      "                                                                 \n",
      "=================================================================\n",
      "Total params: 55,744\n",
      "Trainable params: 55,744\n",
      "Non-trainable params: 0\n",
      "_________________________________________________________________\n"
     ]
    }
   ],
   "source": [
    "model.summary()"
   ]
  },
  {
   "cell_type": "markdown",
   "id": "90f5ab28",
   "metadata": {},
   "source": [
    "## 마지막에 Dense 층 추가하기"
   ]
  },
  {
   "cell_type": "markdown",
   "id": "8c1d5c7c",
   "metadata": {},
   "source": [
    "Dense 층은 벡터(1차원)를 입력받기 때문에, 마지막 합성곱 층의 출력 텐서(3차원)를 1차원으로 펼쳐야 한다."
   ]
  },
  {
   "cell_type": "markdown",
   "id": "ff59c44d",
   "metadata": {},
   "source": [
    "- relu: 입력이 양수일 때는 그대로 출력, 음수일때는 0 출력\n",
    "- softmax: 입력받은 값을 0~1사이의 출력이 되도록 정규화하여 출력 값들의 총합이 항상 1이 되도록하는 특성을 가진 함수"
   ]
  },
  {
   "cell_type": "code",
   "execution_count": 21,
   "id": "057a5c62",
   "metadata": {},
   "outputs": [],
   "source": [
    "model.add(layers.Flatten()) # 1차원 배열로 만들기 -> 576개\n",
    "model.add(layers.Dense(64,activation='relu')) # 출력층 노드 개수 64개\n",
    "model.add(layers.Dense(10,activation='softmax')) # 출력층 노드 개수 10개(0~9의 숫자), 분류를 여러가지로 할 때 softmax 사용"
   ]
  },
  {
   "cell_type": "markdown",
   "id": "1abc30a3",
   "metadata": {},
   "source": [
    "#### 최종 모델의 구조"
   ]
  },
  {
   "cell_type": "code",
   "execution_count": 22,
   "id": "b8dfcbbb",
   "metadata": {},
   "outputs": [
    {
     "name": "stdout",
     "output_type": "stream",
     "text": [
      "Model: \"sequential_3\"\n",
      "_________________________________________________________________\n",
      " Layer (type)                Output Shape              Param #   \n",
      "=================================================================\n",
      " conv2d_5 (Conv2D)           (None, 26, 26, 32)        320       \n",
      "                                                                 \n",
      " max_pooling2d_4 (MaxPooling  (None, 13, 13, 32)       0         \n",
      " 2D)                                                             \n",
      "                                                                 \n",
      " conv2d_6 (Conv2D)           (None, 11, 11, 64)        18496     \n",
      "                                                                 \n",
      " max_pooling2d_5 (MaxPooling  (None, 5, 5, 64)         0         \n",
      " 2D)                                                             \n",
      "                                                                 \n",
      " conv2d_7 (Conv2D)           (None, 3, 3, 64)          36928     \n",
      "                                                                 \n",
      " flatten (Flatten)           (None, 576)               0         \n",
      "                                                                 \n",
      " dense (Dense)               (None, 64)                36928     \n",
      "                                                                 \n",
      " dense_1 (Dense)             (None, 10)                650       \n",
      "                                                                 \n",
      "=================================================================\n",
      "Total params: 93,322\n",
      "Trainable params: 93,322\n",
      "Non-trainable params: 0\n",
      "_________________________________________________________________\n"
     ]
    }
   ],
   "source": [
    "model.summary()"
   ]
  },
  {
   "cell_type": "markdown",
   "id": "9c1f81f8",
   "metadata": {},
   "source": [
    "## 모델 컴파일과 훈련"
   ]
  },
  {
   "cell_type": "markdown",
   "id": "7fd88fdb",
   "metadata": {},
   "source": [
    "훈련을 진행할 수록 정확도는 점점 증가하며, 손실은 감소한다."
   ]
  },
  {
   "cell_type": "code",
   "execution_count": 27,
   "id": "ea86ae49",
   "metadata": {},
   "outputs": [
    {
     "name": "stdout",
     "output_type": "stream",
     "text": [
      "Epoch 1/5\n",
      "1875/1875 [==============================] - 48s 25ms/step - loss: 0.1451 - accuracy: 0.9558\n",
      "Epoch 2/5\n",
      "1875/1875 [==============================] - 47s 25ms/step - loss: 0.0467 - accuracy: 0.9852\n",
      "Epoch 3/5\n",
      "1875/1875 [==============================] - 47s 25ms/step - loss: 0.0336 - accuracy: 0.9894\n",
      "Epoch 4/5\n",
      "1875/1875 [==============================] - 46s 25ms/step - loss: 0.0258 - accuracy: 0.9920\n",
      "Epoch 5/5\n",
      "1875/1875 [==============================] - 47s 25ms/step - loss: 0.0202 - accuracy: 0.9937\n"
     ]
    },
    {
     "data": {
      "text/plain": [
       "<keras.callbacks.History at 0x21124fddf40>"
      ]
     },
     "execution_count": 27,
     "metadata": {},
     "output_type": "execute_result"
    }
   ],
   "source": [
    "model.compile(optimizer='adam', # 최적화\n",
    "              loss='sparse_categorical_crossentropy', # 손실함수:실제값과 예측값의 차이를 수치화\n",
    "              metrics=['accuracy']) # 기준\n",
    "\n",
    "model.fit(train_images, train_labels, epochs=5) # 5회 훈련"
   ]
  },
  {
   "cell_type": "markdown",
   "id": "87b90866",
   "metadata": {},
   "source": [
    "## 모델 평가"
   ]
  },
  {
   "cell_type": "code",
   "execution_count": 28,
   "id": "2857e65d",
   "metadata": {},
   "outputs": [
    {
     "name": "stdout",
     "output_type": "stream",
     "text": [
      "313/313 - 4s - loss: 0.0240 - accuracy: 0.9918 - 4s/epoch - 12ms/step\n"
     ]
    }
   ],
   "source": [
    "test_loss, test_acc=model.evaluate(test_images,test_labels,verbose=2)"
   ]
  },
  {
   "cell_type": "markdown",
   "id": "9ebfc45b",
   "metadata": {},
   "source": [
    "손실 함수 값이 0.0240, 정확도 0.9918이다."
   ]
  },
  {
   "cell_type": "code",
   "execution_count": 29,
   "id": "8cefbe6c",
   "metadata": {},
   "outputs": [
    {
     "name": "stdout",
     "output_type": "stream",
     "text": [
      "0.9918000102043152\n"
     ]
    }
   ],
   "source": [
    "print(test_acc)"
   ]
  },
  {
   "cell_type": "markdown",
   "id": "a0fba198",
   "metadata": {},
   "source": [
    "간단한 CNN 모델이 99%의 테스트 정확도를 달성함을 볼 수 있다."
   ]
  }
 ],
 "metadata": {
  "kernelspec": {
   "display_name": "Python 3 (ipykernel)",
   "language": "python",
   "name": "python3"
  },
  "language_info": {
   "codemirror_mode": {
    "name": "ipython",
    "version": 3
   },
   "file_extension": ".py",
   "mimetype": "text/x-python",
   "name": "python",
   "nbconvert_exporter": "python",
   "pygments_lexer": "ipython3",
   "version": "3.9.12"
  }
 },
 "nbformat": 4,
 "nbformat_minor": 5
}
